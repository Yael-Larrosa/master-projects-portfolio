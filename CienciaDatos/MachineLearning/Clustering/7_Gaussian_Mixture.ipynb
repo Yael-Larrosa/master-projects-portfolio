{
  "cells": [
    {
      "cell_type": "code",
      "execution_count": null,
      "metadata": {
        "id": "Ie7QAvD2I6VT"
      },
      "outputs": [],
      "source": [
        "import numpy as np\n",
        "import pandas as pd\n",
        "import matplotlib.pyplot as plt\n",
        "from pandas import DataFrame\n",
        "from sklearn.preprocessing import StandardScaler, normalize\n",
        "from sklearn.mixture import GaussianMixture\n",
        "from sklearn.metrics import silhouette_score\n",
        "from sklearn.model_selection import train_test_split\n",
        "from sklearn import metrics"
      ]
    },
    {
      "cell_type": "code",
      "execution_count": null,
      "metadata": {
        "id": "MHDF-nOGI6fM"
      },
      "outputs": [],
      "source": [
        "df = pd.read_csv('/content/marketing_campaign.csv', sep=\"\\t\")"
      ]
    },
    {
      "cell_type": "code",
      "execution_count": null,
      "metadata": {
        "id": "XWOiCuadJA8j"
      },
      "outputs": [],
      "source": [
        "df.head()"
      ]
    },
    {
      "cell_type": "code",
      "execution_count": null,
      "metadata": {
        "colab": {
          "base_uri": "https://localhost:8080/"
        },
        "id": "TCXdCoY6QJZc",
        "outputId": "078b4e47-9232-47cc-cd9c-3cef426e1d7d"
      },
      "outputs": [
        {
          "data": {
            "text/plain": [
              "Index(['ID', 'Year_Birth', 'Education', 'Marital_Status', 'Income', 'Kidhome',\n",
              "       'Teenhome', 'Dt_Customer', 'Recency', 'MntWines', 'MntFruits',\n",
              "       'MntMeatProducts', 'MntFishProducts', 'MntSweetProducts',\n",
              "       'MntGoldProds', 'NumDealsPurchases', 'NumWebPurchases',\n",
              "       'NumCatalogPurchases', 'NumStorePurchases', 'NumWebVisitsMonth',\n",
              "       'AcceptedCmp3', 'AcceptedCmp4', 'AcceptedCmp5', 'AcceptedCmp1',\n",
              "       'AcceptedCmp2', 'Complain', 'Z_CostContact', 'Z_Revenue', 'Response'],\n",
              "      dtype='object')"
            ]
          },
          "execution_count": 4,
          "metadata": {},
          "output_type": "execute_result"
        }
      ],
      "source": [
        "df.columns"
      ]
    },
    {
      "cell_type": "code",
      "execution_count": null,
      "metadata": {
        "id": "flY1Ak2dQLoQ"
      },
      "outputs": [],
      "source": [
        "df.drop(['MntFruits',\n",
        "       'MntMeatProducts', 'MntFishProducts', 'MntSweetProducts','NumWebVisitsMonth',\n",
        "       'MntGoldProds', 'NumDealsPurchases','AcceptedCmp3', 'AcceptedCmp4', 'AcceptedCmp5', 'AcceptedCmp1',\n",
        "       'AcceptedCmp2', 'Complain', 'Z_CostContact', 'Z_Revenue', 'Response'], axis=1, inplace=True)"
      ]
    },
    {
      "cell_type": "code",
      "execution_count": null,
      "metadata": {
        "id": "rsGbSEQHQdcR"
      },
      "outputs": [],
      "source": [
        "df.head()"
      ]
    },
    {
      "cell_type": "code",
      "execution_count": null,
      "metadata": {
        "id": "0Q7zbwdvW5Nj"
      },
      "outputs": [],
      "source": [
        "df.shape"
      ]
    },
    {
      "cell_type": "code",
      "execution_count": null,
      "metadata": {
        "id": "CbGhfPg-5O3L"
      },
      "outputs": [],
      "source": [
        "# Dibujar los histogramas de cada una de las columnas, hacerlo con 15 bins\n",
        "\n"
      ]
    },
    {
      "cell_type": "code",
      "execution_count": null,
      "metadata": {
        "id": "v0yfhT5Buevt"
      },
      "outputs": [],
      "source": [
        "# Eliminad las filas que tengan un Income de 666665.0\n"
      ]
    },
    {
      "cell_type": "code",
      "execution_count": null,
      "metadata": {
        "colab": {
          "base_uri": "https://localhost:8080/",
          "height": 49
        },
        "id": "veP6rFRxcR2n",
        "outputId": "74a6848b-db32-47f2-9cad-33d229d3335a"
      },
      "outputs": [
        {
          "data": {
            "text/html": [
              "\n",
              "  <div id=\"df-ab874c94-5502-4b8a-8c6a-151592ada835\">\n",
              "    <div class=\"colab-df-container\">\n",
              "      <div>\n",
              "<style scoped>\n",
              "    .dataframe tbody tr th:only-of-type {\n",
              "        vertical-align: middle;\n",
              "    }\n",
              "\n",
              "    .dataframe tbody tr th {\n",
              "        vertical-align: top;\n",
              "    }\n",
              "\n",
              "    .dataframe thead th {\n",
              "        text-align: right;\n",
              "    }\n",
              "</style>\n",
              "<table border=\"1\" class=\"dataframe\">\n",
              "  <thead>\n",
              "    <tr style=\"text-align: right;\">\n",
              "      <th></th>\n",
              "      <th>ID</th>\n",
              "      <th>Year_Birth</th>\n",
              "      <th>Education</th>\n",
              "      <th>Marital_Status</th>\n",
              "      <th>Income</th>\n",
              "      <th>Kidhome</th>\n",
              "      <th>Teenhome</th>\n",
              "      <th>Dt_Customer</th>\n",
              "      <th>Recency</th>\n",
              "      <th>MntWines</th>\n",
              "      <th>NumWebPurchases</th>\n",
              "      <th>NumCatalogPurchases</th>\n",
              "      <th>NumStorePurchases</th>\n",
              "    </tr>\n",
              "  </thead>\n",
              "  <tbody>\n",
              "  </tbody>\n",
              "</table>\n",
              "</div>\n",
              "      <button class=\"colab-df-convert\" onclick=\"convertToInteractive('df-ab874c94-5502-4b8a-8c6a-151592ada835')\"\n",
              "              title=\"Convert this dataframe to an interactive table.\"\n",
              "              style=\"display:none;\">\n",
              "        \n",
              "  <svg xmlns=\"http://www.w3.org/2000/svg\" height=\"24px\"viewBox=\"0 0 24 24\"\n",
              "       width=\"24px\">\n",
              "    <path d=\"M0 0h24v24H0V0z\" fill=\"none\"/>\n",
              "    <path d=\"M18.56 5.44l.94 2.06.94-2.06 2.06-.94-2.06-.94-.94-2.06-.94 2.06-2.06.94zm-11 1L8.5 8.5l.94-2.06 2.06-.94-2.06-.94L8.5 2.5l-.94 2.06-2.06.94zm10 10l.94 2.06.94-2.06 2.06-.94-2.06-.94-.94-2.06-.94 2.06-2.06.94z\"/><path d=\"M17.41 7.96l-1.37-1.37c-.4-.4-.92-.59-1.43-.59-.52 0-1.04.2-1.43.59L10.3 9.45l-7.72 7.72c-.78.78-.78 2.05 0 2.83L4 21.41c.39.39.9.59 1.41.59.51 0 1.02-.2 1.41-.59l7.78-7.78 2.81-2.81c.8-.78.8-2.07 0-2.86zM5.41 20L4 18.59l7.72-7.72 1.47 1.35L5.41 20z\"/>\n",
              "  </svg>\n",
              "      </button>\n",
              "      \n",
              "  <style>\n",
              "    .colab-df-container {\n",
              "      display:flex;\n",
              "      flex-wrap:wrap;\n",
              "      gap: 12px;\n",
              "    }\n",
              "\n",
              "    .colab-df-convert {\n",
              "      background-color: #E8F0FE;\n",
              "      border: none;\n",
              "      border-radius: 50%;\n",
              "      cursor: pointer;\n",
              "      display: none;\n",
              "      fill: #1967D2;\n",
              "      height: 32px;\n",
              "      padding: 0 0 0 0;\n",
              "      width: 32px;\n",
              "    }\n",
              "\n",
              "    .colab-df-convert:hover {\n",
              "      background-color: #E2EBFA;\n",
              "      box-shadow: 0px 1px 2px rgba(60, 64, 67, 0.3), 0px 1px 3px 1px rgba(60, 64, 67, 0.15);\n",
              "      fill: #174EA6;\n",
              "    }\n",
              "\n",
              "    [theme=dark] .colab-df-convert {\n",
              "      background-color: #3B4455;\n",
              "      fill: #D2E3FC;\n",
              "    }\n",
              "\n",
              "    [theme=dark] .colab-df-convert:hover {\n",
              "      background-color: #434B5C;\n",
              "      box-shadow: 0px 1px 3px 1px rgba(0, 0, 0, 0.15);\n",
              "      filter: drop-shadow(0px 1px 2px rgba(0, 0, 0, 0.3));\n",
              "      fill: #FFFFFF;\n",
              "    }\n",
              "  </style>\n",
              "\n",
              "      <script>\n",
              "        const buttonEl =\n",
              "          document.querySelector('#df-ab874c94-5502-4b8a-8c6a-151592ada835 button.colab-df-convert');\n",
              "        buttonEl.style.display =\n",
              "          google.colab.kernel.accessAllowed ? 'block' : 'none';\n",
              "\n",
              "        async function convertToInteractive(key) {\n",
              "          const element = document.querySelector('#df-ab874c94-5502-4b8a-8c6a-151592ada835');\n",
              "          const dataTable =\n",
              "            await google.colab.kernel.invokeFunction('convertToInteractive',\n",
              "                                                     [key], {});\n",
              "          if (!dataTable) return;\n",
              "\n",
              "          const docLinkHtml = 'Like what you see? Visit the ' +\n",
              "            '<a target=\"_blank\" href=https://colab.research.google.com/notebooks/data_table.ipynb>data table notebook</a>'\n",
              "            + ' to learn more about interactive tables.';\n",
              "          element.innerHTML = '';\n",
              "          dataTable['output_type'] = 'display_data';\n",
              "          await google.colab.output.renderOutput(dataTable, element);\n",
              "          const docLink = document.createElement('div');\n",
              "          docLink.innerHTML = docLinkHtml;\n",
              "          element.appendChild(docLink);\n",
              "        }\n",
              "      </script>\n",
              "    </div>\n",
              "  </div>\n",
              "  "
            ],
            "text/plain": [
              "Empty DataFrame\n",
              "Columns: [ID, Year_Birth, Education, Marital_Status, Income, Kidhome, Teenhome, Dt_Customer, Recency, MntWines, NumWebPurchases, NumCatalogPurchases, NumStorePurchases]\n",
              "Index: []"
            ]
          },
          "execution_count": 10,
          "metadata": {},
          "output_type": "execute_result"
        }
      ],
      "source": [
        "# Comprobad si no hay ninguna fila"
      ]
    },
    {
      "cell_type": "markdown",
      "metadata": {
        "id": "YKQMK9ARV1r3"
      },
      "source": [
        "## Convertimos el año de nacimiento a categorías de 25 años"
      ]
    },
    {
      "cell_type": "code",
      "execution_count": null,
      "metadata": {
        "colab": {
          "base_uri": "https://localhost:8080/"
        },
        "id": "RFpMvd3bSmvk",
        "outputId": "1013e2c0-9849-4840-b664-6ae33c0d544c"
      },
      "outputs": [
        {
          "data": {
            "text/plain": [
              "count    2239.000000\n",
              "mean     1968.802144\n",
              "std        11.985494\n",
              "min      1893.000000\n",
              "25%      1959.000000\n",
              "50%      1970.000000\n",
              "75%      1977.000000\n",
              "max      1996.000000\n",
              "Name: Year_Birth, dtype: float64"
            ]
          },
          "execution_count": 11,
          "metadata": {},
          "output_type": "execute_result"
        }
      ],
      "source": [
        "df['Year_Birth'].describe()"
      ]
    },
    {
      "cell_type": "markdown",
      "source": [
        "## Convertimos la columna Year a bloques de 25 en 25\n",
        "\n",
        "## Aquí tenéis dos formas, se crea una columna Year_cat"
      ],
      "metadata": {
        "id": "z8-HHAGnoyCA"
      }
    },
    {
      "cell_type": "code",
      "execution_count": null,
      "metadata": {
        "id": "lbb6p-lVTHDk"
      },
      "outputs": [],
      "source": [
        "# convertir la columna \"año\" a tipo numérico\n",
        "#df['Year_Birth'] = pd.to_numeric(df['Year_Birth'], errors='coerce')\n",
        "\n",
        "# obtener el rango de años\n",
        "min_year = df['Year_Birth'].min()\n",
        "max_year = df['Year_Birth'].max()\n",
        "\n",
        "# establecer los límites del rango de años para cada categoría\n",
        "year_range = (max_year - min_year) / 3\n",
        "cat1_max = min_year + year_range\n",
        "cat2_max = min_year + year_range*2\n",
        "\n",
        "# obtener los límites del rango de años de 25 años\n",
        "year_range = 25\n",
        "num_ranges = int(np.ceil((max_year - min_year) / year_range))\n",
        "prop_range = np.linspace(min_year, min_year + year_range * num_ranges, num=num_ranges+1)\n",
        "\n",
        "# reemplazar cada año con su rango de 25 años\n",
        "df['Year_cat'] = pd.cut(df['Year_Birth'], bins=prop_range, labels=[f\"{int(prop_range[i])}-{int(prop_range[i+1])-1}\" for i in range(len(prop_range)-1)])\n",
        "\n",
        "# imprimir los resultados\n",
        "df.head()"
      ]
    },
    {
      "cell_type": "code",
      "source": [
        "# # Encuentra el año mínimo y máximo en la columna 'Year_Birth'\n",
        "# min_year = df['Year_Birth'].min()\n",
        "# max_year = df['Year_Birth'].max()\n",
        "\n",
        "# # Calcula los intervalos\n",
        "# intervalo_anios = 25\n",
        "# num_intervalos = (max_year - min_year) // intervalo_anios + 1\n",
        "# intervalos = [(min_year + i * intervalo_anios, min_year + (i+1) * intervalo_anios - 1) for i in range(num_intervalos)]\n",
        "\n",
        "# # Define la función para asignar el intervalo de edad\n",
        "# def asignar_intervalo_edad(year):\n",
        "#     for inicio, fin in intervalos:\n",
        "#         if inicio <= year <= fin:\n",
        "#             return f\"{inicio}-{fin}\"\n",
        "#     return \"Fuera de rango\"\n",
        "\n",
        "# # Aplica la función a la columna 'Year_Birth' para crear la nueva columna 'Intervalo_Edad'\n",
        "# df['Year_cat'] = df['Year_Birth'].apply(asignar_intervalo_edad)\n",
        "\n",
        "# # Muestra el DataFrame resultante\n",
        "# print(df.head())"
      ],
      "metadata": {
        "id": "qmanW-peFj5N"
      },
      "execution_count": null,
      "outputs": []
    },
    {
      "cell_type": "code",
      "execution_count": null,
      "metadata": {
        "id": "5MvWx6-eUORX"
      },
      "outputs": [],
      "source": [
        "# Contar el  número de muestras de cada opción de Year_cat"
      ]
    },
    {
      "cell_type": "code",
      "execution_count": null,
      "metadata": {
        "id": "IyRzMXxdRYFy"
      },
      "outputs": [],
      "source": [
        "df.dtypes"
      ]
    },
    {
      "cell_type": "code",
      "execution_count": null,
      "metadata": {
        "id": "FtEE1OhISKpH"
      },
      "outputs": [],
      "source": [
        "# Eliminamos ID, Year_Birth, Dt_Customer\n",
        "\n",
        "X = df.drop(['ID', 'Year_Birth', 'Dt_Customer'], axis=1)"
      ]
    },
    {
      "cell_type": "code",
      "execution_count": null,
      "metadata": {
        "id": "RrcL39kQSWtY"
      },
      "outputs": [],
      "source": [
        "X.head()"
      ]
    },
    {
      "cell_type": "code",
      "execution_count": null,
      "metadata": {
        "id": "o2Wg9gmzY2xD"
      },
      "outputs": [],
      "source": [
        "X.Year_cat = X.Year_cat.astype('object')"
      ]
    },
    {
      "cell_type": "code",
      "execution_count": null,
      "metadata": {
        "id": "8T6qbnrZYjsZ"
      },
      "outputs": [],
      "source": [
        "X.dtypes"
      ]
    },
    {
      "cell_type": "code",
      "execution_count": null,
      "metadata": {
        "id": "w5FfxSVDWV_S"
      },
      "outputs": [],
      "source": [
        "# Chequea si existen valores null\n"
      ]
    },
    {
      "cell_type": "code",
      "execution_count": null,
      "metadata": {
        "id": "U9RRzHHjWrfz"
      },
      "outputs": [],
      "source": [
        "# identificar los índices de las filas con valores NaN\n",
        "\n",
        "\n",
        "# eliminar las filas con valores NaN\n",
        "X =\n",
        "df ="
      ]
    },
    {
      "cell_type": "code",
      "execution_count": null,
      "metadata": {
        "id": "yFT4O4T2Wx5T"
      },
      "outputs": [],
      "source": [
        "# Volver a chequear\n"
      ]
    },
    {
      "cell_type": "code",
      "execution_count": null,
      "metadata": {
        "id": "rnP1iLlNW1wF"
      },
      "outputs": [],
      "source": [
        "df.shape"
      ]
    },
    {
      "cell_type": "code",
      "execution_count": null,
      "metadata": {
        "id": "4CxUxS9GWz6P"
      },
      "outputs": [],
      "source": [
        "X.shape"
      ]
    },
    {
      "cell_type": "code",
      "execution_count": null,
      "metadata": {
        "id": "QeMxQ79OR0U2"
      },
      "outputs": [],
      "source": [
        "# Crear dos dataframes, uno con columnas numéricas y otro de object\n",
        "\n",
        "X_num =\n",
        "X_cat ="
      ]
    },
    {
      "cell_type": "code",
      "execution_count": null,
      "metadata": {
        "id": "NNvGXfduSDU3"
      },
      "outputs": [],
      "source": [
        "X_num.head()"
      ]
    },
    {
      "cell_type": "code",
      "execution_count": null,
      "metadata": {
        "id": "HpWDtbelSFFn"
      },
      "outputs": [],
      "source": [
        "X_cat.head()"
      ]
    },
    {
      "cell_type": "markdown",
      "metadata": {
        "id": "C5hwV8WFZApP"
      },
      "source": [
        "## Fin limpieza --> Encoding y Escalado"
      ]
    },
    {
      "cell_type": "code",
      "execution_count": null,
      "metadata": {
        "id": "0Me5zCS5XKuR"
      },
      "outputs": [],
      "source": [
        "# Codificar las variables categóricas a enteros\n",
        "\n",
        "from sklearn import preprocessing\n",
        "le =\n",
        "X_cat2 =\n",
        "X_cat2.head()"
      ]
    },
    {
      "cell_type": "code",
      "execution_count": null,
      "metadata": {
        "id": "pE_KkMqwXu6K"
      },
      "outputs": [],
      "source": [
        "# estandarizar los datos numéricos a media 0 y desviación 1\n",
        "scaler =\n",
        "X_scaled ="
      ]
    },
    {
      "cell_type": "code",
      "execution_count": null,
      "metadata": {
        "id": "ul1D4mPBZYAo"
      },
      "outputs": [],
      "source": [
        "X_scaled"
      ]
    },
    {
      "cell_type": "code",
      "execution_count": null,
      "metadata": {
        "id": "8gmwqVNndSox"
      },
      "outputs": [],
      "source": [
        "X_scaled2 = pd.DataFrame(data= X_scaled, columns = X_num.columns)"
      ]
    },
    {
      "cell_type": "code",
      "execution_count": null,
      "metadata": {
        "id": "GYMZ-1uygcZ_"
      },
      "outputs": [],
      "source": [
        "# resetear los índices de ambos DataFrames\n",
        "X_scaled2 = X_scaled2.reset_index(drop=True)\n",
        "X_cat2 = X_cat2.reset_index(drop=True)"
      ]
    },
    {
      "cell_type": "code",
      "execution_count": null,
      "metadata": {
        "id": "4NnF5I9aad5E"
      },
      "outputs": [],
      "source": [
        "# unir los datos codificados\n",
        "X_both =\n",
        "X_final = pd.DataFrame(X_both, columns = X.columns)\n",
        "# establecer el índice en la columna adecuada\n",
        "#X_final = X_final.set_index('Index')"
      ]
    },
    {
      "cell_type": "code",
      "execution_count": null,
      "metadata": {
        "id": "UNGJGuC3Z5Fn"
      },
      "outputs": [],
      "source": [
        "X_final.head()"
      ]
    },
    {
      "cell_type": "code",
      "execution_count": null,
      "metadata": {
        "id": "0N4hQT-LdqEZ"
      },
      "outputs": [],
      "source": [
        "# Checking Null values\n"
      ]
    },
    {
      "cell_type": "code",
      "execution_count": null,
      "metadata": {
        "colab": {
          "base_uri": "https://localhost:8080/",
          "height": 49
        },
        "id": "G1kx5KcyeKWm",
        "outputId": "dbab0c3a-d453-442f-9dce-1a1329020f27"
      },
      "outputs": [
        {
          "data": {
            "text/html": [
              "\n",
              "  <div id=\"df-c1544092-086f-43bf-bcd1-43d5e8a86d19\">\n",
              "    <div class=\"colab-df-container\">\n",
              "      <div>\n",
              "<style scoped>\n",
              "    .dataframe tbody tr th:only-of-type {\n",
              "        vertical-align: middle;\n",
              "    }\n",
              "\n",
              "    .dataframe tbody tr th {\n",
              "        vertical-align: top;\n",
              "    }\n",
              "\n",
              "    .dataframe thead th {\n",
              "        text-align: right;\n",
              "    }\n",
              "</style>\n",
              "<table border=\"1\" class=\"dataframe\">\n",
              "  <thead>\n",
              "    <tr style=\"text-align: right;\">\n",
              "      <th></th>\n",
              "      <th>Education</th>\n",
              "      <th>Marital_Status</th>\n",
              "      <th>Income</th>\n",
              "      <th>Kidhome</th>\n",
              "      <th>Teenhome</th>\n",
              "      <th>Recency</th>\n",
              "      <th>MntWines</th>\n",
              "      <th>NumWebPurchases</th>\n",
              "      <th>NumCatalogPurchases</th>\n",
              "      <th>NumStorePurchases</th>\n",
              "      <th>Year_cat</th>\n",
              "    </tr>\n",
              "  </thead>\n",
              "  <tbody>\n",
              "  </tbody>\n",
              "</table>\n",
              "</div>\n",
              "      <button class=\"colab-df-convert\" onclick=\"convertToInteractive('df-c1544092-086f-43bf-bcd1-43d5e8a86d19')\"\n",
              "              title=\"Convert this dataframe to an interactive table.\"\n",
              "              style=\"display:none;\">\n",
              "        \n",
              "  <svg xmlns=\"http://www.w3.org/2000/svg\" height=\"24px\"viewBox=\"0 0 24 24\"\n",
              "       width=\"24px\">\n",
              "    <path d=\"M0 0h24v24H0V0z\" fill=\"none\"/>\n",
              "    <path d=\"M18.56 5.44l.94 2.06.94-2.06 2.06-.94-2.06-.94-.94-2.06-.94 2.06-2.06.94zm-11 1L8.5 8.5l.94-2.06 2.06-.94-2.06-.94L8.5 2.5l-.94 2.06-2.06.94zm10 10l.94 2.06.94-2.06 2.06-.94-2.06-.94-.94-2.06-.94 2.06-2.06.94z\"/><path d=\"M17.41 7.96l-1.37-1.37c-.4-.4-.92-.59-1.43-.59-.52 0-1.04.2-1.43.59L10.3 9.45l-7.72 7.72c-.78.78-.78 2.05 0 2.83L4 21.41c.39.39.9.59 1.41.59.51 0 1.02-.2 1.41-.59l7.78-7.78 2.81-2.81c.8-.78.8-2.07 0-2.86zM5.41 20L4 18.59l7.72-7.72 1.47 1.35L5.41 20z\"/>\n",
              "  </svg>\n",
              "      </button>\n",
              "      \n",
              "  <style>\n",
              "    .colab-df-container {\n",
              "      display:flex;\n",
              "      flex-wrap:wrap;\n",
              "      gap: 12px;\n",
              "    }\n",
              "\n",
              "    .colab-df-convert {\n",
              "      background-color: #E8F0FE;\n",
              "      border: none;\n",
              "      border-radius: 50%;\n",
              "      cursor: pointer;\n",
              "      display: none;\n",
              "      fill: #1967D2;\n",
              "      height: 32px;\n",
              "      padding: 0 0 0 0;\n",
              "      width: 32px;\n",
              "    }\n",
              "\n",
              "    .colab-df-convert:hover {\n",
              "      background-color: #E2EBFA;\n",
              "      box-shadow: 0px 1px 2px rgba(60, 64, 67, 0.3), 0px 1px 3px 1px rgba(60, 64, 67, 0.15);\n",
              "      fill: #174EA6;\n",
              "    }\n",
              "\n",
              "    [theme=dark] .colab-df-convert {\n",
              "      background-color: #3B4455;\n",
              "      fill: #D2E3FC;\n",
              "    }\n",
              "\n",
              "    [theme=dark] .colab-df-convert:hover {\n",
              "      background-color: #434B5C;\n",
              "      box-shadow: 0px 1px 3px 1px rgba(0, 0, 0, 0.15);\n",
              "      filter: drop-shadow(0px 1px 2px rgba(0, 0, 0, 0.3));\n",
              "      fill: #FFFFFF;\n",
              "    }\n",
              "  </style>\n",
              "\n",
              "      <script>\n",
              "        const buttonEl =\n",
              "          document.querySelector('#df-c1544092-086f-43bf-bcd1-43d5e8a86d19 button.colab-df-convert');\n",
              "        buttonEl.style.display =\n",
              "          google.colab.kernel.accessAllowed ? 'block' : 'none';\n",
              "\n",
              "        async function convertToInteractive(key) {\n",
              "          const element = document.querySelector('#df-c1544092-086f-43bf-bcd1-43d5e8a86d19');\n",
              "          const dataTable =\n",
              "            await google.colab.kernel.invokeFunction('convertToInteractive',\n",
              "                                                     [key], {});\n",
              "          if (!dataTable) return;\n",
              "\n",
              "          const docLinkHtml = 'Like what you see? Visit the ' +\n",
              "            '<a target=\"_blank\" href=https://colab.research.google.com/notebooks/data_table.ipynb>data table notebook</a>'\n",
              "            + ' to learn more about interactive tables.';\n",
              "          element.innerHTML = '';\n",
              "          dataTable['output_type'] = 'display_data';\n",
              "          await google.colab.output.renderOutput(dataTable, element);\n",
              "          const docLink = document.createElement('div');\n",
              "          docLink.innerHTML = docLinkHtml;\n",
              "          element.appendChild(docLink);\n",
              "        }\n",
              "      </script>\n",
              "    </div>\n",
              "  </div>\n",
              "  "
            ],
            "text/plain": [
              "Empty DataFrame\n",
              "Columns: [Education, Marital_Status, Income, Kidhome, Teenhome, Recency, MntWines, NumWebPurchases, NumCatalogPurchases, NumStorePurchases, Year_cat]\n",
              "Index: []"
            ]
          },
          "execution_count": 36,
          "metadata": {},
          "output_type": "execute_result"
        }
      ],
      "source": [
        "X_final.loc[X_final.isnull().any(axis=1)]"
      ]
    },
    {
      "cell_type": "markdown",
      "source": [
        "# Ya tenemos una matriz categórica y numérica ready para entrenar"
      ],
      "metadata": {
        "id": "Z2k-BN4IqpMm"
      }
    },
    {
      "cell_type": "markdown",
      "metadata": {
        "id": "UxxE8Ajzbcj_"
      },
      "source": [
        "## Gaussian Mixture"
      ]
    },
    {
      "cell_type": "markdown",
      "metadata": {
        "id": "KPcKaGE89ai2"
      },
      "source": [
        "## Creamos el método de distancia de Gower para calcular bien distancias de datos numéricos y categóricos."
      ]
    },
    {
      "cell_type": "code",
      "execution_count": null,
      "metadata": {
        "id": "T_Y6m6DfjKwr"
      },
      "outputs": [],
      "source": [
        "def gower_distance(x, y):\n",
        "    # Inicializar la distancia\n",
        "    distance = 0\n",
        "\n",
        "    # Calcular la distancia de Manhattan para variables numéricas\n",
        "    for i in range(len(x)):\n",
        "        if np.issubdtype(type(x[i]), np.number) and np.issubdtype(type(y[i]), np.number):\n",
        "            distance += abs(x[i] - y[i])\n",
        "        elif x[i] != y[i]:  # Calcular la distancia de Hamming para variables categóricas\n",
        "            distance += 1\n",
        "\n",
        "    return distance"
      ]
    },
    {
      "cell_type": "code",
      "execution_count": null,
      "metadata": {
        "id": "pK4Ipql9JBEn"
      },
      "outputs": [],
      "source": [
        "# ajustar el modelo Gaussian Mixture para diferentes valores de k y calcular el AIC y el BIC\n",
        "n_clusters = range(2, 11)\n",
        "aic_scores = []\n",
        "bic_scores = []\n",
        "for n in n_clusters:\n",
        "    gm =\n",
        "    gm.fit(X_final)\n",
        "    aic_scores\n",
        "    bic_scores\n",
        "\n",
        "# trazar los resultados del AIC y el BIC\n"
      ]
    },
    {
      "cell_type": "code",
      "execution_count": null,
      "metadata": {
        "id": "hrYBmfGHJBIP"
      },
      "outputs": [],
      "source": [
        "# aplicar el método de la silueta para determinar el número óptimo de clusters\n",
        "silhouette_scores = []\n",
        "for n in n_clusters:\n",
        "    gm =\n",
        "    gm.fit(X_final)\n",
        "    labels =\n",
        "    silhouette_scores.append()\n",
        "\n",
        "# Plotear el silhouette\n"
      ]
    },
    {
      "cell_type": "code",
      "execution_count": null,
      "metadata": {
        "id": "fgOOQYhzlOVD"
      },
      "outputs": [],
      "source": [
        "# entrenar el modelo de clustering\n",
        "n_clusters =\n",
        "\n",
        "# ajustar el modelo Gaussian Mixture con el número óptimo de clusters\n",
        "gm = GaussianMixture(n_components=n_clusters, random_state=42)\n",
        "gm.fit(X_final)\n",
        "\n",
        "# predecir las etiquetas de cluster para los datos\n",
        "labels = gm.predict(X_final)"
      ]
    },
    {
      "cell_type": "code",
      "execution_count": null,
      "metadata": {
        "id": "vO5xgbCKohbr"
      },
      "outputs": [],
      "source": [
        "# crear un dataframe con las etiquetas de cluster\n",
        "clusters_df = pd.DataFrame(labels, columns=['Cluster'])\n",
        "\n",
        "# restablecer los índices de los dataframes\n",
        "df = df.reset_index(drop=True)\n",
        "clusters_df = clusters_df.reset_index(drop=True)\n",
        "\n",
        "# concatenar los dataframes\n"
      ]
    },
    {
      "cell_type": "code",
      "execution_count": null,
      "metadata": {
        "id": "cj_09gJTmPrC"
      },
      "outputs": [],
      "source": [
        "result.head()"
      ]
    },
    {
      "cell_type": "code",
      "execution_count": null,
      "metadata": {
        "id": "kr_OlZX4xhp_"
      },
      "outputs": [],
      "source": [
        "result['Cluster'].value_counts()"
      ]
    },
    {
      "cell_type": "code",
      "execution_count": null,
      "metadata": {
        "id": "bfWHnfMFJBLv"
      },
      "outputs": [],
      "source": [
        "# Plotear 2D en el eje horizontal la educación y en el vertical el income, con color de cluster\n",
        "import plotly.express as px\n",
        "\n",
        "fig.show()"
      ]
    },
    {
      "cell_type": "code",
      "execution_count": null,
      "metadata": {
        "id": "KIqpC8UWuIyB"
      },
      "outputs": [],
      "source": [
        "# Plotear 3D, x education, y income z kidhome\n",
        "import plotly.express as px\n",
        "import plotly\n",
        "\n",
        "fig.show()"
      ]
    },
    {
      "cell_type": "code",
      "execution_count": null,
      "metadata": {
        "id": "PP3jL383wirx"
      },
      "outputs": [],
      "source": [
        "# Plotear 3D, x mntwines, y income z kidhome\n",
        "import plotly.express as px\n",
        "import plotly\n",
        "\n",
        "fig.show()"
      ]
    },
    {
      "cell_type": "code",
      "execution_count": null,
      "metadata": {
        "id": "rUReM6chn1at"
      },
      "outputs": [],
      "source": [
        "# Plotear 3D, x mntwines, y Marital_Status z kidhome\n",
        "import plotly.express as px\n",
        "import plotly\n",
        "\n",
        "fig.show()"
      ]
    },
    {
      "cell_type": "code",
      "execution_count": null,
      "metadata": {
        "id": "FHDxiWQFJBTW"
      },
      "outputs": [],
      "source": [
        "# Plotear 3D, x mntwines, y Marital_Status z Year_cat\n",
        "\n",
        "import plotly.express as px\n",
        "import plotly\n",
        "\n",
        "fig.show()"
      ]
    },
    {
      "cell_type": "markdown",
      "metadata": {
        "id": "J1vUJjrFQiu3"
      },
      "source": [
        "## K-PROTOTYPES"
      ]
    },
    {
      "cell_type": "code",
      "execution_count": null,
      "metadata": {
        "colab": {
          "base_uri": "https://localhost:8080/"
        },
        "id": "njMc9rlPPAUg",
        "outputId": "7e5b5475-ff8b-4bb7-c39e-44ea8f3d6720"
      },
      "outputs": [
        {
          "name": "stdout",
          "output_type": "stream",
          "text": [
            "Looking in indexes: https://pypi.org/simple, https://us-python.pkg.dev/colab-wheels/public/simple/\n",
            "Requirement already satisfied: kmodes in /usr/local/lib/python3.9/dist-packages (0.12.2)\n",
            "Requirement already satisfied: numpy>=1.10.4 in /usr/local/lib/python3.9/dist-packages (from kmodes) (1.22.4)\n",
            "Requirement already satisfied: scikit-learn>=0.22.0 in /usr/local/lib/python3.9/dist-packages (from kmodes) (1.2.2)\n",
            "Requirement already satisfied: scipy>=0.13.3 in /usr/local/lib/python3.9/dist-packages (from kmodes) (1.10.1)\n",
            "Requirement already satisfied: joblib>=0.11 in /usr/local/lib/python3.9/dist-packages (from kmodes) (1.2.0)\n",
            "Requirement already satisfied: threadpoolctl>=2.0.0 in /usr/local/lib/python3.9/dist-packages (from scikit-learn>=0.22.0->kmodes) (3.1.0)\n"
          ]
        }
      ],
      "source": [
        "!pip install kmodes"
      ]
    },
    {
      "cell_type": "code",
      "execution_count": null,
      "metadata": {
        "id": "rTp2AMCiN0lQ"
      },
      "outputs": [],
      "source": [
        "from kmodes.kprototypes import KPrototypes\n",
        "from sklearn.metrics import silhouette_samples, silhouette_score"
      ]
    },
    {
      "cell_type": "code",
      "execution_count": null,
      "metadata": {
        "colab": {
          "background_save": true
        },
        "id": "PKKbX-CIS5Dj"
      },
      "outputs": [],
      "source": [
        "# Crear una lista de objetos kprototypes para diferentes valores de k\n",
        "costs = []\n",
        "silhouette_scores = []\n",
        "for k in range(2, 8):\n",
        "    kproto =\n",
        "    clusters = kproto.\n",
        "    costs.append(kproto.cost_)\n",
        "    silhouette_scores.append(silhouette_score(X_final, clusters, metric=gower_distance))"
      ]
    },
    {
      "cell_type": "code",
      "execution_count": null,
      "metadata": {
        "colab": {
          "background_save": true
        },
        "id": "mvgOTbgZTCks"
      },
      "outputs": [],
      "source": [
        "# Plotear la curva del codo (elbow method)\n",
        "plt.plot(range(2, 8), costs)\n",
        "plt.xlabel('Número de clusters')\n",
        "plt.ylabel('Coste')\n",
        "plt.show()\n",
        "\n",
        "# Plotear la curva de silhouette score\n",
        "plt.plot(range(2, 8), silhouette_scores)\n",
        "plt.xlabel('Número de clusters')\n",
        "plt.ylabel('Silhouette Score')\n",
        "plt.show()"
      ]
    },
    {
      "cell_type": "code",
      "execution_count": null,
      "metadata": {
        "colab": {
          "background_save": true
        },
        "id": "89TuGnAoTNwJ"
      },
      "outputs": [],
      "source": [
        "# Escoger el número óptimo de clusters según la curva del codo y entrenar el modelo final\n",
        "kproto_final = KPrototypes(n_clusters=, init='Cao', verbose=0)\n",
        "clusters_final ="
      ]
    },
    {
      "cell_type": "code",
      "execution_count": null,
      "metadata": {
        "colab": {
          "background_save": true
        },
        "id": "yZ75cWH4N00W"
      },
      "outputs": [],
      "source": [
        "print(kproto.cluster_centroids_)"
      ]
    },
    {
      "cell_type": "code",
      "execution_count": null,
      "metadata": {
        "colab": {
          "background_save": true
        },
        "id": "jqYKopaUN062"
      },
      "outputs": [],
      "source": [
        "clusters_final = pd.DataFrame(clusters_final)\n",
        "df_proto = pd.concat([df, clusters_final], axis =1)\n",
        "df_proto = df_proto.rename(columns = {0:\"Cluster\"})\n",
        "df_proto.head()"
      ]
    },
    {
      "cell_type": "code",
      "execution_count": null,
      "metadata": {
        "colab": {
          "background_save": true,
          "base_uri": "https://localhost:8080/"
        },
        "id": "U0mf_gezjDBm",
        "outputId": "8220ff70-cc89-4e92-ffdb-f71279d45d24"
      },
      "outputs": [
        {
          "data": {
            "text/plain": [
              "2    610\n",
              "3    557\n",
              "0    533\n",
              "1    514\n",
              "Name: Cluster, dtype: int64"
            ]
          },
          "execution_count": 57,
          "metadata": {},
          "output_type": "execute_result"
        }
      ],
      "source": [
        "df_proto['Cluster'].value_counts()"
      ]
    },
    {
      "cell_type": "code",
      "execution_count": null,
      "metadata": {
        "colab": {
          "background_save": true
        },
        "id": "LpRv0BNGkoiy"
      },
      "outputs": [],
      "source": [
        "from sklearn.metrics import silhouette_samples\n",
        "import matplotlib.cm as cm\n",
        "\n",
        "# Calculate silhouette coefficients for each data point\n",
        "silhouette_vals =\n",
        "\n",
        "# Plot silhouette plot\n",
        "y_lower, y_upper = 0, 0\n",
        "for i in range(kproto.n_clusters):\n",
        "    cluster_silhouette_vals =\n",
        "    # aquí falta algo\n",
        "\n",
        "    #\n",
        "    y_upper += len(cluster_silhouette_vals)\n",
        "    plt.barh(range(y_lower, y_upper), cluster_silhouette_vals, height=1)\n",
        "    plt.text(-0.05, (y_lower + y_upper) / 2, str(i))\n",
        "    y_lower += len(cluster_silhouette_vals)\n",
        "\n",
        "plt.xlabel(\"Silhouette coefficient\")\n",
        "plt.ylabel(\"Cluster label\")\n",
        "plt.title(\"Silhouette plot for k-means clustering\")\n",
        "plt.show()"
      ]
    },
    {
      "cell_type": "code",
      "execution_count": null,
      "metadata": {
        "colab": {
          "background_save": true
        },
        "id": "5Z59I0zrkd9I"
      },
      "outputs": [],
      "source": [
        "import plotly.express as px\n",
        "import plotly\n",
        "fig = px.scatter_3d(df_proto, x='MntWines', y='Income', z='Kidhome', color='Cluster',title=\"Wine Customers\")\n",
        "fig.show()"
      ]
    },
    {
      "cell_type": "markdown",
      "metadata": {
        "id": "TTJgECRUQcFc"
      },
      "source": [
        "## DBSCAN"
      ]
    },
    {
      "cell_type": "code",
      "execution_count": null,
      "metadata": {
        "colab": {
          "background_save": true
        },
        "id": "I6mzL9_UQbT6"
      },
      "outputs": [],
      "source": [
        "from sklearn.cluster import DBSCAN"
      ]
    },
    {
      "cell_type": "code",
      "execution_count": null,
      "metadata": {
        "colab": {
          "background_save": true
        },
        "id": "nBV71T47P96H"
      },
      "outputs": [],
      "source": [
        "from sklearn.neighbors import NearestNeighbors\n",
        "# Encontrar las distancias k\n",
        "k = 8\n",
        "neighbors = NearestNeighbors() #le pasamos la distancia de Gower que hemos creado\n",
        "neighbors_fit = neighbors.fit(X_final)\n",
        "distances, _ = neighbors_fit.kneighbors(X_final)"
      ]
    },
    {
      "cell_type": "code",
      "execution_count": null,
      "metadata": {
        "colab": {
          "background_save": true
        },
        "id": "mV9ddPu2QAdl"
      },
      "outputs": [],
      "source": [
        "# Ordenar las distancias\n"
      ]
    },
    {
      "cell_type": "code",
      "execution_count": null,
      "metadata": {
        "colab": {
          "background_save": true
        },
        "id": "FqCkVbAeQCr6"
      },
      "outputs": [],
      "source": [
        "# Graficar las distancias k\n",
        "plt.plot(distances_mean)\n",
        "plt.xlabel('Índice del punto')\n",
        "plt.ylabel(f'Distancia promedio a los {k} vecinos más cercanos')\n",
        "plt.show()"
      ]
    },
    {
      "cell_type": "code",
      "execution_count": null,
      "metadata": {
        "id": "zEnyhAmiQDeB"
      },
      "outputs": [],
      "source": [
        "# Definir el espacio de búsqueda para eps y min_samples\n",
        "eps_values = np.arange(1, 8, 0.2) # rango e incremento\n",
        "min_samples_values = np.arange(3, 10, 1) # rango e incremento\n",
        "\n",
        "# Realizar la búsqueda en malla (grid search)\n",
        "best_score = -1\n",
        "best_params = None\n",
        "\n",
        "for eps in eps_values:\n",
        "    for min_samples in min_samples_values:\n",
        "        dbscan =\n",
        "        clusters =\n",
        "\n",
        "        # Ignorar resultados con solo un cluster o clusters asignados como ruido\n",
        "        if len(np.unique(clusters)) > 1 and np.any(clusters == -1):\n",
        "            score = silhouette_score(X_final, clusters)\n",
        "            if score > best_score:\n",
        "                best_score = score\n",
        "                best_params = {'eps': eps, 'min_samples': min_samples}\n",
        "\n",
        "# Imprimir los mejores valores de eps y min_samples\n",
        "print(f\"Mejores parámetros: {best_params}, Mejor coeficiente de silueta: {best_score}\")"
      ]
    },
    {
      "cell_type": "code",
      "execution_count": null,
      "metadata": {
        "id": "9H9bsWTLQDlz"
      },
      "outputs": [],
      "source": [
        "# Aplicar DBSCAN con los mejores parámetros encontrados\n",
        "dbscan2 =\n",
        "clusters2 ="
      ]
    },
    {
      "cell_type": "code",
      "execution_count": null,
      "metadata": {
        "id": "N1VTqkl1bBRH"
      },
      "outputs": [],
      "source": [
        "cl3=pd.DataFrame(dbscan2.labels_,columns=['Cluster'])"
      ]
    },
    {
      "cell_type": "code",
      "execution_count": null,
      "metadata": {
        "id": "FXaCbmz9avc6"
      },
      "outputs": [],
      "source": [
        "cl3.value_counts()"
      ]
    },
    {
      "cell_type": "code",
      "execution_count": null,
      "metadata": {
        "id": "jSwHym8NbJA7"
      },
      "outputs": [],
      "source": [
        "df_DB = pd.concat([df,cl3],axis=1)"
      ]
    },
    {
      "cell_type": "code",
      "execution_count": null,
      "metadata": {
        "id": "JKWCGFmWXgZJ"
      },
      "outputs": [],
      "source": [
        "import plotly.express as px\n",
        "import plotly\n",
        "fig = px.scatter_3d(df_DB, x='MntWines', y='Income', z='Kidhome', color='Cluster',title=\"Wine Customers\")\n",
        "fig.show()"
      ]
    },
    {
      "cell_type": "code",
      "execution_count": null,
      "metadata": {
        "id": "kk8h52TObs--"
      },
      "outputs": [],
      "source": []
    }
  ],
  "metadata": {
    "colab": {
      "provenance": []
    },
    "kernelspec": {
      "display_name": "Python 3",
      "name": "python3"
    },
    "language_info": {
      "name": "python"
    }
  },
  "nbformat": 4,
  "nbformat_minor": 0
}