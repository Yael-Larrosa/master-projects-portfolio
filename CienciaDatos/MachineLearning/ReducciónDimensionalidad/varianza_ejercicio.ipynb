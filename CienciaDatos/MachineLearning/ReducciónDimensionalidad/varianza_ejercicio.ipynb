{
  "nbformat": 4,
  "nbformat_minor": 0,
  "metadata": {
    "colab": {
      "provenance": []
    },
    "kernelspec": {
      "name": "python3",
      "display_name": "Python 3"
    },
    "language_info": {
      "name": "python"
    }
  },
  "cells": [
    {
      "cell_type": "code",
      "source": [
        "from sklearn.preprocessing import OneHotEncoder\n",
        "\n",
        "\n",
        "X = [['blue'], ['green'], ['blue'], ['blue'], ['green'], ['red'], ['blue'], ['green']]\n",
        "y = [0, 0, 1, 0, 0, 1, 0, 0]\n",
        "\n",
        "enc = OneHotEncoder(drop='first')\n",
        "enc.fit(X)\n",
        "X_ohe = enc.transform(X)\n",
        "X_ohe.toarray()"
      ],
      "metadata": {
        "id": "pEzd_RmI35oJ",
        "colab": {
          "base_uri": "https://localhost:8080/"
        },
        "outputId": "3cf9ee83-9b44-4504-8e33-35b866fb0f6a"
      },
      "execution_count": null,
      "outputs": [
        {
          "output_type": "execute_result",
          "data": {
            "text/plain": [
              "array([[0., 0.],\n",
              "       [1., 0.],\n",
              "       [0., 0.],\n",
              "       [0., 0.],\n",
              "       [1., 0.],\n",
              "       [0., 1.],\n",
              "       [0., 0.],\n",
              "       [1., 0.]])"
            ]
          },
          "metadata": {},
          "execution_count": 2
        }
      ]
    },
    {
      "cell_type": "code",
      "source": [
        "from sklearn.feature_selection import VarianceThreshold\n",
        "\n",
        "sel = VarianceThreshold(threshold=(.8 * (1 - .8)))\n",
        "\n",
        "sel.fit(X_ohe)\n",
        "sel.transform(X_ohe).toarray()"
      ],
      "metadata": {
        "id": "Np-9QIAM4NCZ",
        "colab": {
          "base_uri": "https://localhost:8080/"
        },
        "outputId": "1f6616ef-1e28-4239-d2d8-86ef912daf19"
      },
      "execution_count": null,
      "outputs": [
        {
          "output_type": "execute_result",
          "data": {
            "text/plain": [
              "array([[0.],\n",
              "       [1.],\n",
              "       [0.],\n",
              "       [0.],\n",
              "       [1.],\n",
              "       [0.],\n",
              "       [0.],\n",
              "       [1.]])"
            ]
          },
          "metadata": {},
          "execution_count": 3
        }
      ]
    },
    {
      "cell_type": "markdown",
      "source": [
        "# Banco Santander"
      ],
      "metadata": {
        "id": "dcNdG2p--Q8O"
      }
    },
    {
      "cell_type": "code",
      "source": [
        "# Leer el CSV del banco santander, solo 10000 filas\n",
        "import pandas as pd\n",
        "df= pd.read_csv('/content/train.csv',nrows=10000)"
      ],
      "metadata": {
        "id": "CPQsn4ZH-4AR"
      },
      "execution_count": null,
      "outputs": []
    },
    {
      "cell_type": "code",
      "source": [
        "df.shape"
      ],
      "metadata": {
        "id": "mwtJ4HdF--QZ",
        "colab": {
          "base_uri": "https://localhost:8080/"
        },
        "outputId": "90ddd8c6-6f1c-4fb7-cb85-b77d1b711dbb"
      },
      "execution_count": null,
      "outputs": [
        {
          "output_type": "execute_result",
          "data": {
            "text/plain": [
              "(10000, 371)"
            ]
          },
          "metadata": {},
          "execution_count": 24
        }
      ]
    },
    {
      "cell_type": "code",
      "source": [
        "df.head()"
      ],
      "metadata": {
        "id": "ZxmVzFdo_B24",
        "colab": {
          "base_uri": "https://localhost:8080/",
          "height": 255
        },
        "outputId": "db68d47d-03a8-44f9-a790-bc1721c05c95"
      },
      "execution_count": null,
      "outputs": [
        {
          "output_type": "execute_result",
          "data": {
            "text/plain": [
              "   ID  var3  var15  imp_ent_var16_ult1  imp_op_var39_comer_ult1  \\\n",
              "0   1     2     23                 0.0                      0.0   \n",
              "1   3     2     34                 0.0                      0.0   \n",
              "2   4     2     23                 0.0                      0.0   \n",
              "3   8     2     37                 0.0                    195.0   \n",
              "4  10     2     39                 0.0                      0.0   \n",
              "\n",
              "   imp_op_var39_comer_ult3  imp_op_var40_comer_ult1  imp_op_var40_comer_ult3  \\\n",
              "0                      0.0                      0.0                      0.0   \n",
              "1                      0.0                      0.0                      0.0   \n",
              "2                      0.0                      0.0                      0.0   \n",
              "3                    195.0                      0.0                      0.0   \n",
              "4                      0.0                      0.0                      0.0   \n",
              "\n",
              "   imp_op_var40_efect_ult1  imp_op_var40_efect_ult3  ...  \\\n",
              "0                        0                        0  ...   \n",
              "1                        0                        0  ...   \n",
              "2                        0                        0  ...   \n",
              "3                        0                        0  ...   \n",
              "4                        0                        0  ...   \n",
              "\n",
              "   saldo_medio_var33_hace2  saldo_medio_var33_hace3  saldo_medio_var33_ult1  \\\n",
              "0                      0.0                      0.0                     0.0   \n",
              "1                      0.0                      0.0                     0.0   \n",
              "2                      0.0                      0.0                     0.0   \n",
              "3                      0.0                      0.0                     0.0   \n",
              "4                      0.0                      0.0                     0.0   \n",
              "\n",
              "   saldo_medio_var33_ult3  saldo_medio_var44_hace2  saldo_medio_var44_hace3  \\\n",
              "0                     0.0                      0.0                      0.0   \n",
              "1                     0.0                      0.0                      0.0   \n",
              "2                     0.0                      0.0                      0.0   \n",
              "3                     0.0                      0.0                      0.0   \n",
              "4                     0.0                      0.0                      0.0   \n",
              "\n",
              "   saldo_medio_var44_ult1  saldo_medio_var44_ult3          var38  TARGET  \n",
              "0                     0.0                     0.0   39205.170000       0  \n",
              "1                     0.0                     0.0   49278.030000       0  \n",
              "2                     0.0                     0.0   67333.770000       0  \n",
              "3                     0.0                     0.0   64007.970000       0  \n",
              "4                     0.0                     0.0  117310.979016       0  \n",
              "\n",
              "[5 rows x 371 columns]"
            ],
            "text/html": [
              "\n",
              "  <div id=\"df-ae396647-602c-44b0-bc4b-92013bfb647f\" class=\"colab-df-container\">\n",
              "    <div>\n",
              "<style scoped>\n",
              "    .dataframe tbody tr th:only-of-type {\n",
              "        vertical-align: middle;\n",
              "    }\n",
              "\n",
              "    .dataframe tbody tr th {\n",
              "        vertical-align: top;\n",
              "    }\n",
              "\n",
              "    .dataframe thead th {\n",
              "        text-align: right;\n",
              "    }\n",
              "</style>\n",
              "<table border=\"1\" class=\"dataframe\">\n",
              "  <thead>\n",
              "    <tr style=\"text-align: right;\">\n",
              "      <th></th>\n",
              "      <th>ID</th>\n",
              "      <th>var3</th>\n",
              "      <th>var15</th>\n",
              "      <th>imp_ent_var16_ult1</th>\n",
              "      <th>imp_op_var39_comer_ult1</th>\n",
              "      <th>imp_op_var39_comer_ult3</th>\n",
              "      <th>imp_op_var40_comer_ult1</th>\n",
              "      <th>imp_op_var40_comer_ult3</th>\n",
              "      <th>imp_op_var40_efect_ult1</th>\n",
              "      <th>imp_op_var40_efect_ult3</th>\n",
              "      <th>...</th>\n",
              "      <th>saldo_medio_var33_hace2</th>\n",
              "      <th>saldo_medio_var33_hace3</th>\n",
              "      <th>saldo_medio_var33_ult1</th>\n",
              "      <th>saldo_medio_var33_ult3</th>\n",
              "      <th>saldo_medio_var44_hace2</th>\n",
              "      <th>saldo_medio_var44_hace3</th>\n",
              "      <th>saldo_medio_var44_ult1</th>\n",
              "      <th>saldo_medio_var44_ult3</th>\n",
              "      <th>var38</th>\n",
              "      <th>TARGET</th>\n",
              "    </tr>\n",
              "  </thead>\n",
              "  <tbody>\n",
              "    <tr>\n",
              "      <th>0</th>\n",
              "      <td>1</td>\n",
              "      <td>2</td>\n",
              "      <td>23</td>\n",
              "      <td>0.0</td>\n",
              "      <td>0.0</td>\n",
              "      <td>0.0</td>\n",
              "      <td>0.0</td>\n",
              "      <td>0.0</td>\n",
              "      <td>0</td>\n",
              "      <td>0</td>\n",
              "      <td>...</td>\n",
              "      <td>0.0</td>\n",
              "      <td>0.0</td>\n",
              "      <td>0.0</td>\n",
              "      <td>0.0</td>\n",
              "      <td>0.0</td>\n",
              "      <td>0.0</td>\n",
              "      <td>0.0</td>\n",
              "      <td>0.0</td>\n",
              "      <td>39205.170000</td>\n",
              "      <td>0</td>\n",
              "    </tr>\n",
              "    <tr>\n",
              "      <th>1</th>\n",
              "      <td>3</td>\n",
              "      <td>2</td>\n",
              "      <td>34</td>\n",
              "      <td>0.0</td>\n",
              "      <td>0.0</td>\n",
              "      <td>0.0</td>\n",
              "      <td>0.0</td>\n",
              "      <td>0.0</td>\n",
              "      <td>0</td>\n",
              "      <td>0</td>\n",
              "      <td>...</td>\n",
              "      <td>0.0</td>\n",
              "      <td>0.0</td>\n",
              "      <td>0.0</td>\n",
              "      <td>0.0</td>\n",
              "      <td>0.0</td>\n",
              "      <td>0.0</td>\n",
              "      <td>0.0</td>\n",
              "      <td>0.0</td>\n",
              "      <td>49278.030000</td>\n",
              "      <td>0</td>\n",
              "    </tr>\n",
              "    <tr>\n",
              "      <th>2</th>\n",
              "      <td>4</td>\n",
              "      <td>2</td>\n",
              "      <td>23</td>\n",
              "      <td>0.0</td>\n",
              "      <td>0.0</td>\n",
              "      <td>0.0</td>\n",
              "      <td>0.0</td>\n",
              "      <td>0.0</td>\n",
              "      <td>0</td>\n",
              "      <td>0</td>\n",
              "      <td>...</td>\n",
              "      <td>0.0</td>\n",
              "      <td>0.0</td>\n",
              "      <td>0.0</td>\n",
              "      <td>0.0</td>\n",
              "      <td>0.0</td>\n",
              "      <td>0.0</td>\n",
              "      <td>0.0</td>\n",
              "      <td>0.0</td>\n",
              "      <td>67333.770000</td>\n",
              "      <td>0</td>\n",
              "    </tr>\n",
              "    <tr>\n",
              "      <th>3</th>\n",
              "      <td>8</td>\n",
              "      <td>2</td>\n",
              "      <td>37</td>\n",
              "      <td>0.0</td>\n",
              "      <td>195.0</td>\n",
              "      <td>195.0</td>\n",
              "      <td>0.0</td>\n",
              "      <td>0.0</td>\n",
              "      <td>0</td>\n",
              "      <td>0</td>\n",
              "      <td>...</td>\n",
              "      <td>0.0</td>\n",
              "      <td>0.0</td>\n",
              "      <td>0.0</td>\n",
              "      <td>0.0</td>\n",
              "      <td>0.0</td>\n",
              "      <td>0.0</td>\n",
              "      <td>0.0</td>\n",
              "      <td>0.0</td>\n",
              "      <td>64007.970000</td>\n",
              "      <td>0</td>\n",
              "    </tr>\n",
              "    <tr>\n",
              "      <th>4</th>\n",
              "      <td>10</td>\n",
              "      <td>2</td>\n",
              "      <td>39</td>\n",
              "      <td>0.0</td>\n",
              "      <td>0.0</td>\n",
              "      <td>0.0</td>\n",
              "      <td>0.0</td>\n",
              "      <td>0.0</td>\n",
              "      <td>0</td>\n",
              "      <td>0</td>\n",
              "      <td>...</td>\n",
              "      <td>0.0</td>\n",
              "      <td>0.0</td>\n",
              "      <td>0.0</td>\n",
              "      <td>0.0</td>\n",
              "      <td>0.0</td>\n",
              "      <td>0.0</td>\n",
              "      <td>0.0</td>\n",
              "      <td>0.0</td>\n",
              "      <td>117310.979016</td>\n",
              "      <td>0</td>\n",
              "    </tr>\n",
              "  </tbody>\n",
              "</table>\n",
              "<p>5 rows × 371 columns</p>\n",
              "</div>\n",
              "    <div class=\"colab-df-buttons\">\n",
              "\n",
              "  <div class=\"colab-df-container\">\n",
              "    <button class=\"colab-df-convert\" onclick=\"convertToInteractive('df-ae396647-602c-44b0-bc4b-92013bfb647f')\"\n",
              "            title=\"Convert this dataframe to an interactive table.\"\n",
              "            style=\"display:none;\">\n",
              "\n",
              "  <svg xmlns=\"http://www.w3.org/2000/svg\" height=\"24px\" viewBox=\"0 -960 960 960\">\n",
              "    <path d=\"M120-120v-720h720v720H120Zm60-500h600v-160H180v160Zm220 220h160v-160H400v160Zm0 220h160v-160H400v160ZM180-400h160v-160H180v160Zm440 0h160v-160H620v160ZM180-180h160v-160H180v160Zm440 0h160v-160H620v160Z\"/>\n",
              "  </svg>\n",
              "    </button>\n",
              "\n",
              "  <style>\n",
              "    .colab-df-container {\n",
              "      display:flex;\n",
              "      gap: 12px;\n",
              "    }\n",
              "\n",
              "    .colab-df-convert {\n",
              "      background-color: #E8F0FE;\n",
              "      border: none;\n",
              "      border-radius: 50%;\n",
              "      cursor: pointer;\n",
              "      display: none;\n",
              "      fill: #1967D2;\n",
              "      height: 32px;\n",
              "      padding: 0 0 0 0;\n",
              "      width: 32px;\n",
              "    }\n",
              "\n",
              "    .colab-df-convert:hover {\n",
              "      background-color: #E2EBFA;\n",
              "      box-shadow: 0px 1px 2px rgba(60, 64, 67, 0.3), 0px 1px 3px 1px rgba(60, 64, 67, 0.15);\n",
              "      fill: #174EA6;\n",
              "    }\n",
              "\n",
              "    .colab-df-buttons div {\n",
              "      margin-bottom: 4px;\n",
              "    }\n",
              "\n",
              "    [theme=dark] .colab-df-convert {\n",
              "      background-color: #3B4455;\n",
              "      fill: #D2E3FC;\n",
              "    }\n",
              "\n",
              "    [theme=dark] .colab-df-convert:hover {\n",
              "      background-color: #434B5C;\n",
              "      box-shadow: 0px 1px 3px 1px rgba(0, 0, 0, 0.15);\n",
              "      filter: drop-shadow(0px 1px 2px rgba(0, 0, 0, 0.3));\n",
              "      fill: #FFFFFF;\n",
              "    }\n",
              "  </style>\n",
              "\n",
              "    <script>\n",
              "      const buttonEl =\n",
              "        document.querySelector('#df-ae396647-602c-44b0-bc4b-92013bfb647f button.colab-df-convert');\n",
              "      buttonEl.style.display =\n",
              "        google.colab.kernel.accessAllowed ? 'block' : 'none';\n",
              "\n",
              "      async function convertToInteractive(key) {\n",
              "        const element = document.querySelector('#df-ae396647-602c-44b0-bc4b-92013bfb647f');\n",
              "        const dataTable =\n",
              "          await google.colab.kernel.invokeFunction('convertToInteractive',\n",
              "                                                    [key], {});\n",
              "        if (!dataTable) return;\n",
              "\n",
              "        const docLinkHtml = 'Like what you see? Visit the ' +\n",
              "          '<a target=\"_blank\" href=https://colab.research.google.com/notebooks/data_table.ipynb>data table notebook</a>'\n",
              "          + ' to learn more about interactive tables.';\n",
              "        element.innerHTML = '';\n",
              "        dataTable['output_type'] = 'display_data';\n",
              "        await google.colab.output.renderOutput(dataTable, element);\n",
              "        const docLink = document.createElement('div');\n",
              "        docLink.innerHTML = docLinkHtml;\n",
              "        element.appendChild(docLink);\n",
              "      }\n",
              "    </script>\n",
              "  </div>\n",
              "\n",
              "\n",
              "<div id=\"df-9b1067a8-d61a-4498-8986-2584ffee3a52\">\n",
              "  <button class=\"colab-df-quickchart\" onclick=\"quickchart('df-9b1067a8-d61a-4498-8986-2584ffee3a52')\"\n",
              "            title=\"Suggest charts\"\n",
              "            style=\"display:none;\">\n",
              "\n",
              "<svg xmlns=\"http://www.w3.org/2000/svg\" height=\"24px\"viewBox=\"0 0 24 24\"\n",
              "     width=\"24px\">\n",
              "    <g>\n",
              "        <path d=\"M19 3H5c-1.1 0-2 .9-2 2v14c0 1.1.9 2 2 2h14c1.1 0 2-.9 2-2V5c0-1.1-.9-2-2-2zM9 17H7v-7h2v7zm4 0h-2V7h2v10zm4 0h-2v-4h2v4z\"/>\n",
              "    </g>\n",
              "</svg>\n",
              "  </button>\n",
              "\n",
              "<style>\n",
              "  .colab-df-quickchart {\n",
              "      --bg-color: #E8F0FE;\n",
              "      --fill-color: #1967D2;\n",
              "      --hover-bg-color: #E2EBFA;\n",
              "      --hover-fill-color: #174EA6;\n",
              "      --disabled-fill-color: #AAA;\n",
              "      --disabled-bg-color: #DDD;\n",
              "  }\n",
              "\n",
              "  [theme=dark] .colab-df-quickchart {\n",
              "      --bg-color: #3B4455;\n",
              "      --fill-color: #D2E3FC;\n",
              "      --hover-bg-color: #434B5C;\n",
              "      --hover-fill-color: #FFFFFF;\n",
              "      --disabled-bg-color: #3B4455;\n",
              "      --disabled-fill-color: #666;\n",
              "  }\n",
              "\n",
              "  .colab-df-quickchart {\n",
              "    background-color: var(--bg-color);\n",
              "    border: none;\n",
              "    border-radius: 50%;\n",
              "    cursor: pointer;\n",
              "    display: none;\n",
              "    fill: var(--fill-color);\n",
              "    height: 32px;\n",
              "    padding: 0;\n",
              "    width: 32px;\n",
              "  }\n",
              "\n",
              "  .colab-df-quickchart:hover {\n",
              "    background-color: var(--hover-bg-color);\n",
              "    box-shadow: 0 1px 2px rgba(60, 64, 67, 0.3), 0 1px 3px 1px rgba(60, 64, 67, 0.15);\n",
              "    fill: var(--button-hover-fill-color);\n",
              "  }\n",
              "\n",
              "  .colab-df-quickchart-complete:disabled,\n",
              "  .colab-df-quickchart-complete:disabled:hover {\n",
              "    background-color: var(--disabled-bg-color);\n",
              "    fill: var(--disabled-fill-color);\n",
              "    box-shadow: none;\n",
              "  }\n",
              "\n",
              "  .colab-df-spinner {\n",
              "    border: 2px solid var(--fill-color);\n",
              "    border-color: transparent;\n",
              "    border-bottom-color: var(--fill-color);\n",
              "    animation:\n",
              "      spin 1s steps(1) infinite;\n",
              "  }\n",
              "\n",
              "  @keyframes spin {\n",
              "    0% {\n",
              "      border-color: transparent;\n",
              "      border-bottom-color: var(--fill-color);\n",
              "      border-left-color: var(--fill-color);\n",
              "    }\n",
              "    20% {\n",
              "      border-color: transparent;\n",
              "      border-left-color: var(--fill-color);\n",
              "      border-top-color: var(--fill-color);\n",
              "    }\n",
              "    30% {\n",
              "      border-color: transparent;\n",
              "      border-left-color: var(--fill-color);\n",
              "      border-top-color: var(--fill-color);\n",
              "      border-right-color: var(--fill-color);\n",
              "    }\n",
              "    40% {\n",
              "      border-color: transparent;\n",
              "      border-right-color: var(--fill-color);\n",
              "      border-top-color: var(--fill-color);\n",
              "    }\n",
              "    60% {\n",
              "      border-color: transparent;\n",
              "      border-right-color: var(--fill-color);\n",
              "    }\n",
              "    80% {\n",
              "      border-color: transparent;\n",
              "      border-right-color: var(--fill-color);\n",
              "      border-bottom-color: var(--fill-color);\n",
              "    }\n",
              "    90% {\n",
              "      border-color: transparent;\n",
              "      border-bottom-color: var(--fill-color);\n",
              "    }\n",
              "  }\n",
              "</style>\n",
              "\n",
              "  <script>\n",
              "    async function quickchart(key) {\n",
              "      const quickchartButtonEl =\n",
              "        document.querySelector('#' + key + ' button');\n",
              "      quickchartButtonEl.disabled = true;  // To prevent multiple clicks.\n",
              "      quickchartButtonEl.classList.add('colab-df-spinner');\n",
              "      try {\n",
              "        const charts = await google.colab.kernel.invokeFunction(\n",
              "            'suggestCharts', [key], {});\n",
              "      } catch (error) {\n",
              "        console.error('Error during call to suggestCharts:', error);\n",
              "      }\n",
              "      quickchartButtonEl.classList.remove('colab-df-spinner');\n",
              "      quickchartButtonEl.classList.add('colab-df-quickchart-complete');\n",
              "    }\n",
              "    (() => {\n",
              "      let quickchartButtonEl =\n",
              "        document.querySelector('#df-9b1067a8-d61a-4498-8986-2584ffee3a52 button');\n",
              "      quickchartButtonEl.style.display =\n",
              "        google.colab.kernel.accessAllowed ? 'block' : 'none';\n",
              "    })();\n",
              "  </script>\n",
              "</div>\n",
              "    </div>\n",
              "  </div>\n"
            ],
            "application/vnd.google.colaboratory.intrinsic+json": {
              "type": "dataframe",
              "variable_name": "df"
            }
          },
          "metadata": {},
          "execution_count": 25
        }
      ]
    },
    {
      "cell_type": "code",
      "source": [
        "# Asignar la variable y a la columna TARGET y asignar la variable X al resto de características\n",
        "\n",
        "X=df.drop('TARGET', axis=1)\n",
        "y=df['TARGET']\n",
        "print(X)\n",
        "print(y)"
      ],
      "metadata": {
        "id": "y8Sxe2db_DLw",
        "colab": {
          "base_uri": "https://localhost:8080/"
        },
        "outputId": "fd9e9344-7830-42a7-e6c2-749a3d6f9acf"
      },
      "execution_count": null,
      "outputs": [
        {
          "output_type": "stream",
          "name": "stdout",
          "text": [
            "         ID  var3  var15  imp_ent_var16_ult1  imp_op_var39_comer_ult1  \\\n",
            "0         1     2     23                 0.0                     0.00   \n",
            "1         3     2     34                 0.0                     0.00   \n",
            "2         4     2     23                 0.0                     0.00   \n",
            "3         8     2     37                 0.0                   195.00   \n",
            "4        10     2     39                 0.0                     0.00   \n",
            "...     ...   ...    ...                 ...                      ...   \n",
            "9995  20069     2     52               150.0                     0.00   \n",
            "9996  20070     2     23                90.0                    51.06   \n",
            "9997  20071     2     37                 0.0                     0.00   \n",
            "9998  20072     2     24                 0.0                     0.00   \n",
            "9999  20074     2     40               585.0                     0.00   \n",
            "\n",
            "      imp_op_var39_comer_ult3  imp_op_var40_comer_ult1  \\\n",
            "0                        0.00                      0.0   \n",
            "1                        0.00                      0.0   \n",
            "2                        0.00                      0.0   \n",
            "3                      195.00                      0.0   \n",
            "4                        0.00                      0.0   \n",
            "...                       ...                      ...   \n",
            "9995                     0.00                      0.0   \n",
            "9996                    51.06                      0.0   \n",
            "9997                     0.00                      0.0   \n",
            "9998                     0.00                      0.0   \n",
            "9999                     0.00                      0.0   \n",
            "\n",
            "      imp_op_var40_comer_ult3  imp_op_var40_efect_ult1  \\\n",
            "0                         0.0                        0   \n",
            "1                         0.0                        0   \n",
            "2                         0.0                        0   \n",
            "3                         0.0                        0   \n",
            "4                         0.0                        0   \n",
            "...                       ...                      ...   \n",
            "9995                      0.0                        0   \n",
            "9996                      0.0                        0   \n",
            "9997                      0.0                        0   \n",
            "9998                      0.0                        0   \n",
            "9999                      0.0                        0   \n",
            "\n",
            "      imp_op_var40_efect_ult3  ...  saldo_medio_var29_ult3  \\\n",
            "0                           0  ...                     0.0   \n",
            "1                           0  ...                     0.0   \n",
            "2                           0  ...                     0.0   \n",
            "3                           0  ...                     0.0   \n",
            "4                           0  ...                     0.0   \n",
            "...                       ...  ...                     ...   \n",
            "9995                        0  ...                     0.0   \n",
            "9996                        0  ...                     0.0   \n",
            "9997                        0  ...                     0.0   \n",
            "9998                        0  ...                     0.0   \n",
            "9999                        0  ...                     0.0   \n",
            "\n",
            "      saldo_medio_var33_hace2  saldo_medio_var33_hace3  \\\n",
            "0                         0.0                      0.0   \n",
            "1                         0.0                      0.0   \n",
            "2                         0.0                      0.0   \n",
            "3                         0.0                      0.0   \n",
            "4                         0.0                      0.0   \n",
            "...                       ...                      ...   \n",
            "9995                      0.0                      0.0   \n",
            "9996                      0.0                      0.0   \n",
            "9997                      0.0                      0.0   \n",
            "9998                      0.0                      0.0   \n",
            "9999                      0.0                      0.0   \n",
            "\n",
            "      saldo_medio_var33_ult1  saldo_medio_var33_ult3  saldo_medio_var44_hace2  \\\n",
            "0                        0.0                     0.0                      0.0   \n",
            "1                        0.0                     0.0                      0.0   \n",
            "2                        0.0                     0.0                      0.0   \n",
            "3                        0.0                     0.0                      0.0   \n",
            "4                        0.0                     0.0                      0.0   \n",
            "...                      ...                     ...                      ...   \n",
            "9995                     0.0                     0.0                      0.0   \n",
            "9996                     0.0                     0.0                      0.0   \n",
            "9997                     0.0                     0.0                      0.0   \n",
            "9998                     0.0                     0.0                      0.0   \n",
            "9999                     0.0                     0.0                      0.0   \n",
            "\n",
            "      saldo_medio_var44_hace3  saldo_medio_var44_ult1  saldo_medio_var44_ult3  \\\n",
            "0                         0.0                     0.0                     0.0   \n",
            "1                         0.0                     0.0                     0.0   \n",
            "2                         0.0                     0.0                     0.0   \n",
            "3                         0.0                     0.0                     0.0   \n",
            "4                         0.0                     0.0                     0.0   \n",
            "...                       ...                     ...                     ...   \n",
            "9995                      0.0                     0.0                     0.0   \n",
            "9996                      0.0                     0.0                     0.0   \n",
            "9997                      0.0                     0.0                     0.0   \n",
            "9998                      0.0                     0.0                     0.0   \n",
            "9999                      0.0                     0.0                     0.0   \n",
            "\n",
            "              var38  \n",
            "0      39205.170000  \n",
            "1      49278.030000  \n",
            "2      67333.770000  \n",
            "3      64007.970000  \n",
            "4     117310.979016  \n",
            "...             ...  \n",
            "9995   27745.740000  \n",
            "9996  120468.090000  \n",
            "9997   98462.880000  \n",
            "9998  102070.770000  \n",
            "9999   55804.410000  \n",
            "\n",
            "[10000 rows x 370 columns]\n",
            "0       0\n",
            "1       0\n",
            "2       0\n",
            "3       0\n",
            "4       0\n",
            "       ..\n",
            "9995    1\n",
            "9996    0\n",
            "9997    0\n",
            "9998    0\n",
            "9999    0\n",
            "Name: TARGET, Length: 10000, dtype: int64\n"
          ]
        }
      ]
    },
    {
      "cell_type": "code",
      "source": [
        "# Aplicar el filtro de Varianza a variables constantes\n",
        "\n",
        "var_thres=VarianceThreshold(threshold=(0))\n",
        "\n",
        "var_thres.fit(X)\n",
        "\n"
      ],
      "metadata": {
        "id": "I7VDokQq_Hex",
        "colab": {
          "base_uri": "https://localhost:8080/",
          "height": 74
        },
        "outputId": "ad26c443-d5e4-4481-aa66-c1973cd9bcf5"
      },
      "execution_count": null,
      "outputs": [
        {
          "output_type": "execute_result",
          "data": {
            "text/plain": [
              "VarianceThreshold(threshold=0)"
            ],
            "text/html": [
              "<style>#sk-container-id-1 {color: black;background-color: white;}#sk-container-id-1 pre{padding: 0;}#sk-container-id-1 div.sk-toggleable {background-color: white;}#sk-container-id-1 label.sk-toggleable__label {cursor: pointer;display: block;width: 100%;margin-bottom: 0;padding: 0.3em;box-sizing: border-box;text-align: center;}#sk-container-id-1 label.sk-toggleable__label-arrow:before {content: \"▸\";float: left;margin-right: 0.25em;color: #696969;}#sk-container-id-1 label.sk-toggleable__label-arrow:hover:before {color: black;}#sk-container-id-1 div.sk-estimator:hover label.sk-toggleable__label-arrow:before {color: black;}#sk-container-id-1 div.sk-toggleable__content {max-height: 0;max-width: 0;overflow: hidden;text-align: left;background-color: #f0f8ff;}#sk-container-id-1 div.sk-toggleable__content pre {margin: 0.2em;color: black;border-radius: 0.25em;background-color: #f0f8ff;}#sk-container-id-1 input.sk-toggleable__control:checked~div.sk-toggleable__content {max-height: 200px;max-width: 100%;overflow: auto;}#sk-container-id-1 input.sk-toggleable__control:checked~label.sk-toggleable__label-arrow:before {content: \"▾\";}#sk-container-id-1 div.sk-estimator input.sk-toggleable__control:checked~label.sk-toggleable__label {background-color: #d4ebff;}#sk-container-id-1 div.sk-label input.sk-toggleable__control:checked~label.sk-toggleable__label {background-color: #d4ebff;}#sk-container-id-1 input.sk-hidden--visually {border: 0;clip: rect(1px 1px 1px 1px);clip: rect(1px, 1px, 1px, 1px);height: 1px;margin: -1px;overflow: hidden;padding: 0;position: absolute;width: 1px;}#sk-container-id-1 div.sk-estimator {font-family: monospace;background-color: #f0f8ff;border: 1px dotted black;border-radius: 0.25em;box-sizing: border-box;margin-bottom: 0.5em;}#sk-container-id-1 div.sk-estimator:hover {background-color: #d4ebff;}#sk-container-id-1 div.sk-parallel-item::after {content: \"\";width: 100%;border-bottom: 1px solid gray;flex-grow: 1;}#sk-container-id-1 div.sk-label:hover label.sk-toggleable__label {background-color: #d4ebff;}#sk-container-id-1 div.sk-serial::before {content: \"\";position: absolute;border-left: 1px solid gray;box-sizing: border-box;top: 0;bottom: 0;left: 50%;z-index: 0;}#sk-container-id-1 div.sk-serial {display: flex;flex-direction: column;align-items: center;background-color: white;padding-right: 0.2em;padding-left: 0.2em;position: relative;}#sk-container-id-1 div.sk-item {position: relative;z-index: 1;}#sk-container-id-1 div.sk-parallel {display: flex;align-items: stretch;justify-content: center;background-color: white;position: relative;}#sk-container-id-1 div.sk-item::before, #sk-container-id-1 div.sk-parallel-item::before {content: \"\";position: absolute;border-left: 1px solid gray;box-sizing: border-box;top: 0;bottom: 0;left: 50%;z-index: -1;}#sk-container-id-1 div.sk-parallel-item {display: flex;flex-direction: column;z-index: 1;position: relative;background-color: white;}#sk-container-id-1 div.sk-parallel-item:first-child::after {align-self: flex-end;width: 50%;}#sk-container-id-1 div.sk-parallel-item:last-child::after {align-self: flex-start;width: 50%;}#sk-container-id-1 div.sk-parallel-item:only-child::after {width: 0;}#sk-container-id-1 div.sk-dashed-wrapped {border: 1px dashed gray;margin: 0 0.4em 0.5em 0.4em;box-sizing: border-box;padding-bottom: 0.4em;background-color: white;}#sk-container-id-1 div.sk-label label {font-family: monospace;font-weight: bold;display: inline-block;line-height: 1.2em;}#sk-container-id-1 div.sk-label-container {text-align: center;}#sk-container-id-1 div.sk-container {/* jupyter's `normalize.less` sets `[hidden] { display: none; }` but bootstrap.min.css set `[hidden] { display: none !important; }` so we also need the `!important` here to be able to override the default hidden behavior on the sphinx rendered scikit-learn.org. See: https://github.com/scikit-learn/scikit-learn/issues/21755 */display: inline-block !important;position: relative;}#sk-container-id-1 div.sk-text-repr-fallback {display: none;}</style><div id=\"sk-container-id-1\" class=\"sk-top-container\"><div class=\"sk-text-repr-fallback\"><pre>VarianceThreshold(threshold=0)</pre><b>In a Jupyter environment, please rerun this cell to show the HTML representation or trust the notebook. <br />On GitHub, the HTML representation is unable to render, please try loading this page with nbviewer.org.</b></div><div class=\"sk-container\" hidden><div class=\"sk-item\"><div class=\"sk-estimator sk-toggleable\"><input class=\"sk-toggleable__control sk-hidden--visually\" id=\"sk-estimator-id-1\" type=\"checkbox\" checked><label for=\"sk-estimator-id-1\" class=\"sk-toggleable__label sk-toggleable__label-arrow\">VarianceThreshold</label><div class=\"sk-toggleable__content\"><pre>VarianceThreshold(threshold=0)</pre></div></div></div></div></div>"
            ]
          },
          "metadata": {},
          "execution_count": 36
        }
      ]
    },
    {
      "cell_type": "code",
      "source": [
        "# Visualizar que columnas van a ser eliminadas de forma booleana\n",
        "\n",
        "var_thres.get_support()"
      ],
      "metadata": {
        "id": "l8sChUMV_Q0h",
        "colab": {
          "base_uri": "https://localhost:8080/"
        },
        "outputId": "ab9f06f9-6bc5-40e0-87af-9c5290aca171"
      },
      "execution_count": null,
      "outputs": [
        {
          "output_type": "execute_result",
          "data": {
            "text/plain": [
              "array([ True,  True,  True,  True,  True,  True,  True,  True,  True,\n",
              "        True,  True,  True,  True,  True,  True,  True,  True,  True,\n",
              "        True,  True,  True,  True, False, False,  True,  True,  True,\n",
              "        True,  True,  True,  True,  True,  True,  True,  True,  True,\n",
              "        True, False, False,  True,  True,  True,  True,  True, False,\n",
              "       False,  True,  True,  True,  True,  True,  True,  True,  True,\n",
              "        True,  True,  True, False, False, False, False,  True,  True,\n",
              "        True,  True,  True,  True,  True,  True,  True,  True,  True,\n",
              "       False, False,  True,  True,  True,  True,  True,  True,  True,\n",
              "       False,  True,  True,  True, False, False,  True,  True,  True,\n",
              "        True,  True,  True,  True,  True,  True,  True,  True,  True,\n",
              "        True,  True,  True,  True, False, False,  True,  True,  True,\n",
              "        True,  True, False, False,  True,  True,  True,  True,  True,\n",
              "        True,  True,  True,  True,  True,  True,  True,  True,  True,\n",
              "        True,  True,  True,  True,  True,  True, False, False, False,\n",
              "       False,  True,  True,  True,  True,  True,  True,  True,  True,\n",
              "        True,  True, False, False,  True,  True,  True,  True,  True,\n",
              "        True,  True,  True, False,  True,  True,  True,  True,  True,\n",
              "       False, False,  True,  True,  True,  True,  True,  True,  True,\n",
              "       False,  True,  True,  True, False,  True,  True,  True,  True,\n",
              "       False, False,  True,  True,  True,  True,  True, False,  True,\n",
              "        True, False,  True,  True, False,  True, False, False,  True,\n",
              "        True,  True,  True,  True, False, False,  True, False,  True,\n",
              "       False,  True,  True,  True,  True,  True,  True, False, False,\n",
              "        True, False,  True, False,  True, False, False, False, False,\n",
              "        True,  True,  True,  True,  True,  True, False,  True,  True,\n",
              "        True, False,  True, False, False, False, False,  True,  True,\n",
              "       False,  True, False, False, False,  True, False, False, False,\n",
              "        True, False,  True,  True,  True,  True,  True,  True,  True,\n",
              "        True, False, False,  True,  True,  True,  True,  True,  True,\n",
              "       False,  True,  True,  True,  True,  True,  True,  True,  True,\n",
              "        True,  True,  True,  True,  True,  True,  True, False,  True,\n",
              "        True,  True,  True,  True,  True,  True,  True,  True,  True,\n",
              "        True,  True,  True,  True,  True,  True,  True, False,  True,\n",
              "       False, False, False, False,  True,  True,  True,  True, False,\n",
              "        True, False, False, False,  True, False, False, False,  True,\n",
              "        True,  True,  True,  True, False,  True,  True,  True,  True,\n",
              "        True,  True,  True,  True,  True,  True,  True,  True,  True,\n",
              "        True,  True,  True,  True,  True,  True,  True, False, False,\n",
              "       False, False,  True,  True,  True,  True,  True, False,  True,\n",
              "        True,  True,  True,  True,  True,  True,  True,  True,  True,\n",
              "        True])"
            ]
          },
          "metadata": {},
          "execution_count": 38
        }
      ]
    },
    {
      "cell_type": "code",
      "source": [
        "### Finding non constant features\n",
        "sum(var_thres.get_support())"
      ],
      "metadata": {
        "id": "T3oZXaWc_U15",
        "colab": {
          "base_uri": "https://localhost:8080/"
        },
        "outputId": "f150f376-bfcd-43d2-9f2a-740247c7e991"
      },
      "execution_count": null,
      "outputs": [
        {
          "output_type": "execute_result",
          "data": {
            "text/plain": [
              "285"
            ]
          },
          "metadata": {},
          "execution_count": 34
        }
      ]
    },
    {
      "cell_type": "code",
      "source": [
        "# Lets Find non-constant features\n",
        "len(X.columns[var_thres.get_support()])"
      ],
      "metadata": {
        "id": "KYUwZdf3_Yba",
        "colab": {
          "base_uri": "https://localhost:8080/"
        },
        "outputId": "346626cb-c6e0-44d3-83d3-7d65c4c9ada0"
      },
      "execution_count": null,
      "outputs": [
        {
          "output_type": "execute_result",
          "data": {
            "text/plain": [
              "285"
            ]
          },
          "metadata": {},
          "execution_count": 35
        }
      ]
    },
    {
      "cell_type": "code",
      "source": [
        "# Guardar en una lista las columnas constantes\n",
        "\n",
        "constant_columns =\n",
        "\n",
        "print(len(constant_columns))"
      ],
      "metadata": {
        "id": "c-1ClWsu_tNa"
      },
      "execution_count": null,
      "outputs": []
    },
    {
      "cell_type": "code",
      "source": [
        "for column in constant_columns:\n",
        "    print(column)"
      ],
      "metadata": {
        "id": "4w4lg3p3_01Z"
      },
      "execution_count": null,
      "outputs": []
    },
    {
      "cell_type": "code",
      "source": [
        "X.drop(constant_columns,axis=1)"
      ],
      "metadata": {
        "id": "gtFQ08-m_4Qy"
      },
      "execution_count": null,
      "outputs": []
    },
    {
      "cell_type": "markdown",
      "source": [
        "# Parkinsson Dataset"
      ],
      "metadata": {
        "id": "d3fgM697-Z_-"
      }
    },
    {
      "cell_type": "code",
      "source": [
        "# Hacer Un estudio de varios clasificadores y ver como afecta el cambio de threshold a su comportamiento\n",
        "# Grid-Search\n",
        "\n",
        "import pandas as pd\n",
        "\n",
        "from sklearn import svm\n",
        "from sklearn.linear_model import LogisticRegression\n",
        "from sklearn.ensemble import RandomForestClassifier, AdaBoostClassifier\n",
        "from sklearn.tree import DecisionTreeClassifier\n",
        "import xgboost as xgb\n",
        "from sklearn.neighbors import KNeighborsClassifier\n",
        "from sklearn.ensemble import GradientBoostingClassifier\n",
        "from sklearn import metrics\n",
        "from sklearn.metrics import accuracy_score\n",
        "from sklearn.model_selection import KFold, cross_val_score\n",
        "from sklearn.model_selection import train_test_split\n",
        "from sklearn.feature_selection import VarianceThreshold\n",
        "\n",
        "classifiers = [] # Lista de strings con el nombre del clasificador\n",
        "\n",
        "\n",
        "models = [] # Lista con la implementación del modelo\n",
        "\n",
        "def variance_threshold(df,th):\n",
        "    # Realizar el ajuste de Variance y devolver un nuevo dataframe sólo con las columnas True, NO hace falta bucle for\n"
      ],
      "metadata": {
        "id": "iiYnY0Ja5fbK"
      },
      "execution_count": null,
      "outputs": []
    },
    {
      "cell_type": "code",
      "source": [
        "def split(df,label):\n",
        "    X_tr, X_te, Y_tr, Y_te = train_test_split(df, label, test_size=0.25, random_state=42)\n",
        "    return X_tr, X_te, Y_tr, Y_te\n",
        "\n",
        "def acc_score_thr(df,label,thr_list):\n",
        "    Score = pd.DataFrame({\"Classifier\":classifiers})\n",
        "    for k in range(len(thr_list)):\n",
        "        df2 = # Aplicar el variance_threshold al threshold correspondiente\n",
        "        X_train,X_test,Y_train,Y_test = split(df2,label)\n",
        "        j = 0\n",
        "        acc = []\n",
        "        # Realizar el bucle for de entrenamiento y predicción\n",
        "        for i in models:\n",
        "            # ENTRENAMIENTO\n",
        "\n",
        "\n",
        "            j = j+1\n",
        "        feat = str(thr_list[k])\n",
        "        Score[feat] = acc\n",
        "    return Score"
      ],
      "metadata": {
        "id": "A7CCmrRR49gz"
      },
      "execution_count": null,
      "outputs": []
    },
    {
      "cell_type": "code",
      "source": [
        "# Leer Parkinsson disease dataser\n",
        "\n",
        "data_pd =\n",
        "label_pd = data_pd[\"status\"]\n",
        "data_pd.drop([\"status\",\"name\"], axis = 1, inplace = True)"
      ],
      "metadata": {
        "id": "g9RQ3PDS6F4y"
      },
      "execution_count": null,
      "outputs": []
    },
    {
      "cell_type": "code",
      "source": [
        "data_pd.head()"
      ],
      "metadata": {
        "id": "6neP5an--GBx"
      },
      "execution_count": null,
      "outputs": []
    },
    {
      "cell_type": "code",
      "source": [
        "print(label_pd)"
      ],
      "metadata": {
        "id": "hA2XpOwd6NWR"
      },
      "execution_count": null,
      "outputs": []
    },
    {
      "cell_type": "code",
      "source": [
        "threshold_pd = [0.05, 0.01, 0.005, 0.001, 0.0005, 0.0001]\n",
        "score_pd = acc_score_thr(data_pd,label_pd,threshold_pd)\n",
        "print(score_pd)"
      ],
      "metadata": {
        "id": "HIvkoAaw6Pap"
      },
      "execution_count": null,
      "outputs": []
    }
  ]
}