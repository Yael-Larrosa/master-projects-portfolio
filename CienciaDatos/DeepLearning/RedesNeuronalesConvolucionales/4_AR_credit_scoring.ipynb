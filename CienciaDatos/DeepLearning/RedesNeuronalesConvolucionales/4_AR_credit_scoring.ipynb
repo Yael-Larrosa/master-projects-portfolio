{
  "nbformat": 4,
  "nbformat_minor": 0,
  "metadata": {
    "anaconda-cloud": {},
    "colab": {
      "provenance": []
    },
    "kernelspec": {
      "display_name": "Python 3",
      "language": "python",
      "name": "python3"
    },
    "language_info": {
      "codemirror_mode": {
        "name": "ipython",
        "version": 3
      },
      "file_extension": ".py",
      "mimetype": "text/x-python",
      "name": "python",
      "nbconvert_exporter": "python",
      "pygments_lexer": "ipython3",
      "version": "3.5.6"
    }
  },
  "cells": [
    {
      "cell_type": "markdown",
      "source": [
        "<font color=\"#CA3532\"><h1 align=\"left\">**Aprendizaje por Refuerzo**</h1></font>\n",
        "<font color=\"#6E6E6E\"><h2 align=\"left\">**Multiarmed Bandits Contextuales**</h2></font>"
      ],
      "metadata": {
        "id": "bx85PgN8OyhG"
      }
    },
    {
      "cell_type": "markdown",
      "metadata": {
        "id": "DcnnkNilDuKf"
      },
      "source": [
        "# **Multiarmed bandits para Credit Scoring**"
      ]
    },
    {
      "cell_type": "markdown",
      "source": [
        "El objetivo es construir un sistema automático de aprendizaje por refuerzo para gestionar un sistema de concesión de créditos.\n",
        "La idea es que cuando un cliente contacte con el banco para solicitar un crédito, el sistema se lo conceda (acción 1) o no (acción 0).\n",
        "Por tanto el sistema de aprendizaje por refuerzo tiene **dos posibles acciones**.\n",
        "\n",
        "Por otra parte, el reward obtenido es:\n",
        "\n",
        "- 0 si el sistema decide no ofrecerle el crédito al cliente\n",
        "- 1 si se le ofrece el crédito y **lo paga**\n",
        "- -10 si se le ofrece crédito y **no lo paga**\n",
        "\n",
        "Para construir el sistema disponemos del siguiente dataset: https://drive.google.com/file/d/1TdTDAjndt5sn_7HKwc1PifcaQTRNHzkR/view?usp=sharing\n",
        "\n",
        "\n",
        "A continuación se descarga y muestra:"
      ],
      "metadata": {
        "id": "Jxi-eOnaQbH4"
      }
    },
    {
      "cell_type": "code",
      "source": [
        "COLAB = True"
      ],
      "metadata": {
        "id": "0WToo6YOOo-y"
      },
      "execution_count": null,
      "outputs": []
    },
    {
      "cell_type": "code",
      "metadata": {
        "id": "CxwJKtc-ISnD"
      },
      "source": [
        "import pandas as pd\n",
        "pd.options.display.max_colwidth = 200\n",
        "\n",
        "# Descargamos dataset:\n",
        "aux = \"'https://docs.google.com/uc?export=download&id=1000WA5q8DTZ68uoPaXddJ1TLJPBsIZpr&confirm=t'\"\n",
        "!wget -q $aux -O ./cs.csv\n",
        "aux = \"'https://docs.google.com/uc?export=download&id=11SdrmYpGwW7xC6Nooe6aRBkORBnirrkm&confirm=t'\"\n",
        "!wget -q $aux -O ./DataDictionary.csv"
      ],
      "execution_count": null,
      "outputs": []
    },
    {
      "cell_type": "markdown",
      "source": [
        "**Información sobre cada variable:**"
      ],
      "metadata": {
        "id": "sI1C0-YeXP4x"
      }
    },
    {
      "cell_type": "code",
      "source": [
        "info_variables = pd.read_csv(\"DataDictionary.csv\", sep=\";\").set_index(\"Variable Name\")\n",
        "info_variables"
      ],
      "metadata": {
        "id": "oVgn7OxIWCgI",
        "colab": {
          "base_uri": "https://localhost:8080/",
          "height": 539
        },
        "outputId": "31618328-247e-4da2-8b22-f4b845100e46"
      },
      "execution_count": null,
      "outputs": [
        {
          "output_type": "execute_result",
          "data": {
            "text/plain": [
              "                                      Unnamed: 0  \\\n",
              "Variable Name                                      \n",
              "SeriousDlqin2yrs                               0   \n",
              "RevolvingUtilizationOfUnsecuredLines           1   \n",
              "age                                            2   \n",
              "NumberOfTime30-59DaysPastDueNotWorse           3   \n",
              "DebtRatio                                      4   \n",
              "MonthlyIncome                                  5   \n",
              "NumberOfOpenCreditLinesAndLoans                6   \n",
              "NumberOfTimes90DaysLate                        7   \n",
              "NumberRealEstateLoansOrLines                   8   \n",
              "NumberOfTime60-89DaysPastDueNotWorse           9   \n",
              "NumberOfDependents                            10   \n",
              "\n",
              "                                                                                                                                                                                   Description  \\\n",
              "Variable Name                                                                                                                                                                                    \n",
              "SeriousDlqin2yrs                                                                                                                     Person experienced 90 days past due delinquency or worse    \n",
              "RevolvingUtilizationOfUnsecuredLines  Total balance on credit cards and personal lines of credit except real estate and no installment debt like car loans divided by the sum of credit limits   \n",
              "age                                                                                                                                                                   Age of borrower in years   \n",
              "NumberOfTime30-59DaysPastDueNotWorse                                                                   Number of times borrower has been 30-59 days past due but no worse in the last 2 years.   \n",
              "DebtRatio                                                                                                           Monthly debt payments, alimony,living costs divided by monthy gross income   \n",
              "MonthlyIncome                                                                                                                                                                   Monthly income   \n",
              "NumberOfOpenCreditLinesAndLoans                                                           Number of Open loans (installment like car loan or mortgage) and Lines of credit (e.g. credit cards)   \n",
              "NumberOfTimes90DaysLate                                                                                                            Number of times borrower has been 90 days or more past due.   \n",
              "NumberRealEstateLoansOrLines                                                                                    Number of mortgage and real estate loans including home equity lines of credit   \n",
              "NumberOfTime60-89DaysPastDueNotWorse                                                                   Number of times borrower has been 60-89 days past due but no worse in the last 2 years.   \n",
              "NumberOfDependents                                                                                                 Number of dependents in family excluding themselves (spouse, children etc.)   \n",
              "\n",
              "                                            Type  \n",
              "Variable Name                                     \n",
              "SeriousDlqin2yrs                             Y/N  \n",
              "RevolvingUtilizationOfUnsecuredLines  percentage  \n",
              "age                                      integer  \n",
              "NumberOfTime30-59DaysPastDueNotWorse     integer  \n",
              "DebtRatio                             percentage  \n",
              "MonthlyIncome                               real  \n",
              "NumberOfOpenCreditLinesAndLoans          integer  \n",
              "NumberOfTimes90DaysLate                  integer  \n",
              "NumberRealEstateLoansOrLines             integer  \n",
              "NumberOfTime60-89DaysPastDueNotWorse     integer  \n",
              "NumberOfDependents                       integer  "
            ],
            "text/html": [
              "\n",
              "  <div id=\"df-0fac5818-0ec4-4899-9a45-5ebcc011c072\">\n",
              "    <div class=\"colab-df-container\">\n",
              "      <div>\n",
              "<style scoped>\n",
              "    .dataframe tbody tr th:only-of-type {\n",
              "        vertical-align: middle;\n",
              "    }\n",
              "\n",
              "    .dataframe tbody tr th {\n",
              "        vertical-align: top;\n",
              "    }\n",
              "\n",
              "    .dataframe thead th {\n",
              "        text-align: right;\n",
              "    }\n",
              "</style>\n",
              "<table border=\"1\" class=\"dataframe\">\n",
              "  <thead>\n",
              "    <tr style=\"text-align: right;\">\n",
              "      <th></th>\n",
              "      <th>Unnamed: 0</th>\n",
              "      <th>Description</th>\n",
              "      <th>Type</th>\n",
              "    </tr>\n",
              "    <tr>\n",
              "      <th>Variable Name</th>\n",
              "      <th></th>\n",
              "      <th></th>\n",
              "      <th></th>\n",
              "    </tr>\n",
              "  </thead>\n",
              "  <tbody>\n",
              "    <tr>\n",
              "      <th>SeriousDlqin2yrs</th>\n",
              "      <td>0</td>\n",
              "      <td>Person experienced 90 days past due delinquency or worse</td>\n",
              "      <td>Y/N</td>\n",
              "    </tr>\n",
              "    <tr>\n",
              "      <th>RevolvingUtilizationOfUnsecuredLines</th>\n",
              "      <td>1</td>\n",
              "      <td>Total balance on credit cards and personal lines of credit except real estate and no installment debt like car loans divided by the sum of credit limits</td>\n",
              "      <td>percentage</td>\n",
              "    </tr>\n",
              "    <tr>\n",
              "      <th>age</th>\n",
              "      <td>2</td>\n",
              "      <td>Age of borrower in years</td>\n",
              "      <td>integer</td>\n",
              "    </tr>\n",
              "    <tr>\n",
              "      <th>NumberOfTime30-59DaysPastDueNotWorse</th>\n",
              "      <td>3</td>\n",
              "      <td>Number of times borrower has been 30-59 days past due but no worse in the last 2 years.</td>\n",
              "      <td>integer</td>\n",
              "    </tr>\n",
              "    <tr>\n",
              "      <th>DebtRatio</th>\n",
              "      <td>4</td>\n",
              "      <td>Monthly debt payments, alimony,living costs divided by monthy gross income</td>\n",
              "      <td>percentage</td>\n",
              "    </tr>\n",
              "    <tr>\n",
              "      <th>MonthlyIncome</th>\n",
              "      <td>5</td>\n",
              "      <td>Monthly income</td>\n",
              "      <td>real</td>\n",
              "    </tr>\n",
              "    <tr>\n",
              "      <th>NumberOfOpenCreditLinesAndLoans</th>\n",
              "      <td>6</td>\n",
              "      <td>Number of Open loans (installment like car loan or mortgage) and Lines of credit (e.g. credit cards)</td>\n",
              "      <td>integer</td>\n",
              "    </tr>\n",
              "    <tr>\n",
              "      <th>NumberOfTimes90DaysLate</th>\n",
              "      <td>7</td>\n",
              "      <td>Number of times borrower has been 90 days or more past due.</td>\n",
              "      <td>integer</td>\n",
              "    </tr>\n",
              "    <tr>\n",
              "      <th>NumberRealEstateLoansOrLines</th>\n",
              "      <td>8</td>\n",
              "      <td>Number of mortgage and real estate loans including home equity lines of credit</td>\n",
              "      <td>integer</td>\n",
              "    </tr>\n",
              "    <tr>\n",
              "      <th>NumberOfTime60-89DaysPastDueNotWorse</th>\n",
              "      <td>9</td>\n",
              "      <td>Number of times borrower has been 60-89 days past due but no worse in the last 2 years.</td>\n",
              "      <td>integer</td>\n",
              "    </tr>\n",
              "    <tr>\n",
              "      <th>NumberOfDependents</th>\n",
              "      <td>10</td>\n",
              "      <td>Number of dependents in family excluding themselves (spouse, children etc.)</td>\n",
              "      <td>integer</td>\n",
              "    </tr>\n",
              "  </tbody>\n",
              "</table>\n",
              "</div>\n",
              "      <button class=\"colab-df-convert\" onclick=\"convertToInteractive('df-0fac5818-0ec4-4899-9a45-5ebcc011c072')\"\n",
              "              title=\"Convert this dataframe to an interactive table.\"\n",
              "              style=\"display:none;\">\n",
              "        \n",
              "  <svg xmlns=\"http://www.w3.org/2000/svg\" height=\"24px\"viewBox=\"0 0 24 24\"\n",
              "       width=\"24px\">\n",
              "    <path d=\"M0 0h24v24H0V0z\" fill=\"none\"/>\n",
              "    <path d=\"M18.56 5.44l.94 2.06.94-2.06 2.06-.94-2.06-.94-.94-2.06-.94 2.06-2.06.94zm-11 1L8.5 8.5l.94-2.06 2.06-.94-2.06-.94L8.5 2.5l-.94 2.06-2.06.94zm10 10l.94 2.06.94-2.06 2.06-.94-2.06-.94-.94-2.06-.94 2.06-2.06.94z\"/><path d=\"M17.41 7.96l-1.37-1.37c-.4-.4-.92-.59-1.43-.59-.52 0-1.04.2-1.43.59L10.3 9.45l-7.72 7.72c-.78.78-.78 2.05 0 2.83L4 21.41c.39.39.9.59 1.41.59.51 0 1.02-.2 1.41-.59l7.78-7.78 2.81-2.81c.8-.78.8-2.07 0-2.86zM5.41 20L4 18.59l7.72-7.72 1.47 1.35L5.41 20z\"/>\n",
              "  </svg>\n",
              "      </button>\n",
              "      \n",
              "  <style>\n",
              "    .colab-df-container {\n",
              "      display:flex;\n",
              "      flex-wrap:wrap;\n",
              "      gap: 12px;\n",
              "    }\n",
              "\n",
              "    .colab-df-convert {\n",
              "      background-color: #E8F0FE;\n",
              "      border: none;\n",
              "      border-radius: 50%;\n",
              "      cursor: pointer;\n",
              "      display: none;\n",
              "      fill: #1967D2;\n",
              "      height: 32px;\n",
              "      padding: 0 0 0 0;\n",
              "      width: 32px;\n",
              "    }\n",
              "\n",
              "    .colab-df-convert:hover {\n",
              "      background-color: #E2EBFA;\n",
              "      box-shadow: 0px 1px 2px rgba(60, 64, 67, 0.3), 0px 1px 3px 1px rgba(60, 64, 67, 0.15);\n",
              "      fill: #174EA6;\n",
              "    }\n",
              "\n",
              "    [theme=dark] .colab-df-convert {\n",
              "      background-color: #3B4455;\n",
              "      fill: #D2E3FC;\n",
              "    }\n",
              "\n",
              "    [theme=dark] .colab-df-convert:hover {\n",
              "      background-color: #434B5C;\n",
              "      box-shadow: 0px 1px 3px 1px rgba(0, 0, 0, 0.15);\n",
              "      filter: drop-shadow(0px 1px 2px rgba(0, 0, 0, 0.3));\n",
              "      fill: #FFFFFF;\n",
              "    }\n",
              "  </style>\n",
              "\n",
              "      <script>\n",
              "        const buttonEl =\n",
              "          document.querySelector('#df-0fac5818-0ec4-4899-9a45-5ebcc011c072 button.colab-df-convert');\n",
              "        buttonEl.style.display =\n",
              "          google.colab.kernel.accessAllowed ? 'block' : 'none';\n",
              "\n",
              "        async function convertToInteractive(key) {\n",
              "          const element = document.querySelector('#df-0fac5818-0ec4-4899-9a45-5ebcc011c072');\n",
              "          const dataTable =\n",
              "            await google.colab.kernel.invokeFunction('convertToInteractive',\n",
              "                                                     [key], {});\n",
              "          if (!dataTable) return;\n",
              "\n",
              "          const docLinkHtml = 'Like what you see? Visit the ' +\n",
              "            '<a target=\"_blank\" href=https://colab.research.google.com/notebooks/data_table.ipynb>data table notebook</a>'\n",
              "            + ' to learn more about interactive tables.';\n",
              "          element.innerHTML = '';\n",
              "          dataTable['output_type'] = 'display_data';\n",
              "          await google.colab.output.renderOutput(dataTable, element);\n",
              "          const docLink = document.createElement('div');\n",
              "          docLink.innerHTML = docLinkHtml;\n",
              "          element.appendChild(docLink);\n",
              "        }\n",
              "      </script>\n",
              "    </div>\n",
              "  </div>\n",
              "  "
            ]
          },
          "metadata": {},
          "execution_count": 46
        }
      ]
    },
    {
      "cell_type": "markdown",
      "source": [
        "**Base de datos:**"
      ],
      "metadata": {
        "id": "8XNI9JMBXNZw"
      }
    },
    {
      "cell_type": "code",
      "source": [
        "df = pd.read_csv(\"./cs.csv\")\n",
        "df.head(10)"
      ],
      "metadata": {
        "id": "itMi5ivXVPgn",
        "colab": {
          "base_uri": "https://localhost:8080/",
          "height": 444
        },
        "outputId": "4c02024c-f1f0-4d41-a4cb-618aa353b22f"
      },
      "execution_count": null,
      "outputs": [
        {
          "output_type": "execute_result",
          "data": {
            "text/plain": [
              "   SeriousDlqin2yrs  RevolvingUtilizationOfUnsecuredLines  age  \\\n",
              "0                 1                              0.766127   45   \n",
              "1                 0                              0.957151   40   \n",
              "2                 0                              0.658180   38   \n",
              "3                 0                              0.233810   30   \n",
              "4                 0                              0.907239   49   \n",
              "5                 0                              0.213179   74   \n",
              "6                 0                              0.305682   57   \n",
              "7                 0                              0.754464   39   \n",
              "8                 0                              0.116951   27   \n",
              "9                 0                              0.189169   57   \n",
              "\n",
              "   NumberOfTime30-59DaysPastDueNotWorse    DebtRatio  MonthlyIncome  \\\n",
              "0                                     2     0.802982         9120.0   \n",
              "1                                     0     0.121876         2600.0   \n",
              "2                                     1     0.085113         3042.0   \n",
              "3                                     0     0.036050         3300.0   \n",
              "4                                     1     0.024926        63588.0   \n",
              "5                                     0     0.375607         3500.0   \n",
              "6                                     0  5710.000000            NaN   \n",
              "7                                     0     0.209940         3500.0   \n",
              "8                                     0    46.000000            NaN   \n",
              "9                                     0     0.606291        23684.0   \n",
              "\n",
              "   NumberOfOpenCreditLinesAndLoans  NumberOfTimes90DaysLate  \\\n",
              "0                               13                        0   \n",
              "1                                4                        0   \n",
              "2                                2                        1   \n",
              "3                                5                        0   \n",
              "4                                7                        0   \n",
              "5                                3                        0   \n",
              "6                                8                        0   \n",
              "7                                8                        0   \n",
              "8                                2                        0   \n",
              "9                                9                        0   \n",
              "\n",
              "   NumberRealEstateLoansOrLines  NumberOfTime60-89DaysPastDueNotWorse  \\\n",
              "0                             6                                     0   \n",
              "1                             0                                     0   \n",
              "2                             0                                     0   \n",
              "3                             0                                     0   \n",
              "4                             1                                     0   \n",
              "5                             1                                     0   \n",
              "6                             3                                     0   \n",
              "7                             0                                     0   \n",
              "8                             0                                     0   \n",
              "9                             4                                     0   \n",
              "\n",
              "   NumberOfDependents  \n",
              "0                 2.0  \n",
              "1                 1.0  \n",
              "2                 0.0  \n",
              "3                 0.0  \n",
              "4                 0.0  \n",
              "5                 1.0  \n",
              "6                 0.0  \n",
              "7                 0.0  \n",
              "8                 NaN  \n",
              "9                 2.0  "
            ],
            "text/html": [
              "\n",
              "  <div id=\"df-ec32a980-1da8-46e2-aa90-f4d9ec15b4f0\">\n",
              "    <div class=\"colab-df-container\">\n",
              "      <div>\n",
              "<style scoped>\n",
              "    .dataframe tbody tr th:only-of-type {\n",
              "        vertical-align: middle;\n",
              "    }\n",
              "\n",
              "    .dataframe tbody tr th {\n",
              "        vertical-align: top;\n",
              "    }\n",
              "\n",
              "    .dataframe thead th {\n",
              "        text-align: right;\n",
              "    }\n",
              "</style>\n",
              "<table border=\"1\" class=\"dataframe\">\n",
              "  <thead>\n",
              "    <tr style=\"text-align: right;\">\n",
              "      <th></th>\n",
              "      <th>SeriousDlqin2yrs</th>\n",
              "      <th>RevolvingUtilizationOfUnsecuredLines</th>\n",
              "      <th>age</th>\n",
              "      <th>NumberOfTime30-59DaysPastDueNotWorse</th>\n",
              "      <th>DebtRatio</th>\n",
              "      <th>MonthlyIncome</th>\n",
              "      <th>NumberOfOpenCreditLinesAndLoans</th>\n",
              "      <th>NumberOfTimes90DaysLate</th>\n",
              "      <th>NumberRealEstateLoansOrLines</th>\n",
              "      <th>NumberOfTime60-89DaysPastDueNotWorse</th>\n",
              "      <th>NumberOfDependents</th>\n",
              "    </tr>\n",
              "  </thead>\n",
              "  <tbody>\n",
              "    <tr>\n",
              "      <th>0</th>\n",
              "      <td>1</td>\n",
              "      <td>0.766127</td>\n",
              "      <td>45</td>\n",
              "      <td>2</td>\n",
              "      <td>0.802982</td>\n",
              "      <td>9120.0</td>\n",
              "      <td>13</td>\n",
              "      <td>0</td>\n",
              "      <td>6</td>\n",
              "      <td>0</td>\n",
              "      <td>2.0</td>\n",
              "    </tr>\n",
              "    <tr>\n",
              "      <th>1</th>\n",
              "      <td>0</td>\n",
              "      <td>0.957151</td>\n",
              "      <td>40</td>\n",
              "      <td>0</td>\n",
              "      <td>0.121876</td>\n",
              "      <td>2600.0</td>\n",
              "      <td>4</td>\n",
              "      <td>0</td>\n",
              "      <td>0</td>\n",
              "      <td>0</td>\n",
              "      <td>1.0</td>\n",
              "    </tr>\n",
              "    <tr>\n",
              "      <th>2</th>\n",
              "      <td>0</td>\n",
              "      <td>0.658180</td>\n",
              "      <td>38</td>\n",
              "      <td>1</td>\n",
              "      <td>0.085113</td>\n",
              "      <td>3042.0</td>\n",
              "      <td>2</td>\n",
              "      <td>1</td>\n",
              "      <td>0</td>\n",
              "      <td>0</td>\n",
              "      <td>0.0</td>\n",
              "    </tr>\n",
              "    <tr>\n",
              "      <th>3</th>\n",
              "      <td>0</td>\n",
              "      <td>0.233810</td>\n",
              "      <td>30</td>\n",
              "      <td>0</td>\n",
              "      <td>0.036050</td>\n",
              "      <td>3300.0</td>\n",
              "      <td>5</td>\n",
              "      <td>0</td>\n",
              "      <td>0</td>\n",
              "      <td>0</td>\n",
              "      <td>0.0</td>\n",
              "    </tr>\n",
              "    <tr>\n",
              "      <th>4</th>\n",
              "      <td>0</td>\n",
              "      <td>0.907239</td>\n",
              "      <td>49</td>\n",
              "      <td>1</td>\n",
              "      <td>0.024926</td>\n",
              "      <td>63588.0</td>\n",
              "      <td>7</td>\n",
              "      <td>0</td>\n",
              "      <td>1</td>\n",
              "      <td>0</td>\n",
              "      <td>0.0</td>\n",
              "    </tr>\n",
              "    <tr>\n",
              "      <th>5</th>\n",
              "      <td>0</td>\n",
              "      <td>0.213179</td>\n",
              "      <td>74</td>\n",
              "      <td>0</td>\n",
              "      <td>0.375607</td>\n",
              "      <td>3500.0</td>\n",
              "      <td>3</td>\n",
              "      <td>0</td>\n",
              "      <td>1</td>\n",
              "      <td>0</td>\n",
              "      <td>1.0</td>\n",
              "    </tr>\n",
              "    <tr>\n",
              "      <th>6</th>\n",
              "      <td>0</td>\n",
              "      <td>0.305682</td>\n",
              "      <td>57</td>\n",
              "      <td>0</td>\n",
              "      <td>5710.000000</td>\n",
              "      <td>NaN</td>\n",
              "      <td>8</td>\n",
              "      <td>0</td>\n",
              "      <td>3</td>\n",
              "      <td>0</td>\n",
              "      <td>0.0</td>\n",
              "    </tr>\n",
              "    <tr>\n",
              "      <th>7</th>\n",
              "      <td>0</td>\n",
              "      <td>0.754464</td>\n",
              "      <td>39</td>\n",
              "      <td>0</td>\n",
              "      <td>0.209940</td>\n",
              "      <td>3500.0</td>\n",
              "      <td>8</td>\n",
              "      <td>0</td>\n",
              "      <td>0</td>\n",
              "      <td>0</td>\n",
              "      <td>0.0</td>\n",
              "    </tr>\n",
              "    <tr>\n",
              "      <th>8</th>\n",
              "      <td>0</td>\n",
              "      <td>0.116951</td>\n",
              "      <td>27</td>\n",
              "      <td>0</td>\n",
              "      <td>46.000000</td>\n",
              "      <td>NaN</td>\n",
              "      <td>2</td>\n",
              "      <td>0</td>\n",
              "      <td>0</td>\n",
              "      <td>0</td>\n",
              "      <td>NaN</td>\n",
              "    </tr>\n",
              "    <tr>\n",
              "      <th>9</th>\n",
              "      <td>0</td>\n",
              "      <td>0.189169</td>\n",
              "      <td>57</td>\n",
              "      <td>0</td>\n",
              "      <td>0.606291</td>\n",
              "      <td>23684.0</td>\n",
              "      <td>9</td>\n",
              "      <td>0</td>\n",
              "      <td>4</td>\n",
              "      <td>0</td>\n",
              "      <td>2.0</td>\n",
              "    </tr>\n",
              "  </tbody>\n",
              "</table>\n",
              "</div>\n",
              "      <button class=\"colab-df-convert\" onclick=\"convertToInteractive('df-ec32a980-1da8-46e2-aa90-f4d9ec15b4f0')\"\n",
              "              title=\"Convert this dataframe to an interactive table.\"\n",
              "              style=\"display:none;\">\n",
              "        \n",
              "  <svg xmlns=\"http://www.w3.org/2000/svg\" height=\"24px\"viewBox=\"0 0 24 24\"\n",
              "       width=\"24px\">\n",
              "    <path d=\"M0 0h24v24H0V0z\" fill=\"none\"/>\n",
              "    <path d=\"M18.56 5.44l.94 2.06.94-2.06 2.06-.94-2.06-.94-.94-2.06-.94 2.06-2.06.94zm-11 1L8.5 8.5l.94-2.06 2.06-.94-2.06-.94L8.5 2.5l-.94 2.06-2.06.94zm10 10l.94 2.06.94-2.06 2.06-.94-2.06-.94-.94-2.06-.94 2.06-2.06.94z\"/><path d=\"M17.41 7.96l-1.37-1.37c-.4-.4-.92-.59-1.43-.59-.52 0-1.04.2-1.43.59L10.3 9.45l-7.72 7.72c-.78.78-.78 2.05 0 2.83L4 21.41c.39.39.9.59 1.41.59.51 0 1.02-.2 1.41-.59l7.78-7.78 2.81-2.81c.8-.78.8-2.07 0-2.86zM5.41 20L4 18.59l7.72-7.72 1.47 1.35L5.41 20z\"/>\n",
              "  </svg>\n",
              "      </button>\n",
              "      \n",
              "  <style>\n",
              "    .colab-df-container {\n",
              "      display:flex;\n",
              "      flex-wrap:wrap;\n",
              "      gap: 12px;\n",
              "    }\n",
              "\n",
              "    .colab-df-convert {\n",
              "      background-color: #E8F0FE;\n",
              "      border: none;\n",
              "      border-radius: 50%;\n",
              "      cursor: pointer;\n",
              "      display: none;\n",
              "      fill: #1967D2;\n",
              "      height: 32px;\n",
              "      padding: 0 0 0 0;\n",
              "      width: 32px;\n",
              "    }\n",
              "\n",
              "    .colab-df-convert:hover {\n",
              "      background-color: #E2EBFA;\n",
              "      box-shadow: 0px 1px 2px rgba(60, 64, 67, 0.3), 0px 1px 3px 1px rgba(60, 64, 67, 0.15);\n",
              "      fill: #174EA6;\n",
              "    }\n",
              "\n",
              "    [theme=dark] .colab-df-convert {\n",
              "      background-color: #3B4455;\n",
              "      fill: #D2E3FC;\n",
              "    }\n",
              "\n",
              "    [theme=dark] .colab-df-convert:hover {\n",
              "      background-color: #434B5C;\n",
              "      box-shadow: 0px 1px 3px 1px rgba(0, 0, 0, 0.15);\n",
              "      filter: drop-shadow(0px 1px 2px rgba(0, 0, 0, 0.3));\n",
              "      fill: #FFFFFF;\n",
              "    }\n",
              "  </style>\n",
              "\n",
              "      <script>\n",
              "        const buttonEl =\n",
              "          document.querySelector('#df-ec32a980-1da8-46e2-aa90-f4d9ec15b4f0 button.colab-df-convert');\n",
              "        buttonEl.style.display =\n",
              "          google.colab.kernel.accessAllowed ? 'block' : 'none';\n",
              "\n",
              "        async function convertToInteractive(key) {\n",
              "          const element = document.querySelector('#df-ec32a980-1da8-46e2-aa90-f4d9ec15b4f0');\n",
              "          const dataTable =\n",
              "            await google.colab.kernel.invokeFunction('convertToInteractive',\n",
              "                                                     [key], {});\n",
              "          if (!dataTable) return;\n",
              "\n",
              "          const docLinkHtml = 'Like what you see? Visit the ' +\n",
              "            '<a target=\"_blank\" href=https://colab.research.google.com/notebooks/data_table.ipynb>data table notebook</a>'\n",
              "            + ' to learn more about interactive tables.';\n",
              "          element.innerHTML = '';\n",
              "          dataTable['output_type'] = 'display_data';\n",
              "          await google.colab.output.renderOutput(dataTable, element);\n",
              "          const docLink = document.createElement('div');\n",
              "          docLink.innerHTML = docLinkHtml;\n",
              "          element.appendChild(docLink);\n",
              "        }\n",
              "      </script>\n",
              "    </div>\n",
              "  </div>\n",
              "  "
            ]
          },
          "metadata": {},
          "execution_count": 47
        }
      ]
    },
    {
      "cell_type": "code",
      "source": [
        "df.describe().T[[\"count\", \"min\", \"max\", \"mean\", \"std\"]]"
      ],
      "metadata": {
        "id": "-RM6yt4-J88D",
        "colab": {
          "base_uri": "https://localhost:8080/",
          "height": 394
        },
        "outputId": "98db3f12-bc71-4d09-bff7-cac1b40821b2"
      },
      "execution_count": null,
      "outputs": [
        {
          "output_type": "execute_result",
          "data": {
            "text/plain": [
              "                                         count  min        max         mean  \\\n",
              "SeriousDlqin2yrs                      150000.0  0.0        1.0     0.066840   \n",
              "RevolvingUtilizationOfUnsecuredLines  150000.0  0.0    50708.0     6.048438   \n",
              "age                                   150000.0  0.0      109.0    52.295207   \n",
              "NumberOfTime30-59DaysPastDueNotWorse  150000.0  0.0       98.0     0.421033   \n",
              "DebtRatio                             150000.0  0.0   329664.0   353.005076   \n",
              "MonthlyIncome                         120269.0  0.0  3008750.0  6670.221237   \n",
              "NumberOfOpenCreditLinesAndLoans       150000.0  0.0       58.0     8.452760   \n",
              "NumberOfTimes90DaysLate               150000.0  0.0       98.0     0.265973   \n",
              "NumberRealEstateLoansOrLines          150000.0  0.0       54.0     1.018240   \n",
              "NumberOfTime60-89DaysPastDueNotWorse  150000.0  0.0       98.0     0.240387   \n",
              "NumberOfDependents                    146076.0  0.0       20.0     0.757222   \n",
              "\n",
              "                                               std  \n",
              "SeriousDlqin2yrs                          0.249746  \n",
              "RevolvingUtilizationOfUnsecuredLines    249.755371  \n",
              "age                                      14.771866  \n",
              "NumberOfTime30-59DaysPastDueNotWorse      4.192781  \n",
              "DebtRatio                              2037.818523  \n",
              "MonthlyIncome                         14384.674215  \n",
              "NumberOfOpenCreditLinesAndLoans           5.145951  \n",
              "NumberOfTimes90DaysLate                   4.169304  \n",
              "NumberRealEstateLoansOrLines              1.129771  \n",
              "NumberOfTime60-89DaysPastDueNotWorse      4.155179  \n",
              "NumberOfDependents                        1.115086  "
            ],
            "text/html": [
              "\n",
              "  <div id=\"df-834cb70d-62ed-4cab-af32-3385acaef80f\">\n",
              "    <div class=\"colab-df-container\">\n",
              "      <div>\n",
              "<style scoped>\n",
              "    .dataframe tbody tr th:only-of-type {\n",
              "        vertical-align: middle;\n",
              "    }\n",
              "\n",
              "    .dataframe tbody tr th {\n",
              "        vertical-align: top;\n",
              "    }\n",
              "\n",
              "    .dataframe thead th {\n",
              "        text-align: right;\n",
              "    }\n",
              "</style>\n",
              "<table border=\"1\" class=\"dataframe\">\n",
              "  <thead>\n",
              "    <tr style=\"text-align: right;\">\n",
              "      <th></th>\n",
              "      <th>count</th>\n",
              "      <th>min</th>\n",
              "      <th>max</th>\n",
              "      <th>mean</th>\n",
              "      <th>std</th>\n",
              "    </tr>\n",
              "  </thead>\n",
              "  <tbody>\n",
              "    <tr>\n",
              "      <th>SeriousDlqin2yrs</th>\n",
              "      <td>150000.0</td>\n",
              "      <td>0.0</td>\n",
              "      <td>1.0</td>\n",
              "      <td>0.066840</td>\n",
              "      <td>0.249746</td>\n",
              "    </tr>\n",
              "    <tr>\n",
              "      <th>RevolvingUtilizationOfUnsecuredLines</th>\n",
              "      <td>150000.0</td>\n",
              "      <td>0.0</td>\n",
              "      <td>50708.0</td>\n",
              "      <td>6.048438</td>\n",
              "      <td>249.755371</td>\n",
              "    </tr>\n",
              "    <tr>\n",
              "      <th>age</th>\n",
              "      <td>150000.0</td>\n",
              "      <td>0.0</td>\n",
              "      <td>109.0</td>\n",
              "      <td>52.295207</td>\n",
              "      <td>14.771866</td>\n",
              "    </tr>\n",
              "    <tr>\n",
              "      <th>NumberOfTime30-59DaysPastDueNotWorse</th>\n",
              "      <td>150000.0</td>\n",
              "      <td>0.0</td>\n",
              "      <td>98.0</td>\n",
              "      <td>0.421033</td>\n",
              "      <td>4.192781</td>\n",
              "    </tr>\n",
              "    <tr>\n",
              "      <th>DebtRatio</th>\n",
              "      <td>150000.0</td>\n",
              "      <td>0.0</td>\n",
              "      <td>329664.0</td>\n",
              "      <td>353.005076</td>\n",
              "      <td>2037.818523</td>\n",
              "    </tr>\n",
              "    <tr>\n",
              "      <th>MonthlyIncome</th>\n",
              "      <td>120269.0</td>\n",
              "      <td>0.0</td>\n",
              "      <td>3008750.0</td>\n",
              "      <td>6670.221237</td>\n",
              "      <td>14384.674215</td>\n",
              "    </tr>\n",
              "    <tr>\n",
              "      <th>NumberOfOpenCreditLinesAndLoans</th>\n",
              "      <td>150000.0</td>\n",
              "      <td>0.0</td>\n",
              "      <td>58.0</td>\n",
              "      <td>8.452760</td>\n",
              "      <td>5.145951</td>\n",
              "    </tr>\n",
              "    <tr>\n",
              "      <th>NumberOfTimes90DaysLate</th>\n",
              "      <td>150000.0</td>\n",
              "      <td>0.0</td>\n",
              "      <td>98.0</td>\n",
              "      <td>0.265973</td>\n",
              "      <td>4.169304</td>\n",
              "    </tr>\n",
              "    <tr>\n",
              "      <th>NumberRealEstateLoansOrLines</th>\n",
              "      <td>150000.0</td>\n",
              "      <td>0.0</td>\n",
              "      <td>54.0</td>\n",
              "      <td>1.018240</td>\n",
              "      <td>1.129771</td>\n",
              "    </tr>\n",
              "    <tr>\n",
              "      <th>NumberOfTime60-89DaysPastDueNotWorse</th>\n",
              "      <td>150000.0</td>\n",
              "      <td>0.0</td>\n",
              "      <td>98.0</td>\n",
              "      <td>0.240387</td>\n",
              "      <td>4.155179</td>\n",
              "    </tr>\n",
              "    <tr>\n",
              "      <th>NumberOfDependents</th>\n",
              "      <td>146076.0</td>\n",
              "      <td>0.0</td>\n",
              "      <td>20.0</td>\n",
              "      <td>0.757222</td>\n",
              "      <td>1.115086</td>\n",
              "    </tr>\n",
              "  </tbody>\n",
              "</table>\n",
              "</div>\n",
              "      <button class=\"colab-df-convert\" onclick=\"convertToInteractive('df-834cb70d-62ed-4cab-af32-3385acaef80f')\"\n",
              "              title=\"Convert this dataframe to an interactive table.\"\n",
              "              style=\"display:none;\">\n",
              "        \n",
              "  <svg xmlns=\"http://www.w3.org/2000/svg\" height=\"24px\"viewBox=\"0 0 24 24\"\n",
              "       width=\"24px\">\n",
              "    <path d=\"M0 0h24v24H0V0z\" fill=\"none\"/>\n",
              "    <path d=\"M18.56 5.44l.94 2.06.94-2.06 2.06-.94-2.06-.94-.94-2.06-.94 2.06-2.06.94zm-11 1L8.5 8.5l.94-2.06 2.06-.94-2.06-.94L8.5 2.5l-.94 2.06-2.06.94zm10 10l.94 2.06.94-2.06 2.06-.94-2.06-.94-.94-2.06-.94 2.06-2.06.94z\"/><path d=\"M17.41 7.96l-1.37-1.37c-.4-.4-.92-.59-1.43-.59-.52 0-1.04.2-1.43.59L10.3 9.45l-7.72 7.72c-.78.78-.78 2.05 0 2.83L4 21.41c.39.39.9.59 1.41.59.51 0 1.02-.2 1.41-.59l7.78-7.78 2.81-2.81c.8-.78.8-2.07 0-2.86zM5.41 20L4 18.59l7.72-7.72 1.47 1.35L5.41 20z\"/>\n",
              "  </svg>\n",
              "      </button>\n",
              "      \n",
              "  <style>\n",
              "    .colab-df-container {\n",
              "      display:flex;\n",
              "      flex-wrap:wrap;\n",
              "      gap: 12px;\n",
              "    }\n",
              "\n",
              "    .colab-df-convert {\n",
              "      background-color: #E8F0FE;\n",
              "      border: none;\n",
              "      border-radius: 50%;\n",
              "      cursor: pointer;\n",
              "      display: none;\n",
              "      fill: #1967D2;\n",
              "      height: 32px;\n",
              "      padding: 0 0 0 0;\n",
              "      width: 32px;\n",
              "    }\n",
              "\n",
              "    .colab-df-convert:hover {\n",
              "      background-color: #E2EBFA;\n",
              "      box-shadow: 0px 1px 2px rgba(60, 64, 67, 0.3), 0px 1px 3px 1px rgba(60, 64, 67, 0.15);\n",
              "      fill: #174EA6;\n",
              "    }\n",
              "\n",
              "    [theme=dark] .colab-df-convert {\n",
              "      background-color: #3B4455;\n",
              "      fill: #D2E3FC;\n",
              "    }\n",
              "\n",
              "    [theme=dark] .colab-df-convert:hover {\n",
              "      background-color: #434B5C;\n",
              "      box-shadow: 0px 1px 3px 1px rgba(0, 0, 0, 0.15);\n",
              "      filter: drop-shadow(0px 1px 2px rgba(0, 0, 0, 0.3));\n",
              "      fill: #FFFFFF;\n",
              "    }\n",
              "  </style>\n",
              "\n",
              "      <script>\n",
              "        const buttonEl =\n",
              "          document.querySelector('#df-834cb70d-62ed-4cab-af32-3385acaef80f button.colab-df-convert');\n",
              "        buttonEl.style.display =\n",
              "          google.colab.kernel.accessAllowed ? 'block' : 'none';\n",
              "\n",
              "        async function convertToInteractive(key) {\n",
              "          const element = document.querySelector('#df-834cb70d-62ed-4cab-af32-3385acaef80f');\n",
              "          const dataTable =\n",
              "            await google.colab.kernel.invokeFunction('convertToInteractive',\n",
              "                                                     [key], {});\n",
              "          if (!dataTable) return;\n",
              "\n",
              "          const docLinkHtml = 'Like what you see? Visit the ' +\n",
              "            '<a target=\"_blank\" href=https://colab.research.google.com/notebooks/data_table.ipynb>data table notebook</a>'\n",
              "            + ' to learn more about interactive tables.';\n",
              "          element.innerHTML = '';\n",
              "          dataTable['output_type'] = 'display_data';\n",
              "          await google.colab.output.renderOutput(dataTable, element);\n",
              "          const docLink = document.createElement('div');\n",
              "          docLink.innerHTML = docLinkHtml;\n",
              "          element.appendChild(docLink);\n",
              "        }\n",
              "      </script>\n",
              "    </div>\n",
              "  </div>\n",
              "  "
            ]
          },
          "metadata": {},
          "execution_count": 48
        }
      ]
    },
    {
      "cell_type": "code",
      "source": [
        "df.isna().sum()"
      ],
      "metadata": {
        "id": "WG_ftQf1LQiB",
        "colab": {
          "base_uri": "https://localhost:8080/"
        },
        "outputId": "5bfa5156-ca6c-4f4b-8051-9222e997bc47"
      },
      "execution_count": null,
      "outputs": [
        {
          "output_type": "execute_result",
          "data": {
            "text/plain": [
              "SeriousDlqin2yrs                            0\n",
              "RevolvingUtilizationOfUnsecuredLines        0\n",
              "age                                         0\n",
              "NumberOfTime30-59DaysPastDueNotWorse        0\n",
              "DebtRatio                                   0\n",
              "MonthlyIncome                           29731\n",
              "NumberOfOpenCreditLinesAndLoans             0\n",
              "NumberOfTimes90DaysLate                     0\n",
              "NumberRealEstateLoansOrLines                0\n",
              "NumberOfTime60-89DaysPastDueNotWorse        0\n",
              "NumberOfDependents                       3924\n",
              "dtype: int64"
            ]
          },
          "metadata": {},
          "execution_count": 49
        }
      ]
    },
    {
      "cell_type": "code",
      "source": [
        "(df[\"MonthlyIncome\"].isna() & df[\"NumberOfDependents\"].isna()).sum()"
      ],
      "metadata": {
        "id": "AnySzcmOJ8--",
        "colab": {
          "base_uri": "https://localhost:8080/"
        },
        "outputId": "7370d561-6ad9-41fb-ed91-cf5b63dbd710"
      },
      "execution_count": null,
      "outputs": [
        {
          "output_type": "execute_result",
          "data": {
            "text/plain": [
              "3924"
            ]
          },
          "metadata": {},
          "execution_count": 50
        }
      ]
    },
    {
      "cell_type": "code",
      "source": [
        "df[\"age\"].hist(bins=20);"
      ],
      "metadata": {
        "id": "Mhs-BQ56J9Cd",
        "colab": {
          "base_uri": "https://localhost:8080/",
          "height": 430
        },
        "outputId": "63d527bd-d576-4d85-cd52-92ae924446d0"
      },
      "execution_count": null,
      "outputs": [
        {
          "output_type": "display_data",
          "data": {
            "text/plain": [
              "<Figure size 640x480 with 1 Axes>"
            ],
            "image/png": "[encoded data removed]"
          },
          "metadata": {}
        }
      ]
    },
    {
      "cell_type": "code",
      "source": [
        "df[\"NumberOfTime30-59DaysPastDueNotWorse\"].value_counts()"
      ],
      "metadata": {
        "id": "E35zNgfDJ9E4",
        "colab": {
          "base_uri": "https://localhost:8080/"
        },
        "outputId": "7f427d72-5512-4658-d2ba-d7958ad7f44b"
      },
      "execution_count": null,
      "outputs": [
        {
          "output_type": "execute_result",
          "data": {
            "text/plain": [
              "0     126018\n",
              "1      16033\n",
              "2       4598\n",
              "3       1754\n",
              "4        747\n",
              "5        342\n",
              "98       264\n",
              "6        140\n",
              "7         54\n",
              "8         25\n",
              "9         12\n",
              "96         5\n",
              "10         4\n",
              "12         2\n",
              "13         1\n",
              "11         1\n",
              "Name: NumberOfTime30-59DaysPastDueNotWorse, dtype: int64"
            ]
          },
          "metadata": {},
          "execution_count": 52
        }
      ]
    },
    {
      "cell_type": "code",
      "source": [
        "# limpieza básica:\n",
        "#\n",
        "# 1- Eliminamos filas con missing values (MonthlyIncome y NumberOfDependents)\n",
        "# 2- Nos quedamos solo con personas de 18 a 70 años (incluidos)\n",
        "# 3- Eliminamos filas que tengan 96 o 98 en columnas de retraso\n",
        "#    (NumberOfTime30-59DaysPastDueNotWorse, NumberOfTime60-89DaysPastDueNotWorse,\n",
        "#     NumberOfTimes90DaysLate)\n",
        "\n",
        "df.dropna(inplace=True)\n",
        "df = df[ (df[\"age\"]>=18) & (df[\"age\"]<=70) ]\n",
        "\n",
        "df = df[ ~df[\"NumberOfTime30-59DaysPastDueNotWorse\"].isin([96, 98]) ]\n",
        "df = df[ ~df[\"NumberOfTime60-89DaysPastDueNotWorse\"].isin([96, 98]) ]\n",
        "df = df[ ~df[\"NumberOfTimes90DaysLate\"].isin([96, 98]) ]"
      ],
      "metadata": {
        "id": "JiadOarZPO4C"
      },
      "execution_count": null,
      "outputs": []
    },
    {
      "cell_type": "code",
      "source": [
        "df.describe().T"
      ],
      "metadata": {
        "id": "aVVgx2eLP4xY",
        "colab": {
          "base_uri": "https://localhost:8080/",
          "height": 394
        },
        "outputId": "96610bb3-cf82-4f46-d955-264dcb171578"
      },
      "execution_count": null,
      "outputs": [
        {
          "output_type": "execute_result",
          "data": {
            "text/plain": [
              "                                         count         mean           std  \\\n",
              "SeriousDlqin2yrs                      107883.0     0.073728      0.261329   \n",
              "RevolvingUtilizationOfUnsecuredLines  107883.0     6.262285    268.425237   \n",
              "age                                   107883.0    48.343835     11.909195   \n",
              "NumberOfTime30-59DaysPastDueNotWorse  107883.0     0.276781      0.739606   \n",
              "DebtRatio                             107883.0    27.426863    395.986811   \n",
              "MonthlyIncome                         107883.0  6800.816625  14941.921271   \n",
              "NumberOfOpenCreditLinesAndLoans       107883.0     8.774265      5.155074   \n",
              "NumberOfTimes90DaysLate               107883.0     0.098588      0.509666   \n",
              "NumberRealEstateLoansOrLines          107883.0     1.095233      1.157615   \n",
              "NumberOfTime60-89DaysPastDueNotWorse  107883.0     0.072106      0.348840   \n",
              "NumberOfDependents                    107883.0     0.926865      1.178963   \n",
              "\n",
              "                                       min          25%          50%  \\\n",
              "SeriousDlqin2yrs                       0.0     0.000000     0.000000   \n",
              "RevolvingUtilizationOfUnsecuredLines   0.0     0.042982     0.206481   \n",
              "age                                   21.0    39.000000    49.000000   \n",
              "NumberOfTime30-59DaysPastDueNotWorse   0.0     0.000000     0.000000   \n",
              "DebtRatio                              0.0     0.162018     0.308917   \n",
              "MonthlyIncome                          0.0  3500.000000  5500.000000   \n",
              "NumberOfOpenCreditLinesAndLoans        0.0     5.000000     8.000000   \n",
              "NumberOfTimes90DaysLate                0.0     0.000000     0.000000   \n",
              "NumberRealEstateLoansOrLines           0.0     0.000000     1.000000   \n",
              "NumberOfTime60-89DaysPastDueNotWorse   0.0     0.000000     0.000000   \n",
              "NumberOfDependents                     0.0     0.000000     0.000000   \n",
              "\n",
              "                                              75%        max  \n",
              "SeriousDlqin2yrs                         0.000000        1.0  \n",
              "RevolvingUtilizationOfUnsecuredLines     0.617870    50708.0  \n",
              "age                                     58.000000       70.0  \n",
              "NumberOfTime30-59DaysPastDueNotWorse     0.000000       13.0  \n",
              "DebtRatio                                0.493251    60212.0  \n",
              "MonthlyIncome                         8344.000000  3008750.0  \n",
              "NumberOfOpenCreditLinesAndLoans         11.000000       58.0  \n",
              "NumberOfTimes90DaysLate                  0.000000       17.0  \n",
              "NumberRealEstateLoansOrLines             2.000000       54.0  \n",
              "NumberOfTime60-89DaysPastDueNotWorse     0.000000       11.0  \n",
              "NumberOfDependents                       2.000000       20.0  "
            ],
            "text/html": [
              "\n",
              "  <div id=\"df-8d6ce425-e386-4088-bd27-63ca7cd4c8ca\">\n",
              "    <div class=\"colab-df-container\">\n",
              "      <div>\n",
              "<style scoped>\n",
              "    .dataframe tbody tr th:only-of-type {\n",
              "        vertical-align: middle;\n",
              "    }\n",
              "\n",
              "    .dataframe tbody tr th {\n",
              "        vertical-align: top;\n",
              "    }\n",
              "\n",
              "    .dataframe thead th {\n",
              "        text-align: right;\n",
              "    }\n",
              "</style>\n",
              "<table border=\"1\" class=\"dataframe\">\n",
              "  <thead>\n",
              "    <tr style=\"text-align: right;\">\n",
              "      <th></th>\n",
              "      <th>count</th>\n",
              "      <th>mean</th>\n",
              "      <th>std</th>\n",
              "      <th>min</th>\n",
              "      <th>25%</th>\n",
              "      <th>50%</th>\n",
              "      <th>75%</th>\n",
              "      <th>max</th>\n",
              "    </tr>\n",
              "  </thead>\n",
              "  <tbody>\n",
              "    <tr>\n",
              "      <th>SeriousDlqin2yrs</th>\n",
              "      <td>107883.0</td>\n",
              "      <td>0.073728</td>\n",
              "      <td>0.261329</td>\n",
              "      <td>0.0</td>\n",
              "      <td>0.000000</td>\n",
              "      <td>0.000000</td>\n",
              "      <td>0.000000</td>\n",
              "      <td>1.0</td>\n",
              "    </tr>\n",
              "    <tr>\n",
              "      <th>RevolvingUtilizationOfUnsecuredLines</th>\n",
              "      <td>107883.0</td>\n",
              "      <td>6.262285</td>\n",
              "      <td>268.425237</td>\n",
              "      <td>0.0</td>\n",
              "      <td>0.042982</td>\n",
              "      <td>0.206481</td>\n",
              "      <td>0.617870</td>\n",
              "      <td>50708.0</td>\n",
              "    </tr>\n",
              "    <tr>\n",
              "      <th>age</th>\n",
              "      <td>107883.0</td>\n",
              "      <td>48.343835</td>\n",
              "      <td>11.909195</td>\n",
              "      <td>21.0</td>\n",
              "      <td>39.000000</td>\n",
              "      <td>49.000000</td>\n",
              "      <td>58.000000</td>\n",
              "      <td>70.0</td>\n",
              "    </tr>\n",
              "    <tr>\n",
              "      <th>NumberOfTime30-59DaysPastDueNotWorse</th>\n",
              "      <td>107883.0</td>\n",
              "      <td>0.276781</td>\n",
              "      <td>0.739606</td>\n",
              "      <td>0.0</td>\n",
              "      <td>0.000000</td>\n",
              "      <td>0.000000</td>\n",
              "      <td>0.000000</td>\n",
              "      <td>13.0</td>\n",
              "    </tr>\n",
              "    <tr>\n",
              "      <th>DebtRatio</th>\n",
              "      <td>107883.0</td>\n",
              "      <td>27.426863</td>\n",
              "      <td>395.986811</td>\n",
              "      <td>0.0</td>\n",
              "      <td>0.162018</td>\n",
              "      <td>0.308917</td>\n",
              "      <td>0.493251</td>\n",
              "      <td>60212.0</td>\n",
              "    </tr>\n",
              "    <tr>\n",
              "      <th>MonthlyIncome</th>\n",
              "      <td>107883.0</td>\n",
              "      <td>6800.816625</td>\n",
              "      <td>14941.921271</td>\n",
              "      <td>0.0</td>\n",
              "      <td>3500.000000</td>\n",
              "      <td>5500.000000</td>\n",
              "      <td>8344.000000</td>\n",
              "      <td>3008750.0</td>\n",
              "    </tr>\n",
              "    <tr>\n",
              "      <th>NumberOfOpenCreditLinesAndLoans</th>\n",
              "      <td>107883.0</td>\n",
              "      <td>8.774265</td>\n",
              "      <td>5.155074</td>\n",
              "      <td>0.0</td>\n",
              "      <td>5.000000</td>\n",
              "      <td>8.000000</td>\n",
              "      <td>11.000000</td>\n",
              "      <td>58.0</td>\n",
              "    </tr>\n",
              "    <tr>\n",
              "      <th>NumberOfTimes90DaysLate</th>\n",
              "      <td>107883.0</td>\n",
              "      <td>0.098588</td>\n",
              "      <td>0.509666</td>\n",
              "      <td>0.0</td>\n",
              "      <td>0.000000</td>\n",
              "      <td>0.000000</td>\n",
              "      <td>0.000000</td>\n",
              "      <td>17.0</td>\n",
              "    </tr>\n",
              "    <tr>\n",
              "      <th>NumberRealEstateLoansOrLines</th>\n",
              "      <td>107883.0</td>\n",
              "      <td>1.095233</td>\n",
              "      <td>1.157615</td>\n",
              "      <td>0.0</td>\n",
              "      <td>0.000000</td>\n",
              "      <td>1.000000</td>\n",
              "      <td>2.000000</td>\n",
              "      <td>54.0</td>\n",
              "    </tr>\n",
              "    <tr>\n",
              "      <th>NumberOfTime60-89DaysPastDueNotWorse</th>\n",
              "      <td>107883.0</td>\n",
              "      <td>0.072106</td>\n",
              "      <td>0.348840</td>\n",
              "      <td>0.0</td>\n",
              "      <td>0.000000</td>\n",
              "      <td>0.000000</td>\n",
              "      <td>0.000000</td>\n",
              "      <td>11.0</td>\n",
              "    </tr>\n",
              "    <tr>\n",
              "      <th>NumberOfDependents</th>\n",
              "      <td>107883.0</td>\n",
              "      <td>0.926865</td>\n",
              "      <td>1.178963</td>\n",
              "      <td>0.0</td>\n",
              "      <td>0.000000</td>\n",
              "      <td>0.000000</td>\n",
              "      <td>2.000000</td>\n",
              "      <td>20.0</td>\n",
              "    </tr>\n",
              "  </tbody>\n",
              "</table>\n",
              "</div>\n",
              "      <button class=\"colab-df-convert\" onclick=\"convertToInteractive('df-8d6ce425-e386-4088-bd27-63ca7cd4c8ca')\"\n",
              "              title=\"Convert this dataframe to an interactive table.\"\n",
              "              style=\"display:none;\">\n",
              "        \n",
              "  <svg xmlns=\"http://www.w3.org/2000/svg\" height=\"24px\"viewBox=\"0 0 24 24\"\n",
              "       width=\"24px\">\n",
              "    <path d=\"M0 0h24v24H0V0z\" fill=\"none\"/>\n",
              "    <path d=\"M18.56 5.44l.94 2.06.94-2.06 2.06-.94-2.06-.94-.94-2.06-.94 2.06-2.06.94zm-11 1L8.5 8.5l.94-2.06 2.06-.94-2.06-.94L8.5 2.5l-.94 2.06-2.06.94zm10 10l.94 2.06.94-2.06 2.06-.94-2.06-.94-.94-2.06-.94 2.06-2.06.94z\"/><path d=\"M17.41 7.96l-1.37-1.37c-.4-.4-.92-.59-1.43-.59-.52 0-1.04.2-1.43.59L10.3 9.45l-7.72 7.72c-.78.78-.78 2.05 0 2.83L4 21.41c.39.39.9.59 1.41.59.51 0 1.02-.2 1.41-.59l7.78-7.78 2.81-2.81c.8-.78.8-2.07 0-2.86zM5.41 20L4 18.59l7.72-7.72 1.47 1.35L5.41 20z\"/>\n",
              "  </svg>\n",
              "      </button>\n",
              "      \n",
              "  <style>\n",
              "    .colab-df-container {\n",
              "      display:flex;\n",
              "      flex-wrap:wrap;\n",
              "      gap: 12px;\n",
              "    }\n",
              "\n",
              "    .colab-df-convert {\n",
              "      background-color: #E8F0FE;\n",
              "      border: none;\n",
              "      border-radius: 50%;\n",
              "      cursor: pointer;\n",
              "      display: none;\n",
              "      fill: #1967D2;\n",
              "      height: 32px;\n",
              "      padding: 0 0 0 0;\n",
              "      width: 32px;\n",
              "    }\n",
              "\n",
              "    .colab-df-convert:hover {\n",
              "      background-color: #E2EBFA;\n",
              "      box-shadow: 0px 1px 2px rgba(60, 64, 67, 0.3), 0px 1px 3px 1px rgba(60, 64, 67, 0.15);\n",
              "      fill: #174EA6;\n",
              "    }\n",
              "\n",
              "    [theme=dark] .colab-df-convert {\n",
              "      background-color: #3B4455;\n",
              "      fill: #D2E3FC;\n",
              "    }\n",
              "\n",
              "    [theme=dark] .colab-df-convert:hover {\n",
              "      background-color: #434B5C;\n",
              "      box-shadow: 0px 1px 3px 1px rgba(0, 0, 0, 0.15);\n",
              "      filter: drop-shadow(0px 1px 2px rgba(0, 0, 0, 0.3));\n",
              "      fill: #FFFFFF;\n",
              "    }\n",
              "  </style>\n",
              "\n",
              "      <script>\n",
              "        const buttonEl =\n",
              "          document.querySelector('#df-8d6ce425-e386-4088-bd27-63ca7cd4c8ca button.colab-df-convert');\n",
              "        buttonEl.style.display =\n",
              "          google.colab.kernel.accessAllowed ? 'block' : 'none';\n",
              "\n",
              "        async function convertToInteractive(key) {\n",
              "          const element = document.querySelector('#df-8d6ce425-e386-4088-bd27-63ca7cd4c8ca');\n",
              "          const dataTable =\n",
              "            await google.colab.kernel.invokeFunction('convertToInteractive',\n",
              "                                                     [key], {});\n",
              "          if (!dataTable) return;\n",
              "\n",
              "          const docLinkHtml = 'Like what you see? Visit the ' +\n",
              "            '<a target=\"_blank\" href=https://colab.research.google.com/notebooks/data_table.ipynb>data table notebook</a>'\n",
              "            + ' to learn more about interactive tables.';\n",
              "          element.innerHTML = '';\n",
              "          dataTable['output_type'] = 'display_data';\n",
              "          await google.colab.output.renderOutput(dataTable, element);\n",
              "          const docLink = document.createElement('div');\n",
              "          docLink.innerHTML = docLinkHtml;\n",
              "          element.appendChild(docLink);\n",
              "        }\n",
              "      </script>\n",
              "    </div>\n",
              "  </div>\n",
              "  "
            ]
          },
          "metadata": {},
          "execution_count": 54
        }
      ]
    },
    {
      "cell_type": "markdown",
      "metadata": {
        "id": "cjoL4G6AENmk"
      },
      "source": [
        "La columna **SeriousDlqin2yrs** es 0 si el cliente paga el crédito, y 1 si no lo paga."
      ]
    },
    {
      "cell_type": "markdown",
      "source": [
        "Ahora dividimos el dataset en training y test:"
      ],
      "metadata": {
        "id": "kMuHirqXJsAT"
      }
    },
    {
      "cell_type": "code",
      "source": [
        "from sklearn.model_selection import train_test_split\n",
        "\n",
        "df_train, df_test = train_test_split(df, random_state=1, test_size=0.3, stratify=df[\"SeriousDlqin2yrs\"])"
      ],
      "metadata": {
        "id": "FbDEYWzJJvkV"
      },
      "execution_count": null,
      "outputs": []
    },
    {
      "cell_type": "code",
      "source": [
        "# frecuencia de impagos en training y test (en tanto por 1):\n",
        "df_train[\"SeriousDlqin2yrs\"].mean(), df_test[\"SeriousDlqin2yrs\"].mean()"
      ],
      "metadata": {
        "id": "XUaBPgU0TdDx",
        "colab": {
          "base_uri": "https://localhost:8080/"
        },
        "outputId": "3c0fd3ea-904e-4c28-9476-e09f4ec57296"
      },
      "execution_count": null,
      "outputs": [
        {
          "output_type": "execute_result",
          "data": {
            "text/plain": [
              "(0.07373076617495167, 0.073721612853391)"
            ]
          },
          "metadata": {},
          "execution_count": 56
        }
      ]
    },
    {
      "cell_type": "code",
      "source": [
        "# Defino clase clientes:\n",
        "\n",
        "class clientes:\n",
        "    def __init__(self, df): # self: parámetros internos\n",
        "        # mi clase va a tener dos parámetros internos:\n",
        "        # i, df\n",
        "        self.i = -1 # i: contador (de clientes); índice al último cliente mostrado\n",
        "        self.df = df\n",
        "    def cliente(self): # va a simular que llega un cliente\n",
        "        self.i = self.i + 1\n",
        "        if self.i == len(self.df):\n",
        "            self.i = 0\n",
        "    def get_context(self): # va a extraer datos de ese cliente\n",
        "        return self.df.iloc[self.i].drop(\"SeriousDlqin2yrs\")\n",
        "    def get_reward(self, accion): # reward con ese cliente\n",
        "        # calculo reward:\n",
        "        if accion==0: # no se da crédito\n",
        "            return 0\n",
        "        # se da crédito:\n",
        "        if self.df.iloc[self.i][\"SeriousDlqin2yrs\"] == 1: # no paga\n",
        "            return -1\n",
        "        return 1 # paga"
      ],
      "metadata": {
        "id": "krELdxYQX7Y-"
      },
      "execution_count": null,
      "outputs": []
    },
    {
      "cell_type": "code",
      "source": [
        "# clientes: una clase\n",
        "# cl_train: una instancia de esa clase\n",
        "# cl_test: otra instancia de esa clase\n",
        "#\n",
        "# podemos ver cl_train como una \"caja\" donde hemos\n",
        "# metido el dataset de entrenamiento y va a haber\n",
        "# métodos que me permiten interaccionar con él\n",
        "#\n",
        "# Lo mismo con cl_test, pero para los datos de test\n",
        "\n",
        "cl_train = clientes(df_train)\n",
        "cl_test  = clientes(df_test)"
      ],
      "metadata": {
        "id": "8IDBuhXHMaZ2"
      },
      "execution_count": null,
      "outputs": []
    },
    {
      "cell_type": "code",
      "source": [
        "cl_train.cliente() # simulo que llega un cliente nuevo"
      ],
      "metadata": {
        "id": "KRykQEHGMgMF"
      },
      "execution_count": null,
      "outputs": []
    },
    {
      "cell_type": "code",
      "source": [
        "cl_train.get_context()"
      ],
      "metadata": {
        "id": "oCGuz2BHMrnT",
        "colab": {
          "base_uri": "https://localhost:8080/"
        },
        "outputId": "f74f9a6b-7072-45c9-c78d-fb4129d00874"
      },
      "execution_count": null,
      "outputs": [
        {
          "output_type": "execute_result",
          "data": {
            "text/plain": [
              "RevolvingUtilizationOfUnsecuredLines        0.064833\n",
              "age                                        59.000000\n",
              "NumberOfTime30-59DaysPastDueNotWorse        0.000000\n",
              "DebtRatio                                   0.156957\n",
              "MonthlyIncome                           16666.000000\n",
              "NumberOfOpenCreditLinesAndLoans             5.000000\n",
              "NumberOfTimes90DaysLate                     0.000000\n",
              "NumberRealEstateLoansOrLines                1.000000\n",
              "NumberOfTime60-89DaysPastDueNotWorse        0.000000\n",
              "NumberOfDependents                          2.000000\n",
              "Name: 135262, dtype: float64"
            ]
          },
          "metadata": {},
          "execution_count": 60
        }
      ]
    },
    {
      "cell_type": "code",
      "source": [
        "cl_train.get_context().values"
      ],
      "metadata": {
        "id": "_xMOjfOgVzq9",
        "colab": {
          "base_uri": "https://localhost:8080/"
        },
        "outputId": "602adab8-0ae5-4852-c38c-5279550461b7"
      },
      "execution_count": null,
      "outputs": [
        {
          "output_type": "execute_result",
          "data": {
            "text/plain": [
              "array([6.48325870e-02, 5.90000000e+01, 0.00000000e+00, 1.56956861e-01,\n",
              "       1.66660000e+04, 5.00000000e+00, 0.00000000e+00, 1.00000000e+00,\n",
              "       0.00000000e+00, 2.00000000e+00])"
            ]
          },
          "metadata": {},
          "execution_count": 61
        }
      ]
    },
    {
      "cell_type": "code",
      "source": [
        "cl_train.cliente()\n",
        "cl_train.get_context()"
      ],
      "metadata": {
        "id": "uS-XoSy5Mvnb",
        "colab": {
          "base_uri": "https://localhost:8080/"
        },
        "outputId": "6962cf13-2789-4369-dbc3-2809820ed640"
      },
      "execution_count": null,
      "outputs": [
        {
          "output_type": "execute_result",
          "data": {
            "text/plain": [
              "RevolvingUtilizationOfUnsecuredLines       0.209079\n",
              "age                                       30.000000\n",
              "NumberOfTime30-59DaysPastDueNotWorse       0.000000\n",
              "DebtRatio                                  0.129946\n",
              "MonthlyIncome                           2400.000000\n",
              "NumberOfOpenCreditLinesAndLoans            7.000000\n",
              "NumberOfTimes90DaysLate                    0.000000\n",
              "NumberRealEstateLoansOrLines               0.000000\n",
              "NumberOfTime60-89DaysPastDueNotWorse       0.000000\n",
              "NumberOfDependents                         0.000000\n",
              "Name: 14308, dtype: float64"
            ]
          },
          "metadata": {},
          "execution_count": 62
        }
      ]
    },
    {
      "cell_type": "code",
      "source": [
        "cl_train.get_reward(1)"
      ],
      "metadata": {
        "id": "UzFemdPdM0Lr",
        "colab": {
          "base_uri": "https://localhost:8080/"
        },
        "outputId": "50d46c58-d442-4ab4-c3ba-69bf9bf937a2"
      },
      "execution_count": null,
      "outputs": [
        {
          "output_type": "execute_result",
          "data": {
            "text/plain": [
              "1"
            ]
          },
          "metadata": {},
          "execution_count": 63
        }
      ]
    },
    {
      "cell_type": "markdown",
      "metadata": {
        "id": "wiykx8oMq8-t"
      },
      "source": [
        "# **Tareas a realizar**"
      ]
    },
    {
      "cell_type": "markdown",
      "source": [
        "1- Calcula la evolución del reward total, regret total de un algoritmo aleatorio en training. Calcula en otra gráfica la evolución de su reward promedio y regret promedio.\n",
        "\n",
        "2- Entrena un multiarmed bandit contextual lineal en training. Calcula las mismas métricas que en el punto 1\n",
        "\n",
        "3- Calcula, para algunos clientes de training, las Q dadas por el modelo para cada acción. Chequea si obtienes los mismos valores calculándolos tú. Chequea si la acción elegida por el modelo es la de mayor Q.\n",
        "\n",
        "4- Calcula en test el rendimiento del algoritmo de multiarmed bandit. Compáralo con el grupo de control de test (reserva un 10% de clientes en test como grupo de control).\n",
        "\n",
        "5- Obtén la interpretabilidad del modelo. ¿En qué variables se está fijando para decidir?\n",
        "\n",
        "6- (Opcional). Trata de optimizar tu sistema haciendo selección de variables."
      ],
      "metadata": {
        "id": "7Yvdy7Z8Yhe5"
      }
    },
    {
      "cell_type": "markdown",
      "source": [
        "### Tarea 1"
      ],
      "metadata": {
        "id": "7tq-PdkFZzez"
      }
    },
    {
      "cell_type": "code",
      "source": [
        "from tqdm import tqdm\n",
        "import numpy as np\n",
        "import matplotlib.pyplot as plt"
      ],
      "metadata": {
        "id": "oy4bFAGal0Pd"
      },
      "execution_count": null,
      "outputs": []
    },
    {
      "cell_type": "code",
      "source": [
        "N = 10000\n",
        "\n",
        "historico_reward_promedio = []\n",
        "historico_reward_total    = []\n",
        "historico_regret_total    = []\n",
        "reward_total = 0\n",
        "regret_total = 0\n",
        "for i in tqdm(range(N)):\n",
        "  cl_train.cliente() # cliente con el que contacto\n",
        "  accion = np.random.choice(2)\n",
        "  reward = cl_train.get_reward(accion)\n",
        "\n",
        "  reward_total += reward\n",
        "  ideal = max(cl_train.get_reward(0), cl_train.get_reward(1))\n",
        "  regret = ideal - reward\n",
        "  regret_total += regret\n",
        "  historico_reward_total.append(reward_total)\n",
        "  historico_reward_promedio.append(reward_total/(i+1)) # i+1 es el número de iteraciones\n",
        "  historico_regret_total.append(regret_total)\n",
        "\n",
        "print(\"Reward promedio:\", reward_total/N)\n",
        "plt.plot(historico_reward_total)\n",
        "plt.title(\"Evolución del reward total\")\n",
        "plt.show()\n",
        "plt.plot(historico_reward_promedio)\n",
        "plt.title(\"Evolución del reward promedio\");\n",
        "plt.show()\n",
        "plt.plot(historico_regret_total)\n",
        "plt.title(\"Evolución del regret total\");"
      ],
      "metadata": {
        "id": "8IQj6bULUsH8",
        "colab": {
          "base_uri": "https://localhost:8080/",
          "height": 1000
        },
        "outputId": "fa4e9810-a995-41a5-b2a2-87430c0a8a27"
      },
      "execution_count": null,
      "outputs": [
        {
          "output_type": "stream",
          "name": "stderr",
          "text": [
            "100%|██████████| 10000/10000 [00:02<00:00, 4582.14it/s]\n"
          ]
        },
        {
          "output_type": "stream",
          "name": "stdout",
          "text": [
            "Reward promedio: 0.4296\n"
          ]
        },
        {
          "output_type": "display_data",
          "data": {
            "text/plain": [
              "<Figure size 640x480 with 1 Axes>"
            ],
            "image/png": "[encoded data removed]"
          },
          "metadata": {}
        },
        {
          "output_type": "display_data",
          "data": {
            "text/plain": [
              "<Figure size 640x480 with 1 Axes>"
            ],
            "image/png": "[encoded data removed]"
          },
          "metadata": {}
        },
        {
          "output_type": "display_data",
          "data": {
            "text/plain": [
              "<Figure size 640x480 with 1 Axes>"
            ],
            "image/png": "[encoded data removed]"
          },
          "metadata": {}
        }
      ]
    },
    {
      "cell_type": "code",
      "source": [
        "historico_regret_total[-1] / N"
      ],
      "metadata": {
        "id": "hB4MMd0fbcNz",
        "colab": {
          "base_uri": "https://localhost:8080/"
        },
        "outputId": "8d07b074-82ae-40ca-95de-d879b045d9a2"
      },
      "execution_count": null,
      "outputs": [
        {
          "output_type": "execute_result",
          "data": {
            "text/plain": [
              "0.5027"
            ]
          },
          "metadata": {},
          "execution_count": 66
        }
      ]
    },
    {
      "cell_type": "markdown",
      "source": [
        "### Tarea 2"
      ],
      "metadata": {
        "id": "Pq2MI1LAYQzM"
      }
    },
    {
      "cell_type": "code",
      "source": [
        "if COLAB:\n",
        "    from google_drive_downloader import GoogleDriveDownloader as gdd\n",
        "\n",
        "    gdd.download_file_from_google_drive(file_id='1fCnGzS5U_x-k_03op_XJkHVS4jpvjSxS',\n",
        "                                        dest_path='./spacebandits.zip', unzip=True)"
      ],
      "metadata": {
        "id": "TsOXWq9icpgT"
      },
      "execution_count": null,
      "outputs": []
    },
    {
      "cell_type": "code",
      "source": [
        "from space_bandits import LinearBandits\n",
        "\n",
        "n_features = 10\n",
        "n_acciones = 2"
      ],
      "metadata": {
        "id": "aUgWgq9egge-"
      },
      "execution_count": null,
      "outputs": []
    },
    {
      "cell_type": "code",
      "source": [
        "N = 10000\n",
        "\n",
        "agente = LinearBandits(n_acciones, n_features, initial_pulls=100) # initial_pulls: duración de la fase de exploración pura\n",
        "\n",
        "historico_reward_promedio = []\n",
        "historico_reward_total    = []\n",
        "historico_regret_total    = []\n",
        "reward_total = 0\n",
        "regret_total = 0\n",
        "for i in tqdm(range(N)):\n",
        "  cl_train.cliente() # cliente con el que contacto\n",
        "  contexto = cl_train.get_context().values\n",
        "  accion = agente.action(contexto)\n",
        "  reward = cl_train.get_reward(accion)\n",
        "  agente.update(contexto, accion, reward)\n",
        "\n",
        "  reward_total += reward\n",
        "  ideal = max(cl_train.get_reward(0), cl_train.get_reward(1))\n",
        "  regret = ideal - reward\n",
        "  regret_total += regret\n",
        "  historico_reward_total.append(reward_total)\n",
        "  historico_reward_promedio.append(reward_total/(i+1)) # i+1 es el número de iteraciones\n",
        "  historico_regret_total.append(regret_total)\n",
        "\n",
        "print(\"Reward promedio:\", reward_total/N)\n",
        "plt.plot(historico_reward_total)\n",
        "plt.title(\"Evolución del reward total\")\n",
        "plt.show()\n",
        "plt.plot(historico_reward_promedio)\n",
        "plt.title(\"Evolución del reward promedio\");\n",
        "plt.show()\n",
        "plt.plot(historico_regret_total)\n",
        "plt.title(\"Evolución del regret total\");"
      ],
      "metadata": {
        "id": "SYXQFf3ZQEoN",
        "colab": {
          "base_uri": "https://localhost:8080/",
          "height": 1000
        },
        "outputId": "020b4348-59c8-4661-a186-9fc137d3a51d"
      },
      "execution_count": null,
      "outputs": [
        {
          "output_type": "stream",
          "name": "stderr",
          "text": [
            "100%|██████████| 10000/10000 [01:18<00:00, 127.77it/s]\n"
          ]
        },
        {
          "output_type": "stream",
          "name": "stdout",
          "text": [
            "Reward promedio: 0.8417\n"
          ]
        },
        {
          "output_type": "display_data",
          "data": {
            "text/plain": [
              "<Figure size 640x480 with 1 Axes>"
            ],
            "image/png": "[encoded data removed]"
          },
          "metadata": {}
        },
        {
          "output_type": "display_data",
          "data": {
            "text/plain": [
              "<Figure size 640x480 with 1 Axes>"
            ],
            "image/png": "[encoded data removed]"
          },
          "metadata": {}
        },
        {
          "output_type": "display_data",
          "data": {
            "text/plain": [
              "<Figure size 640x480 with 1 Axes>"
            ],
            "image/png": "[encoded data removed]"
          },
          "metadata": {}
        }
      ]
    },
    {
      "cell_type": "markdown",
      "source": [
        "### Tarea 3"
      ],
      "metadata": {
        "id": "BnR8yJ-QYR-a"
      }
    },
    {
      "cell_type": "code",
      "source": [
        "cl_train.cliente()"
      ],
      "metadata": {
        "id": "oj8vVz9RqEHO"
      },
      "execution_count": null,
      "outputs": []
    },
    {
      "cell_type": "code",
      "source": [
        "cl_train.get_context()"
      ],
      "metadata": {
        "id": "nzScCIwtoOCT",
        "colab": {
          "base_uri": "https://localhost:8080/"
        },
        "outputId": "3f39f9b0-986a-461a-9bcc-90b0cb804a9d"
      },
      "execution_count": null,
      "outputs": [
        {
          "output_type": "execute_result",
          "data": {
            "text/plain": [
              "RevolvingUtilizationOfUnsecuredLines        1.381546\n",
              "age                                        46.000000\n",
              "NumberOfTime30-59DaysPastDueNotWorse        2.000000\n",
              "DebtRatio                                   0.119018\n",
              "MonthlyIncome                           10300.000000\n",
              "NumberOfOpenCreditLinesAndLoans             7.000000\n",
              "NumberOfTimes90DaysLate                     1.000000\n",
              "NumberRealEstateLoansOrLines                1.000000\n",
              "NumberOfTime60-89DaysPastDueNotWorse        0.000000\n",
              "NumberOfDependents                          2.000000\n",
              "Name: 25497, dtype: float64"
            ]
          },
          "metadata": {},
          "execution_count": 71
        }
      ]
    },
    {
      "cell_type": "code",
      "source": [
        "contexto = cl_train.get_context().values\n",
        "agente.action(contexto)"
      ],
      "metadata": {
        "id": "-bdCigaMcKi6",
        "colab": {
          "base_uri": "https://localhost:8080/"
        },
        "outputId": "e113de1c-81d7-4416-808e-70eda7783add"
      },
      "execution_count": null,
      "outputs": [
        {
          "output_type": "execute_result",
          "data": {
            "text/plain": [
              "1"
            ]
          },
          "metadata": {},
          "execution_count": 72
        }
      ]
    },
    {
      "cell_type": "code",
      "source": [
        "agente.expected_values(contexto)"
      ],
      "metadata": {
        "colab": {
          "base_uri": "https://localhost:8080/"
        },
        "id": "erlqvuzQYT32",
        "outputId": "b4babb6d-faeb-4b74-876f-4bc4147fde22"
      },
      "execution_count": null,
      "outputs": [
        {
          "output_type": "execute_result",
          "data": {
            "text/plain": [
              "array([0.        , 0.10756723])"
            ]
          },
          "metadata": {},
          "execution_count": 73
        }
      ]
    },
    {
      "cell_type": "code",
      "source": [
        "agente.mu"
      ],
      "metadata": {
        "colab": {
          "base_uri": "https://localhost:8080/"
        },
        "id": "bo-XC_ZbYT6Q",
        "outputId": "6c65013e-d98d-4b37-ddd2-83bf03b34667"
      },
      "execution_count": null,
      "outputs": [
        {
          "output_type": "execute_result",
          "data": {
            "text/plain": [
              "[array([0., 0., 0., 0., 0., 0., 0., 0., 0., 0., 0.]),\n",
              " array([-2.12330532e-01,  1.52022108e-03, -1.00176446e-01,  8.95282464e-07,\n",
              "        -2.20488593e-08, -3.55789305e-03, -3.93357681e-01, -1.77286523e-02,\n",
              "        -2.02886277e-01, -4.59556325e-03,  9.76744091e-01])]"
            ]
          },
          "metadata": {},
          "execution_count": 74
        }
      ]
    },
    {
      "cell_type": "code",
      "source": [
        "# acción 1:\n",
        "agente.mu[1][-1] + (agente.mu[1][:-1]*contexto).sum()"
      ],
      "metadata": {
        "colab": {
          "base_uri": "https://localhost:8080/"
        },
        "id": "tUV-HJOHpkY4",
        "outputId": "b769cb70-4fd5-4931-d6ba-64df64c20aa5"
      },
      "execution_count": null,
      "outputs": [
        {
          "output_type": "execute_result",
          "data": {
            "text/plain": [
              "0.10756723432857063"
            ]
          },
          "metadata": {},
          "execution_count": 75
        }
      ]
    },
    {
      "cell_type": "code",
      "source": [
        "# acción 0:\n",
        "agente.mu[0][-1] + (agente.mu[0][:-1]*contexto).sum()"
      ],
      "metadata": {
        "colab": {
          "base_uri": "https://localhost:8080/"
        },
        "id": "3PICYgIupkcE",
        "outputId": "86d6e821-9904-4b32-d06f-ed808fced6a1"
      },
      "execution_count": null,
      "outputs": [
        {
          "output_type": "execute_result",
          "data": {
            "text/plain": [
              "0.0"
            ]
          },
          "metadata": {},
          "execution_count": 76
        }
      ]
    },
    {
      "cell_type": "markdown",
      "source": [
        "### Tarea 4"
      ],
      "metadata": {
        "id": "SeupGxVjYUDC"
      }
    },
    {
      "cell_type": "code",
      "source": [],
      "metadata": {
        "id": "dZ-LNtFbYUXN"
      },
      "execution_count": null,
      "outputs": []
    },
    {
      "cell_type": "code",
      "source": [],
      "metadata": {
        "id": "igNTCI3zYVV4"
      },
      "execution_count": null,
      "outputs": []
    },
    {
      "cell_type": "code",
      "source": [],
      "metadata": {
        "id": "ATgJdWaTYVYc"
      },
      "execution_count": null,
      "outputs": []
    },
    {
      "cell_type": "markdown",
      "source": [
        "### Tarea 5"
      ],
      "metadata": {
        "id": "CXVUw_H6YWJI"
      }
    },
    {
      "cell_type": "code",
      "source": [
        "# Primero creo una tabla donde tengo clientes y las predicciones del modelo en ellos\n",
        "\n",
        "df_subrogado = df_test.drop(\"SeriousDlqin2yrs\", axis=1)\n",
        "df_subrogado"
      ],
      "metadata": {
        "colab": {
          "base_uri": "https://localhost:8080/",
          "height": 505
        },
        "id": "a8EZ-1fPraV_",
        "outputId": "0806ce16-9608-42cf-f145-05abebc4aa54"
      },
      "execution_count": null,
      "outputs": [
        {
          "output_type": "execute_result",
          "data": {
            "text/plain": [
              "        RevolvingUtilizationOfUnsecuredLines  age  \\\n",
              "86820                               0.429702   59   \n",
              "63852                               0.717724   53   \n",
              "109304                              1.000000   33   \n",
              "131988                              0.889311   57   \n",
              "125320                              0.271875   53   \n",
              "...                                      ...  ...   \n",
              "91608                               1.000000   29   \n",
              "123805                              0.687045   31   \n",
              "8313                                0.132443   29   \n",
              "145560                              0.868331   63   \n",
              "138024                              0.974533   61   \n",
              "\n",
              "        NumberOfTime30-59DaysPastDueNotWorse  DebtRatio  MonthlyIncome  \\\n",
              "86820                                      3   0.201624        13420.0   \n",
              "63852                                      2   0.508987         8400.0   \n",
              "109304                                     0   0.281594        13000.0   \n",
              "131988                                     0   0.273563         6747.0   \n",
              "125320                                     1   0.510943         9000.0   \n",
              "...                                      ...        ...            ...   \n",
              "91608                                      0   0.282265         1200.0   \n",
              "123805                                     2   2.079739          764.0   \n",
              "8313                                       0   0.100131         3824.0   \n",
              "145560                                     0   0.671443         3000.0   \n",
              "138024                                     4   0.533350         7915.0   \n",
              "\n",
              "        NumberOfOpenCreditLinesAndLoans  NumberOfTimes90DaysLate  \\\n",
              "86820                                13                        0   \n",
              "63852                                20                        0   \n",
              "109304                               11                        0   \n",
              "131988                                5                        1   \n",
              "125320                               10                        0   \n",
              "...                                 ...                      ...   \n",
              "91608                                 2                        2   \n",
              "123805                                6                        0   \n",
              "8313                                  5                        0   \n",
              "145560                               12                        0   \n",
              "138024                               10                        2   \n",
              "\n",
              "        NumberRealEstateLoansOrLines  NumberOfTime60-89DaysPastDueNotWorse  \\\n",
              "86820                              2                                     0   \n",
              "63852                              2                                     0   \n",
              "109304                             1                                     1   \n",
              "131988                             1                                     0   \n",
              "125320                             2                                     0   \n",
              "...                              ...                                   ...   \n",
              "91608                              0                                     0   \n",
              "123805                             1                                     0   \n",
              "8313                               0                                     0   \n",
              "145560                             0                                     0   \n",
              "138024                             2                                     2   \n",
              "\n",
              "        NumberOfDependents  \n",
              "86820                  2.0  \n",
              "63852                  1.0  \n",
              "109304                 2.0  \n",
              "131988                 1.0  \n",
              "125320                 4.0  \n",
              "...                    ...  \n",
              "91608                  1.0  \n",
              "123805                 0.0  \n",
              "8313                   0.0  \n",
              "145560                 2.0  \n",
              "138024                 0.0  \n",
              "\n",
              "[32365 rows x 10 columns]"
            ],
            "text/html": [
              "\n",
              "  <div id=\"df-34de0d93-78f9-4d52-ba76-429113b9a16b\">\n",
              "    <div class=\"colab-df-container\">\n",
              "      <div>\n",
              "<style scoped>\n",
              "    .dataframe tbody tr th:only-of-type {\n",
              "        vertical-align: middle;\n",
              "    }\n",
              "\n",
              "    .dataframe tbody tr th {\n",
              "        vertical-align: top;\n",
              "    }\n",
              "\n",
              "    .dataframe thead th {\n",
              "        text-align: right;\n",
              "    }\n",
              "</style>\n",
              "<table border=\"1\" class=\"dataframe\">\n",
              "  <thead>\n",
              "    <tr style=\"text-align: right;\">\n",
              "      <th></th>\n",
              "      <th>RevolvingUtilizationOfUnsecuredLines</th>\n",
              "      <th>age</th>\n",
              "      <th>NumberOfTime30-59DaysPastDueNotWorse</th>\n",
              "      <th>DebtRatio</th>\n",
              "      <th>MonthlyIncome</th>\n",
              "      <th>NumberOfOpenCreditLinesAndLoans</th>\n",
              "      <th>NumberOfTimes90DaysLate</th>\n",
              "      <th>NumberRealEstateLoansOrLines</th>\n",
              "      <th>NumberOfTime60-89DaysPastDueNotWorse</th>\n",
              "      <th>NumberOfDependents</th>\n",
              "    </tr>\n",
              "  </thead>\n",
              "  <tbody>\n",
              "    <tr>\n",
              "      <th>86820</th>\n",
              "      <td>0.429702</td>\n",
              "      <td>59</td>\n",
              "      <td>3</td>\n",
              "      <td>0.201624</td>\n",
              "      <td>13420.0</td>\n",
              "      <td>13</td>\n",
              "      <td>0</td>\n",
              "      <td>2</td>\n",
              "      <td>0</td>\n",
              "      <td>2.0</td>\n",
              "    </tr>\n",
              "    <tr>\n",
              "      <th>63852</th>\n",
              "      <td>0.717724</td>\n",
              "      <td>53</td>\n",
              "      <td>2</td>\n",
              "      <td>0.508987</td>\n",
              "      <td>8400.0</td>\n",
              "      <td>20</td>\n",
              "      <td>0</td>\n",
              "      <td>2</td>\n",
              "      <td>0</td>\n",
              "      <td>1.0</td>\n",
              "    </tr>\n",
              "    <tr>\n",
              "      <th>109304</th>\n",
              "      <td>1.000000</td>\n",
              "      <td>33</td>\n",
              "      <td>0</td>\n",
              "      <td>0.281594</td>\n",
              "      <td>13000.0</td>\n",
              "      <td>11</td>\n",
              "      <td>0</td>\n",
              "      <td>1</td>\n",
              "      <td>1</td>\n",
              "      <td>2.0</td>\n",
              "    </tr>\n",
              "    <tr>\n",
              "      <th>131988</th>\n",
              "      <td>0.889311</td>\n",
              "      <td>57</td>\n",
              "      <td>0</td>\n",
              "      <td>0.273563</td>\n",
              "      <td>6747.0</td>\n",
              "      <td>5</td>\n",
              "      <td>1</td>\n",
              "      <td>1</td>\n",
              "      <td>0</td>\n",
              "      <td>1.0</td>\n",
              "    </tr>\n",
              "    <tr>\n",
              "      <th>125320</th>\n",
              "      <td>0.271875</td>\n",
              "      <td>53</td>\n",
              "      <td>1</td>\n",
              "      <td>0.510943</td>\n",
              "      <td>9000.0</td>\n",
              "      <td>10</td>\n",
              "      <td>0</td>\n",
              "      <td>2</td>\n",
              "      <td>0</td>\n",
              "      <td>4.0</td>\n",
              "    </tr>\n",
              "    <tr>\n",
              "      <th>...</th>\n",
              "      <td>...</td>\n",
              "      <td>...</td>\n",
              "      <td>...</td>\n",
              "      <td>...</td>\n",
              "      <td>...</td>\n",
              "      <td>...</td>\n",
              "      <td>...</td>\n",
              "      <td>...</td>\n",
              "      <td>...</td>\n",
              "      <td>...</td>\n",
              "    </tr>\n",
              "    <tr>\n",
              "      <th>91608</th>\n",
              "      <td>1.000000</td>\n",
              "      <td>29</td>\n",
              "      <td>0</td>\n",
              "      <td>0.282265</td>\n",
              "      <td>1200.0</td>\n",
              "      <td>2</td>\n",
              "      <td>2</td>\n",
              "      <td>0</td>\n",
              "      <td>0</td>\n",
              "      <td>1.0</td>\n",
              "    </tr>\n",
              "    <tr>\n",
              "      <th>123805</th>\n",
              "      <td>0.687045</td>\n",
              "      <td>31</td>\n",
              "      <td>2</td>\n",
              "      <td>2.079739</td>\n",
              "      <td>764.0</td>\n",
              "      <td>6</td>\n",
              "      <td>0</td>\n",
              "      <td>1</td>\n",
              "      <td>0</td>\n",
              "      <td>0.0</td>\n",
              "    </tr>\n",
              "    <tr>\n",
              "      <th>8313</th>\n",
              "      <td>0.132443</td>\n",
              "      <td>29</td>\n",
              "      <td>0</td>\n",
              "      <td>0.100131</td>\n",
              "      <td>3824.0</td>\n",
              "      <td>5</td>\n",
              "      <td>0</td>\n",
              "      <td>0</td>\n",
              "      <td>0</td>\n",
              "      <td>0.0</td>\n",
              "    </tr>\n",
              "    <tr>\n",
              "      <th>145560</th>\n",
              "      <td>0.868331</td>\n",
              "      <td>63</td>\n",
              "      <td>0</td>\n",
              "      <td>0.671443</td>\n",
              "      <td>3000.0</td>\n",
              "      <td>12</td>\n",
              "      <td>0</td>\n",
              "      <td>0</td>\n",
              "      <td>0</td>\n",
              "      <td>2.0</td>\n",
              "    </tr>\n",
              "    <tr>\n",
              "      <th>138024</th>\n",
              "      <td>0.974533</td>\n",
              "      <td>61</td>\n",
              "      <td>4</td>\n",
              "      <td>0.533350</td>\n",
              "      <td>7915.0</td>\n",
              "      <td>10</td>\n",
              "      <td>2</td>\n",
              "      <td>2</td>\n",
              "      <td>2</td>\n",
              "      <td>0.0</td>\n",
              "    </tr>\n",
              "  </tbody>\n",
              "</table>\n",
              "<p>32365 rows × 10 columns</p>\n",
              "</div>\n",
              "      <button class=\"colab-df-convert\" onclick=\"convertToInteractive('df-34de0d93-78f9-4d52-ba76-429113b9a16b')\"\n",
              "              title=\"Convert this dataframe to an interactive table.\"\n",
              "              style=\"display:none;\">\n",
              "        \n",
              "  <svg xmlns=\"http://www.w3.org/2000/svg\" height=\"24px\"viewBox=\"0 0 24 24\"\n",
              "       width=\"24px\">\n",
              "    <path d=\"M0 0h24v24H0V0z\" fill=\"none\"/>\n",
              "    <path d=\"M18.56 5.44l.94 2.06.94-2.06 2.06-.94-2.06-.94-.94-2.06-.94 2.06-2.06.94zm-11 1L8.5 8.5l.94-2.06 2.06-.94-2.06-.94L8.5 2.5l-.94 2.06-2.06.94zm10 10l.94 2.06.94-2.06 2.06-.94-2.06-.94-.94-2.06-.94 2.06-2.06.94z\"/><path d=\"M17.41 7.96l-1.37-1.37c-.4-.4-.92-.59-1.43-.59-.52 0-1.04.2-1.43.59L10.3 9.45l-7.72 7.72c-.78.78-.78 2.05 0 2.83L4 21.41c.39.39.9.59 1.41.59.51 0 1.02-.2 1.41-.59l7.78-7.78 2.81-2.81c.8-.78.8-2.07 0-2.86zM5.41 20L4 18.59l7.72-7.72 1.47 1.35L5.41 20z\"/>\n",
              "  </svg>\n",
              "      </button>\n",
              "      \n",
              "  <style>\n",
              "    .colab-df-container {\n",
              "      display:flex;\n",
              "      flex-wrap:wrap;\n",
              "      gap: 12px;\n",
              "    }\n",
              "\n",
              "    .colab-df-convert {\n",
              "      background-color: #E8F0FE;\n",
              "      border: none;\n",
              "      border-radius: 50%;\n",
              "      cursor: pointer;\n",
              "      display: none;\n",
              "      fill: #1967D2;\n",
              "      height: 32px;\n",
              "      padding: 0 0 0 0;\n",
              "      width: 32px;\n",
              "    }\n",
              "\n",
              "    .colab-df-convert:hover {\n",
              "      background-color: #E2EBFA;\n",
              "      box-shadow: 0px 1px 2px rgba(60, 64, 67, 0.3), 0px 1px 3px 1px rgba(60, 64, 67, 0.15);\n",
              "      fill: #174EA6;\n",
              "    }\n",
              "\n",
              "    [theme=dark] .colab-df-convert {\n",
              "      background-color: #3B4455;\n",
              "      fill: #D2E3FC;\n",
              "    }\n",
              "\n",
              "    [theme=dark] .colab-df-convert:hover {\n",
              "      background-color: #434B5C;\n",
              "      box-shadow: 0px 1px 3px 1px rgba(0, 0, 0, 0.15);\n",
              "      filter: drop-shadow(0px 1px 2px rgba(0, 0, 0, 0.3));\n",
              "      fill: #FFFFFF;\n",
              "    }\n",
              "  </style>\n",
              "\n",
              "      <script>\n",
              "        const buttonEl =\n",
              "          document.querySelector('#df-34de0d93-78f9-4d52-ba76-429113b9a16b button.colab-df-convert');\n",
              "        buttonEl.style.display =\n",
              "          google.colab.kernel.accessAllowed ? 'block' : 'none';\n",
              "\n",
              "        async function convertToInteractive(key) {\n",
              "          const element = document.querySelector('#df-34de0d93-78f9-4d52-ba76-429113b9a16b');\n",
              "          const dataTable =\n",
              "            await google.colab.kernel.invokeFunction('convertToInteractive',\n",
              "                                                     [key], {});\n",
              "          if (!dataTable) return;\n",
              "\n",
              "          const docLinkHtml = 'Like what you see? Visit the ' +\n",
              "            '<a target=\"_blank\" href=https://colab.research.google.com/notebooks/data_table.ipynb>data table notebook</a>'\n",
              "            + ' to learn more about interactive tables.';\n",
              "          element.innerHTML = '';\n",
              "          dataTable['output_type'] = 'display_data';\n",
              "          await google.colab.output.renderOutput(dataTable, element);\n",
              "          const docLink = document.createElement('div');\n",
              "          docLink.innerHTML = docLinkHtml;\n",
              "          element.appendChild(docLink);\n",
              "        }\n",
              "      </script>\n",
              "    </div>\n",
              "  </div>\n",
              "  "
            ]
          },
          "metadata": {},
          "execution_count": 77
        }
      ]
    },
    {
      "cell_type": "code",
      "source": [
        "df_subrogado.columns"
      ],
      "metadata": {
        "colab": {
          "base_uri": "https://localhost:8080/"
        },
        "id": "HrDT3U4SsUuf",
        "outputId": "1c34e0d6-3d45-47aa-a96b-49933c825afd"
      },
      "execution_count": null,
      "outputs": [
        {
          "output_type": "execute_result",
          "data": {
            "text/plain": [
              "Index(['RevolvingUtilizationOfUnsecuredLines', 'age',\n",
              "       'NumberOfTime30-59DaysPastDueNotWorse', 'DebtRatio', 'MonthlyIncome',\n",
              "       'NumberOfOpenCreditLinesAndLoans', 'NumberOfTimes90DaysLate',\n",
              "       'NumberRealEstateLoansOrLines', 'NumberOfTime60-89DaysPastDueNotWorse',\n",
              "       'NumberOfDependents'],\n",
              "      dtype='object')"
            ]
          },
          "metadata": {},
          "execution_count": 78
        }
      ]
    },
    {
      "cell_type": "code",
      "source": [
        "cl_train.get_context()"
      ],
      "metadata": {
        "colab": {
          "base_uri": "https://localhost:8080/"
        },
        "id": "KfCObceksX3l",
        "outputId": "f18c04ee-3394-41f2-c1f1-9c622213ca91"
      },
      "execution_count": null,
      "outputs": [
        {
          "output_type": "execute_result",
          "data": {
            "text/plain": [
              "RevolvingUtilizationOfUnsecuredLines        1.381546\n",
              "age                                        46.000000\n",
              "NumberOfTime30-59DaysPastDueNotWorse        2.000000\n",
              "DebtRatio                                   0.119018\n",
              "MonthlyIncome                           10300.000000\n",
              "NumberOfOpenCreditLinesAndLoans             7.000000\n",
              "NumberOfTimes90DaysLate                     1.000000\n",
              "NumberRealEstateLoansOrLines                1.000000\n",
              "NumberOfTime60-89DaysPastDueNotWorse        0.000000\n",
              "NumberOfDependents                          2.000000\n",
              "Name: 25497, dtype: float64"
            ]
          },
          "metadata": {},
          "execution_count": 79
        }
      ]
    },
    {
      "cell_type": "code",
      "source": [
        "acciones_predichas = []\n",
        "contextos = df_subrogado.values\n",
        "for x in contextos: # me recorro fila a fila el dataset subrogado\n",
        "  accion = agente.action(x)\n",
        "  acciones_predichas.append(accion)"
      ],
      "metadata": {
        "id": "EoVcZUxqYVbX"
      },
      "execution_count": null,
      "outputs": []
    },
    {
      "cell_type": "code",
      "source": [
        "len(acciones_predichas)"
      ],
      "metadata": {
        "colab": {
          "base_uri": "https://localhost:8080/"
        },
        "id": "ii0kEJdrYXON",
        "outputId": "034c5fef-6612-4b72-b3fc-b9587ec9e87f"
      },
      "execution_count": null,
      "outputs": [
        {
          "output_type": "execute_result",
          "data": {
            "text/plain": [
              "32365"
            ]
          },
          "metadata": {},
          "execution_count": 81
        }
      ]
    },
    {
      "cell_type": "code",
      "source": [
        "from sklearn.tree import DecisionTreeClassifier, export_graphviz\n",
        "from graphviz import Source\n",
        "\n",
        "startbold = '\\033[1m'\n",
        "endbold = '\\033[0m'\n",
        "\n",
        "clf = DecisionTreeClassifier(\n",
        "    #max_depth=1,\n",
        "    #min_samples_split=0.3, # mínimo número de casos en un nodo para partirlo. 0.3 = 30% del total de casos\n",
        "    #min_samples_leaf=0.2,  # mínimo número de casos en nodo hoja. 0.2 = 20% del total de casos\n",
        "    max_leaf_nodes=5, # máximo número de nodos hoja\n",
        "    #min_weight_fraction_leaf=0.05,\n",
        "    #min_impurity_decrease=0.15\n",
        "    )\n",
        "\n",
        "clf = clf.fit(contextos, acciones_predichas)\n",
        "# clf.classes_\n",
        "attributes_names = df_subrogado.columns\n",
        "\n",
        "display(Source( export_graphviz(clf, out_file=None,\n",
        "                                feature_names=attributes_names,\n",
        "                                #class_names=cluster_names,\n",
        "                                filled=True, rounded=True,\n",
        "                                special_characters=True,\n",
        "                                impurity=True,\n",
        "                                leaves_parallel=True,\n",
        "                                rotate=False,\n",
        "                                node_ids=True)))"
      ],
      "metadata": {
        "colab": {
          "base_uri": "https://localhost:8080/",
          "height": 768
        },
        "id": "3n891JZqYVeQ",
        "outputId": "9e245d93-7d7c-449d-d9ef-e2f46768bc39"
      },
      "execution_count": null,
      "outputs": [
        {
          "output_type": "display_data",
          "data": {
            "image/svg+xml": "<?xml version=\"1.0\" encoding=\"UTF-8\" standalone=\"no\"?>\n<!DOCTYPE svg PUBLIC \"-//W3C//DTD SVG 1.1//EN\"\n \"http://www.w3.org/Graphics/SVG/1.1/DTD/svg11.dtd\">\n<!-- Generated by graphviz version 2.43.0 (0)\n -->\n<!-- Title: Tree Pages: 1 -->\n<svg width=\"684pt\" height=\"560pt\"\n viewBox=\"0.00 0.00 683.50 559.50\" xmlns=\"http://www.w3.org/2000/svg\" xmlns:xlink=\"http://www.w3.org/1999/xlink\">\n<g id=\"graph0\" class=\"graph\" transform=\"scale(1 1) rotate(0) translate(4 555.5)\">\n<title>Tree</title>\n<polygon fill=\"white\" stroke=\"transparent\" points=\"-4,4 -4,-555.5 679.5,-555.5 679.5,4 -4,4\"/>\n<!-- 0 -->\n<g id=\"node1\" class=\"node\">\n<title>0</title>\n<path fill=\"#3ea0e6\" stroke=\"black\" d=\"M629,-551.5C629,-551.5 429,-551.5 429,-551.5 423,-551.5 417,-545.5 417,-539.5 417,-539.5 417,-480.5 417,-480.5 417,-474.5 423,-468.5 429,-468.5 429,-468.5 629,-468.5 629,-468.5 635,-468.5 641,-474.5 641,-480.5 641,-480.5 641,-539.5 641,-539.5 641,-545.5 635,-551.5 629,-551.5\"/>\n<text text-anchor=\"start\" x=\"504.5\" y=\"-536.3\" font-family=\"Helvetica,sans-Serif\" font-size=\"14.00\">node #0</text>\n<text text-anchor=\"start\" x=\"425\" y=\"-521.3\" font-family=\"Helvetica,sans-Serif\" font-size=\"14.00\">NumberOfTimes90DaysLate ≤ 1.5</text>\n<text text-anchor=\"start\" x=\"493.5\" y=\"-506.3\" font-family=\"Helvetica,sans-Serif\" font-size=\"14.00\">gini = 0.049</text>\n<text text-anchor=\"start\" x=\"476.5\" y=\"-491.3\" font-family=\"Helvetica,sans-Serif\" font-size=\"14.00\">samples = 32365</text>\n<text text-anchor=\"start\" x=\"467\" y=\"-476.3\" font-family=\"Helvetica,sans-Serif\" font-size=\"14.00\">value = [815, 31550]</text>\n</g>\n<!-- 1 -->\n<g id=\"node2\" class=\"node\">\n<title>1</title>\n<path fill=\"#3b9ee5\" stroke=\"black\" d=\"M577,-432.5C577,-432.5 305,-432.5 305,-432.5 299,-432.5 293,-426.5 293,-420.5 293,-420.5 293,-361.5 293,-361.5 293,-355.5 299,-349.5 305,-349.5 305,-349.5 577,-349.5 577,-349.5 583,-349.5 589,-355.5 589,-361.5 589,-361.5 589,-420.5 589,-420.5 589,-426.5 583,-432.5 577,-432.5\"/>\n<text text-anchor=\"start\" x=\"416.5\" y=\"-417.3\" font-family=\"Helvetica,sans-Serif\" font-size=\"14.00\">node #1</text>\n<text text-anchor=\"start\" x=\"301\" y=\"-402.3\" font-family=\"Helvetica,sans-Serif\" font-size=\"14.00\">RevolvingUtilizationOfUnsecuredLines ≤ 4.312</text>\n<text text-anchor=\"start\" x=\"405.5\" y=\"-387.3\" font-family=\"Helvetica,sans-Serif\" font-size=\"14.00\">gini = 0.017</text>\n<text text-anchor=\"start\" x=\"388.5\" y=\"-372.3\" font-family=\"Helvetica,sans-Serif\" font-size=\"14.00\">samples = 31724</text>\n<text text-anchor=\"start\" x=\"379\" y=\"-357.3\" font-family=\"Helvetica,sans-Serif\" font-size=\"14.00\">value = [265, 31459]</text>\n</g>\n<!-- 0&#45;&gt;1 -->\n<g id=\"edge1\" class=\"edge\">\n<title>0&#45;&gt;1</title>\n<path fill=\"none\" stroke=\"black\" d=\"M498.47,-468.41C491.71,-459.42 484.48,-449.82 477.52,-440.55\"/>\n<polygon fill=\"black\" stroke=\"black\" points=\"480.29,-438.41 471.48,-432.52 474.69,-442.62 480.29,-438.41\"/>\n<text text-anchor=\"middle\" x=\"467.98\" y=\"-453.57\" font-family=\"Helvetica,sans-Serif\" font-size=\"14.00\">True</text>\n</g>\n<!-- 2 -->\n<g id=\"node9\" class=\"node\">\n<title>2</title>\n<path fill=\"#e9965a\" stroke=\"black\" d=\"M663.5,-68C663.5,-68 570.5,-68 570.5,-68 564.5,-68 558.5,-62 558.5,-56 558.5,-56 558.5,-12 558.5,-12 558.5,-6 564.5,0 570.5,0 570.5,0 663.5,0 663.5,0 669.5,0 675.5,-6 675.5,-12 675.5,-12 675.5,-56 675.5,-56 675.5,-62 669.5,-68 663.5,-68\"/>\n<text text-anchor=\"start\" x=\"592.5\" y=\"-52.8\" font-family=\"Helvetica,sans-Serif\" font-size=\"14.00\">node #2</text>\n<text text-anchor=\"start\" x=\"581.5\" y=\"-37.8\" font-family=\"Helvetica,sans-Serif\" font-size=\"14.00\">gini = 0.244</text>\n<text text-anchor=\"start\" x=\"572\" y=\"-22.8\" font-family=\"Helvetica,sans-Serif\" font-size=\"14.00\">samples = 641</text>\n<text text-anchor=\"start\" x=\"566.5\" y=\"-7.8\" font-family=\"Helvetica,sans-Serif\" font-size=\"14.00\">value = [550, 91]</text>\n</g>\n<!-- 0&#45;&gt;2 -->\n<g id=\"edge8\" class=\"edge\">\n<title>0&#45;&gt;2</title>\n<path fill=\"none\" stroke=\"black\" d=\"M565.92,-468.06C582.33,-449.87 598,-432.5 598,-432.5 598,-432.5 610.01,-181.29 614.93,-78.28\"/>\n<polygon fill=\"black\" stroke=\"black\" points=\"618.43,-78.36 615.41,-68.21 611.44,-78.03 618.43,-78.36\"/>\n<text text-anchor=\"middle\" x=\"632.23\" y=\"-83.01\" font-family=\"Helvetica,sans-Serif\" font-size=\"14.00\">False</text>\n</g>\n<!-- 3 -->\n<g id=\"node3\" class=\"node\">\n<title>3</title>\n<path fill=\"#3a9ee5\" stroke=\"black\" d=\"M391,-313.5C391,-313.5 93,-313.5 93,-313.5 87,-313.5 81,-307.5 81,-301.5 81,-301.5 81,-242.5 81,-242.5 81,-236.5 87,-230.5 93,-230.5 93,-230.5 391,-230.5 391,-230.5 397,-230.5 403,-236.5 403,-242.5 403,-242.5 403,-301.5 403,-301.5 403,-307.5 397,-313.5 391,-313.5\"/>\n<text text-anchor=\"start\" x=\"217.5\" y=\"-298.3\" font-family=\"Helvetica,sans-Serif\" font-size=\"14.00\">node #3</text>\n<text text-anchor=\"start\" x=\"89\" y=\"-283.3\" font-family=\"Helvetica,sans-Serif\" font-size=\"14.00\">NumberOfTime60&#45;89DaysPastDueNotWorse ≤ 1.5</text>\n<text text-anchor=\"start\" x=\"206.5\" y=\"-268.3\" font-family=\"Helvetica,sans-Serif\" font-size=\"14.00\">gini = 0.013</text>\n<text text-anchor=\"start\" x=\"189.5\" y=\"-253.3\" font-family=\"Helvetica,sans-Serif\" font-size=\"14.00\">samples = 31669</text>\n<text text-anchor=\"start\" x=\"180\" y=\"-238.3\" font-family=\"Helvetica,sans-Serif\" font-size=\"14.00\">value = [210, 31459]</text>\n</g>\n<!-- 1&#45;&gt;3 -->\n<g id=\"edge2\" class=\"edge\">\n<title>1&#45;&gt;3</title>\n<path fill=\"none\" stroke=\"black\" d=\"M371.96,-349.41C355.13,-339.52 337.02,-328.87 319.82,-318.75\"/>\n<polygon fill=\"black\" stroke=\"black\" points=\"321.31,-315.57 310.92,-313.52 317.77,-321.61 321.31,-315.57\"/>\n</g>\n<!-- 4 -->\n<g id=\"node8\" class=\"node\">\n<title>4</title>\n<path fill=\"#e58139\" stroke=\"black\" d=\"M504,-68C504,-68 426,-68 426,-68 420,-68 414,-62 414,-56 414,-56 414,-12 414,-12 414,-6 420,0 426,0 426,0 504,0 504,0 510,0 516,-6 516,-12 516,-12 516,-56 516,-56 516,-62 510,-68 504,-68\"/>\n<text text-anchor=\"start\" x=\"440.5\" y=\"-52.8\" font-family=\"Helvetica,sans-Serif\" font-size=\"14.00\">node #4</text>\n<text text-anchor=\"start\" x=\"437\" y=\"-37.8\" font-family=\"Helvetica,sans-Serif\" font-size=\"14.00\">gini = 0.0</text>\n<text text-anchor=\"start\" x=\"424\" y=\"-22.8\" font-family=\"Helvetica,sans-Serif\" font-size=\"14.00\">samples = 55</text>\n<text text-anchor=\"start\" x=\"422\" y=\"-7.8\" font-family=\"Helvetica,sans-Serif\" font-size=\"14.00\">value = [55, 0]</text>\n</g>\n<!-- 1&#45;&gt;4 -->\n<g id=\"edge7\" class=\"edge\">\n<title>1&#45;&gt;4</title>\n<path fill=\"none\" stroke=\"black\" d=\"M443.75,-349.28C448.31,-281.8 457.4,-147.42 462.07,-78.29\"/>\n<polygon fill=\"black\" stroke=\"black\" points=\"465.57,-78.39 462.76,-68.18 458.59,-77.92 465.57,-78.39\"/>\n</g>\n<!-- 5 -->\n<g id=\"node4\" class=\"node\">\n<title>5</title>\n<path fill=\"#3a9de5\" stroke=\"black\" d=\"M120,-68C120,-68 12,-68 12,-68 6,-68 0,-62 0,-56 0,-56 0,-12 0,-12 0,-6 6,0 12,0 12,0 120,0 120,0 126,0 132,-6 132,-12 132,-12 132,-56 132,-56 132,-62 126,-68 120,-68\"/>\n<text text-anchor=\"start\" x=\"41.5\" y=\"-52.8\" font-family=\"Helvetica,sans-Serif\" font-size=\"14.00\">node #5</text>\n<text text-anchor=\"start\" x=\"30.5\" y=\"-37.8\" font-family=\"Helvetica,sans-Serif\" font-size=\"14.00\">gini = 0.006</text>\n<text text-anchor=\"start\" x=\"13.5\" y=\"-22.8\" font-family=\"Helvetica,sans-Serif\" font-size=\"14.00\">samples = 31390</text>\n<text text-anchor=\"start\" x=\"8\" y=\"-7.8\" font-family=\"Helvetica,sans-Serif\" font-size=\"14.00\">value = [90, 31300]</text>\n</g>\n<!-- 3&#45;&gt;5 -->\n<g id=\"edge3\" class=\"edge\">\n<title>3&#45;&gt;5</title>\n<path fill=\"none\" stroke=\"black\" d=\"M177.6,-230.29C148.71,-212.02 121,-194.5 121,-194.5 121,-194.5 97.04,-125 80.74,-77.76\"/>\n<polygon fill=\"black\" stroke=\"black\" points=\"83.96,-76.36 77.4,-68.05 77.35,-78.64 83.96,-76.36\"/>\n</g>\n<!-- 6 -->\n<g id=\"node5\" class=\"node\">\n<title>6</title>\n<path fill=\"#cee7f9\" stroke=\"black\" d=\"M342,-194.5C342,-194.5 142,-194.5 142,-194.5 136,-194.5 130,-188.5 130,-182.5 130,-182.5 130,-123.5 130,-123.5 130,-117.5 136,-111.5 142,-111.5 142,-111.5 342,-111.5 342,-111.5 348,-111.5 354,-117.5 354,-123.5 354,-123.5 354,-182.5 354,-182.5 354,-188.5 348,-194.5 342,-194.5\"/>\n<text text-anchor=\"start\" x=\"217.5\" y=\"-179.3\" font-family=\"Helvetica,sans-Serif\" font-size=\"14.00\">node #6</text>\n<text text-anchor=\"start\" x=\"138\" y=\"-164.3\" font-family=\"Helvetica,sans-Serif\" font-size=\"14.00\">NumberOfTimes90DaysLate ≤ 0.5</text>\n<text text-anchor=\"start\" x=\"210\" y=\"-149.3\" font-family=\"Helvetica,sans-Serif\" font-size=\"14.00\">gini = 0.49</text>\n<text text-anchor=\"start\" x=\"197\" y=\"-134.3\" font-family=\"Helvetica,sans-Serif\" font-size=\"14.00\">samples = 279</text>\n<text text-anchor=\"start\" x=\"187.5\" y=\"-119.3\" font-family=\"Helvetica,sans-Serif\" font-size=\"14.00\">value = [120, 159]</text>\n</g>\n<!-- 3&#45;&gt;6 -->\n<g id=\"edge4\" class=\"edge\">\n<title>3&#45;&gt;6</title>\n<path fill=\"none\" stroke=\"black\" d=\"M242,-230.41C242,-222.15 242,-213.36 242,-204.8\"/>\n<polygon fill=\"black\" stroke=\"black\" points=\"245.5,-204.52 242,-194.52 238.5,-204.52 245.5,-204.52\"/>\n</g>\n<!-- 7 -->\n<g id=\"node6\" class=\"node\">\n<title>7</title>\n<path fill=\"#68b4eb\" stroke=\"black\" d=\"M255.5,-68C255.5,-68 162.5,-68 162.5,-68 156.5,-68 150.5,-62 150.5,-56 150.5,-56 150.5,-12 150.5,-12 150.5,-6 156.5,0 162.5,0 162.5,0 255.5,0 255.5,0 261.5,0 267.5,-6 267.5,-12 267.5,-12 267.5,-56 267.5,-56 267.5,-62 261.5,-68 255.5,-68\"/>\n<text text-anchor=\"start\" x=\"184.5\" y=\"-52.8\" font-family=\"Helvetica,sans-Serif\" font-size=\"14.00\">node #7</text>\n<text text-anchor=\"start\" x=\"173.5\" y=\"-37.8\" font-family=\"Helvetica,sans-Serif\" font-size=\"14.00\">gini = 0.309</text>\n<text text-anchor=\"start\" x=\"164\" y=\"-22.8\" font-family=\"Helvetica,sans-Serif\" font-size=\"14.00\">samples = 178</text>\n<text text-anchor=\"start\" x=\"158.5\" y=\"-7.8\" font-family=\"Helvetica,sans-Serif\" font-size=\"14.00\">value = [34, 144]</text>\n</g>\n<!-- 6&#45;&gt;7 -->\n<g id=\"edge5\" class=\"edge\">\n<title>6&#45;&gt;7</title>\n<path fill=\"none\" stroke=\"black\" d=\"M230.55,-111.41C227.5,-100.59 224.2,-88.88 221.11,-77.94\"/>\n<polygon fill=\"black\" stroke=\"black\" points=\"224.44,-76.84 218.35,-68.17 217.7,-78.74 224.44,-76.84\"/>\n</g>\n<!-- 8 -->\n<g id=\"node7\" class=\"node\">\n<title>8</title>\n<path fill=\"#ea975c\" stroke=\"black\" d=\"M384,-68C384,-68 298,-68 298,-68 292,-68 286,-62 286,-56 286,-56 286,-12 286,-12 286,-6 292,0 298,0 298,0 384,0 384,0 390,0 396,-6 396,-12 396,-12 396,-56 396,-56 396,-62 390,-68 384,-68\"/>\n<text text-anchor=\"start\" x=\"316.5\" y=\"-52.8\" font-family=\"Helvetica,sans-Serif\" font-size=\"14.00\">node #8</text>\n<text text-anchor=\"start\" x=\"305.5\" y=\"-37.8\" font-family=\"Helvetica,sans-Serif\" font-size=\"14.00\">gini = 0.253</text>\n<text text-anchor=\"start\" x=\"296\" y=\"-22.8\" font-family=\"Helvetica,sans-Serif\" font-size=\"14.00\">samples = 101</text>\n<text text-anchor=\"start\" x=\"294\" y=\"-7.8\" font-family=\"Helvetica,sans-Serif\" font-size=\"14.00\">value = [86, 15]</text>\n</g>\n<!-- 6&#45;&gt;8 -->\n<g id=\"edge6\" class=\"edge\">\n<title>6&#45;&gt;8</title>\n<path fill=\"none\" stroke=\"black\" d=\"M276.35,-111.41C286.06,-99.93 296.63,-87.44 306.36,-75.94\"/>\n<polygon fill=\"black\" stroke=\"black\" points=\"309.15,-78.06 312.94,-68.17 303.8,-73.54 309.15,-78.06\"/>\n</g>\n</g>\n</svg>\n",
            "text/plain": [
              "<graphviz.sources.Source at 0x7f1aff7b2040>"
            ]
          },
          "metadata": {}
        }
      ]
    },
    {
      "cell_type": "code",
      "source": [
        "np.unique(acciones_predichas, return_counts=True)"
      ],
      "metadata": {
        "id": "7WoeS67VsGZT",
        "colab": {
          "base_uri": "https://localhost:8080/"
        },
        "outputId": "8fe99082-0e9c-47a2-d41b-f16a87bc409b"
      },
      "execution_count": null,
      "outputs": [
        {
          "output_type": "execute_result",
          "data": {
            "text/plain": [
              "(array([0, 1]), array([  815, 31550]))"
            ]
          },
          "metadata": {},
          "execution_count": 83
        }
      ]
    },
    {
      "cell_type": "code",
      "source": [
        "len(df_train)"
      ],
      "metadata": {
        "colab": {
          "base_uri": "https://localhost:8080/"
        },
        "id": "UuQQmuf8CMIj",
        "outputId": "6cc9088e-e0b0-4ffc-8234-8b388c730383"
      },
      "execution_count": null,
      "outputs": [
        {
          "output_type": "execute_result",
          "data": {
            "text/plain": [
              "75518"
            ]
          },
          "metadata": {},
          "execution_count": 84
        }
      ]
    },
    {
      "cell_type": "code",
      "source": [
        "penalty = -10\n",
        "((penalty*(df_train[\"SeriousDlqin2yrs\"]==1)).sum() + (1*(df_train[\"SeriousDlqin2yrs\"]==0)).sum()) / len(df_train)"
      ],
      "metadata": {
        "colab": {
          "base_uri": "https://localhost:8080/"
        },
        "id": "p5SX7fFbCmT1",
        "outputId": "98f94478-f398-474d-8253-b9cbccc55675"
      },
      "execution_count": null,
      "outputs": [
        {
          "output_type": "execute_result",
          "data": {
            "text/plain": [
              "0.18896157207553166"
            ]
          },
          "metadata": {},
          "execution_count": 85
        }
      ]
    },
    {
      "cell_type": "code",
      "source": [],
      "metadata": {
        "id": "H6vI1dapCzUi"
      },
      "execution_count": null,
      "outputs": []
    }
  ]
}