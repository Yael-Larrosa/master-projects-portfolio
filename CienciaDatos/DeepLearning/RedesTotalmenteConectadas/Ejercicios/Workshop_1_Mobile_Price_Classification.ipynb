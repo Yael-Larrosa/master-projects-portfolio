{
  "nbformat": 4,
  "nbformat_minor": 0,
  "metadata": {
    "colab": {
      "provenance": [],
      "gpuType": "T4"
    },
    "kernelspec": {
      "name": "python3",
      "display_name": "Python 3"
    },
    "accelerator": "GPU"
  },
  "cells": [
    {
      "cell_type": "markdown",
      "metadata": {
        "id": "HZenyhaE7D5U"
      },
      "source": [
        "# Workshop 1: Mobile Price Range Classification\n",
        "\n",
        "In this workshop we will learn how to train a neural network with numeric data as input to predict the price range of mobile phones ([info of the data](https://www.kaggle.com/iabhishekofficial/mobile-price-classification/data#)). The main blocks of the workshop are:\n",
        "\n",
        "1. Get the data from Google Drive.\n",
        "2. Load and Pre-process the data.\n",
        "3. Define a Fully Connected Neural Network.\n",
        "4. Choose loss function and optimizer.\n",
        "5. Train the network.\n",
        "\n",
        "The main libraries thar will be used in the workshop are:\n",
        "\n",
        "- Tensorflow\n",
        "- Keras\n",
        "- Sci-kit Learn\n",
        "- Matplotlib\n",
        "- Numpy\n",
        "- Pandas\n",
        "\n",
        "[Reference](https://towardsdatascience.com/building-our-first-neural-network-in-keras-bdc8abbc17f5)"
      ]
    },
    {
      "cell_type": "markdown",
      "metadata": {
        "id": "ptnsZfN-7A_0"
      },
      "source": [
        "## 1. Get the data from Google Drive"
      ]
    },
    {
      "cell_type": "code",
      "metadata": {
        "id": "yvo1e0KT4zTv"
      },
      "source": [
        "# Import libraries to interact with Google Drive\n",
        "from pydrive.auth import GoogleAuth\n",
        "from pydrive.drive import GoogleDrive\n",
        "from google.colab import auth\n",
        "from oauth2client.client import GoogleCredentials"
      ],
      "execution_count": null,
      "outputs": []
    },
    {
      "cell_type": "code",
      "metadata": {
        "id": "qw0YVraI5hjG"
      },
      "source": [
        "# Authenticate with your Google account to get access to the data\n",
        "auth.authenticate_user()\n",
        "gauth = GoogleAuth()\n",
        "gauth.credentials = GoogleCredentials.get_application_default()\n",
        "drive = GoogleDrive(gauth)"
      ],
      "execution_count": null,
      "outputs": []
    },
    {
      "cell_type": "code",
      "metadata": {
        "id": "vIJOt1lg5pvG"
      },
      "source": [
        "# Download data\n",
        "download = drive.CreateFile({'id': '1igTyUp-YTHG0ig9VeNu83R8jBWn5Djji'})\n",
        "download.GetContentFile('mobile_price.zip')"
      ],
      "execution_count": null,
      "outputs": []
    },
    {
      "cell_type": "code",
      "metadata": {
        "id": "jRnbuD8c6LLp"
      },
      "source": [
        "# Extract data from zip file\n",
        "import zipfile\n",
        "from pathlib import Path\n",
        "data_path = Path(\"./mobile_price.zip\")\n",
        "\n",
        "with zipfile.ZipFile(str(data_path), 'r') as zip_ref:\n",
        "    zip_ref.extractall(\"./data\")"
      ],
      "execution_count": null,
      "outputs": []
    },
    {
      "cell_type": "code",
      "metadata": {
        "id": "bxAVc9xw6eHQ",
        "colab": {
          "base_uri": "https://localhost:8080/"
        },
        "outputId": "5e466e62-2800-4aac-d20a-d6779c961adf"
      },
      "source": [
        "# List files of ./data directory\n",
        "!ls ./data"
      ],
      "execution_count": null,
      "outputs": [
        {
          "output_type": "stream",
          "name": "stdout",
          "text": [
            "test.csv  train.csv\n"
          ]
        }
      ]
    },
    {
      "cell_type": "markdown",
      "metadata": {
        "id": "67CgIbop9ScG"
      },
      "source": [
        "## 2. Load and Pre-process the data\n",
        "\n"
      ]
    },
    {
      "cell_type": "code",
      "metadata": {
        "id": "DvnZlJFV-21i"
      },
      "source": [
        "# Load dependencies for loading data\n",
        "import numpy as np\n",
        "import pandas as pd"
      ],
      "execution_count": null,
      "outputs": []
    },
    {
      "cell_type": "code",
      "metadata": {
        "id": "LT55rVd2_IkM"
      },
      "source": [
        "# Load training dataset and check variables\n",
        "dataset = pd.read_csv('./data/train.csv')"
      ],
      "execution_count": null,
      "outputs": []
    },
    {
      "cell_type": "code",
      "metadata": {
        "id": "m2cpgTmCDqzQ",
        "colab": {
          "base_uri": "https://localhost:8080/"
        },
        "outputId": "f51a1144-bc69-44bf-c9fe-dcc893398f9d"
      },
      "source": [
        "# Show variables\n",
        "dataset.columns"
      ],
      "execution_count": null,
      "outputs": [
        {
          "output_type": "execute_result",
          "data": {
            "text/plain": [
              "Index(['battery_power', 'blue', 'clock_speed', 'dual_sim', 'fc', 'four_g',\n",
              "       'int_memory', 'm_dep', 'mobile_wt', 'n_cores', 'pc', 'px_height',\n",
              "       'px_width', 'ram', 'sc_h', 'sc_w', 'talk_time', 'three_g',\n",
              "       'touch_screen', 'wifi', 'price_range'],\n",
              "      dtype='object')"
            ]
          },
          "metadata": {},
          "execution_count": 11
        }
      ]
    },
    {
      "cell_type": "code",
      "metadata": {
        "id": "L2fZ3NwMB0qD",
        "colab": {
          "base_uri": "https://localhost:8080/",
          "height": 255
        },
        "outputId": "682e9d00-8617-4f83-e560-04f3c75e036b"
      },
      "source": [
        "# Show first 5 rows\n",
        "dataset.head()"
      ],
      "execution_count": null,
      "outputs": [
        {
          "output_type": "execute_result",
          "data": {
            "text/plain": [
              "   battery_power  blue  clock_speed  dual_sim  fc  four_g  int_memory  m_dep  \\\n",
              "0            842     0          2.2         0   1       0           7    0.6   \n",
              "1           1021     1          0.5         1   0       1          53    0.7   \n",
              "2            563     1          0.5         1   2       1          41    0.9   \n",
              "3            615     1          2.5         0   0       0          10    0.8   \n",
              "4           1821     1          1.2         0  13       1          44    0.6   \n",
              "\n",
              "   mobile_wt  n_cores  ...  px_height  px_width   ram  sc_h  sc_w  talk_time  \\\n",
              "0        188        2  ...         20       756  2549     9     7         19   \n",
              "1        136        3  ...        905      1988  2631    17     3          7   \n",
              "2        145        5  ...       1263      1716  2603    11     2          9   \n",
              "3        131        6  ...       1216      1786  2769    16     8         11   \n",
              "4        141        2  ...       1208      1212  1411     8     2         15   \n",
              "\n",
              "   three_g  touch_screen  wifi  price_range  \n",
              "0        0             0     1            1  \n",
              "1        1             1     0            2  \n",
              "2        1             1     0            2  \n",
              "3        1             0     0            2  \n",
              "4        1             1     0            1  \n",
              "\n",
              "[5 rows x 21 columns]"
            ],
            "text/html": [
              "\n",
              "  <div id=\"df-c0808344-3092-4b21-8dd9-fbbb039afc4f\" class=\"colab-df-container\">\n",
              "    <div>\n",
              "<style scoped>\n",
              "    .dataframe tbody tr th:only-of-type {\n",
              "        vertical-align: middle;\n",
              "    }\n",
              "\n",
              "    .dataframe tbody tr th {\n",
              "        vertical-align: top;\n",
              "    }\n",
              "\n",
              "    .dataframe thead th {\n",
              "        text-align: right;\n",
              "    }\n",
              "</style>\n",
              "<table border=\"1\" class=\"dataframe\">\n",
              "  <thead>\n",
              "    <tr style=\"text-align: right;\">\n",
              "      <th></th>\n",
              "      <th>battery_power</th>\n",
              "      <th>blue</th>\n",
              "      <th>clock_speed</th>\n",
              "      <th>dual_sim</th>\n",
              "      <th>fc</th>\n",
              "      <th>four_g</th>\n",
              "      <th>int_memory</th>\n",
              "      <th>m_dep</th>\n",
              "      <th>mobile_wt</th>\n",
              "      <th>n_cores</th>\n",
              "      <th>...</th>\n",
              "      <th>px_height</th>\n",
              "      <th>px_width</th>\n",
              "      <th>ram</th>\n",
              "      <th>sc_h</th>\n",
              "      <th>sc_w</th>\n",
              "      <th>talk_time</th>\n",
              "      <th>three_g</th>\n",
              "      <th>touch_screen</th>\n",
              "      <th>wifi</th>\n",
              "      <th>price_range</th>\n",
              "    </tr>\n",
              "  </thead>\n",
              "  <tbody>\n",
              "    <tr>\n",
              "      <th>0</th>\n",
              "      <td>842</td>\n",
              "      <td>0</td>\n",
              "      <td>2.2</td>\n",
              "      <td>0</td>\n",
              "      <td>1</td>\n",
              "      <td>0</td>\n",
              "      <td>7</td>\n",
              "      <td>0.6</td>\n",
              "      <td>188</td>\n",
              "      <td>2</td>\n",
              "      <td>...</td>\n",
              "      <td>20</td>\n",
              "      <td>756</td>\n",
              "      <td>2549</td>\n",
              "      <td>9</td>\n",
              "      <td>7</td>\n",
              "      <td>19</td>\n",
              "      <td>0</td>\n",
              "      <td>0</td>\n",
              "      <td>1</td>\n",
              "      <td>1</td>\n",
              "    </tr>\n",
              "    <tr>\n",
              "      <th>1</th>\n",
              "      <td>1021</td>\n",
              "      <td>1</td>\n",
              "      <td>0.5</td>\n",
              "      <td>1</td>\n",
              "      <td>0</td>\n",
              "      <td>1</td>\n",
              "      <td>53</td>\n",
              "      <td>0.7</td>\n",
              "      <td>136</td>\n",
              "      <td>3</td>\n",
              "      <td>...</td>\n",
              "      <td>905</td>\n",
              "      <td>1988</td>\n",
              "      <td>2631</td>\n",
              "      <td>17</td>\n",
              "      <td>3</td>\n",
              "      <td>7</td>\n",
              "      <td>1</td>\n",
              "      <td>1</td>\n",
              "      <td>0</td>\n",
              "      <td>2</td>\n",
              "    </tr>\n",
              "    <tr>\n",
              "      <th>2</th>\n",
              "      <td>563</td>\n",
              "      <td>1</td>\n",
              "      <td>0.5</td>\n",
              "      <td>1</td>\n",
              "      <td>2</td>\n",
              "      <td>1</td>\n",
              "      <td>41</td>\n",
              "      <td>0.9</td>\n",
              "      <td>145</td>\n",
              "      <td>5</td>\n",
              "      <td>...</td>\n",
              "      <td>1263</td>\n",
              "      <td>1716</td>\n",
              "      <td>2603</td>\n",
              "      <td>11</td>\n",
              "      <td>2</td>\n",
              "      <td>9</td>\n",
              "      <td>1</td>\n",
              "      <td>1</td>\n",
              "      <td>0</td>\n",
              "      <td>2</td>\n",
              "    </tr>\n",
              "    <tr>\n",
              "      <th>3</th>\n",
              "      <td>615</td>\n",
              "      <td>1</td>\n",
              "      <td>2.5</td>\n",
              "      <td>0</td>\n",
              "      <td>0</td>\n",
              "      <td>0</td>\n",
              "      <td>10</td>\n",
              "      <td>0.8</td>\n",
              "      <td>131</td>\n",
              "      <td>6</td>\n",
              "      <td>...</td>\n",
              "      <td>1216</td>\n",
              "      <td>1786</td>\n",
              "      <td>2769</td>\n",
              "      <td>16</td>\n",
              "      <td>8</td>\n",
              "      <td>11</td>\n",
              "      <td>1</td>\n",
              "      <td>0</td>\n",
              "      <td>0</td>\n",
              "      <td>2</td>\n",
              "    </tr>\n",
              "    <tr>\n",
              "      <th>4</th>\n",
              "      <td>1821</td>\n",
              "      <td>1</td>\n",
              "      <td>1.2</td>\n",
              "      <td>0</td>\n",
              "      <td>13</td>\n",
              "      <td>1</td>\n",
              "      <td>44</td>\n",
              "      <td>0.6</td>\n",
              "      <td>141</td>\n",
              "      <td>2</td>\n",
              "      <td>...</td>\n",
              "      <td>1208</td>\n",
              "      <td>1212</td>\n",
              "      <td>1411</td>\n",
              "      <td>8</td>\n",
              "      <td>2</td>\n",
              "      <td>15</td>\n",
              "      <td>1</td>\n",
              "      <td>1</td>\n",
              "      <td>0</td>\n",
              "      <td>1</td>\n",
              "    </tr>\n",
              "  </tbody>\n",
              "</table>\n",
              "<p>5 rows × 21 columns</p>\n",
              "</div>\n",
              "    <div class=\"colab-df-buttons\">\n",
              "\n",
              "  <div class=\"colab-df-container\">\n",
              "    <button class=\"colab-df-convert\" onclick=\"convertToInteractive('df-c0808344-3092-4b21-8dd9-fbbb039afc4f')\"\n",
              "            title=\"Convert this dataframe to an interactive table.\"\n",
              "            style=\"display:none;\">\n",
              "\n",
              "  <svg xmlns=\"http://www.w3.org/2000/svg\" height=\"24px\" viewBox=\"0 -960 960 960\">\n",
              "    <path d=\"M120-120v-720h720v720H120Zm60-500h600v-160H180v160Zm220 220h160v-160H400v160Zm0 220h160v-160H400v160ZM180-400h160v-160H180v160Zm440 0h160v-160H620v160ZM180-180h160v-160H180v160Zm440 0h160v-160H620v160Z\"/>\n",
              "  </svg>\n",
              "    </button>\n",
              "\n",
              "  <style>\n",
              "    .colab-df-container {\n",
              "      display:flex;\n",
              "      gap: 12px;\n",
              "    }\n",
              "\n",
              "    .colab-df-convert {\n",
              "      background-color: #E8F0FE;\n",
              "      border: none;\n",
              "      border-radius: 50%;\n",
              "      cursor: pointer;\n",
              "      display: none;\n",
              "      fill: #1967D2;\n",
              "      height: 32px;\n",
              "      padding: 0 0 0 0;\n",
              "      width: 32px;\n",
              "    }\n",
              "\n",
              "    .colab-df-convert:hover {\n",
              "      background-color: #E2EBFA;\n",
              "      box-shadow: 0px 1px 2px rgba(60, 64, 67, 0.3), 0px 1px 3px 1px rgba(60, 64, 67, 0.15);\n",
              "      fill: #174EA6;\n",
              "    }\n",
              "\n",
              "    .colab-df-buttons div {\n",
              "      margin-bottom: 4px;\n",
              "    }\n",
              "\n",
              "    [theme=dark] .colab-df-convert {\n",
              "      background-color: #3B4455;\n",
              "      fill: #D2E3FC;\n",
              "    }\n",
              "\n",
              "    [theme=dark] .colab-df-convert:hover {\n",
              "      background-color: #434B5C;\n",
              "      box-shadow: 0px 1px 3px 1px rgba(0, 0, 0, 0.15);\n",
              "      filter: drop-shadow(0px 1px 2px rgba(0, 0, 0, 0.3));\n",
              "      fill: #FFFFFF;\n",
              "    }\n",
              "  </style>\n",
              "\n",
              "    <script>\n",
              "      const buttonEl =\n",
              "        document.querySelector('#df-c0808344-3092-4b21-8dd9-fbbb039afc4f button.colab-df-convert');\n",
              "      buttonEl.style.display =\n",
              "        google.colab.kernel.accessAllowed ? 'block' : 'none';\n",
              "\n",
              "      async function convertToInteractive(key) {\n",
              "        const element = document.querySelector('#df-c0808344-3092-4b21-8dd9-fbbb039afc4f');\n",
              "        const dataTable =\n",
              "          await google.colab.kernel.invokeFunction('convertToInteractive',\n",
              "                                                    [key], {});\n",
              "        if (!dataTable) return;\n",
              "\n",
              "        const docLinkHtml = 'Like what you see? Visit the ' +\n",
              "          '<a target=\"_blank\" href=https://colab.research.google.com/notebooks/data_table.ipynb>data table notebook</a>'\n",
              "          + ' to learn more about interactive tables.';\n",
              "        element.innerHTML = '';\n",
              "        dataTable['output_type'] = 'display_data';\n",
              "        await google.colab.output.renderOutput(dataTable, element);\n",
              "        const docLink = document.createElement('div');\n",
              "        docLink.innerHTML = docLinkHtml;\n",
              "        element.appendChild(docLink);\n",
              "      }\n",
              "    </script>\n",
              "  </div>\n",
              "\n",
              "\n",
              "<div id=\"df-fcd12db1-b7b0-470c-b32b-c3608c10bc0d\">\n",
              "  <button class=\"colab-df-quickchart\" onclick=\"quickchart('df-fcd12db1-b7b0-470c-b32b-c3608c10bc0d')\"\n",
              "            title=\"Suggest charts\"\n",
              "            style=\"display:none;\">\n",
              "\n",
              "<svg xmlns=\"http://www.w3.org/2000/svg\" height=\"24px\"viewBox=\"0 0 24 24\"\n",
              "     width=\"24px\">\n",
              "    <g>\n",
              "        <path d=\"M19 3H5c-1.1 0-2 .9-2 2v14c0 1.1.9 2 2 2h14c1.1 0 2-.9 2-2V5c0-1.1-.9-2-2-2zM9 17H7v-7h2v7zm4 0h-2V7h2v10zm4 0h-2v-4h2v4z\"/>\n",
              "    </g>\n",
              "</svg>\n",
              "  </button>\n",
              "\n",
              "<style>\n",
              "  .colab-df-quickchart {\n",
              "      --bg-color: #E8F0FE;\n",
              "      --fill-color: #1967D2;\n",
              "      --hover-bg-color: #E2EBFA;\n",
              "      --hover-fill-color: #174EA6;\n",
              "      --disabled-fill-color: #AAA;\n",
              "      --disabled-bg-color: #DDD;\n",
              "  }\n",
              "\n",
              "  [theme=dark] .colab-df-quickchart {\n",
              "      --bg-color: #3B4455;\n",
              "      --fill-color: #D2E3FC;\n",
              "      --hover-bg-color: #434B5C;\n",
              "      --hover-fill-color: #FFFFFF;\n",
              "      --disabled-bg-color: #3B4455;\n",
              "      --disabled-fill-color: #666;\n",
              "  }\n",
              "\n",
              "  .colab-df-quickchart {\n",
              "    background-color: var(--bg-color);\n",
              "    border: none;\n",
              "    border-radius: 50%;\n",
              "    cursor: pointer;\n",
              "    display: none;\n",
              "    fill: var(--fill-color);\n",
              "    height: 32px;\n",
              "    padding: 0;\n",
              "    width: 32px;\n",
              "  }\n",
              "\n",
              "  .colab-df-quickchart:hover {\n",
              "    background-color: var(--hover-bg-color);\n",
              "    box-shadow: 0 1px 2px rgba(60, 64, 67, 0.3), 0 1px 3px 1px rgba(60, 64, 67, 0.15);\n",
              "    fill: var(--button-hover-fill-color);\n",
              "  }\n",
              "\n",
              "  .colab-df-quickchart-complete:disabled,\n",
              "  .colab-df-quickchart-complete:disabled:hover {\n",
              "    background-color: var(--disabled-bg-color);\n",
              "    fill: var(--disabled-fill-color);\n",
              "    box-shadow: none;\n",
              "  }\n",
              "\n",
              "  .colab-df-spinner {\n",
              "    border: 2px solid var(--fill-color);\n",
              "    border-color: transparent;\n",
              "    border-bottom-color: var(--fill-color);\n",
              "    animation:\n",
              "      spin 1s steps(1) infinite;\n",
              "  }\n",
              "\n",
              "  @keyframes spin {\n",
              "    0% {\n",
              "      border-color: transparent;\n",
              "      border-bottom-color: var(--fill-color);\n",
              "      border-left-color: var(--fill-color);\n",
              "    }\n",
              "    20% {\n",
              "      border-color: transparent;\n",
              "      border-left-color: var(--fill-color);\n",
              "      border-top-color: var(--fill-color);\n",
              "    }\n",
              "    30% {\n",
              "      border-color: transparent;\n",
              "      border-left-color: var(--fill-color);\n",
              "      border-top-color: var(--fill-color);\n",
              "      border-right-color: var(--fill-color);\n",
              "    }\n",
              "    40% {\n",
              "      border-color: transparent;\n",
              "      border-right-color: var(--fill-color);\n",
              "      border-top-color: var(--fill-color);\n",
              "    }\n",
              "    60% {\n",
              "      border-color: transparent;\n",
              "      border-right-color: var(--fill-color);\n",
              "    }\n",
              "    80% {\n",
              "      border-color: transparent;\n",
              "      border-right-color: var(--fill-color);\n",
              "      border-bottom-color: var(--fill-color);\n",
              "    }\n",
              "    90% {\n",
              "      border-color: transparent;\n",
              "      border-bottom-color: var(--fill-color);\n",
              "    }\n",
              "  }\n",
              "</style>\n",
              "\n",
              "  <script>\n",
              "    async function quickchart(key) {\n",
              "      const quickchartButtonEl =\n",
              "        document.querySelector('#' + key + ' button');\n",
              "      quickchartButtonEl.disabled = true;  // To prevent multiple clicks.\n",
              "      quickchartButtonEl.classList.add('colab-df-spinner');\n",
              "      try {\n",
              "        const charts = await google.colab.kernel.invokeFunction(\n",
              "            'suggestCharts', [key], {});\n",
              "      } catch (error) {\n",
              "        console.error('Error during call to suggestCharts:', error);\n",
              "      }\n",
              "      quickchartButtonEl.classList.remove('colab-df-spinner');\n",
              "      quickchartButtonEl.classList.add('colab-df-quickchart-complete');\n",
              "    }\n",
              "    (() => {\n",
              "      let quickchartButtonEl =\n",
              "        document.querySelector('#df-fcd12db1-b7b0-470c-b32b-c3608c10bc0d button');\n",
              "      quickchartButtonEl.style.display =\n",
              "        google.colab.kernel.accessAllowed ? 'block' : 'none';\n",
              "    })();\n",
              "  </script>\n",
              "</div>\n",
              "    </div>\n",
              "  </div>\n"
            ],
            "application/vnd.google.colaboratory.intrinsic+json": {
              "type": "dataframe",
              "variable_name": "dataset"
            }
          },
          "metadata": {},
          "execution_count": 12
        }
      ]
    },
    {
      "cell_type": "code",
      "metadata": {
        "id": "GdXq9ybYCAij"
      },
      "source": [
        "# Import dependencies for pre-processing\n",
        "from sklearn.preprocessing import StandardScaler\n",
        "from sklearn.preprocessing import OneHotEncoder\n",
        "from sklearn.model_selection import train_test_split"
      ],
      "execution_count": null,
      "outputs": []
    },
    {
      "cell_type": "code",
      "metadata": {
        "id": "wcNOetOZDZ8B"
      },
      "source": [
        "# Convert pandas Dataframe to Numpy Array\n",
        "dataset_numpy = dataset.values"
      ],
      "execution_count": null,
      "outputs": []
    },
    {
      "cell_type": "code",
      "metadata": {
        "id": "jCSxYok-ByDS",
        "colab": {
          "base_uri": "https://localhost:8080/"
        },
        "outputId": "42556eec-5545-4c45-cc85-f460a94384e8"
      },
      "source": [
        "# Show data type before and after conversion\n",
        "print(type(dataset))\n",
        "print(type(dataset_numpy.dtype)) #convertir siempre los datasets a numpy porque con df no sabe trabajar"
      ],
      "execution_count": null,
      "outputs": [
        {
          "output_type": "stream",
          "name": "stdout",
          "text": [
            "<class 'pandas.core.frame.DataFrame'>\n",
            "<class 'numpy.dtypes.Float64DType'>\n"
          ]
        }
      ]
    },
    {
      "cell_type": "code",
      "metadata": {
        "id": "H9H_gM8eHe5O"
      },
      "source": [
        "# Separate input variables from output label\n",
        "X = dataset_numpy[:, :20]\n",
        "y = dataset_numpy[:, 20:21]"
      ],
      "execution_count": null,
      "outputs": []
    },
    {
      "cell_type": "code",
      "metadata": {
        "id": "YOciSYTzB8QT",
        "colab": {
          "base_uri": "https://localhost:8080/"
        },
        "outputId": "77127d6c-080c-4c42-fbd0-f4d30ff6ea76"
      },
      "source": [
        "# Show shape of training data and labels\n",
        "print(\"Shape of training data: \", X.shape)\n",
        "print(\"Shape of training labels: \", y.shape)"
      ],
      "execution_count": null,
      "outputs": [
        {
          "output_type": "stream",
          "name": "stdout",
          "text": [
            "Shape of training data:  (2000, 20)\n",
            "Shape of training labels:  (2000, 1)\n"
          ]
        }
      ]
    },
    {
      "cell_type": "code",
      "metadata": {
        "id": "uu1afk5OIt2c",
        "colab": {
          "base_uri": "https://localhost:8080/"
        },
        "outputId": "d296ef19-50d3-48e7-cc0d-fd3cd02416a0"
      },
      "source": [
        "# Show different classes to predict\n",
        "np.unique(y)"
      ],
      "execution_count": null,
      "outputs": [
        {
          "output_type": "execute_result",
          "data": {
            "text/plain": [
              "array([0., 1., 2., 3.])"
            ]
          },
          "metadata": {},
          "execution_count": 18
        }
      ]
    },
    {
      "cell_type": "code",
      "metadata": {
        "id": "yD9F7PoxIhR7"
      },
      "source": [
        "# Normalizing the data to improve stability while training\n",
        "sc = StandardScaler()\n",
        "sc.fit(X)\n",
        "X_norm = sc.transform(X)"
      ],
      "execution_count": null,
      "outputs": []
    },
    {
      "cell_type": "code",
      "metadata": {
        "id": "GcYYTbkIHl1p",
        "colab": {
          "base_uri": "https://localhost:8080/"
        },
        "outputId": "55da3729-c548-4827-92cb-3935d0f4a838"
      },
      "source": [
        "# Show mean and Standard Deviation learnt from training data\n",
        "print(\"Mean per variable: \\n\", sc.mean_)\n",
        "print(\"Standard Deviation per variable: \\n\", sc.scale_)"
      ],
      "execution_count": null,
      "outputs": [
        {
          "output_type": "stream",
          "name": "stdout",
          "text": [
            "Mean per variable: \n",
            " [1.2385185e+03 4.9500000e-01 1.5222500e+00 5.0950000e-01 4.3095000e+00\n",
            " 5.2150000e-01 3.2046500e+01 5.0175000e-01 1.4024900e+02 4.5205000e+00\n",
            " 9.9165000e+00 6.4510800e+02 1.2515155e+03 2.1242130e+03 1.2306500e+01\n",
            " 5.7670000e+00 1.1011000e+01 7.6150000e-01 5.0300000e-01 5.0700000e-01]\n",
            "Standard Deviation per variable: \n",
            " [4.39308338e+02 4.99974999e-01 8.15800182e-01 4.99909742e-01\n",
            " 4.34035825e+00 4.99537536e-01 1.81411780e+01 2.88343437e-01\n",
            " 3.53908039e+01 2.28726469e+00 6.06279867e+00 4.43669852e+02\n",
            " 4.32091384e+02 1.08446083e+03 4.21219156e+00 4.35530837e+00\n",
            " 5.46258904e+00 4.26166341e-01 4.99991000e-01 4.99950998e-01]\n"
          ]
        }
      ]
    },
    {
      "cell_type": "code",
      "metadata": {
        "id": "-PgxBF8oBkYS",
        "colab": {
          "base_uri": "https://localhost:8080/"
        },
        "outputId": "b054ed5c-fb0e-438b-8eba-d428d5f5277e"
      },
      "source": [
        "# Show data before and after normalization\n",
        "print(\"Before normalization: \\n\", X[1, :])\n",
        "print(\"After normalization: \\n\", X_norm[1, :])"
      ],
      "execution_count": null,
      "outputs": [
        {
          "output_type": "stream",
          "name": "stdout",
          "text": [
            "Before normalization: \n",
            " [1.021e+03 1.000e+00 5.000e-01 1.000e+00 0.000e+00 1.000e+00 5.300e+01\n",
            " 7.000e-01 1.360e+02 3.000e+00 6.000e+00 9.050e+02 1.988e+03 2.631e+03\n",
            " 1.700e+01 3.000e+00 7.000e+00 1.000e+00 1.000e+00 0.000e+00]\n",
            "After normalization: \n",
            " [-0.49513857  1.0100505  -1.2530642   0.98117712 -0.99289039  0.95788598\n",
            "  1.15502422  0.68754816 -0.12005944 -0.66476784 -0.64598879  0.58577791\n",
            "  1.70446468  0.46731702  1.11426556 -0.63531667 -0.73426721  0.55964063\n",
            "  0.99401789 -1.01409939]\n"
          ]
        }
      ]
    },
    {
      "cell_type": "code",
      "source": [
        "y"
      ],
      "metadata": {
        "id": "Tz3FjGInZsiX",
        "colab": {
          "base_uri": "https://localhost:8080/"
        },
        "outputId": "6bc074ff-8081-4887-91c2-336e7920f8ef"
      },
      "execution_count": null,
      "outputs": [
        {
          "output_type": "execute_result",
          "data": {
            "text/plain": [
              "array([[1.],\n",
              "       [2.],\n",
              "       [2.],\n",
              "       ...,\n",
              "       [3.],\n",
              "       [0.],\n",
              "       [3.]])"
            ]
          },
          "metadata": {},
          "execution_count": 22
        }
      ]
    },
    {
      "cell_type": "code",
      "metadata": {
        "id": "5Z_i4ZxzLS5R"
      },
      "source": [
        "# One-hot encoding of labels\n",
        "onehot_enc = OneHotEncoder()\n",
        "y_onehot = onehot_enc.fit_transform(y).toarray()"
      ],
      "execution_count": null,
      "outputs": []
    },
    {
      "cell_type": "code",
      "metadata": {
        "id": "suaSrXbWMeZx",
        "colab": {
          "base_uri": "https://localhost:8080/"
        },
        "outputId": "30f30d44-64c9-41bb-cde2-e64f9abb5603"
      },
      "source": [
        "# Show labels before and after one-hot encoding\n",
        "print(\"Before onet-hot encodeing: \\n\", y[0])\n",
        "print(\"After onet-hot encodeing: \\n\", y_onehot[0]) # la salida de la red neuronal va a tener ese formato y vera clase a clase si coiciden"
      ],
      "execution_count": null,
      "outputs": [
        {
          "output_type": "stream",
          "name": "stdout",
          "text": [
            "Before onet-hot encodeing: \n",
            " [1.]\n",
            "After onet-hot encodeing: \n",
            " [0. 1. 0. 0.]\n"
          ]
        }
      ]
    },
    {
      "cell_type": "code",
      "metadata": {
        "id": "5SbrKQ10Navz"
      },
      "source": [
        "# Split data in training and validation partitions\n",
        "X_train, X_val, y_train, y_val = train_test_split(X_norm, y_onehot,\n",
        "                                                  test_size=0.1)"
      ],
      "execution_count": null,
      "outputs": []
    },
    {
      "cell_type": "code",
      "metadata": {
        "id": "BP1GOQRmOMSK",
        "colab": {
          "base_uri": "https://localhost:8080/"
        },
        "outputId": "6d46ce23-cb2e-4bc5-90bc-b19b3b187963"
      },
      "source": [
        "# Show sizes of partitions\n",
        "print(\"Size of training data: \", X_train.shape)\n",
        "print(\"Size of training labels: \", y_train.shape)\n",
        "print(\"Size of validation data: \", X_val.shape)\n",
        "print(\"Size of validation labels: \", y_val.shape)"
      ],
      "execution_count": null,
      "outputs": [
        {
          "output_type": "stream",
          "name": "stdout",
          "text": [
            "Size of training data:  (1800, 20)\n",
            "Size of training labels:  (1800, 4)\n",
            "Size of validation data:  (200, 20)\n",
            "Size of validation labels:  (200, 4)\n"
          ]
        }
      ]
    },
    {
      "cell_type": "markdown",
      "metadata": {
        "id": "M_aOe_XI9Vw7"
      },
      "source": [
        "## 3. Define a Fully Connected Neural Network"
      ]
    },
    {
      "cell_type": "code",
      "metadata": {
        "id": "fdemo-HaPBej"
      },
      "source": [
        "# Import dependencies for designing Keras model\n",
        "from tensorflow import keras\n",
        "from keras.models import Sequential #porque la redes son una secuencia de computos\n",
        "from keras.layers import Dense"
      ],
      "execution_count": null,
      "outputs": []
    },
    {
      "cell_type": "code",
      "metadata": {
        "id": "WW5nXU1YPOtl"
      },
      "source": [
        "# Design simple neural network architecture\n",
        "model = Sequential()\n",
        "model.add(Dense(16, input_dim=20, activation='relu')) #capa1 (entrada) al ser la entrada le tengo que decir las variables de entrada que son 20. 16 neuronas porque he querido. En las capas de entrada relu suele ser la que mejor funciona\n",
        "model.add(Dense(12, activation='relu')) # capa 'densa' significa totalmente conectada. Esta es una capa oculta de 12 neuronas\n",
        "model.add(Dense(4, activation='softmax')) # capa de salida, hay 4 neuronas porque hay cuatro clases y es softmax porque como es unietiqueta los valores que devuelven s entre 0 y 1 y la suma de las respuestas tiene que ser igual a 1"
      ],
      "execution_count": null,
      "outputs": []
    },
    {
      "cell_type": "code",
      "metadata": {
        "id": "HRp_OCx8QNXd",
        "colab": {
          "base_uri": "https://localhost:8080/"
        },
        "outputId": "fd7e3586-370f-48bf-8ceb-cda0e0ae0f3c"
      },
      "source": [
        "# Show model information\n",
        "model.summary()"
      ],
      "execution_count": null,
      "outputs": [
        {
          "output_type": "stream",
          "name": "stdout",
          "text": [
            "Model: \"sequential\"\n",
            "_________________________________________________________________\n",
            " Layer (type)                Output Shape              Param #   \n",
            "=================================================================\n",
            " dense (Dense)               (None, 16)                336       \n",
            "                                                                 \n",
            " dense_1 (Dense)             (None, 12)                204       \n",
            "                                                                 \n",
            " dense_2 (Dense)             (None, 4)                 52        \n",
            "                                                                 \n",
            "=================================================================\n",
            "Total params: 592 (2.31 KB)\n",
            "Trainable params: 592 (2.31 KB)\n",
            "Non-trainable params: 0 (0.00 Byte)\n",
            "_________________________________________________________________\n"
          ]
        }
      ]
    },
    {
      "cell_type": "markdown",
      "metadata": {
        "id": "fBhIc1LbQfEC"
      },
      "source": [
        "The number of parameters of each layer is obtained as follows:\n",
        "\n",
        "\n",
        "*   params_dense_1 = (input_var_num + 1) * dense_1_neurons = (20 + 1) * 16 = 336\n",
        "*   params_dense_2 = (dense_1_neurons + 1) * dense_2_neurons = (16 + 1) * 12 =      204\n",
        "*   params_dense_3 = (dense_2_neurons + 1) * dense_3_neurons = (12 + 1) * 4 =      52\n",
        "\n",
        "Where +1 comes from the bias term added in each layer.\n",
        "\n",
        "\n"
      ]
    },
    {
      "cell_type": "markdown",
      "metadata": {
        "id": "_pSRNx4w9UKo"
      },
      "source": [
        "## 4. Choose loss function and optimizer\n"
      ]
    },
    {
      "cell_type": "code",
      "metadata": {
        "id": "zBF6dr1oSRIC"
      },
      "source": [
        "# Choose loss function, optimizer and training metrics\n",
        "model.compile(loss='categorical_crossentropy', optimizer='adam',\n",
        "              metrics=['accuracy']) # esto es la compilación del modelo. la clasificacion multiclase siempre usar categorical_crossentropy. optimazer es la manera de implementar el proceso de apredizage (siempre adam)"
      ],
      "execution_count": null,
      "outputs": []
    },
    {
      "cell_type": "markdown",
      "metadata": {
        "id": "CgyWHPSG9wZ1"
      },
      "source": [
        "## 5. Train the network\n",
        "\n"
      ]
    },
    {
      "cell_type": "code",
      "metadata": {
        "id": "97AQk6XZ92pZ",
        "colab": {
          "base_uri": "https://localhost:8080/"
        },
        "outputId": "d3841d63-1f3d-4f8c-82e2-7ed865f87271"
      },
      "source": [
        "# Choose number of epochs and batch size and train the model\n",
        "history = model.fit(X_train, y_train, epochs=100, batch_size=64,\n",
        "                    validation_data=(X_val, y_val)) #oom significa que la gpu se ha quedado sin memoria por lo que hay que disminuir el batch_size"
      ],
      "execution_count": null,
      "outputs": [
        {
          "output_type": "stream",
          "name": "stdout",
          "text": [
            "Epoch 1/100\n",
            "29/29 [==============================] - 3s 20ms/step - loss: 1.4780 - accuracy: 0.2183 - val_loss: 1.4361 - val_accuracy: 0.2300\n",
            "Epoch 2/100\n",
            "29/29 [==============================] - 0s 6ms/step - loss: 1.3800 - accuracy: 0.2833 - val_loss: 1.3908 - val_accuracy: 0.2750\n",
            "Epoch 3/100\n",
            "29/29 [==============================] - 0s 8ms/step - loss: 1.3204 - accuracy: 0.3606 - val_loss: 1.3373 - val_accuracy: 0.3400\n",
            "Epoch 4/100\n",
            "29/29 [==============================] - 0s 7ms/step - loss: 1.2611 - accuracy: 0.4211 - val_loss: 1.2825 - val_accuracy: 0.3850\n",
            "Epoch 5/100\n",
            "29/29 [==============================] - 0s 10ms/step - loss: 1.1957 - accuracy: 0.4772 - val_loss: 1.2169 - val_accuracy: 0.4200\n",
            "Epoch 6/100\n",
            "29/29 [==============================] - 0s 9ms/step - loss: 1.1201 - accuracy: 0.5261 - val_loss: 1.1391 - val_accuracy: 0.4900\n",
            "Epoch 7/100\n",
            "29/29 [==============================] - 0s 8ms/step - loss: 1.0394 - accuracy: 0.5672 - val_loss: 1.0610 - val_accuracy: 0.5300\n",
            "Epoch 8/100\n",
            "29/29 [==============================] - 0s 10ms/step - loss: 0.9570 - accuracy: 0.6089 - val_loss: 0.9818 - val_accuracy: 0.5700\n",
            "Epoch 9/100\n",
            "29/29 [==============================] - 0s 8ms/step - loss: 0.8754 - accuracy: 0.6550 - val_loss: 0.9005 - val_accuracy: 0.5950\n",
            "Epoch 10/100\n",
            "29/29 [==============================] - 0s 9ms/step - loss: 0.7989 - accuracy: 0.7006 - val_loss: 0.8323 - val_accuracy: 0.6550\n",
            "Epoch 11/100\n",
            "29/29 [==============================] - 0s 7ms/step - loss: 0.7315 - accuracy: 0.7217 - val_loss: 0.7688 - val_accuracy: 0.6900\n",
            "Epoch 12/100\n",
            "29/29 [==============================] - 0s 8ms/step - loss: 0.6722 - accuracy: 0.7656 - val_loss: 0.7125 - val_accuracy: 0.7200\n",
            "Epoch 13/100\n",
            "29/29 [==============================] - 0s 12ms/step - loss: 0.6192 - accuracy: 0.7844 - val_loss: 0.6652 - val_accuracy: 0.7450\n",
            "Epoch 14/100\n",
            "29/29 [==============================] - 0s 8ms/step - loss: 0.5733 - accuracy: 0.8056 - val_loss: 0.6202 - val_accuracy: 0.7700\n",
            "Epoch 15/100\n",
            "29/29 [==============================] - 0s 11ms/step - loss: 0.5323 - accuracy: 0.8283 - val_loss: 0.5821 - val_accuracy: 0.8050\n",
            "Epoch 16/100\n",
            "29/29 [==============================] - 0s 6ms/step - loss: 0.4960 - accuracy: 0.8417 - val_loss: 0.5437 - val_accuracy: 0.8100\n",
            "Epoch 17/100\n",
            "29/29 [==============================] - 0s 7ms/step - loss: 0.4634 - accuracy: 0.8611 - val_loss: 0.5142 - val_accuracy: 0.8300\n",
            "Epoch 18/100\n",
            "29/29 [==============================] - 0s 8ms/step - loss: 0.4338 - accuracy: 0.8672 - val_loss: 0.4848 - val_accuracy: 0.8500\n",
            "Epoch 19/100\n",
            "29/29 [==============================] - 0s 6ms/step - loss: 0.4060 - accuracy: 0.8761 - val_loss: 0.4585 - val_accuracy: 0.8650\n",
            "Epoch 20/100\n",
            "29/29 [==============================] - 0s 8ms/step - loss: 0.3837 - accuracy: 0.8894 - val_loss: 0.4403 - val_accuracy: 0.8650\n",
            "Epoch 21/100\n",
            "29/29 [==============================] - 0s 9ms/step - loss: 0.3613 - accuracy: 0.8978 - val_loss: 0.4162 - val_accuracy: 0.8750\n",
            "Epoch 22/100\n",
            "29/29 [==============================] - 0s 11ms/step - loss: 0.3415 - accuracy: 0.9050 - val_loss: 0.4002 - val_accuracy: 0.8700\n",
            "Epoch 23/100\n",
            "29/29 [==============================] - 0s 16ms/step - loss: 0.3232 - accuracy: 0.9100 - val_loss: 0.3870 - val_accuracy: 0.8800\n",
            "Epoch 24/100\n",
            "29/29 [==============================] - 0s 12ms/step - loss: 0.3059 - accuracy: 0.9100 - val_loss: 0.3732 - val_accuracy: 0.8800\n",
            "Epoch 25/100\n",
            "29/29 [==============================] - 0s 7ms/step - loss: 0.2910 - accuracy: 0.9150 - val_loss: 0.3566 - val_accuracy: 0.8850\n",
            "Epoch 26/100\n",
            "29/29 [==============================] - 0s 5ms/step - loss: 0.2756 - accuracy: 0.9200 - val_loss: 0.3498 - val_accuracy: 0.8700\n",
            "Epoch 27/100\n",
            "29/29 [==============================] - 0s 6ms/step - loss: 0.2635 - accuracy: 0.9217 - val_loss: 0.3390 - val_accuracy: 0.8600\n",
            "Epoch 28/100\n",
            "29/29 [==============================] - 0s 6ms/step - loss: 0.2516 - accuracy: 0.9306 - val_loss: 0.3245 - val_accuracy: 0.8700\n",
            "Epoch 29/100\n",
            "29/29 [==============================] - 0s 6ms/step - loss: 0.2396 - accuracy: 0.9300 - val_loss: 0.3139 - val_accuracy: 0.8700\n",
            "Epoch 30/100\n",
            "29/29 [==============================] - 0s 6ms/step - loss: 0.2294 - accuracy: 0.9339 - val_loss: 0.3077 - val_accuracy: 0.8600\n",
            "Epoch 31/100\n",
            "29/29 [==============================] - 0s 6ms/step - loss: 0.2203 - accuracy: 0.9356 - val_loss: 0.2975 - val_accuracy: 0.8650\n",
            "Epoch 32/100\n",
            "29/29 [==============================] - 0s 6ms/step - loss: 0.2144 - accuracy: 0.9350 - val_loss: 0.2911 - val_accuracy: 0.8650\n",
            "Epoch 33/100\n",
            "29/29 [==============================] - 0s 4ms/step - loss: 0.2056 - accuracy: 0.9417 - val_loss: 0.2898 - val_accuracy: 0.8700\n",
            "Epoch 34/100\n",
            "29/29 [==============================] - 0s 4ms/step - loss: 0.1957 - accuracy: 0.9417 - val_loss: 0.2821 - val_accuracy: 0.8750\n",
            "Epoch 35/100\n",
            "29/29 [==============================] - 0s 4ms/step - loss: 0.1878 - accuracy: 0.9456 - val_loss: 0.2801 - val_accuracy: 0.8600\n",
            "Epoch 36/100\n",
            "29/29 [==============================] - 0s 4ms/step - loss: 0.1821 - accuracy: 0.9461 - val_loss: 0.2725 - val_accuracy: 0.8750\n",
            "Epoch 37/100\n",
            "29/29 [==============================] - 0s 4ms/step - loss: 0.1764 - accuracy: 0.9483 - val_loss: 0.2705 - val_accuracy: 0.8800\n",
            "Epoch 38/100\n",
            "29/29 [==============================] - 0s 4ms/step - loss: 0.1704 - accuracy: 0.9478 - val_loss: 0.2670 - val_accuracy: 0.8750\n",
            "Epoch 39/100\n",
            "29/29 [==============================] - 0s 4ms/step - loss: 0.1658 - accuracy: 0.9506 - val_loss: 0.2583 - val_accuracy: 0.8750\n",
            "Epoch 40/100\n",
            "29/29 [==============================] - 0s 4ms/step - loss: 0.1590 - accuracy: 0.9556 - val_loss: 0.2576 - val_accuracy: 0.8800\n",
            "Epoch 41/100\n",
            "29/29 [==============================] - 0s 4ms/step - loss: 0.1555 - accuracy: 0.9561 - val_loss: 0.2473 - val_accuracy: 0.8900\n",
            "Epoch 42/100\n",
            "29/29 [==============================] - 0s 4ms/step - loss: 0.1498 - accuracy: 0.9594 - val_loss: 0.2495 - val_accuracy: 0.8900\n",
            "Epoch 43/100\n",
            "29/29 [==============================] - 0s 4ms/step - loss: 0.1449 - accuracy: 0.9600 - val_loss: 0.2464 - val_accuracy: 0.8900\n",
            "Epoch 44/100\n",
            "29/29 [==============================] - 0s 4ms/step - loss: 0.1409 - accuracy: 0.9606 - val_loss: 0.2440 - val_accuracy: 0.8800\n",
            "Epoch 45/100\n",
            "29/29 [==============================] - 0s 4ms/step - loss: 0.1383 - accuracy: 0.9589 - val_loss: 0.2434 - val_accuracy: 0.8900\n",
            "Epoch 46/100\n",
            "29/29 [==============================] - 0s 5ms/step - loss: 0.1330 - accuracy: 0.9611 - val_loss: 0.2385 - val_accuracy: 0.8850\n",
            "Epoch 47/100\n",
            "29/29 [==============================] - 0s 4ms/step - loss: 0.1287 - accuracy: 0.9672 - val_loss: 0.2296 - val_accuracy: 0.8850\n",
            "Epoch 48/100\n",
            "29/29 [==============================] - 0s 4ms/step - loss: 0.1258 - accuracy: 0.9678 - val_loss: 0.2313 - val_accuracy: 0.8900\n",
            "Epoch 49/100\n",
            "29/29 [==============================] - 0s 4ms/step - loss: 0.1216 - accuracy: 0.9689 - val_loss: 0.2297 - val_accuracy: 0.8850\n",
            "Epoch 50/100\n",
            "29/29 [==============================] - 0s 5ms/step - loss: 0.1189 - accuracy: 0.9656 - val_loss: 0.2262 - val_accuracy: 0.8800\n",
            "Epoch 51/100\n",
            "29/29 [==============================] - 0s 5ms/step - loss: 0.1157 - accuracy: 0.9711 - val_loss: 0.2240 - val_accuracy: 0.8950\n",
            "Epoch 52/100\n",
            "29/29 [==============================] - 0s 4ms/step - loss: 0.1129 - accuracy: 0.9694 - val_loss: 0.2193 - val_accuracy: 0.8900\n",
            "Epoch 53/100\n",
            "29/29 [==============================] - 0s 4ms/step - loss: 0.1110 - accuracy: 0.9700 - val_loss: 0.2202 - val_accuracy: 0.8950\n",
            "Epoch 54/100\n",
            "29/29 [==============================] - 0s 5ms/step - loss: 0.1100 - accuracy: 0.9706 - val_loss: 0.2113 - val_accuracy: 0.9000\n",
            "Epoch 55/100\n",
            "29/29 [==============================] - 0s 4ms/step - loss: 0.1060 - accuracy: 0.9744 - val_loss: 0.2114 - val_accuracy: 0.9000\n",
            "Epoch 56/100\n",
            "29/29 [==============================] - 0s 4ms/step - loss: 0.1028 - accuracy: 0.9733 - val_loss: 0.2120 - val_accuracy: 0.8950\n",
            "Epoch 57/100\n",
            "29/29 [==============================] - 0s 4ms/step - loss: 0.1012 - accuracy: 0.9739 - val_loss: 0.2133 - val_accuracy: 0.8900\n",
            "Epoch 58/100\n",
            "29/29 [==============================] - 0s 4ms/step - loss: 0.0980 - accuracy: 0.9756 - val_loss: 0.2130 - val_accuracy: 0.8900\n",
            "Epoch 59/100\n",
            "29/29 [==============================] - 0s 4ms/step - loss: 0.0959 - accuracy: 0.9756 - val_loss: 0.2124 - val_accuracy: 0.8950\n",
            "Epoch 60/100\n",
            "29/29 [==============================] - 0s 4ms/step - loss: 0.0938 - accuracy: 0.9783 - val_loss: 0.2136 - val_accuracy: 0.8850\n",
            "Epoch 61/100\n",
            "29/29 [==============================] - 0s 4ms/step - loss: 0.0919 - accuracy: 0.9794 - val_loss: 0.2088 - val_accuracy: 0.8950\n",
            "Epoch 62/100\n",
            "29/29 [==============================] - 0s 4ms/step - loss: 0.0899 - accuracy: 0.9783 - val_loss: 0.2100 - val_accuracy: 0.8950\n",
            "Epoch 63/100\n",
            "29/29 [==============================] - 0s 4ms/step - loss: 0.0896 - accuracy: 0.9761 - val_loss: 0.2080 - val_accuracy: 0.8850\n",
            "Epoch 64/100\n",
            "29/29 [==============================] - 0s 4ms/step - loss: 0.0868 - accuracy: 0.9789 - val_loss: 0.2036 - val_accuracy: 0.9000\n",
            "Epoch 65/100\n",
            "29/29 [==============================] - 0s 4ms/step - loss: 0.0849 - accuracy: 0.9794 - val_loss: 0.2016 - val_accuracy: 0.9000\n",
            "Epoch 66/100\n",
            "29/29 [==============================] - 0s 5ms/step - loss: 0.0827 - accuracy: 0.9811 - val_loss: 0.2021 - val_accuracy: 0.9050\n",
            "Epoch 67/100\n",
            "29/29 [==============================] - 0s 4ms/step - loss: 0.0806 - accuracy: 0.9811 - val_loss: 0.2019 - val_accuracy: 0.9000\n",
            "Epoch 68/100\n",
            "29/29 [==============================] - 0s 4ms/step - loss: 0.0793 - accuracy: 0.9822 - val_loss: 0.1934 - val_accuracy: 0.9100\n",
            "Epoch 69/100\n",
            "29/29 [==============================] - 0s 4ms/step - loss: 0.0792 - accuracy: 0.9817 - val_loss: 0.1941 - val_accuracy: 0.9050\n",
            "Epoch 70/100\n",
            "29/29 [==============================] - 0s 4ms/step - loss: 0.0762 - accuracy: 0.9833 - val_loss: 0.1963 - val_accuracy: 0.9100\n",
            "Epoch 71/100\n",
            "29/29 [==============================] - 0s 4ms/step - loss: 0.0751 - accuracy: 0.9822 - val_loss: 0.2028 - val_accuracy: 0.9050\n",
            "Epoch 72/100\n",
            "29/29 [==============================] - 0s 4ms/step - loss: 0.0734 - accuracy: 0.9822 - val_loss: 0.1943 - val_accuracy: 0.9050\n",
            "Epoch 73/100\n",
            "29/29 [==============================] - 0s 4ms/step - loss: 0.0725 - accuracy: 0.9839 - val_loss: 0.1958 - val_accuracy: 0.9100\n",
            "Epoch 74/100\n",
            "29/29 [==============================] - 0s 4ms/step - loss: 0.0716 - accuracy: 0.9828 - val_loss: 0.1955 - val_accuracy: 0.9100\n",
            "Epoch 75/100\n",
            "29/29 [==============================] - 0s 5ms/step - loss: 0.0696 - accuracy: 0.9850 - val_loss: 0.1966 - val_accuracy: 0.9100\n",
            "Epoch 76/100\n",
            "29/29 [==============================] - 0s 4ms/step - loss: 0.0679 - accuracy: 0.9850 - val_loss: 0.1927 - val_accuracy: 0.9200\n",
            "Epoch 77/100\n",
            "29/29 [==============================] - 0s 4ms/step - loss: 0.0688 - accuracy: 0.9833 - val_loss: 0.1919 - val_accuracy: 0.9100\n",
            "Epoch 78/100\n",
            "29/29 [==============================] - 0s 4ms/step - loss: 0.0658 - accuracy: 0.9828 - val_loss: 0.1878 - val_accuracy: 0.9050\n",
            "Epoch 79/100\n",
            "29/29 [==============================] - 0s 4ms/step - loss: 0.0643 - accuracy: 0.9839 - val_loss: 0.1836 - val_accuracy: 0.9200\n",
            "Epoch 80/100\n",
            "29/29 [==============================] - 0s 4ms/step - loss: 0.0645 - accuracy: 0.9872 - val_loss: 0.1860 - val_accuracy: 0.9150\n",
            "Epoch 81/100\n",
            "29/29 [==============================] - 0s 4ms/step - loss: 0.0638 - accuracy: 0.9867 - val_loss: 0.1866 - val_accuracy: 0.9250\n",
            "Epoch 82/100\n",
            "29/29 [==============================] - 0s 4ms/step - loss: 0.0613 - accuracy: 0.9878 - val_loss: 0.1862 - val_accuracy: 0.9050\n",
            "Epoch 83/100\n",
            "29/29 [==============================] - 0s 4ms/step - loss: 0.0605 - accuracy: 0.9872 - val_loss: 0.1859 - val_accuracy: 0.9100\n",
            "Epoch 84/100\n",
            "29/29 [==============================] - 0s 4ms/step - loss: 0.0588 - accuracy: 0.9883 - val_loss: 0.1882 - val_accuracy: 0.9150\n",
            "Epoch 85/100\n",
            "29/29 [==============================] - 0s 4ms/step - loss: 0.0574 - accuracy: 0.9883 - val_loss: 0.1854 - val_accuracy: 0.9150\n",
            "Epoch 86/100\n",
            "29/29 [==============================] - 0s 5ms/step - loss: 0.0563 - accuracy: 0.9872 - val_loss: 0.1892 - val_accuracy: 0.9150\n",
            "Epoch 87/100\n",
            "29/29 [==============================] - 0s 4ms/step - loss: 0.0583 - accuracy: 0.9856 - val_loss: 0.1899 - val_accuracy: 0.9150\n",
            "Epoch 88/100\n",
            "29/29 [==============================] - 0s 5ms/step - loss: 0.0562 - accuracy: 0.9894 - val_loss: 0.1875 - val_accuracy: 0.9150\n",
            "Epoch 89/100\n",
            "29/29 [==============================] - 0s 5ms/step - loss: 0.0548 - accuracy: 0.9894 - val_loss: 0.1892 - val_accuracy: 0.9200\n",
            "Epoch 90/100\n",
            "29/29 [==============================] - 0s 4ms/step - loss: 0.0548 - accuracy: 0.9889 - val_loss: 0.1912 - val_accuracy: 0.9150\n",
            "Epoch 91/100\n",
            "29/29 [==============================] - 0s 4ms/step - loss: 0.0526 - accuracy: 0.9894 - val_loss: 0.1856 - val_accuracy: 0.9150\n",
            "Epoch 92/100\n",
            "29/29 [==============================] - 0s 4ms/step - loss: 0.0522 - accuracy: 0.9906 - val_loss: 0.1879 - val_accuracy: 0.9150\n",
            "Epoch 93/100\n",
            "29/29 [==============================] - 0s 4ms/step - loss: 0.0499 - accuracy: 0.9939 - val_loss: 0.1888 - val_accuracy: 0.9150\n",
            "Epoch 94/100\n",
            "29/29 [==============================] - 0s 4ms/step - loss: 0.0493 - accuracy: 0.9922 - val_loss: 0.1837 - val_accuracy: 0.9200\n",
            "Epoch 95/100\n",
            "29/29 [==============================] - 0s 4ms/step - loss: 0.0492 - accuracy: 0.9911 - val_loss: 0.1914 - val_accuracy: 0.9150\n",
            "Epoch 96/100\n",
            "29/29 [==============================] - 0s 4ms/step - loss: 0.0475 - accuracy: 0.9922 - val_loss: 0.1915 - val_accuracy: 0.9100\n",
            "Epoch 97/100\n",
            "29/29 [==============================] - 0s 5ms/step - loss: 0.0486 - accuracy: 0.9917 - val_loss: 0.1917 - val_accuracy: 0.9100\n",
            "Epoch 98/100\n",
            "29/29 [==============================] - 0s 4ms/step - loss: 0.0461 - accuracy: 0.9906 - val_loss: 0.1887 - val_accuracy: 0.9200\n",
            "Epoch 99/100\n",
            "29/29 [==============================] - 0s 4ms/step - loss: 0.0459 - accuracy: 0.9911 - val_loss: 0.1850 - val_accuracy: 0.9200\n",
            "Epoch 100/100\n",
            "29/29 [==============================] - 0s 4ms/step - loss: 0.0444 - accuracy: 0.9928 - val_loss: 0.1882 - val_accuracy: 0.9200\n"
          ]
        }
      ]
    },
    {
      "cell_type": "code",
      "metadata": {
        "id": "bCIrA7nQTjV8"
      },
      "source": [
        "# Import dependence for plotting training process\n",
        "import matplotlib.pyplot as plt"
      ],
      "execution_count": null,
      "outputs": []
    },
    {
      "cell_type": "code",
      "metadata": {
        "id": "_5VTbyxsSeOh",
        "colab": {
          "base_uri": "https://localhost:8080/",
          "height": 472
        },
        "outputId": "21e2a14c-f1d0-47b9-86da-aba11d2a7cef"
      },
      "source": [
        "# Plot training and validation accuracy\n",
        "plt.plot(history.history['accuracy'])\n",
        "plt.plot(history.history['val_accuracy'])\n",
        "plt.title('Model accuracy')\n",
        "plt.ylabel('Accuracy')\n",
        "plt.xlabel('Epoch')\n",
        "plt.legend(['Train', 'Val'], loc='upper left')\n",
        "plt.show()"
      ],
      "execution_count": null,
      "outputs": [
        {
          "output_type": "display_data",
          "data": {
            "text/plain": [
              "<Figure size 640x480 with 1 Axes>"
            ],
            "image/png": "[encoded data removed]"
          },
          "metadata": {}
        }
      ]
    },
    {
      "cell_type": "code",
      "metadata": {
        "id": "_d47pYo5TUEm",
        "colab": {
          "base_uri": "https://localhost:8080/",
          "height": 472
        },
        "outputId": "ddf87599-a515-4aed-9726-8c24ef30a1da"
      },
      "source": [
        "# Plot training and test loss\n",
        "plt.plot(history.history['loss'])\n",
        "plt.plot(history.history['val_loss'])\n",
        "plt.title('Model loss')\n",
        "plt.ylabel('Loss')\n",
        "plt.xlabel('Epoch')\n",
        "plt.legend(['Train', 'Val'], loc='upper left')\n",
        "plt.show()"
      ],
      "execution_count": null,
      "outputs": [
        {
          "output_type": "display_data",
          "data": {
            "text/plain": [
              "<Figure size 640x480 with 1 Axes>"
            ],
            "image/png": "[encoded data removed]"
          },
          "metadata": {}
        }
      ]
    },
    {
      "cell_type": "code",
      "metadata": {
        "id": "6klS2OaQJwAK",
        "colab": {
          "base_uri": "https://localhost:8080/"
        },
        "outputId": "f4a634ae-0c72-4bef-8e6a-b4ebcd5cb8b0"
      },
      "source": [
        "# Save the model\n",
        "from pathlib import Path\n",
        "path = Path('./models')\n",
        "if not path.exists():\n",
        "  path.mkdir()\n",
        "model.save('./models/model_1.h5') # para guardar el modelo una vez es entrenado lo que se guarda son los pesos que ha aprendido el modelo."
      ],
      "execution_count": null,
      "outputs": [
        {
          "output_type": "stream",
          "name": "stderr",
          "text": [
            "/usr/local/lib/python3.10/dist-packages/keras/src/engine/training.py:3103: UserWarning: You are saving your model as an HDF5 file via `model.save()`. This file format is considered legacy. We recommend using instead the native Keras format, e.g. `model.save('my_model.keras')`.\n",
            "  saving_api.save_model(\n"
          ]
        }
      ]
    },
    {
      "cell_type": "code",
      "metadata": {
        "id": "Ss_CZ2veKTMl",
        "colab": {
          "base_uri": "https://localhost:8080/"
        },
        "outputId": "5481cee7-4347-4fdd-fe9e-80b982d18470"
      },
      "source": [
        "# List files of ./models directory\n",
        "!ls ./models"
      ],
      "execution_count": null,
      "outputs": [
        {
          "output_type": "stream",
          "name": "stdout",
          "text": [
            "model_1.h5\n"
          ]
        }
      ]
    },
    {
      "cell_type": "markdown",
      "metadata": {
        "id": "-OQ4IRMlU4oB"
      },
      "source": [
        "# Exercise 1: Train the model without normalization"
      ]
    },
    {
      "cell_type": "code",
      "metadata": {
        "id": "RwK0f6M84pbx"
      },
      "source": [
        "# Split data without normalization in training and validation partitions\n",
        "X_train1, X_val1, y_train1, y_val1 = train_test_split(X, y_onehot,\n",
        "                                                  test_size=0.1)\n"
      ],
      "execution_count": null,
      "outputs": []
    },
    {
      "cell_type": "code",
      "metadata": {
        "id": "L1TNrJWw5XI-",
        "colab": {
          "base_uri": "https://localhost:8080/"
        },
        "outputId": "1a4abda4-984a-4d7f-8215-bf11c8f58f20"
      },
      "source": [
        "# Train the model\n",
        "# Design simple neural network architecture\n",
        "model = Sequential()\n",
        "model.add(Dense(16, input_dim=20, activation='relu')) #capa1 (entrada) al ser la entrada le tengo que decir las variables de entrada que son 20. 16 neuronas porque he querido. En las capas de entrada relu suele ser la que mejor funciona\n",
        "model.add(Dense(12, activation='relu')) # capa 'densa' significa totalmente conectada. Esta es una capa oculta de 12 neuronas\n",
        "model.add(Dense(4, activation='softmax'))\n",
        "\n",
        "model.compile(loss='categorical_crossentropy', optimizer='adam',\n",
        "              metrics=['accuracy'])\n",
        "\n",
        "history = model.fit(X_train1, y_train1, epochs=100, batch_size=64,\n",
        "                    validation_data=(X_val1, y_val1))"
      ],
      "execution_count": null,
      "outputs": [
        {
          "metadata": {
            "tags": null
          },
          "name": "stdout",
          "output_type": "stream",
          "text": [
            "Epoch 1/100\n",
            "29/29 [==============================] - 2s 19ms/step - loss: 45.9492 - accuracy: 0.2711 - val_loss: 27.7489 - val_accuracy: 0.3650\n",
            "Epoch 2/100\n",
            "29/29 [==============================] - 0s 7ms/step - loss: 18.8385 - accuracy: 0.4044 - val_loss: 9.4451 - val_accuracy: 0.3850\n",
            "Epoch 3/100\n",
            "29/29 [==============================] - 0s 9ms/step - loss: 3.3004 - accuracy: 0.2844 - val_loss: 1.4789 - val_accuracy: 0.2650\n",
            "Epoch 4/100\n",
            "29/29 [==============================] - 0s 11ms/step - loss: 1.4732 - accuracy: 0.2444 - val_loss: 1.3890 - val_accuracy: 0.2750\n",
            "Epoch 5/100\n",
            "29/29 [==============================] - 0s 13ms/step - loss: 1.3983 - accuracy: 0.2456 - val_loss: 1.3588 - val_accuracy: 0.2600\n",
            "Epoch 6/100\n",
            "29/29 [==============================] - 0s 15ms/step - loss: 1.3945 - accuracy: 0.2450 - val_loss: 1.3525 - val_accuracy: 0.2550\n",
            "Epoch 7/100\n",
            "29/29 [==============================] - 0s 17ms/step - loss: 1.3739 - accuracy: 0.2444 - val_loss: 1.3594 - val_accuracy: 0.2700\n",
            "Epoch 8/100\n",
            "29/29 [==============================] - 1s 19ms/step - loss: 1.3753 - accuracy: 0.2806 - val_loss: 1.3783 - val_accuracy: 0.2700\n",
            "Epoch 9/100\n",
            "29/29 [==============================] - 0s 12ms/step - loss: 1.3671 - accuracy: 0.2806 - val_loss: 1.3857 - val_accuracy: 0.2700\n",
            "Epoch 10/100\n",
            "29/29 [==============================] - 0s 16ms/step - loss: 1.3649 - accuracy: 0.2839 - val_loss: 1.3862 - val_accuracy: 0.2700\n",
            "Epoch 11/100\n",
            "29/29 [==============================] - 0s 10ms/step - loss: 1.3574 - accuracy: 0.2806 - val_loss: 1.3934 - val_accuracy: 0.2600\n",
            "Epoch 12/100\n",
            "29/29 [==============================] - 0s 12ms/step - loss: 1.3564 - accuracy: 0.2767 - val_loss: 1.3934 - val_accuracy: 0.2650\n",
            "Epoch 13/100\n",
            "29/29 [==============================] - 0s 15ms/step - loss: 1.3598 - accuracy: 0.2800 - val_loss: 1.3858 - val_accuracy: 0.2650\n",
            "Epoch 14/100\n",
            "29/29 [==============================] - 0s 11ms/step - loss: 1.3596 - accuracy: 0.2856 - val_loss: 1.3778 - val_accuracy: 0.2700\n",
            "Epoch 15/100\n",
            "29/29 [==============================] - 0s 8ms/step - loss: 1.3537 - accuracy: 0.2878 - val_loss: 1.3745 - val_accuracy: 0.2750\n",
            "Epoch 16/100\n",
            "29/29 [==============================] - 0s 7ms/step - loss: 1.3467 - accuracy: 0.2928 - val_loss: 1.3721 - val_accuracy: 0.2750\n",
            "Epoch 17/100\n",
            "29/29 [==============================] - 0s 8ms/step - loss: 1.3469 - accuracy: 0.2828 - val_loss: 1.3786 - val_accuracy: 0.2700\n",
            "Epoch 18/100\n",
            "29/29 [==============================] - 0s 11ms/step - loss: 1.3401 - accuracy: 0.2883 - val_loss: 1.3636 - val_accuracy: 0.2800\n",
            "Epoch 19/100\n",
            "29/29 [==============================] - 0s 8ms/step - loss: 1.3305 - accuracy: 0.3028 - val_loss: 1.3637 - val_accuracy: 0.2800\n",
            "Epoch 20/100\n",
            "29/29 [==============================] - 0s 7ms/step - loss: 1.3249 - accuracy: 0.3000 - val_loss: 1.3652 - val_accuracy: 0.2750\n",
            "Epoch 21/100\n",
            "29/29 [==============================] - 0s 8ms/step - loss: 1.3338 - accuracy: 0.3117 - val_loss: 1.3734 - val_accuracy: 0.2800\n",
            "Epoch 22/100\n",
            "29/29 [==============================] - 0s 6ms/step - loss: 1.3187 - accuracy: 0.3050 - val_loss: 1.3639 - val_accuracy: 0.2750\n",
            "Epoch 23/100\n",
            "29/29 [==============================] - 0s 7ms/step - loss: 1.3211 - accuracy: 0.3006 - val_loss: 1.3654 - val_accuracy: 0.2750\n",
            "Epoch 24/100\n",
            "29/29 [==============================] - 0s 6ms/step - loss: 1.3186 - accuracy: 0.3056 - val_loss: 1.3606 - val_accuracy: 0.2800\n",
            "Epoch 25/100\n",
            "29/29 [==============================] - 0s 8ms/step - loss: 1.3151 - accuracy: 0.3050 - val_loss: 1.3608 - val_accuracy: 0.2800\n",
            "Epoch 26/100\n",
            "29/29 [==============================] - 0s 7ms/step - loss: 1.3218 - accuracy: 0.3067 - val_loss: 1.3625 - val_accuracy: 0.2800\n",
            "Epoch 27/100\n",
            "29/29 [==============================] - 0s 6ms/step - loss: 1.3145 - accuracy: 0.3056 - val_loss: 1.3622 - val_accuracy: 0.2800\n",
            "Epoch 28/100\n",
            "29/29 [==============================] - 0s 7ms/step - loss: 1.3091 - accuracy: 0.3072 - val_loss: 1.3578 - val_accuracy: 0.2800\n",
            "Epoch 29/100\n",
            "29/29 [==============================] - 0s 7ms/step - loss: 1.3329 - accuracy: 0.3228 - val_loss: 1.3611 - val_accuracy: 0.3000\n",
            "Epoch 30/100\n",
            "29/29 [==============================] - 0s 7ms/step - loss: 1.3106 - accuracy: 0.3139 - val_loss: 1.3604 - val_accuracy: 0.2900\n",
            "Epoch 31/100\n",
            "29/29 [==============================] - 0s 6ms/step - loss: 1.3003 - accuracy: 0.3150 - val_loss: 1.3545 - val_accuracy: 0.3000\n",
            "Epoch 32/100\n",
            "29/29 [==============================] - 0s 6ms/step - loss: 1.3039 - accuracy: 0.3328 - val_loss: 1.3509 - val_accuracy: 0.3000\n",
            "Epoch 33/100\n",
            "29/29 [==============================] - 0s 6ms/step - loss: 1.2959 - accuracy: 0.3200 - val_loss: 1.3597 - val_accuracy: 0.2950\n",
            "Epoch 34/100\n",
            "29/29 [==============================] - 0s 7ms/step - loss: 1.2926 - accuracy: 0.3228 - val_loss: 1.3775 - val_accuracy: 0.3100\n",
            "Epoch 35/100\n",
            "29/29 [==============================] - 0s 7ms/step - loss: 1.2968 - accuracy: 0.3167 - val_loss: 1.3516 - val_accuracy: 0.2850\n",
            "Epoch 36/100\n",
            "29/29 [==============================] - 0s 8ms/step - loss: 1.2968 - accuracy: 0.3172 - val_loss: 1.3469 - val_accuracy: 0.2850\n",
            "Epoch 37/100\n",
            "29/29 [==============================] - 0s 7ms/step - loss: 1.2882 - accuracy: 0.3217 - val_loss: 1.3643 - val_accuracy: 0.3050\n",
            "Epoch 38/100\n",
            "29/29 [==============================] - 0s 6ms/step - loss: 1.2883 - accuracy: 0.3100 - val_loss: 1.3563 - val_accuracy: 0.3100\n",
            "Epoch 39/100\n",
            "29/29 [==============================] - 0s 9ms/step - loss: 1.2930 - accuracy: 0.3050 - val_loss: 1.3662 - val_accuracy: 0.3000\n",
            "Epoch 40/100\n",
            "29/29 [==============================] - 0s 11ms/step - loss: 1.3145 - accuracy: 0.3306 - val_loss: 1.3493 - val_accuracy: 0.2850\n",
            "Epoch 41/100\n",
            "29/29 [==============================] - 0s 9ms/step - loss: 1.2917 - accuracy: 0.3167 - val_loss: 1.3463 - val_accuracy: 0.2950\n",
            "Epoch 42/100\n",
            "29/29 [==============================] - 0s 6ms/step - loss: 1.3002 - accuracy: 0.3406 - val_loss: 1.3258 - val_accuracy: 0.3100\n",
            "Epoch 43/100\n",
            "29/29 [==============================] - 0s 9ms/step - loss: 1.2834 - accuracy: 0.3300 - val_loss: 1.3490 - val_accuracy: 0.2950\n",
            "Epoch 44/100\n",
            "29/29 [==============================] - 0s 10ms/step - loss: 1.2942 - accuracy: 0.3139 - val_loss: 1.3376 - val_accuracy: 0.3050\n",
            "Epoch 45/100\n",
            "29/29 [==============================] - 0s 7ms/step - loss: 1.2794 - accuracy: 0.3111 - val_loss: 1.3376 - val_accuracy: 0.3250\n",
            "Epoch 46/100\n",
            "29/29 [==============================] - 0s 8ms/step - loss: 1.2930 - accuracy: 0.3128 - val_loss: 1.3526 - val_accuracy: 0.2850\n",
            "Epoch 47/100\n",
            "29/29 [==============================] - 0s 10ms/step - loss: 1.2754 - accuracy: 0.3267 - val_loss: 1.3590 - val_accuracy: 0.3150\n",
            "Epoch 48/100\n",
            "29/29 [==============================] - 0s 10ms/step - loss: 1.2864 - accuracy: 0.3289 - val_loss: 1.3304 - val_accuracy: 0.3000\n",
            "Epoch 49/100\n",
            "29/29 [==============================] - 0s 8ms/step - loss: 1.3173 - accuracy: 0.3061 - val_loss: 1.3490 - val_accuracy: 0.2850\n",
            "Epoch 50/100\n",
            "29/29 [==============================] - 0s 10ms/step - loss: 1.2982 - accuracy: 0.3211 - val_loss: 1.3230 - val_accuracy: 0.3100\n",
            "Epoch 51/100\n",
            "29/29 [==============================] - 0s 8ms/step - loss: 1.3043 - accuracy: 0.3222 - val_loss: 1.3078 - val_accuracy: 0.3150\n",
            "Epoch 52/100\n",
            "29/29 [==============================] - 0s 8ms/step - loss: 1.2942 - accuracy: 0.3278 - val_loss: 1.3289 - val_accuracy: 0.3000\n",
            "Epoch 53/100\n",
            "29/29 [==============================] - 0s 9ms/step - loss: 1.2763 - accuracy: 0.3250 - val_loss: 1.3220 - val_accuracy: 0.3300\n",
            "Epoch 54/100\n",
            "29/29 [==============================] - 0s 8ms/step - loss: 1.3196 - accuracy: 0.3461 - val_loss: 1.3308 - val_accuracy: 0.3100\n",
            "Epoch 55/100\n",
            "29/29 [==============================] - 0s 8ms/step - loss: 1.2811 - accuracy: 0.3333 - val_loss: 1.3197 - val_accuracy: 0.3100\n",
            "Epoch 56/100\n",
            "29/29 [==============================] - 0s 8ms/step - loss: 1.2871 - accuracy: 0.3344 - val_loss: 1.3322 - val_accuracy: 0.3250\n",
            "Epoch 57/100\n",
            "29/29 [==============================] - 0s 9ms/step - loss: 1.2783 - accuracy: 0.3411 - val_loss: 1.3244 - val_accuracy: 0.3150\n",
            "Epoch 58/100\n",
            "29/29 [==============================] - 0s 14ms/step - loss: 1.2751 - accuracy: 0.3272 - val_loss: 1.3244 - val_accuracy: 0.3100\n",
            "Epoch 59/100\n",
            "29/29 [==============================] - 0s 15ms/step - loss: 1.2686 - accuracy: 0.3328 - val_loss: 1.3154 - val_accuracy: 0.3150\n",
            "Epoch 60/100\n",
            "29/29 [==============================] - 0s 15ms/step - loss: 1.2646 - accuracy: 0.3328 - val_loss: 1.3186 - val_accuracy: 0.3200\n",
            "Epoch 61/100\n",
            "29/29 [==============================] - 0s 13ms/step - loss: 1.2647 - accuracy: 0.3383 - val_loss: 1.3151 - val_accuracy: 0.3400\n",
            "Epoch 62/100\n",
            "29/29 [==============================] - 0s 13ms/step - loss: 1.2675 - accuracy: 0.3556 - val_loss: 1.2952 - val_accuracy: 0.3300\n",
            "Epoch 63/100\n",
            "29/29 [==============================] - 0s 13ms/step - loss: 1.2782 - accuracy: 0.3639 - val_loss: 1.2977 - val_accuracy: 0.3550\n",
            "Epoch 64/100\n",
            "29/29 [==============================] - 0s 7ms/step - loss: 1.2495 - accuracy: 0.3517 - val_loss: 1.2846 - val_accuracy: 0.3550\n",
            "Epoch 65/100\n",
            "29/29 [==============================] - 0s 5ms/step - loss: 1.2587 - accuracy: 0.3583 - val_loss: 1.2790 - val_accuracy: 0.3350\n",
            "Epoch 66/100\n",
            "29/29 [==============================] - 0s 4ms/step - loss: 1.2507 - accuracy: 0.3611 - val_loss: 1.2810 - val_accuracy: 0.3700\n",
            "Epoch 67/100\n",
            "29/29 [==============================] - 0s 4ms/step - loss: 1.2679 - accuracy: 0.3700 - val_loss: 1.3077 - val_accuracy: 0.3150\n",
            "Epoch 68/100\n",
            "29/29 [==============================] - 0s 4ms/step - loss: 1.2493 - accuracy: 0.3661 - val_loss: 1.2772 - val_accuracy: 0.3400\n",
            "Epoch 69/100\n",
            "29/29 [==============================] - 0s 4ms/step - loss: 1.2380 - accuracy: 0.3589 - val_loss: 1.2780 - val_accuracy: 0.3350\n",
            "Epoch 70/100\n",
            "29/29 [==============================] - 0s 4ms/step - loss: 1.2501 - accuracy: 0.3850 - val_loss: 1.2789 - val_accuracy: 0.3300\n",
            "Epoch 71/100\n",
            "29/29 [==============================] - 0s 4ms/step - loss: 1.2431 - accuracy: 0.3539 - val_loss: 1.2459 - val_accuracy: 0.3750\n",
            "Epoch 72/100\n",
            "29/29 [==============================] - 0s 4ms/step - loss: 1.2257 - accuracy: 0.3656 - val_loss: 1.2366 - val_accuracy: 0.3750\n",
            "Epoch 73/100\n",
            "29/29 [==============================] - 0s 5ms/step - loss: 1.2086 - accuracy: 0.3994 - val_loss: 1.2598 - val_accuracy: 0.3450\n",
            "Epoch 74/100\n",
            "29/29 [==============================] - 0s 4ms/step - loss: 1.2154 - accuracy: 0.3856 - val_loss: 1.2232 - val_accuracy: 0.3750\n",
            "Epoch 75/100\n",
            "29/29 [==============================] - 0s 4ms/step - loss: 1.2018 - accuracy: 0.4133 - val_loss: 1.2096 - val_accuracy: 0.3800\n",
            "Epoch 76/100\n",
            "29/29 [==============================] - 0s 4ms/step - loss: 1.1846 - accuracy: 0.4111 - val_loss: 1.1873 - val_accuracy: 0.4000\n",
            "Epoch 77/100\n",
            "29/29 [==============================] - 0s 4ms/step - loss: 1.1803 - accuracy: 0.4106 - val_loss: 1.1518 - val_accuracy: 0.4200\n",
            "Epoch 78/100\n",
            "29/29 [==============================] - 0s 4ms/step - loss: 1.1614 - accuracy: 0.4100 - val_loss: 1.1491 - val_accuracy: 0.4350\n",
            "Epoch 79/100\n",
            "29/29 [==============================] - 0s 4ms/step - loss: 1.1398 - accuracy: 0.4189 - val_loss: 1.1493 - val_accuracy: 0.4150\n",
            "Epoch 80/100\n",
            "29/29 [==============================] - 0s 4ms/step - loss: 1.1367 - accuracy: 0.4339 - val_loss: 1.1650 - val_accuracy: 0.4100\n",
            "Epoch 81/100\n",
            "29/29 [==============================] - 0s 5ms/step - loss: 1.1141 - accuracy: 0.4350 - val_loss: 1.1166 - val_accuracy: 0.4500\n",
            "Epoch 82/100\n",
            "29/29 [==============================] - 0s 4ms/step - loss: 1.1067 - accuracy: 0.4350 - val_loss: 1.0934 - val_accuracy: 0.4650\n",
            "Epoch 83/100\n",
            "29/29 [==============================] - 0s 4ms/step - loss: 1.0938 - accuracy: 0.4456 - val_loss: 1.0845 - val_accuracy: 0.4800\n",
            "Epoch 84/100\n",
            "29/29 [==============================] - 0s 4ms/step - loss: 1.1031 - accuracy: 0.4417 - val_loss: 1.1404 - val_accuracy: 0.4150\n",
            "Epoch 85/100\n",
            "29/29 [==============================] - 0s 4ms/step - loss: 1.1002 - accuracy: 0.4456 - val_loss: 1.1188 - val_accuracy: 0.4700\n",
            "Epoch 86/100\n",
            "29/29 [==============================] - 0s 4ms/step - loss: 1.0754 - accuracy: 0.4711 - val_loss: 1.0975 - val_accuracy: 0.4550\n",
            "Epoch 87/100\n",
            "29/29 [==============================] - 0s 4ms/step - loss: 1.0583 - accuracy: 0.4661 - val_loss: 1.0493 - val_accuracy: 0.4850\n",
            "Epoch 88/100\n",
            "29/29 [==============================] - 0s 4ms/step - loss: 1.0518 - accuracy: 0.4789 - val_loss: 1.0583 - val_accuracy: 0.4850\n",
            "Epoch 89/100\n",
            "29/29 [==============================] - 0s 4ms/step - loss: 1.0370 - accuracy: 0.4700 - val_loss: 1.0217 - val_accuracy: 0.4850\n",
            "Epoch 90/100\n",
            "29/29 [==============================] - 0s 4ms/step - loss: 1.0266 - accuracy: 0.4806 - val_loss: 1.0153 - val_accuracy: 0.4750\n",
            "Epoch 91/100\n",
            "29/29 [==============================] - 0s 4ms/step - loss: 1.0354 - accuracy: 0.4878 - val_loss: 1.0811 - val_accuracy: 0.4700\n",
            "Epoch 92/100\n",
            "29/29 [==============================] - 0s 4ms/step - loss: 1.0395 - accuracy: 0.4694 - val_loss: 1.0570 - val_accuracy: 0.4800\n",
            "Epoch 93/100\n",
            "29/29 [==============================] - 0s 4ms/step - loss: 1.0156 - accuracy: 0.4856 - val_loss: 1.0204 - val_accuracy: 0.4850\n",
            "Epoch 94/100\n",
            "29/29 [==============================] - 0s 4ms/step - loss: 0.9997 - accuracy: 0.4822 - val_loss: 0.9872 - val_accuracy: 0.4800\n",
            "Epoch 95/100\n",
            "29/29 [==============================] - 0s 4ms/step - loss: 1.0419 - accuracy: 0.4728 - val_loss: 1.0731 - val_accuracy: 0.4700\n",
            "Epoch 96/100\n",
            "29/29 [==============================] - 0s 4ms/step - loss: 1.0036 - accuracy: 0.4828 - val_loss: 1.0803 - val_accuracy: 0.4700\n",
            "Epoch 97/100\n",
            "29/29 [==============================] - 0s 4ms/step - loss: 0.9968 - accuracy: 0.4906 - val_loss: 0.9819 - val_accuracy: 0.4750\n",
            "Epoch 98/100\n",
            "29/29 [==============================] - 0s 4ms/step - loss: 0.9935 - accuracy: 0.4894 - val_loss: 0.9930 - val_accuracy: 0.5000\n",
            "Epoch 99/100\n",
            "29/29 [==============================] - 0s 5ms/step - loss: 1.1332 - accuracy: 0.4128 - val_loss: 1.1109 - val_accuracy: 0.4500\n",
            "Epoch 100/100\n",
            "29/29 [==============================] - 0s 4ms/step - loss: 1.0728 - accuracy: 0.4533 - val_loss: 1.0207 - val_accuracy: 0.4750\n"
          ]
        }
      ]
    },
    {
      "cell_type": "code",
      "metadata": {
        "id": "ad7wt64u6lYs",
        "colab": {
          "base_uri": "https://localhost:8080/",
          "height": 472
        },
        "outputId": "f0f7530e-9323-4010-e5e4-332106dd8ff0"
      },
      "source": [
        "# Plot training and validation accuracy\n",
        "\n",
        "plt.plot(history.history['accuracy'])\n",
        "plt.plot(history.history['val_accuracy'])\n",
        "plt.title('Model accuracy')\n",
        "plt.ylabel('Accuracy')\n",
        "plt.xlabel('Epoch')\n",
        "plt.legend(['Train', 'Val'], loc='upper left')\n",
        "plt.show()"
      ],
      "execution_count": null,
      "outputs": [
        {
          "output_type": "display_data",
          "data": {
            "text/plain": [
              "<Figure size 640x480 with 1 Axes>"
            ],
            "image/png": "[encoded data removed]"
          },
          "metadata": {}
        }
      ]
    },
    {
      "cell_type": "code",
      "metadata": {
        "id": "ETJDeDTt6tRR",
        "colab": {
          "base_uri": "https://localhost:8080/",
          "height": 472
        },
        "outputId": "6a1ae783-6b16-4334-bbcf-7dc1f3583d68"
      },
      "source": [
        "# Plot training and test loss\n",
        "\n",
        "plt.plot(history.history['loss'])\n",
        "plt.plot(history.history['val_loss'])\n",
        "plt.title('Model loss')\n",
        "plt.ylabel('Loss')\n",
        "plt.xlabel('Epoch')\n",
        "plt.legend(['Train', 'Val'], loc='upper left')\n",
        "plt.show()"
      ],
      "execution_count": null,
      "outputs": [
        {
          "output_type": "display_data",
          "data": {
            "text/plain": [
              "<Figure size 640x480 with 1 Axes>"
            ],
            "image/png": "[encoded data removed]"
          },
          "metadata": {}
        }
      ]
    },
    {
      "cell_type": "markdown",
      "metadata": {
        "id": "xvK807CDVCnk"
      },
      "source": [
        "# Exercise 2: Train a simpler model and evaluate the results"
      ]
    },
    {
      "cell_type": "code",
      "metadata": {
        "id": "zq47RlJJ7E11"
      },
      "source": [
        "# Split data with normalization in training and validation partitions\n",
        "\n",
        "X_train, X_val, y_train, y_val = train_test_split(X_norm, y_onehot,\n",
        "                                                  test_size=0.1)\n"
      ],
      "execution_count": null,
      "outputs": []
    },
    {
      "cell_type": "code",
      "metadata": {
        "id": "dqFSwTf67NY_"
      },
      "source": [
        "# Design a model like the previous but without the second Dense layer\n",
        "# Train the model\n",
        "# Design simple neural network architecture\n",
        "model = Sequential()\n",
        "model.add(Dense(8, input_dim=20, activation='relu')) #capa1 (entrada) al ser la entrada le tengo que decir las variables de entrada que son 20. 16 neuronas porque he querido. En las capas de entrada relu suele ser la que mejor funciona\n",
        "model.add(Dense(4, activation='softmax'))\n",
        "\n",
        "\n"
      ],
      "execution_count": null,
      "outputs": []
    },
    {
      "cell_type": "code",
      "metadata": {
        "id": "5Kl6T_sI7nUL"
      },
      "source": [
        "# Compile the model\n",
        "\n",
        "model.compile(loss='categorical_crossentropy', optimizer='adam',\n",
        "              metrics=['accuracy'])\n"
      ],
      "execution_count": null,
      "outputs": []
    },
    {
      "cell_type": "code",
      "metadata": {
        "id": "h5rvLhwZ7xJF",
        "colab": {
          "base_uri": "https://localhost:8080/"
        },
        "outputId": "db6166d8-2feb-446f-cf91-090415bded7d"
      },
      "source": [
        "# Train the model\n",
        "history = model.fit(X_train, y_train, epochs=100, batch_size=64,\n",
        "                    validation_data=(X_val, y_val))\n"
      ],
      "execution_count": null,
      "outputs": [
        {
          "output_type": "stream",
          "name": "stdout",
          "text": [
            "Epoch 1/100\n",
            "29/29 [==============================] - 2s 15ms/step - loss: 1.4132 - accuracy: 0.2900 - val_loss: 1.3720 - val_accuracy: 0.3200\n",
            "Epoch 2/100\n",
            "29/29 [==============================] - 0s 7ms/step - loss: 1.3698 - accuracy: 0.3233 - val_loss: 1.3479 - val_accuracy: 0.3500\n",
            "Epoch 3/100\n",
            "29/29 [==============================] - 0s 8ms/step - loss: 1.3387 - accuracy: 0.3578 - val_loss: 1.3252 - val_accuracy: 0.3550\n",
            "Epoch 4/100\n",
            "29/29 [==============================] - 0s 7ms/step - loss: 1.3072 - accuracy: 0.3922 - val_loss: 1.2983 - val_accuracy: 0.3800\n",
            "Epoch 5/100\n",
            "29/29 [==============================] - 0s 7ms/step - loss: 1.2707 - accuracy: 0.4233 - val_loss: 1.2654 - val_accuracy: 0.4200\n",
            "Epoch 6/100\n",
            "29/29 [==============================] - 0s 7ms/step - loss: 1.2265 - accuracy: 0.4461 - val_loss: 1.2200 - val_accuracy: 0.4500\n",
            "Epoch 7/100\n",
            "29/29 [==============================] - 0s 9ms/step - loss: 1.1770 - accuracy: 0.4861 - val_loss: 1.1729 - val_accuracy: 0.4750\n",
            "Epoch 8/100\n",
            "29/29 [==============================] - 0s 6ms/step - loss: 1.1213 - accuracy: 0.5250 - val_loss: 1.1165 - val_accuracy: 0.4850\n",
            "Epoch 9/100\n",
            "29/29 [==============================] - 0s 6ms/step - loss: 1.0604 - accuracy: 0.5539 - val_loss: 1.0597 - val_accuracy: 0.5150\n",
            "Epoch 10/100\n",
            "29/29 [==============================] - 0s 6ms/step - loss: 0.9976 - accuracy: 0.5850 - val_loss: 0.9970 - val_accuracy: 0.5800\n",
            "Epoch 11/100\n",
            "29/29 [==============================] - 0s 9ms/step - loss: 0.9330 - accuracy: 0.6183 - val_loss: 0.9339 - val_accuracy: 0.6150\n",
            "Epoch 12/100\n",
            "29/29 [==============================] - 0s 8ms/step - loss: 0.8702 - accuracy: 0.6433 - val_loss: 0.8759 - val_accuracy: 0.6500\n",
            "Epoch 13/100\n",
            "29/29 [==============================] - 0s 7ms/step - loss: 0.8105 - accuracy: 0.6900 - val_loss: 0.8174 - val_accuracy: 0.7200\n",
            "Epoch 14/100\n",
            "29/29 [==============================] - 0s 7ms/step - loss: 0.7542 - accuracy: 0.7133 - val_loss: 0.7631 - val_accuracy: 0.7600\n",
            "Epoch 15/100\n",
            "29/29 [==============================] - 0s 6ms/step - loss: 0.7023 - accuracy: 0.7533 - val_loss: 0.7187 - val_accuracy: 0.7800\n",
            "Epoch 16/100\n",
            "29/29 [==============================] - 0s 8ms/step - loss: 0.6536 - accuracy: 0.7783 - val_loss: 0.6764 - val_accuracy: 0.7850\n",
            "Epoch 17/100\n",
            "29/29 [==============================] - 0s 10ms/step - loss: 0.6093 - accuracy: 0.7944 - val_loss: 0.6338 - val_accuracy: 0.8050\n",
            "Epoch 18/100\n",
            "29/29 [==============================] - 0s 9ms/step - loss: 0.5693 - accuracy: 0.8144 - val_loss: 0.5988 - val_accuracy: 0.8300\n",
            "Epoch 19/100\n",
            "29/29 [==============================] - 0s 6ms/step - loss: 0.5349 - accuracy: 0.8239 - val_loss: 0.5676 - val_accuracy: 0.8400\n",
            "Epoch 20/100\n",
            "29/29 [==============================] - 0s 7ms/step - loss: 0.5034 - accuracy: 0.8389 - val_loss: 0.5377 - val_accuracy: 0.8500\n",
            "Epoch 21/100\n",
            "29/29 [==============================] - 0s 7ms/step - loss: 0.4759 - accuracy: 0.8511 - val_loss: 0.5085 - val_accuracy: 0.8400\n",
            "Epoch 22/100\n",
            "29/29 [==============================] - 0s 7ms/step - loss: 0.4515 - accuracy: 0.8506 - val_loss: 0.4808 - val_accuracy: 0.8600\n",
            "Epoch 23/100\n",
            "29/29 [==============================] - 0s 7ms/step - loss: 0.4280 - accuracy: 0.8672 - val_loss: 0.4562 - val_accuracy: 0.8650\n",
            "Epoch 24/100\n",
            "29/29 [==============================] - 0s 9ms/step - loss: 0.4071 - accuracy: 0.8711 - val_loss: 0.4313 - val_accuracy: 0.8600\n",
            "Epoch 25/100\n",
            "29/29 [==============================] - 0s 9ms/step - loss: 0.3877 - accuracy: 0.8789 - val_loss: 0.4138 - val_accuracy: 0.8750\n",
            "Epoch 26/100\n",
            "29/29 [==============================] - 0s 6ms/step - loss: 0.3702 - accuracy: 0.8850 - val_loss: 0.3985 - val_accuracy: 0.8650\n",
            "Epoch 27/100\n",
            "29/29 [==============================] - 0s 10ms/step - loss: 0.3545 - accuracy: 0.8933 - val_loss: 0.3817 - val_accuracy: 0.8750\n",
            "Epoch 28/100\n",
            "29/29 [==============================] - 0s 7ms/step - loss: 0.3394 - accuracy: 0.8956 - val_loss: 0.3676 - val_accuracy: 0.8800\n",
            "Epoch 29/100\n",
            "29/29 [==============================] - 0s 9ms/step - loss: 0.3245 - accuracy: 0.9083 - val_loss: 0.3558 - val_accuracy: 0.8850\n",
            "Epoch 30/100\n",
            "29/29 [==============================] - 0s 8ms/step - loss: 0.3117 - accuracy: 0.9122 - val_loss: 0.3448 - val_accuracy: 0.8850\n",
            "Epoch 31/100\n",
            "29/29 [==============================] - 0s 8ms/step - loss: 0.3005 - accuracy: 0.9178 - val_loss: 0.3335 - val_accuracy: 0.8950\n",
            "Epoch 32/100\n",
            "29/29 [==============================] - 0s 7ms/step - loss: 0.2888 - accuracy: 0.9206 - val_loss: 0.3226 - val_accuracy: 0.9000\n",
            "Epoch 33/100\n",
            "29/29 [==============================] - 0s 8ms/step - loss: 0.2784 - accuracy: 0.9239 - val_loss: 0.3162 - val_accuracy: 0.9000\n",
            "Epoch 34/100\n",
            "29/29 [==============================] - 0s 9ms/step - loss: 0.2687 - accuracy: 0.9278 - val_loss: 0.3067 - val_accuracy: 0.9100\n",
            "Epoch 35/100\n",
            "29/29 [==============================] - 0s 7ms/step - loss: 0.2590 - accuracy: 0.9267 - val_loss: 0.3021 - val_accuracy: 0.8950\n",
            "Epoch 36/100\n",
            "29/29 [==============================] - 0s 10ms/step - loss: 0.2503 - accuracy: 0.9311 - val_loss: 0.2914 - val_accuracy: 0.9050\n",
            "Epoch 37/100\n",
            "29/29 [==============================] - 0s 13ms/step - loss: 0.2423 - accuracy: 0.9356 - val_loss: 0.2872 - val_accuracy: 0.9050\n",
            "Epoch 38/100\n",
            "29/29 [==============================] - 0s 9ms/step - loss: 0.2342 - accuracy: 0.9350 - val_loss: 0.2814 - val_accuracy: 0.9050\n",
            "Epoch 39/100\n",
            "29/29 [==============================] - 0s 10ms/step - loss: 0.2261 - accuracy: 0.9394 - val_loss: 0.2734 - val_accuracy: 0.9050\n",
            "Epoch 40/100\n",
            "29/29 [==============================] - 0s 8ms/step - loss: 0.2192 - accuracy: 0.9417 - val_loss: 0.2651 - val_accuracy: 0.9100\n",
            "Epoch 41/100\n",
            "29/29 [==============================] - 0s 8ms/step - loss: 0.2122 - accuracy: 0.9439 - val_loss: 0.2585 - val_accuracy: 0.9150\n",
            "Epoch 42/100\n",
            "29/29 [==============================] - 0s 13ms/step - loss: 0.2054 - accuracy: 0.9444 - val_loss: 0.2543 - val_accuracy: 0.9150\n",
            "Epoch 43/100\n",
            "29/29 [==============================] - 0s 13ms/step - loss: 0.1991 - accuracy: 0.9472 - val_loss: 0.2520 - val_accuracy: 0.9150\n",
            "Epoch 44/100\n",
            "29/29 [==============================] - 0s 12ms/step - loss: 0.1940 - accuracy: 0.9483 - val_loss: 0.2481 - val_accuracy: 0.9150\n",
            "Epoch 45/100\n",
            "29/29 [==============================] - 0s 10ms/step - loss: 0.1878 - accuracy: 0.9517 - val_loss: 0.2433 - val_accuracy: 0.9150\n",
            "Epoch 46/100\n",
            "29/29 [==============================] - 0s 13ms/step - loss: 0.1834 - accuracy: 0.9489 - val_loss: 0.2394 - val_accuracy: 0.9150\n",
            "Epoch 47/100\n",
            "29/29 [==============================] - 0s 15ms/step - loss: 0.1777 - accuracy: 0.9522 - val_loss: 0.2351 - val_accuracy: 0.9150\n",
            "Epoch 48/100\n",
            "29/29 [==============================] - 0s 12ms/step - loss: 0.1736 - accuracy: 0.9539 - val_loss: 0.2299 - val_accuracy: 0.9200\n",
            "Epoch 49/100\n",
            "29/29 [==============================] - 0s 9ms/step - loss: 0.1683 - accuracy: 0.9544 - val_loss: 0.2285 - val_accuracy: 0.9200\n",
            "Epoch 50/100\n",
            "29/29 [==============================] - 0s 13ms/step - loss: 0.1654 - accuracy: 0.9522 - val_loss: 0.2220 - val_accuracy: 0.9300\n",
            "Epoch 51/100\n",
            "29/29 [==============================] - 0s 11ms/step - loss: 0.1611 - accuracy: 0.9533 - val_loss: 0.2210 - val_accuracy: 0.9250\n",
            "Epoch 52/100\n",
            "29/29 [==============================] - 0s 10ms/step - loss: 0.1568 - accuracy: 0.9567 - val_loss: 0.2201 - val_accuracy: 0.9250\n",
            "Epoch 53/100\n",
            "29/29 [==============================] - 0s 8ms/step - loss: 0.1536 - accuracy: 0.9583 - val_loss: 0.2181 - val_accuracy: 0.9250\n",
            "Epoch 54/100\n",
            "29/29 [==============================] - 0s 9ms/step - loss: 0.1501 - accuracy: 0.9556 - val_loss: 0.2152 - val_accuracy: 0.9200\n",
            "Epoch 55/100\n",
            "29/29 [==============================] - 0s 8ms/step - loss: 0.1465 - accuracy: 0.9589 - val_loss: 0.2141 - val_accuracy: 0.9250\n",
            "Epoch 56/100\n",
            "29/29 [==============================] - 0s 9ms/step - loss: 0.1449 - accuracy: 0.9561 - val_loss: 0.2058 - val_accuracy: 0.9300\n",
            "Epoch 57/100\n",
            "29/29 [==============================] - 0s 8ms/step - loss: 0.1409 - accuracy: 0.9606 - val_loss: 0.2059 - val_accuracy: 0.9250\n",
            "Epoch 58/100\n",
            "29/29 [==============================] - 0s 9ms/step - loss: 0.1374 - accuracy: 0.9606 - val_loss: 0.2048 - val_accuracy: 0.9250\n",
            "Epoch 59/100\n",
            "29/29 [==============================] - 0s 8ms/step - loss: 0.1349 - accuracy: 0.9594 - val_loss: 0.2036 - val_accuracy: 0.9200\n",
            "Epoch 60/100\n",
            "29/29 [==============================] - 0s 8ms/step - loss: 0.1325 - accuracy: 0.9600 - val_loss: 0.2045 - val_accuracy: 0.9200\n",
            "Epoch 61/100\n",
            "29/29 [==============================] - 0s 9ms/step - loss: 0.1295 - accuracy: 0.9594 - val_loss: 0.1989 - val_accuracy: 0.9200\n",
            "Epoch 62/100\n",
            "29/29 [==============================] - 0s 7ms/step - loss: 0.1258 - accuracy: 0.9628 - val_loss: 0.1995 - val_accuracy: 0.9250\n",
            "Epoch 63/100\n",
            "29/29 [==============================] - 0s 7ms/step - loss: 0.1241 - accuracy: 0.9633 - val_loss: 0.1973 - val_accuracy: 0.9150\n",
            "Epoch 64/100\n",
            "29/29 [==============================] - 0s 8ms/step - loss: 0.1229 - accuracy: 0.9633 - val_loss: 0.1947 - val_accuracy: 0.9250\n",
            "Epoch 65/100\n",
            "29/29 [==============================] - 0s 8ms/step - loss: 0.1193 - accuracy: 0.9639 - val_loss: 0.1956 - val_accuracy: 0.9200\n",
            "Epoch 66/100\n",
            "29/29 [==============================] - 0s 8ms/step - loss: 0.1169 - accuracy: 0.9661 - val_loss: 0.1932 - val_accuracy: 0.9200\n",
            "Epoch 67/100\n",
            "29/29 [==============================] - 0s 8ms/step - loss: 0.1164 - accuracy: 0.9644 - val_loss: 0.1920 - val_accuracy: 0.9200\n",
            "Epoch 68/100\n",
            "29/29 [==============================] - 0s 6ms/step - loss: 0.1141 - accuracy: 0.9689 - val_loss: 0.1943 - val_accuracy: 0.9200\n",
            "Epoch 69/100\n",
            "29/29 [==============================] - 0s 10ms/step - loss: 0.1108 - accuracy: 0.9706 - val_loss: 0.1895 - val_accuracy: 0.9200\n",
            "Epoch 70/100\n",
            "29/29 [==============================] - 0s 8ms/step - loss: 0.1090 - accuracy: 0.9700 - val_loss: 0.1867 - val_accuracy: 0.9200\n",
            "Epoch 71/100\n",
            "29/29 [==============================] - 0s 10ms/step - loss: 0.1080 - accuracy: 0.9667 - val_loss: 0.1860 - val_accuracy: 0.9200\n",
            "Epoch 72/100\n",
            "29/29 [==============================] - 0s 7ms/step - loss: 0.1060 - accuracy: 0.9717 - val_loss: 0.1829 - val_accuracy: 0.9200\n",
            "Epoch 73/100\n",
            "29/29 [==============================] - 0s 6ms/step - loss: 0.1045 - accuracy: 0.9683 - val_loss: 0.1824 - val_accuracy: 0.9200\n",
            "Epoch 74/100\n",
            "29/29 [==============================] - 0s 7ms/step - loss: 0.1021 - accuracy: 0.9722 - val_loss: 0.1852 - val_accuracy: 0.9150\n",
            "Epoch 75/100\n",
            "29/29 [==============================] - 0s 7ms/step - loss: 0.1001 - accuracy: 0.9722 - val_loss: 0.1817 - val_accuracy: 0.9200\n",
            "Epoch 76/100\n",
            "29/29 [==============================] - 0s 8ms/step - loss: 0.0986 - accuracy: 0.9728 - val_loss: 0.1830 - val_accuracy: 0.9200\n",
            "Epoch 77/100\n",
            "29/29 [==============================] - 0s 6ms/step - loss: 0.0977 - accuracy: 0.9706 - val_loss: 0.1818 - val_accuracy: 0.9200\n",
            "Epoch 78/100\n",
            "29/29 [==============================] - 0s 10ms/step - loss: 0.0960 - accuracy: 0.9706 - val_loss: 0.1817 - val_accuracy: 0.9150\n",
            "Epoch 79/100\n",
            "29/29 [==============================] - 0s 8ms/step - loss: 0.0946 - accuracy: 0.9756 - val_loss: 0.1799 - val_accuracy: 0.9200\n",
            "Epoch 80/100\n",
            "29/29 [==============================] - 0s 8ms/step - loss: 0.0944 - accuracy: 0.9733 - val_loss: 0.1791 - val_accuracy: 0.9150\n",
            "Epoch 81/100\n",
            "29/29 [==============================] - 0s 9ms/step - loss: 0.0920 - accuracy: 0.9772 - val_loss: 0.1783 - val_accuracy: 0.9150\n",
            "Epoch 82/100\n",
            "29/29 [==============================] - 0s 7ms/step - loss: 0.0907 - accuracy: 0.9744 - val_loss: 0.1746 - val_accuracy: 0.9250\n",
            "Epoch 83/100\n",
            "29/29 [==============================] - 0s 9ms/step - loss: 0.0901 - accuracy: 0.9744 - val_loss: 0.1755 - val_accuracy: 0.9150\n",
            "Epoch 84/100\n",
            "29/29 [==============================] - 0s 7ms/step - loss: 0.0883 - accuracy: 0.9772 - val_loss: 0.1751 - val_accuracy: 0.9200\n",
            "Epoch 85/100\n",
            "29/29 [==============================] - 0s 9ms/step - loss: 0.0869 - accuracy: 0.9783 - val_loss: 0.1716 - val_accuracy: 0.9150\n",
            "Epoch 86/100\n",
            "29/29 [==============================] - 0s 7ms/step - loss: 0.0855 - accuracy: 0.9789 - val_loss: 0.1701 - val_accuracy: 0.9300\n",
            "Epoch 87/100\n",
            "29/29 [==============================] - 0s 7ms/step - loss: 0.0848 - accuracy: 0.9772 - val_loss: 0.1698 - val_accuracy: 0.9250\n",
            "Epoch 88/100\n",
            "29/29 [==============================] - 0s 13ms/step - loss: 0.0862 - accuracy: 0.9789 - val_loss: 0.1681 - val_accuracy: 0.9250\n",
            "Epoch 89/100\n",
            "29/29 [==============================] - 0s 12ms/step - loss: 0.0828 - accuracy: 0.9800 - val_loss: 0.1677 - val_accuracy: 0.9250\n",
            "Epoch 90/100\n",
            "29/29 [==============================] - 1s 20ms/step - loss: 0.0816 - accuracy: 0.9822 - val_loss: 0.1663 - val_accuracy: 0.9250\n",
            "Epoch 91/100\n",
            "29/29 [==============================] - 1s 18ms/step - loss: 0.0804 - accuracy: 0.9794 - val_loss: 0.1652 - val_accuracy: 0.9250\n",
            "Epoch 92/100\n",
            "29/29 [==============================] - 1s 21ms/step - loss: 0.0796 - accuracy: 0.9794 - val_loss: 0.1639 - val_accuracy: 0.9300\n",
            "Epoch 93/100\n",
            "29/29 [==============================] - 0s 14ms/step - loss: 0.0784 - accuracy: 0.9817 - val_loss: 0.1622 - val_accuracy: 0.9300\n",
            "Epoch 94/100\n",
            "29/29 [==============================] - 0s 6ms/step - loss: 0.0778 - accuracy: 0.9806 - val_loss: 0.1634 - val_accuracy: 0.9300\n",
            "Epoch 95/100\n",
            "29/29 [==============================] - 0s 11ms/step - loss: 0.0801 - accuracy: 0.9794 - val_loss: 0.1585 - val_accuracy: 0.9300\n",
            "Epoch 96/100\n",
            "29/29 [==============================] - 0s 8ms/step - loss: 0.0767 - accuracy: 0.9817 - val_loss: 0.1590 - val_accuracy: 0.9300\n",
            "Epoch 97/100\n",
            "29/29 [==============================] - 0s 7ms/step - loss: 0.0758 - accuracy: 0.9794 - val_loss: 0.1586 - val_accuracy: 0.9300\n",
            "Epoch 98/100\n",
            "29/29 [==============================] - 0s 8ms/step - loss: 0.0752 - accuracy: 0.9789 - val_loss: 0.1593 - val_accuracy: 0.9300\n",
            "Epoch 99/100\n",
            "29/29 [==============================] - 0s 10ms/step - loss: 0.0744 - accuracy: 0.9817 - val_loss: 0.1585 - val_accuracy: 0.9300\n",
            "Epoch 100/100\n",
            "29/29 [==============================] - 0s 8ms/step - loss: 0.0728 - accuracy: 0.9839 - val_loss: 0.1565 - val_accuracy: 0.9300\n"
          ]
        }
      ]
    },
    {
      "cell_type": "code",
      "metadata": {
        "id": "DepOKe2q8MkJ",
        "colab": {
          "base_uri": "https://localhost:8080/",
          "height": 472
        },
        "outputId": "30bbbc25-9730-4d8e-94a9-883ccabd4724"
      },
      "source": [
        "# Plot training and validation accuracy\n",
        "\n",
        "plt.plot(history.history['accuracy'])\n",
        "plt.plot(history.history['val_accuracy'])\n",
        "plt.title('Model accuracy')\n",
        "plt.ylabel('Accuracy')\n",
        "plt.xlabel('Epoch')\n",
        "plt.legend(['Train', 'Val'], loc='upper left')\n",
        "plt.show()"
      ],
      "execution_count": null,
      "outputs": [
        {
          "output_type": "display_data",
          "data": {
            "text/plain": [
              "<Figure size 640x480 with 1 Axes>"
            ],
            "image/png": "[encoded data removed]"
          },
          "metadata": {}
        }
      ]
    },
    {
      "cell_type": "code",
      "metadata": {
        "id": "3w92LUhf8MVT",
        "colab": {
          "base_uri": "https://localhost:8080/",
          "height": 472
        },
        "outputId": "afc23627-fdc3-4338-ba6b-b9ba8df713a1"
      },
      "source": [
        "# Plot training and test loss\n",
        "\n",
        "plt.plot(history.history['loss'])\n",
        "plt.plot(history.history['val_loss'])\n",
        "plt.title('Model loss')\n",
        "plt.ylabel('Loss')\n",
        "plt.xlabel('Epoch')\n",
        "plt.legend(['Train', 'Val'], loc='upper left')\n",
        "plt.show()"
      ],
      "execution_count": null,
      "outputs": [
        {
          "output_type": "display_data",
          "data": {
            "text/plain": [
              "<Figure size 640x480 with 1 Axes>"
            ],
            "image/png": "[encoded data removed]"
          },
          "metadata": {}
        }
      ]
    },
    {
      "cell_type": "markdown",
      "metadata": {
        "id": "Is_TBOC1VTIE"
      },
      "source": [
        "# Exercise 3: Train a more complex model and evaluate the results"
      ]
    },
    {
      "cell_type": "code",
      "metadata": {
        "id": "OjIi9dDDVTrl"
      },
      "source": [
        "# Split data with normalization in training and validation partitions\n"
      ],
      "execution_count": null,
      "outputs": []
    },
    {
      "cell_type": "code",
      "metadata": {
        "id": "eG_74eNC8r1Z"
      },
      "source": [
        "# Design a model like the previous but with 128 neurons in the first Dense layer\n",
        "# and 256 in the second\n",
        "\n",
        "model = Sequential()\n",
        "model.add(Dense(128, input_dim=20, activation='relu')) #capa1 (entrada) al ser la entrada le tengo que decir las variables de entrada que son 20. 16 neuronas porque he querido. En las capas de entrada relu suele ser la que mejor funciona\n",
        "model.add(Dense(256, activation='relu')) # capa 'densa' significa totalmente conectada. Esta es una capa oculta de 12 neuronas\n",
        "model.add(Dense(4, activation='softmax'))\n"
      ],
      "execution_count": null,
      "outputs": []
    },
    {
      "cell_type": "code",
      "metadata": {
        "id": "tdqlzys58_9H"
      },
      "source": [
        "# Compile the model\n",
        "\n",
        "model.compile(loss='categorical_crossentropy', optimizer='adam',\n",
        "              metrics=['accuracy'])"
      ],
      "execution_count": null,
      "outputs": []
    },
    {
      "cell_type": "code",
      "metadata": {
        "id": "wA0FvjzI9ECb",
        "colab": {
          "base_uri": "https://localhost:8080/"
        },
        "outputId": "4016ff6d-c7ec-4b35-a814-6d4399a8c76a"
      },
      "source": [
        "# Train the model\n",
        "history = model.fit(X_train, y_train, epochs=100, batch_size=64,\n",
        "                    validation_data=(X_val, y_val))"
      ],
      "execution_count": null,
      "outputs": [
        {
          "output_type": "stream",
          "name": "stdout",
          "text": [
            "Epoch 1/100\n",
            "29/29 [==============================] - 4s 17ms/step - loss: 1.1626 - accuracy: 0.5311 - val_loss: 0.9366 - val_accuracy: 0.6000\n",
            "Epoch 2/100\n",
            "29/29 [==============================] - 0s 10ms/step - loss: 0.7072 - accuracy: 0.7478 - val_loss: 0.6287 - val_accuracy: 0.7750\n",
            "Epoch 3/100\n",
            "29/29 [==============================] - 0s 7ms/step - loss: 0.4587 - accuracy: 0.8678 - val_loss: 0.4457 - val_accuracy: 0.8400\n",
            "Epoch 4/100\n",
            "29/29 [==============================] - 0s 7ms/step - loss: 0.3297 - accuracy: 0.9106 - val_loss: 0.3652 - val_accuracy: 0.8650\n",
            "Epoch 5/100\n",
            "29/29 [==============================] - 0s 8ms/step - loss: 0.2462 - accuracy: 0.9344 - val_loss: 0.2952 - val_accuracy: 0.9000\n",
            "Epoch 6/100\n",
            "29/29 [==============================] - 0s 6ms/step - loss: 0.1928 - accuracy: 0.9506 - val_loss: 0.2694 - val_accuracy: 0.9000\n",
            "Epoch 7/100\n",
            "29/29 [==============================] - 0s 7ms/step - loss: 0.1535 - accuracy: 0.9650 - val_loss: 0.2605 - val_accuracy: 0.8950\n",
            "Epoch 8/100\n",
            "29/29 [==============================] - 0s 9ms/step - loss: 0.1267 - accuracy: 0.9761 - val_loss: 0.2353 - val_accuracy: 0.8900\n",
            "Epoch 9/100\n",
            "29/29 [==============================] - 0s 7ms/step - loss: 0.1215 - accuracy: 0.9667 - val_loss: 0.2681 - val_accuracy: 0.8950\n",
            "Epoch 10/100\n",
            "29/29 [==============================] - 0s 8ms/step - loss: 0.0941 - accuracy: 0.9839 - val_loss: 0.2293 - val_accuracy: 0.9150\n",
            "Epoch 11/100\n",
            "29/29 [==============================] - 0s 12ms/step - loss: 0.0784 - accuracy: 0.9889 - val_loss: 0.2132 - val_accuracy: 0.9150\n",
            "Epoch 12/100\n",
            "29/29 [==============================] - 0s 14ms/step - loss: 0.0705 - accuracy: 0.9900 - val_loss: 0.2260 - val_accuracy: 0.9150\n",
            "Epoch 13/100\n",
            "29/29 [==============================] - 0s 6ms/step - loss: 0.0610 - accuracy: 0.9950 - val_loss: 0.2210 - val_accuracy: 0.9000\n",
            "Epoch 14/100\n",
            "29/29 [==============================] - 0s 9ms/step - loss: 0.0530 - accuracy: 0.9939 - val_loss: 0.2174 - val_accuracy: 0.9000\n",
            "Epoch 15/100\n",
            "29/29 [==============================] - 0s 7ms/step - loss: 0.0473 - accuracy: 0.9961 - val_loss: 0.2151 - val_accuracy: 0.9150\n",
            "Epoch 16/100\n",
            "29/29 [==============================] - 0s 8ms/step - loss: 0.0467 - accuracy: 0.9933 - val_loss: 0.2232 - val_accuracy: 0.9200\n",
            "Epoch 17/100\n",
            "29/29 [==============================] - 0s 8ms/step - loss: 0.0395 - accuracy: 0.9961 - val_loss: 0.2078 - val_accuracy: 0.9250\n",
            "Epoch 18/100\n",
            "29/29 [==============================] - 0s 9ms/step - loss: 0.0304 - accuracy: 0.9994 - val_loss: 0.2185 - val_accuracy: 0.9100\n",
            "Epoch 19/100\n",
            "29/29 [==============================] - 0s 7ms/step - loss: 0.0280 - accuracy: 0.9994 - val_loss: 0.2223 - val_accuracy: 0.9150\n",
            "Epoch 20/100\n",
            "29/29 [==============================] - 0s 7ms/step - loss: 0.0327 - accuracy: 0.9961 - val_loss: 0.2314 - val_accuracy: 0.9050\n",
            "Epoch 21/100\n",
            "29/29 [==============================] - 0s 9ms/step - loss: 0.0242 - accuracy: 0.9994 - val_loss: 0.2370 - val_accuracy: 0.9000\n",
            "Epoch 22/100\n",
            "29/29 [==============================] - 0s 7ms/step - loss: 0.0198 - accuracy: 1.0000 - val_loss: 0.2235 - val_accuracy: 0.9250\n",
            "Epoch 23/100\n",
            "29/29 [==============================] - 0s 8ms/step - loss: 0.0178 - accuracy: 1.0000 - val_loss: 0.2324 - val_accuracy: 0.9100\n",
            "Epoch 24/100\n",
            "29/29 [==============================] - 0s 9ms/step - loss: 0.0150 - accuracy: 1.0000 - val_loss: 0.2266 - val_accuracy: 0.9200\n",
            "Epoch 25/100\n",
            "29/29 [==============================] - 0s 8ms/step - loss: 0.0145 - accuracy: 1.0000 - val_loss: 0.2392 - val_accuracy: 0.9150\n",
            "Epoch 26/100\n",
            "29/29 [==============================] - 0s 10ms/step - loss: 0.0138 - accuracy: 0.9994 - val_loss: 0.2348 - val_accuracy: 0.9100\n",
            "Epoch 27/100\n",
            "29/29 [==============================] - 0s 8ms/step - loss: 0.0115 - accuracy: 1.0000 - val_loss: 0.2433 - val_accuracy: 0.9050\n",
            "Epoch 28/100\n",
            "29/29 [==============================] - 0s 8ms/step - loss: 0.0105 - accuracy: 1.0000 - val_loss: 0.2431 - val_accuracy: 0.9100\n",
            "Epoch 29/100\n",
            "29/29 [==============================] - 0s 11ms/step - loss: 0.0097 - accuracy: 1.0000 - val_loss: 0.2440 - val_accuracy: 0.9050\n",
            "Epoch 30/100\n",
            "29/29 [==============================] - 0s 12ms/step - loss: 0.0088 - accuracy: 1.0000 - val_loss: 0.2459 - val_accuracy: 0.9100\n",
            "Epoch 31/100\n",
            "29/29 [==============================] - 0s 12ms/step - loss: 0.0078 - accuracy: 1.0000 - val_loss: 0.2571 - val_accuracy: 0.9050\n",
            "Epoch 32/100\n",
            "29/29 [==============================] - 0s 14ms/step - loss: 0.0081 - accuracy: 1.0000 - val_loss: 0.2457 - val_accuracy: 0.9150\n",
            "Epoch 33/100\n",
            "29/29 [==============================] - 0s 11ms/step - loss: 0.0070 - accuracy: 1.0000 - val_loss: 0.2549 - val_accuracy: 0.9050\n",
            "Epoch 34/100\n",
            "29/29 [==============================] - 0s 7ms/step - loss: 0.0064 - accuracy: 1.0000 - val_loss: 0.2514 - val_accuracy: 0.9100\n",
            "Epoch 35/100\n",
            "29/29 [==============================] - 0s 8ms/step - loss: 0.0059 - accuracy: 1.0000 - val_loss: 0.2590 - val_accuracy: 0.9050\n",
            "Epoch 36/100\n",
            "29/29 [==============================] - 0s 7ms/step - loss: 0.0054 - accuracy: 1.0000 - val_loss: 0.2611 - val_accuracy: 0.9050\n",
            "Epoch 37/100\n",
            "29/29 [==============================] - 0s 7ms/step - loss: 0.0052 - accuracy: 1.0000 - val_loss: 0.2594 - val_accuracy: 0.9050\n",
            "Epoch 38/100\n",
            "29/29 [==============================] - 0s 9ms/step - loss: 0.0050 - accuracy: 1.0000 - val_loss: 0.2700 - val_accuracy: 0.9000\n",
            "Epoch 39/100\n",
            "29/29 [==============================] - 0s 13ms/step - loss: 0.0046 - accuracy: 1.0000 - val_loss: 0.2659 - val_accuracy: 0.9050\n",
            "Epoch 40/100\n",
            "29/29 [==============================] - 0s 12ms/step - loss: 0.0041 - accuracy: 1.0000 - val_loss: 0.2692 - val_accuracy: 0.9050\n",
            "Epoch 41/100\n",
            "29/29 [==============================] - 1s 22ms/step - loss: 0.0038 - accuracy: 1.0000 - val_loss: 0.2742 - val_accuracy: 0.9000\n",
            "Epoch 42/100\n",
            "29/29 [==============================] - 0s 11ms/step - loss: 0.0036 - accuracy: 1.0000 - val_loss: 0.2780 - val_accuracy: 0.9000\n",
            "Epoch 43/100\n",
            "29/29 [==============================] - 0s 8ms/step - loss: 0.0034 - accuracy: 1.0000 - val_loss: 0.2786 - val_accuracy: 0.9000\n",
            "Epoch 44/100\n",
            "29/29 [==============================] - 0s 6ms/step - loss: 0.0032 - accuracy: 1.0000 - val_loss: 0.2785 - val_accuracy: 0.9000\n",
            "Epoch 45/100\n",
            "29/29 [==============================] - 0s 6ms/step - loss: 0.0031 - accuracy: 1.0000 - val_loss: 0.2757 - val_accuracy: 0.9000\n",
            "Epoch 46/100\n",
            "29/29 [==============================] - 0s 4ms/step - loss: 0.0028 - accuracy: 1.0000 - val_loss: 0.2814 - val_accuracy: 0.9050\n",
            "Epoch 47/100\n",
            "29/29 [==============================] - 0s 4ms/step - loss: 0.0027 - accuracy: 1.0000 - val_loss: 0.2865 - val_accuracy: 0.9000\n",
            "Epoch 48/100\n",
            "29/29 [==============================] - 0s 4ms/step - loss: 0.0025 - accuracy: 1.0000 - val_loss: 0.2859 - val_accuracy: 0.9000\n",
            "Epoch 49/100\n",
            "29/29 [==============================] - 0s 4ms/step - loss: 0.0026 - accuracy: 1.0000 - val_loss: 0.2879 - val_accuracy: 0.9050\n",
            "Epoch 50/100\n",
            "29/29 [==============================] - 0s 4ms/step - loss: 0.0023 - accuracy: 1.0000 - val_loss: 0.2857 - val_accuracy: 0.9000\n",
            "Epoch 51/100\n",
            "29/29 [==============================] - 0s 5ms/step - loss: 0.0021 - accuracy: 1.0000 - val_loss: 0.2933 - val_accuracy: 0.9000\n",
            "Epoch 52/100\n",
            "29/29 [==============================] - 0s 4ms/step - loss: 0.0020 - accuracy: 1.0000 - val_loss: 0.2899 - val_accuracy: 0.9000\n",
            "Epoch 53/100\n",
            "29/29 [==============================] - 0s 4ms/step - loss: 0.0019 - accuracy: 1.0000 - val_loss: 0.2934 - val_accuracy: 0.9000\n",
            "Epoch 54/100\n",
            "29/29 [==============================] - 0s 4ms/step - loss: 0.0019 - accuracy: 1.0000 - val_loss: 0.2929 - val_accuracy: 0.9000\n",
            "Epoch 55/100\n",
            "29/29 [==============================] - 0s 4ms/step - loss: 0.0018 - accuracy: 1.0000 - val_loss: 0.2940 - val_accuracy: 0.9050\n",
            "Epoch 56/100\n",
            "29/29 [==============================] - 0s 5ms/step - loss: 0.0017 - accuracy: 1.0000 - val_loss: 0.2983 - val_accuracy: 0.9000\n",
            "Epoch 57/100\n",
            "29/29 [==============================] - 0s 4ms/step - loss: 0.0016 - accuracy: 1.0000 - val_loss: 0.2974 - val_accuracy: 0.9000\n",
            "Epoch 58/100\n",
            "29/29 [==============================] - 0s 4ms/step - loss: 0.0016 - accuracy: 1.0000 - val_loss: 0.3014 - val_accuracy: 0.9050\n",
            "Epoch 59/100\n",
            "29/29 [==============================] - 0s 4ms/step - loss: 0.0015 - accuracy: 1.0000 - val_loss: 0.3007 - val_accuracy: 0.9050\n",
            "Epoch 60/100\n",
            "29/29 [==============================] - 0s 4ms/step - loss: 0.0014 - accuracy: 1.0000 - val_loss: 0.3047 - val_accuracy: 0.9050\n",
            "Epoch 61/100\n",
            "29/29 [==============================] - 0s 5ms/step - loss: 0.0014 - accuracy: 1.0000 - val_loss: 0.3031 - val_accuracy: 0.9050\n",
            "Epoch 62/100\n",
            "29/29 [==============================] - 0s 4ms/step - loss: 0.0013 - accuracy: 1.0000 - val_loss: 0.3060 - val_accuracy: 0.9050\n",
            "Epoch 63/100\n",
            "29/29 [==============================] - 0s 4ms/step - loss: 0.0013 - accuracy: 1.0000 - val_loss: 0.3096 - val_accuracy: 0.9000\n",
            "Epoch 64/100\n",
            "29/29 [==============================] - 0s 4ms/step - loss: 0.0012 - accuracy: 1.0000 - val_loss: 0.3101 - val_accuracy: 0.9050\n",
            "Epoch 65/100\n",
            "29/29 [==============================] - 0s 4ms/step - loss: 0.0012 - accuracy: 1.0000 - val_loss: 0.3098 - val_accuracy: 0.9100\n",
            "Epoch 66/100\n",
            "29/29 [==============================] - 0s 4ms/step - loss: 0.0011 - accuracy: 1.0000 - val_loss: 0.3154 - val_accuracy: 0.9050\n",
            "Epoch 67/100\n",
            "29/29 [==============================] - 0s 4ms/step - loss: 0.0011 - accuracy: 1.0000 - val_loss: 0.3129 - val_accuracy: 0.9100\n",
            "Epoch 68/100\n",
            "29/29 [==============================] - 0s 4ms/step - loss: 0.0010 - accuracy: 1.0000 - val_loss: 0.3173 - val_accuracy: 0.9050\n",
            "Epoch 69/100\n",
            "29/29 [==============================] - 0s 4ms/step - loss: 9.8527e-04 - accuracy: 1.0000 - val_loss: 0.3171 - val_accuracy: 0.9050\n",
            "Epoch 70/100\n",
            "29/29 [==============================] - 0s 4ms/step - loss: 9.6851e-04 - accuracy: 1.0000 - val_loss: 0.3162 - val_accuracy: 0.9100\n",
            "Epoch 71/100\n",
            "29/29 [==============================] - 0s 4ms/step - loss: 9.2354e-04 - accuracy: 1.0000 - val_loss: 0.3169 - val_accuracy: 0.9050\n",
            "Epoch 72/100\n",
            "29/29 [==============================] - 0s 4ms/step - loss: 8.8413e-04 - accuracy: 1.0000 - val_loss: 0.3208 - val_accuracy: 0.9100\n",
            "Epoch 73/100\n",
            "29/29 [==============================] - 0s 4ms/step - loss: 8.5491e-04 - accuracy: 1.0000 - val_loss: 0.3175 - val_accuracy: 0.9100\n",
            "Epoch 74/100\n",
            "29/29 [==============================] - 0s 4ms/step - loss: 8.2547e-04 - accuracy: 1.0000 - val_loss: 0.3192 - val_accuracy: 0.9050\n",
            "Epoch 75/100\n",
            "29/29 [==============================] - 0s 4ms/step - loss: 7.9917e-04 - accuracy: 1.0000 - val_loss: 0.3229 - val_accuracy: 0.9050\n",
            "Epoch 76/100\n",
            "29/29 [==============================] - 0s 4ms/step - loss: 7.6651e-04 - accuracy: 1.0000 - val_loss: 0.3247 - val_accuracy: 0.9100\n",
            "Epoch 77/100\n",
            "29/29 [==============================] - 0s 5ms/step - loss: 7.3867e-04 - accuracy: 1.0000 - val_loss: 0.3235 - val_accuracy: 0.9050\n",
            "Epoch 78/100\n",
            "29/29 [==============================] - 0s 4ms/step - loss: 7.1654e-04 - accuracy: 1.0000 - val_loss: 0.3242 - val_accuracy: 0.9100\n",
            "Epoch 79/100\n",
            "29/29 [==============================] - 0s 4ms/step - loss: 7.0069e-04 - accuracy: 1.0000 - val_loss: 0.3296 - val_accuracy: 0.9100\n",
            "Epoch 80/100\n",
            "29/29 [==============================] - 0s 5ms/step - loss: 6.6553e-04 - accuracy: 1.0000 - val_loss: 0.3253 - val_accuracy: 0.9100\n",
            "Epoch 81/100\n",
            "29/29 [==============================] - 0s 4ms/step - loss: 6.4553e-04 - accuracy: 1.0000 - val_loss: 0.3299 - val_accuracy: 0.9100\n",
            "Epoch 82/100\n",
            "29/29 [==============================] - 0s 4ms/step - loss: 6.2703e-04 - accuracy: 1.0000 - val_loss: 0.3304 - val_accuracy: 0.9100\n",
            "Epoch 83/100\n",
            "29/29 [==============================] - 0s 4ms/step - loss: 6.1161e-04 - accuracy: 1.0000 - val_loss: 0.3316 - val_accuracy: 0.9100\n",
            "Epoch 84/100\n",
            "29/29 [==============================] - 0s 4ms/step - loss: 6.0723e-04 - accuracy: 1.0000 - val_loss: 0.3298 - val_accuracy: 0.9100\n",
            "Epoch 85/100\n",
            "29/29 [==============================] - 0s 4ms/step - loss: 5.7159e-04 - accuracy: 1.0000 - val_loss: 0.3326 - val_accuracy: 0.9100\n",
            "Epoch 86/100\n",
            "29/29 [==============================] - 0s 4ms/step - loss: 5.5827e-04 - accuracy: 1.0000 - val_loss: 0.3351 - val_accuracy: 0.9100\n",
            "Epoch 87/100\n",
            "29/29 [==============================] - 0s 4ms/step - loss: 5.3329e-04 - accuracy: 1.0000 - val_loss: 0.3346 - val_accuracy: 0.9100\n",
            "Epoch 88/100\n",
            "29/29 [==============================] - 0s 4ms/step - loss: 5.1915e-04 - accuracy: 1.0000 - val_loss: 0.3335 - val_accuracy: 0.9100\n",
            "Epoch 89/100\n",
            "29/29 [==============================] - 0s 4ms/step - loss: 4.9793e-04 - accuracy: 1.0000 - val_loss: 0.3358 - val_accuracy: 0.9100\n",
            "Epoch 90/100\n",
            "29/29 [==============================] - 0s 4ms/step - loss: 4.8662e-04 - accuracy: 1.0000 - val_loss: 0.3362 - val_accuracy: 0.9100\n",
            "Epoch 91/100\n",
            "29/29 [==============================] - 0s 4ms/step - loss: 4.6923e-04 - accuracy: 1.0000 - val_loss: 0.3388 - val_accuracy: 0.9100\n",
            "Epoch 92/100\n",
            "29/29 [==============================] - 0s 4ms/step - loss: 4.5805e-04 - accuracy: 1.0000 - val_loss: 0.3416 - val_accuracy: 0.9100\n",
            "Epoch 93/100\n",
            "29/29 [==============================] - 0s 4ms/step - loss: 4.4272e-04 - accuracy: 1.0000 - val_loss: 0.3400 - val_accuracy: 0.9100\n",
            "Epoch 94/100\n",
            "29/29 [==============================] - 0s 4ms/step - loss: 4.3222e-04 - accuracy: 1.0000 - val_loss: 0.3423 - val_accuracy: 0.9100\n",
            "Epoch 95/100\n",
            "29/29 [==============================] - 0s 4ms/step - loss: 4.2214e-04 - accuracy: 1.0000 - val_loss: 0.3390 - val_accuracy: 0.9100\n",
            "Epoch 96/100\n",
            "29/29 [==============================] - 0s 4ms/step - loss: 4.0627e-04 - accuracy: 1.0000 - val_loss: 0.3445 - val_accuracy: 0.9100\n",
            "Epoch 97/100\n",
            "29/29 [==============================] - 0s 4ms/step - loss: 3.9768e-04 - accuracy: 1.0000 - val_loss: 0.3445 - val_accuracy: 0.9100\n",
            "Epoch 98/100\n",
            "29/29 [==============================] - 0s 4ms/step - loss: 3.8848e-04 - accuracy: 1.0000 - val_loss: 0.3460 - val_accuracy: 0.9100\n",
            "Epoch 99/100\n",
            "29/29 [==============================] - 0s 4ms/step - loss: 3.7745e-04 - accuracy: 1.0000 - val_loss: 0.3499 - val_accuracy: 0.9100\n",
            "Epoch 100/100\n",
            "29/29 [==============================] - 0s 4ms/step - loss: 3.6376e-04 - accuracy: 1.0000 - val_loss: 0.3463 - val_accuracy: 0.9100\n"
          ]
        }
      ]
    },
    {
      "cell_type": "code",
      "metadata": {
        "id": "wVcSFPgD9vvf",
        "colab": {
          "base_uri": "https://localhost:8080/",
          "height": 472
        },
        "outputId": "4f28c7d0-14cb-4d9c-f709-49df2878960a"
      },
      "source": [
        "# Plot training and validation accuracy\n",
        "\n",
        "plt.plot(history.history['accuracy'])\n",
        "plt.plot(history.history['val_accuracy'])\n",
        "plt.title('Model accuracy')\n",
        "plt.ylabel('Accuracy')\n",
        "plt.xlabel('Epoch')\n",
        "plt.legend(['Train', 'Val'], loc='upper left')\n",
        "plt.show()"
      ],
      "execution_count": null,
      "outputs": [
        {
          "output_type": "display_data",
          "data": {
            "text/plain": [
              "<Figure size 640x480 with 1 Axes>"
            ],
            "image/png": "[encoded data removed]"
          },
          "metadata": {}
        }
      ]
    },
    {
      "cell_type": "code",
      "metadata": {
        "id": "4nmHge409q7k",
        "colab": {
          "base_uri": "https://localhost:8080/",
          "height": 472
        },
        "outputId": "9bf40867-bfdc-4ace-8ffa-078b4f7c8896"
      },
      "source": [
        "# Plot training and test loss\n",
        "\n",
        "plt.plot(history.history['loss'])\n",
        "plt.plot(history.history['val_loss'])\n",
        "plt.title('Model loss')\n",
        "plt.ylabel('Loss')\n",
        "plt.xlabel('Epoch')\n",
        "plt.legend(['Train', 'Val'], loc='upper left')\n",
        "plt.show()"
      ],
      "execution_count": null,
      "outputs": [
        {
          "output_type": "display_data",
          "data": {
            "text/plain": [
              "<Figure size 640x480 with 1 Axes>"
            ],
            "image/png": "[encoded data removed]"
          },
          "metadata": {}
        }
      ]
    },
    {
      "cell_type": "markdown",
      "metadata": {
        "id": "-a_D8fFqFNJ4"
      },
      "source": [
        "# Exercise 4: Predict the price range of the phones of the test.csv file"
      ]
    },
    {
      "cell_type": "code",
      "metadata": {
        "id": "iAUk4_kNDfbG"
      },
      "source": [
        "# Read it test data from csv\n",
        "df_test = pd.read_csv('./data/test.csv')"
      ],
      "execution_count": null,
      "outputs": []
    },
    {
      "cell_type": "code",
      "metadata": {
        "id": "HX4h1tgWDyqT",
        "colab": {
          "base_uri": "https://localhost:8080/"
        },
        "outputId": "cd064c34-8c73-4dc9-b736-bc2a75fdae31"
      },
      "source": [
        "# Show column names (pay attention, maybe there is something different)\n",
        "df_test.columns"
      ],
      "execution_count": null,
      "outputs": [
        {
          "output_type": "execute_result",
          "data": {
            "text/plain": [
              "Index(['id', 'battery_power', 'blue', 'clock_speed', 'dual_sim', 'fc',\n",
              "       'four_g', 'int_memory', 'm_dep', 'mobile_wt', 'n_cores', 'pc',\n",
              "       'px_height', 'px_width', 'ram', 'sc_h', 'sc_w', 'talk_time', 'three_g',\n",
              "       'touch_screen', 'wifi'],\n",
              "      dtype='object')"
            ]
          },
          "metadata": {},
          "execution_count": 79
        }
      ]
    },
    {
      "cell_type": "code",
      "metadata": {
        "id": "oEz2uUWwD3et"
      },
      "source": [
        "# Convert the data to numpy array\n",
        "df_test_numpy = df_test.values"
      ],
      "execution_count": null,
      "outputs": []
    },
    {
      "cell_type": "code",
      "metadata": {
        "id": "ibg8reduGXkT",
        "colab": {
          "base_uri": "https://localhost:8080/"
        },
        "outputId": "d1ba4d30-0bd3-4b85-ebef-1d3eae1f8ad2"
      },
      "source": [
        "# Show shape of the data\n",
        "print(type(df_test))\n",
        "print(type(df_test_numpy.dtype))\n",
        "print(df_test_numpy)"
      ],
      "execution_count": null,
      "outputs": [
        {
          "output_type": "stream",
          "name": "stdout",
          "text": [
            "<class 'pandas.core.frame.DataFrame'>\n",
            "<class 'numpy.dtypes.Float64DType'>\n",
            "[[1.000e+00 1.043e+03 1.000e+00 ... 0.000e+00 1.000e+00 0.000e+00]\n",
            " [2.000e+00 8.410e+02 1.000e+00 ... 1.000e+00 0.000e+00 0.000e+00]\n",
            " [3.000e+00 1.807e+03 1.000e+00 ... 0.000e+00 1.000e+00 1.000e+00]\n",
            " ...\n",
            " [9.980e+02 1.185e+03 0.000e+00 ... 1.000e+00 0.000e+00 0.000e+00]\n",
            " [9.990e+02 1.533e+03 1.000e+00 ... 0.000e+00 1.000e+00 0.000e+00]\n",
            " [1.000e+03 1.270e+03 1.000e+00 ... 1.000e+00 0.000e+00 1.000e+00]]\n"
          ]
        }
      ]
    },
    {
      "cell_type": "code",
      "metadata": {
        "id": "ePSNvo6JGcay",
        "colab": {
          "base_uri": "https://localhost:8080/"
        },
        "outputId": "f8993a84-f1cd-46c1-edc0-af74e2aadfe7"
      },
      "source": [
        "# Get rid of a column if needed\n",
        "X = df_test_numpy[:, 1:]\n",
        "print(X)\n",
        "print(X.shape)"
      ],
      "execution_count": null,
      "outputs": [
        {
          "output_type": "stream",
          "name": "stdout",
          "text": [
            "[[1.043e+03 1.000e+00 1.800e+00 ... 0.000e+00 1.000e+00 0.000e+00]\n",
            " [8.410e+02 1.000e+00 5.000e-01 ... 1.000e+00 0.000e+00 0.000e+00]\n",
            " [1.807e+03 1.000e+00 2.800e+00 ... 0.000e+00 1.000e+00 1.000e+00]\n",
            " ...\n",
            " [1.185e+03 0.000e+00 1.400e+00 ... 1.000e+00 0.000e+00 0.000e+00]\n",
            " [1.533e+03 1.000e+00 5.000e-01 ... 0.000e+00 1.000e+00 0.000e+00]\n",
            " [1.270e+03 1.000e+00 5.000e-01 ... 1.000e+00 0.000e+00 1.000e+00]]\n",
            "(1000, 20)\n"
          ]
        }
      ]
    },
    {
      "cell_type": "code",
      "metadata": {
        "id": "newYB74PHA05",
        "colab": {
          "base_uri": "https://localhost:8080/",
          "height": 335
        },
        "outputId": "3f8de6ad-d996-4e22-c631-68e82c6a3492"
      },
      "source": [
        "# Normalize data. Important!! Always normalize test data with the mean and\n",
        "# standard deviation learnt from the training data.\n",
        "#sc.fit(X) NO HACERLO YA QUE ESTARE HACIENDO UNA DISTRIBUCION DIFERENTE PARA TRAIN Y TEST Y ESO PROBOCARA QUE MI MODLO NO GENERALICE BIEN\n",
        "X_norm = sc.transform(X)"
      ],
      "execution_count": null,
      "outputs": [
        {
          "output_type": "error",
          "ename": "NotFittedError",
          "evalue": "This StandardScaler instance is not fitted yet. Call 'fit' with appropriate arguments before using this estimator.",
          "traceback": [
            "\u001b[0;31m---------------------------------------------------------------------------\u001b[0m",
            "\u001b[0;31mNotFittedError\u001b[0m                            Traceback (most recent call last)",
            "\u001b[0;32m<ipython-input-89-c555d8bdacb6>\u001b[0m in \u001b[0;36m<cell line: 4>\u001b[0;34m()\u001b[0m\n\u001b[1;32m      2\u001b[0m \u001b[0;31m# standard deviation learnt from the training data.\u001b[0m\u001b[0;34m\u001b[0m\u001b[0;34m\u001b[0m\u001b[0m\n\u001b[1;32m      3\u001b[0m \u001b[0;31m#sc.fit(X) NO HACERLO YA QUE ESTARE HACIENDO UNA DISTRIBUCION DIFERENTE PARA TRAIN Y TEST Y ESO PROBOCARA QUE MI MODLO NO GENERALICE BIEN\u001b[0m\u001b[0;34m\u001b[0m\u001b[0;34m\u001b[0m\u001b[0m\n\u001b[0;32m----> 4\u001b[0;31m \u001b[0mX_norm\u001b[0m \u001b[0;34m=\u001b[0m \u001b[0msc\u001b[0m\u001b[0;34m.\u001b[0m\u001b[0mtransform\u001b[0m\u001b[0;34m(\u001b[0m\u001b[0mX\u001b[0m\u001b[0;34m)\u001b[0m\u001b[0;34m\u001b[0m\u001b[0;34m\u001b[0m\u001b[0m\n\u001b[0m",
            "\u001b[0;32m/usr/local/lib/python3.10/dist-packages/sklearn/utils/_set_output.py\u001b[0m in \u001b[0;36mwrapped\u001b[0;34m(self, X, *args, **kwargs)\u001b[0m\n\u001b[1;32m    138\u001b[0m     \u001b[0;34m@\u001b[0m\u001b[0mwraps\u001b[0m\u001b[0;34m(\u001b[0m\u001b[0mf\u001b[0m\u001b[0;34m)\u001b[0m\u001b[0;34m\u001b[0m\u001b[0;34m\u001b[0m\u001b[0m\n\u001b[1;32m    139\u001b[0m     \u001b[0;32mdef\u001b[0m \u001b[0mwrapped\u001b[0m\u001b[0;34m(\u001b[0m\u001b[0mself\u001b[0m\u001b[0;34m,\u001b[0m \u001b[0mX\u001b[0m\u001b[0;34m,\u001b[0m \u001b[0;34m*\u001b[0m\u001b[0margs\u001b[0m\u001b[0;34m,\u001b[0m \u001b[0;34m**\u001b[0m\u001b[0mkwargs\u001b[0m\u001b[0;34m)\u001b[0m\u001b[0;34m:\u001b[0m\u001b[0;34m\u001b[0m\u001b[0;34m\u001b[0m\u001b[0m\n\u001b[0;32m--> 140\u001b[0;31m         \u001b[0mdata_to_wrap\u001b[0m \u001b[0;34m=\u001b[0m \u001b[0mf\u001b[0m\u001b[0;34m(\u001b[0m\u001b[0mself\u001b[0m\u001b[0;34m,\u001b[0m \u001b[0mX\u001b[0m\u001b[0;34m,\u001b[0m \u001b[0;34m*\u001b[0m\u001b[0margs\u001b[0m\u001b[0;34m,\u001b[0m \u001b[0;34m**\u001b[0m\u001b[0mkwargs\u001b[0m\u001b[0;34m)\u001b[0m\u001b[0;34m\u001b[0m\u001b[0;34m\u001b[0m\u001b[0m\n\u001b[0m\u001b[1;32m    141\u001b[0m         \u001b[0;32mif\u001b[0m \u001b[0misinstance\u001b[0m\u001b[0;34m(\u001b[0m\u001b[0mdata_to_wrap\u001b[0m\u001b[0;34m,\u001b[0m \u001b[0mtuple\u001b[0m\u001b[0;34m)\u001b[0m\u001b[0;34m:\u001b[0m\u001b[0;34m\u001b[0m\u001b[0;34m\u001b[0m\u001b[0m\n\u001b[1;32m    142\u001b[0m             \u001b[0;31m# only wrap the first output for cross decomposition\u001b[0m\u001b[0;34m\u001b[0m\u001b[0;34m\u001b[0m\u001b[0m\n",
            "\u001b[0;32m/usr/local/lib/python3.10/dist-packages/sklearn/preprocessing/_data.py\u001b[0m in \u001b[0;36mtransform\u001b[0;34m(self, X, copy)\u001b[0m\n\u001b[1;32m    987\u001b[0m             \u001b[0mTransformed\u001b[0m \u001b[0marray\u001b[0m\u001b[0;34m.\u001b[0m\u001b[0;34m\u001b[0m\u001b[0;34m\u001b[0m\u001b[0m\n\u001b[1;32m    988\u001b[0m         \"\"\"\n\u001b[0;32m--> 989\u001b[0;31m         \u001b[0mcheck_is_fitted\u001b[0m\u001b[0;34m(\u001b[0m\u001b[0mself\u001b[0m\u001b[0;34m)\u001b[0m\u001b[0;34m\u001b[0m\u001b[0;34m\u001b[0m\u001b[0m\n\u001b[0m\u001b[1;32m    990\u001b[0m \u001b[0;34m\u001b[0m\u001b[0m\n\u001b[1;32m    991\u001b[0m         \u001b[0mcopy\u001b[0m \u001b[0;34m=\u001b[0m \u001b[0mcopy\u001b[0m \u001b[0;32mif\u001b[0m \u001b[0mcopy\u001b[0m \u001b[0;32mis\u001b[0m \u001b[0;32mnot\u001b[0m \u001b[0;32mNone\u001b[0m \u001b[0;32melse\u001b[0m \u001b[0mself\u001b[0m\u001b[0;34m.\u001b[0m\u001b[0mcopy\u001b[0m\u001b[0;34m\u001b[0m\u001b[0;34m\u001b[0m\u001b[0m\n",
            "\u001b[0;32m/usr/local/lib/python3.10/dist-packages/sklearn/utils/validation.py\u001b[0m in \u001b[0;36mcheck_is_fitted\u001b[0;34m(estimator, attributes, msg, all_or_any)\u001b[0m\n\u001b[1;32m   1388\u001b[0m \u001b[0;34m\u001b[0m\u001b[0m\n\u001b[1;32m   1389\u001b[0m     \u001b[0;32mif\u001b[0m \u001b[0;32mnot\u001b[0m \u001b[0mfitted\u001b[0m\u001b[0;34m:\u001b[0m\u001b[0;34m\u001b[0m\u001b[0;34m\u001b[0m\u001b[0m\n\u001b[0;32m-> 1390\u001b[0;31m         \u001b[0;32mraise\u001b[0m \u001b[0mNotFittedError\u001b[0m\u001b[0;34m(\u001b[0m\u001b[0mmsg\u001b[0m \u001b[0;34m%\u001b[0m \u001b[0;34m{\u001b[0m\u001b[0;34m\"name\"\u001b[0m\u001b[0;34m:\u001b[0m \u001b[0mtype\u001b[0m\u001b[0;34m(\u001b[0m\u001b[0mestimator\u001b[0m\u001b[0;34m)\u001b[0m\u001b[0;34m.\u001b[0m\u001b[0m__name__\u001b[0m\u001b[0;34m}\u001b[0m\u001b[0;34m)\u001b[0m\u001b[0;34m\u001b[0m\u001b[0;34m\u001b[0m\u001b[0m\n\u001b[0m\u001b[1;32m   1391\u001b[0m \u001b[0;34m\u001b[0m\u001b[0m\n\u001b[1;32m   1392\u001b[0m \u001b[0;34m\u001b[0m\u001b[0m\n",
            "\u001b[0;31mNotFittedError\u001b[0m: This StandardScaler instance is not fitted yet. Call 'fit' with appropriate arguments before using this estimator."
          ]
        }
      ]
    },
    {
      "cell_type": "code",
      "metadata": {
        "id": "mM2cyGJpJXCP",
        "colab": {
          "base_uri": "https://localhost:8080/"
        },
        "outputId": "8284a46d-6147-4994-8fa2-52b1a25a022c"
      },
      "source": [
        "# Show data before and after normalization\n",
        "print(X)"
      ],
      "execution_count": null,
      "outputs": [
        {
          "output_type": "stream",
          "name": "stdout",
          "text": [
            "[[1.043e+03 1.000e+00 1.800e+00 ... 0.000e+00 1.000e+00 0.000e+00]\n",
            " [8.410e+02 1.000e+00 5.000e-01 ... 1.000e+00 0.000e+00 0.000e+00]\n",
            " [1.807e+03 1.000e+00 2.800e+00 ... 0.000e+00 1.000e+00 1.000e+00]\n",
            " ...\n",
            " [1.185e+03 0.000e+00 1.400e+00 ... 1.000e+00 0.000e+00 0.000e+00]\n",
            " [1.533e+03 1.000e+00 5.000e-01 ... 0.000e+00 1.000e+00 0.000e+00]\n",
            " [1.270e+03 1.000e+00 5.000e-01 ... 1.000e+00 0.000e+00 1.000e+00]]\n"
          ]
        }
      ]
    },
    {
      "cell_type": "code",
      "metadata": {
        "id": "e5oBiyCSJoFJ"
      },
      "source": [
        "# Load model saved during the example\n",
        "from keras.models import load_model\n",
        "model = load_model('./models/model_1.h5')"
      ],
      "execution_count": null,
      "outputs": []
    },
    {
      "cell_type": "code",
      "metadata": {
        "id": "QhMVQLxvLMZw",
        "colab": {
          "base_uri": "https://localhost:8080/"
        },
        "outputId": "70656913-ba95-4c08-ce71-39ddfbd1f802"
      },
      "source": [
        "# Predict price range\n",
        "predictions = model.predict(X_norm)"
      ],
      "execution_count": null,
      "outputs": [
        {
          "output_type": "stream",
          "name": "stdout",
          "text": [
            "32/32 [==============================] - 1s 5ms/step\n"
          ]
        }
      ]
    },
    {
      "cell_type": "code",
      "metadata": {
        "id": "AgYMlxWOLYM_",
        "colab": {
          "base_uri": "https://localhost:8080/"
        },
        "outputId": "18b423b3-6e3f-4a31-a6e2-add5a0d7af95"
      },
      "source": [
        "# Show predictions\n",
        "print(predictions)"
      ],
      "execution_count": null,
      "outputs": [
        {
          "output_type": "stream",
          "name": "stdout",
          "text": [
            "[[1.0558178e-30 1.1170574e-09 3.1875473e-01 6.8124533e-01]\n",
            " [3.2647295e-37 1.0318258e-13 1.8954040e-03 9.9810457e-01]\n",
            " [1.4511451e-24 1.3911345e-07 9.2280239e-01 7.7197462e-02]\n",
            " ...\n",
            " [1.2825854e-01 8.7174141e-01 1.3308861e-07 1.0936548e-15]\n",
            " [1.6450977e-16 2.5250327e-03 9.9744874e-01 2.6125281e-05]\n",
            " [1.0982685e-20 9.5461719e-06 9.9998736e-01 3.0700537e-06]]\n"
          ]
        }
      ]
    },
    {
      "cell_type": "code",
      "metadata": {
        "id": "Fu017wvWLcgS"
      },
      "source": [
        "# Convert predictions to scalars from one-hot encoding\n",
        "# One-hot encoding of labels\n",
        "pred_scalar=np.argmax(predictions,axis=1) #axis 1 da que las probabilidades me las da las columnas\n"
      ],
      "execution_count": null,
      "outputs": []
    },
    {
      "cell_type": "code",
      "metadata": {
        "id": "RC8Vy6RfLn6c",
        "colab": {
          "base_uri": "https://localhost:8080/"
        },
        "outputId": "3ed56926-a99e-47a5-c8c7-05556bbf05ae"
      },
      "source": [
        "# Show all scalar predictions\n",
        "print(pred_scalar)"
      ],
      "execution_count": null,
      "outputs": [
        {
          "output_type": "stream",
          "name": "stdout",
          "text": [
            "[3 3 2 3 1 3 3 1 3 0 3 3 0 0 2 0 2 1 3 2 1 3 1 1 3 0 2 0 3 0 2 0 3 0 1 1 3\n",
            " 1 2 1 1 2 0 0 0 1 0 3 1 2 1 0 3 0 3 0 3 1 1 3 3 2 0 1 0 1 2 3 1 2 1 2 2 3\n",
            " 3 0 2 0 1 3 0 3 3 0 3 0 3 1 3 0 1 2 2 1 2 2 1 2 1 2 1 0 0 3 0 2 0 1 2 3 3\n",
            " 2 1 3 3 3 3 2 3 0 0 3 2 1 2 0 3 2 2 2 0 2 1 1 3 1 1 0 3 2 1 2 1 3 2 3 3 2\n",
            " 2 3 2 3 1 0 3 2 3 3 3 3 3 2 3 3 3 3 1 0 3 0 0 0 2 0 0 1 0 0 1 2 1 0 0 1 1\n",
            " 2 2 1 0 0 0 1 0 3 2 0 2 2 2 3 1 2 3 3 3 2 2 1 0 0 1 3 1 2 2 3 0 2 0 3 2 3\n",
            " 3 1 0 1 0 3 0 1 0 2 2 1 3 0 2 0 3 1 2 0 0 2 1 3 2 3 1 1 3 0 0 2 3 3 1 3 1\n",
            " 1 3 2 1 2 3 3 3 1 0 1 2 3 1 1 3 2 0 3 0 1 3 1 0 3 2 3 3 2 1 3 3 2 3 1 2 1\n",
            " 2 0 2 3 1 0 0 3 0 3 0 1 2 0 2 3 1 3 2 2 1 2 0 0 0 1 3 2 0 0 0 3 2 0 2 3 1\n",
            " 2 2 2 3 1 3 3 2 2 2 3 3 0 3 0 3 1 3 1 2 3 0 1 0 3 1 3 2 3 0 0 0 0 2 0 0 2\n",
            " 2 1 2 2 2 0 1 0 0 3 2 0 3 1 2 2 1 2 3 1 1 2 2 1 2 0 1 0 0 3 2 0 0 1 0 0 1\n",
            " 1 0 0 0 3 2 3 2 3 0 3 0 3 0 1 1 0 2 0 3 2 3 3 1 3 1 3 1 2 2 0 1 2 1 1 0 0\n",
            " 0 1 2 1 0 2 2 0 2 3 0 0 3 1 2 0 2 3 3 0 3 0 2 3 2 3 0 2 0 2 3 0 1 2 0 0 1\n",
            " 2 1 3 3 3 2 3 1 2 2 3 3 3 2 0 2 1 2 2 1 0 2 2 0 0 0 3 1 0 2 2 2 1 3 0 2 2\n",
            " 1 3 0 2 3 0 1 1 3 3 1 1 1 3 2 0 3 1 2 0 3 3 1 3 2 2 3 0 1 2 3 1 3 2 3 1 1\n",
            " 0 0 3 1 0 3 2 3 2 0 3 3 3 2 3 3 1 2 1 2 3 3 1 0 1 1 2 2 2 0 0 3 2 3 2 0 2\n",
            " 1 3 3 0 1 3 0 2 1 1 0 0 2 1 0 1 2 2 2 0 2 2 1 0 3 0 0 3 2 0 0 0 0 0 3 0 3\n",
            " 0 3 2 1 3 3 0 2 1 3 2 2 2 0 3 0 2 0 2 0 0 1 1 1 2 1 3 1 3 2 2 1 3 2 0 2 2\n",
            " 0 3 3 0 2 1 1 2 0 3 2 0 3 2 3 0 0 3 0 2 2 3 2 2 2 2 1 2 3 0 1 1 1 2 1 0 0\n",
            " 1 0 0 3 1 1 2 0 0 1 1 3 0 3 2 3 0 0 1 2 2 1 0 1 1 0 1 1 0 1 3 3 0 3 1 1 3\n",
            " 0 1 0 2 2 0 3 1 0 3 1 1 0 3 3 3 2 3 0 3 2 0 1 0 3 3 2 0 2 1 2 0 0 2 2 0 3\n",
            " 1 2 1 2 2 3 1 1 1 2 1 0 2 2 0 2 0 0 0 0 3 3 3 3 0 1 2 1 1 0 0 2 1 0 2 0 3\n",
            " 2 2 1 2 0 2 1 3 0 0 3 2 3 0 0 2 3 3 1 2 2 1 0 0 3 3 0 3 0 0 0 2 2 1 2 0 3\n",
            " 2 1 2 3 3 0 1 1 2 1 2 2 0 1 3 1 1 3 0 2 3 2 1 1 1 3 3 0 2 3 0 2 3 2 2 2 3\n",
            " 2 0 1 2 1 2 1 1 2 2 2 1 2 1 1 1 3 1 0 1 2 2 1 0 0 3 2 2 3 0 3 3 2 1 3 0 1\n",
            " 3 1 1 1 2 3 2 0 3 0 2 3 0 3 1 3 3 1 0 2 3 1 0 2 1 2 1 2 0 2 2 0 2 3 2 3 0\n",
            " 2 1 1 2 2 3 3 0 2 1 2 1 3 0 1 3 0 1 0 0 3 3 2 0 0 0 0 3 2 3 3 0 0 2 1 1 2\n",
            " 2]\n"
          ]
        }
      ]
    },
    {
      "cell_type": "code",
      "metadata": {
        "id": "EhlClwb7LvHc"
      },
      "source": [
        "# Show the first test sample in Dataframe format\n"
      ],
      "execution_count": null,
      "outputs": []
    },
    {
      "cell_type": "code",
      "metadata": {
        "id": "EwFOG4MPMDNj"
      },
      "source": [
        "# Show the prediction for that sample\n"
      ],
      "execution_count": null,
      "outputs": []
    }
  ]
}