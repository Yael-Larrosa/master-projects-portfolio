{
  "nbformat": 4,
  "nbformat_minor": 0,
  "metadata": {
    "colab": {
      "provenance": [],
      "gpuType": "T4"
    },
    "kernelspec": {
      "name": "python3",
      "display_name": "Python 3"
    },
    "language_info": {
      "name": "python"
    },
    "accelerator": "GPU"
  },
  "cells": [
    {
      "cell_type": "markdown",
      "source": [
        "# Workshop 2: House Pricing Regression\n",
        "In this workshop you will need to train a regression neural network to estimate the pricing of houses of California. The main blocks of the workshop are:\n",
        "\n",
        "- Get the data from Keras repository and visualize it.\n",
        "- Pre-process the data.\n",
        "- Design the network.\n",
        "- Train the network.\n",
        "- Evaluate the model.\n",
        "\n",
        "[Info of the data](https://www.kaggle.com/datasets/camnugent/california-housing-prices))"
      ],
      "metadata": {
        "id": "82KWdqfX9S9T"
      }
    },
    {
      "cell_type": "code",
      "source": [
        "import pandas as pd\n",
        "from sklearn.preprocessing import StandardScaler\n",
        "\n",
        "import tensorflow as tf\n",
        "from tensorflow.keras.layers import Dense\n",
        "from tensorflow.keras import Sequential\n",
        "from tensorflow.keras.optimizers import Adam\n",
        "from matplotlib import pyplot as plt\n",
        "\n",
        "tf.random.set_seed(1234)"
      ],
      "metadata": {
        "id": "Kw8slVjX8s9g"
      },
      "execution_count": null,
      "outputs": []
    },
    {
      "cell_type": "markdown",
      "source": [
        "# 1. Get the data (Already in Colab)"
      ],
      "metadata": {
        "id": "7C8TPghNGj3j"
      }
    },
    {
      "cell_type": "code",
      "source": [
        "TRAIN_DATA_PATH = '/content/sample_data/california_housing_train.csv'\n",
        "TEST_DATA_PATH = '/content/sample_data/california_housing_test.csv'\n",
        "TARGET_NAME = 'median_house_value'"
      ],
      "metadata": {
        "id": "U9v_zyzF8ykJ"
      },
      "execution_count": null,
      "outputs": []
    },
    {
      "cell_type": "code",
      "execution_count": null,
      "metadata": {
        "id": "Dz1x__Jh8TZm"
      },
      "outputs": [],
      "source": [
        "train_data = pd.read_csv(TRAIN_DATA_PATH)\n",
        "test_data = pd.read_csv(TEST_DATA_PATH)"
      ]
    },
    {
      "cell_type": "code",
      "source": [
        "train_data.head()"
      ],
      "metadata": {
        "id": "kgV8DZEi80H3"
      },
      "execution_count": null,
      "outputs": []
    },
    {
      "cell_type": "code",
      "source": [
        "train_data.shape, test_data.shape"
      ],
      "metadata": {
        "id": "JBgs_AfD-625"
      },
      "execution_count": null,
      "outputs": []
    },
    {
      "cell_type": "code",
      "source": [
        "x_train, y_train = train_data.drop(TARGET_NAME, axis=1), train_data[TARGET_NAME]\n",
        "x_test, y_test = test_data.drop(TARGET_NAME, axis=1), test_data[TARGET_NAME]"
      ],
      "metadata": {
        "id": "3DSqRAO-8-SU"
      },
      "execution_count": null,
      "outputs": []
    },
    {
      "cell_type": "code",
      "source": [
        "x_train.shape, y_train.shape, x_test.shape, y_test.shape"
      ],
      "metadata": {
        "id": "Z3cAOOZa__e2"
      },
      "execution_count": null,
      "outputs": []
    },
    {
      "cell_type": "markdown",
      "source": [
        "# 2. Pre-process the data."
      ],
      "metadata": {
        "id": "adS5-AdeGv2H"
      }
    },
    {
      "cell_type": "code",
      "source": [
        "standard_scaler = StandardScaler()\n",
        "x_train_scaled = pd.DataFrame(\n",
        "    standard_scaler.fit_transform(x_train),\n",
        "    columns=x_train.columns\n",
        ")\n",
        "x_test_scaled = pd.DataFrame(\n",
        "    standard_scaler.transform(x_test),\n",
        "    columns = x_test.columns\n",
        ")"
      ],
      "metadata": {
        "id": "mGRb18gf9GJT"
      },
      "execution_count": null,
      "outputs": []
    },
    {
      "cell_type": "code",
      "source": [
        "x_train_scaled.head()"
      ],
      "metadata": {
        "id": "AD78c1XS9_GR"
      },
      "execution_count": null,
      "outputs": []
    },
    {
      "cell_type": "markdown",
      "source": [
        "# 3. Design the network."
      ],
      "metadata": {
        "id": "UZqu8f2LG1-U"
      }
    },
    {
      "cell_type": "code",
      "source": [
        "def create_model():\n",
        "  model = Sequential([\n",
        "      Dense(32, input_dim=8, activation='relu'),\n",
        "      Dense(64, activation='relu'),\n",
        "      Dense(32, activation='relu'),\n",
        "      Dense(1, activation='linear')\n",
        "    ])\n",
        "  return model"
      ],
      "metadata": {
        "id": "MmTHCxeI-FCN"
      },
      "execution_count": null,
      "outputs": []
    },
    {
      "cell_type": "code",
      "source": [
        "model = create_model()\n",
        "model.summary()"
      ],
      "metadata": {
        "id": "6wn3uXKCCIqb"
      },
      "execution_count": null,
      "outputs": []
    },
    {
      "cell_type": "code",
      "source": [
        "model.compile(\n",
        "    loss='mse',\n",
        "    optimizer=Adam(learning_rate=1e-3),\n",
        "    metrics=['mse']\n",
        ")"
      ],
      "metadata": {
        "id": "VvAFSdO--mbs"
      },
      "execution_count": null,
      "outputs": []
    },
    {
      "cell_type": "markdown",
      "source": [
        "# 4. Train the network."
      ],
      "metadata": {
        "id": "jl2s24v5HEVB"
      }
    },
    {
      "cell_type": "code",
      "source": [
        "history = model.fit(\n",
        "    x_train_scaled.values,\n",
        "    y_train.values,\n",
        "    epochs=10,\n",
        "    batch_size=64,\n",
        "    validation_split=0.2\n",
        ")"
      ],
      "metadata": {
        "id": "6b4sHgL4_PGl"
      },
      "execution_count": null,
      "outputs": []
    },
    {
      "cell_type": "code",
      "source": [
        "def plot_history(history, key):\n",
        "  plt.plot(history.history[key])\n",
        "  plt.plot(history.history['val_'+key])\n",
        "  plt.xlabel(\"Epochs\")\n",
        "  plt.ylabel(key)\n",
        "  plt.legend([key, 'val_'+key])\n",
        "  plt.show()"
      ],
      "metadata": {
        "id": "tAOe1hyvBZzw"
      },
      "execution_count": null,
      "outputs": []
    },
    {
      "cell_type": "code",
      "source": [
        "# Loss: MSE | Learnin Rate: 1e-03\n",
        "plot_history(history, 'mse')"
      ],
      "metadata": {
        "id": "zrgnTOm_BnYP"
      },
      "execution_count": null,
      "outputs": []
    },
    {
      "cell_type": "code",
      "source": [
        "# Loss: MSE | Learnin Rate: 1e-02\n",
        "model = create_model()\n",
        "model.compile(\n",
        "    loss='mse',\n",
        "    optimizer=Adam(learning_rate=1e-2),\n",
        "    metrics=['mse']\n",
        ")\n",
        "history = model.fit(\n",
        "    x_train_scaled.values,\n",
        "    y_train.values,\n",
        "    epochs=10,\n",
        "    batch_size=64,\n",
        "    validation_split=0.2\n",
        ")\n",
        "plot_history(history, 'mse')"
      ],
      "metadata": {
        "id": "3DWVvp-k_3CP"
      },
      "execution_count": null,
      "outputs": []
    },
    {
      "cell_type": "code",
      "source": [
        "# Loss: MSLE | Learnin Rate: 1e-03\n",
        "model = create_model()\n",
        "model.compile(\n",
        "    loss='msle',\n",
        "    optimizer=Adam(learning_rate=1e-3),\n",
        "    metrics=['msle']\n",
        ")\n",
        "history = model.fit(\n",
        "    x_train_scaled.values,\n",
        "    y_train.values,\n",
        "    epochs=10,\n",
        "    batch_size=64,\n",
        "    validation_split=0.2\n",
        ")\n",
        "plot_history(history, 'msle')"
      ],
      "metadata": {
        "id": "WHpLyPnPAlDo"
      },
      "execution_count": null,
      "outputs": []
    },
    {
      "cell_type": "code",
      "source": [
        "# Loss: MSLE | Learnin Rate: 1e-02\n",
        "model = create_model()\n",
        "model.compile(\n",
        "    loss='msle',\n",
        "    optimizer=Adam(learning_rate=1e-2),\n",
        "    metrics=['msle']\n",
        ")\n",
        "history = model.fit(\n",
        "    x_train_scaled.values,\n",
        "    y_train.values,\n",
        "    epochs=10,\n",
        "    batch_size=64,\n",
        "    validation_split=0.2\n",
        ")\n",
        "plot_history(history, 'msle')"
      ],
      "metadata": {
        "id": "ZEaK67lkCncC"
      },
      "execution_count": null,
      "outputs": []
    },
    {
      "cell_type": "code",
      "source": [
        "# Loss: MSLE | Learnin Rate: 1\n",
        "model = create_model()\n",
        "model.compile(\n",
        "    loss='msle',\n",
        "    optimizer=Adam(learning_rate=1),\n",
        "    metrics=['msle']\n",
        ")\n",
        "history = model.fit(\n",
        "    x_train_scaled.values,\n",
        "    y_train.values,\n",
        "    epochs=10,\n",
        "    batch_size=64,\n",
        "    validation_split=0.2\n",
        ")\n",
        "plot_history(history, 'msle')"
      ],
      "metadata": {
        "id": "CcH-HplXBEVS"
      },
      "execution_count": null,
      "outputs": []
    },
    {
      "cell_type": "markdown",
      "source": [
        "# Exercise 1: Re-train the model to improve its performance and evaluate it on the test set"
      ],
      "metadata": {
        "id": "QfOWVeIVIFpn"
      }
    },
    {
      "cell_type": "code",
      "source": [
        "# Train the model\n"
      ],
      "metadata": {
        "id": "6E2evm_HDNzv"
      },
      "execution_count": null,
      "outputs": []
    },
    {
      "cell_type": "code",
      "source": [
        "# Predict on the test set\n"
      ],
      "metadata": {
        "id": "P-L3rgSEIQqr"
      },
      "execution_count": null,
      "outputs": []
    },
    {
      "cell_type": "code",
      "source": [
        "# Compare the results with the ground truth\n"
      ],
      "metadata": {
        "id": "qg-Fk07fISiM"
      },
      "execution_count": null,
      "outputs": []
    }
  ]
}