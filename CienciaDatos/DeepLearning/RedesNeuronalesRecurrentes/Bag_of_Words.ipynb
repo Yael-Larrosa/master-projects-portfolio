{
  "nbformat": 4,
  "nbformat_minor": 0,
  "metadata": {
    "colab": {
      "provenance": []
    },
    "kernelspec": {
      "name": "python3",
      "display_name": "Python 3"
    },
    "language_info": {
      "name": "python"
    }
  },
  "cells": [
    {
      "cell_type": "markdown",
      "source": [
        "# Bag of Words\n",
        "\n",
        "En este notebook vamos a ver un ejemplo práctico de la técnica de \"Bag of Words\".\n",
        "\n",
        "Como hemos visto, cuando operamos con textos, no hay ninguna operación matemática definida que pueda trabajar con ellos directamente. Por ejemplo, no podemos combinar las palabras _\"hola\"_ y _\"adiós\"_.\n",
        "\n",
        "Por lo tanto, para poder utilizar textos definidos en lenguaje natural, independientemente del idioma utilizado, necesitamos **transformar estos textos en vectores numéricos** que los representen.\n",
        "\n",
        "La técnica más conocida para hacer esta transformación se llama ***bolsa de palabras*** o **Bag of Words**.\n",
        "\n",
        "Veamos cómo funciona con un ejemplo. Supongamos que tenemos el siguiente texto\n",
        "\n",
        "> *El miedo es el camino hacia el Lado Oscuro. El miedo lleva a la ira, la ira lleva al odio, el odio lleva al sufrimiento. Percibo mucho miedo en ti.* — Yoda a Anakin en el Consejo Jedi.\n",
        "\n",
        "El primer paso que debemos realizar es la limpieza del dataset de caracteres extraños y homogeneizarlo a minúsculas:\n",
        "\n",
        "> el miedo es el camino hacia el lado oscuro el miedo lleva a la ira la ira lleva al odio el odio lleva al sufrimiento percibo mucho miedo en ti\n",
        "\n",
        "Después, procederemos con la **tokenización**, que consiste en transformar el texto anterior en una matriz de palabras.\n",
        "\n",
        "Es decir, vamos a separar cada una de las palabras que componen la frase anterior utilizando espacios separadores. Por tanto, obtendríamos la siguiente lista de *tokens*:\n",
        "\n",
        "`['el', 'miedo', 'es', 'el', 'camino, 'hacia', 'el', 'lado', 'oscuro', 'el', 'miedo', 'lleva', 'a', 'la', 'ira', 'la', 'ira', 'lleva', 'al', 'odio', 'el', 'odio', 'lleva', 'al', 'sufrimiento', 'percibo', 'mucho', 'miedo', 'en', 'ti']`.\n",
        "\n",
        "A partir de la lista anterior podemos construir un **diccionario** que contenga todas las palabras definidas en nuestro vocabulario.\n",
        "\n",
        "Entendemos por \"nuestro vocabulario\" las palabras que aparecen en los textos que estamos analizando. Así, analizando los *tokens* anteriores construiremos el siguiente diccionario:\n",
        "\n",
        "`['el', 'miedo', 'es', 'camino, 'hacia', 'lado', 'oscuro', 'lleva', 'a', 'la', 'ira', 'al', 'odio', 'sufrimiento', 'percibo', 'mucho', 'en', 'ti']`\n",
        "\n",
        "Por último, tenemos que transformar el texto original en un vector numérico de forma que las posiciones del vector representen las posiciones de las palabras del diccionario y los valores del vector representen el número de apariciones de la palabra del diccionario en el texto analizado.\n",
        "\n",
        "Dado que nuestro diccionario consta de 18 palabras, nuestro texto quedaría definido por el siguiente vector\n",
        "\n",
        "`[5, 3, 1, 1, 1, 1, 1, 3, 1, 2, 2, 2, 2, 1, 1, 1, 1, 1]`\n",
        "\n",
        "Viéndolo en formato tabla es más fácil de detectar:\n",
        "\n",
        "| | el | miedo | es | camino | hacia | lado | oscuro | lleva | a | la | ira | al | odio | sufrimiento | percibo | mucho | en | ti |\n",
        "| --- | --- | --- | --- | --- | --- | --- | --- | --- | --- | --- | --- | --- | --- | --- | --- | --- | --- | --- |\n",
        "| Frecuencia | 5 | 3 | 1 | 1 | 1 | 1 | 1 | 3 | 1 | 2 | 2 | 2 | 2 | 1 | 1 | 1 | 1 | 1 |\n",
        "\n",
        "Analizándolo vemos que la palabra *'miedo'* se repite 3 veces, la palabra *'ira'* 2, la palabra *'el'* 5, y así sucesivamente."
      ],
      "metadata": {
        "id": "XSW84neQ4PdR"
      }
    },
    {
      "cell_type": "markdown",
      "source": [
        "En este caso hemos dejado la limpieza de las stop-words para después, pues nos interesaba ver el cambio entre el antes y el después.\n",
        "\n",
        "Si eliminaramos las stop-words veríamos que desparecen los artículos, determinantes, preposiciones, etc.\n",
        "\n",
        "En lugar de hacerlo manualmente, como hasta ahora, vamos a hacerlo con Python."
      ],
      "metadata": {
        "id": "0d0cwDCs8LlP"
      }
    },
    {
      "cell_type": "markdown",
      "source": [
        "La forma más rápida de hacerlo es utilizando el objeto `CountVectorizer` del paquete `feature_extraction.text` de la librería `scikit-learn`.\n"
      ],
      "metadata": {
        "id": "qj4TXhJy5Oo5"
      }
    },
    {
      "cell_type": "code",
      "metadata": {
        "ExecuteTime": {
          "end_time": "2020-03-02T13:43:39.029322Z",
          "start_time": "2020-03-02T13:43:38.865734Z"
        },
        "id": "QzzEeRLsFxyS"
      },
      "source": [
        "import sklearn\n",
        "import numpy as np"
      ],
      "execution_count": null,
      "outputs": []
    },
    {
      "cell_type": "code",
      "metadata": {
        "ExecuteTime": {
          "end_time": "2020-03-02T13:43:39.038618Z",
          "start_time": "2020-03-02T13:43:39.030666Z"
        },
        "id": "O4_vzJSlU68R"
      },
      "source": [
        "from sklearn.feature_extraction.text import CountVectorizer\n",
        "count_vectorizer = CountVectorizer()"
      ],
      "execution_count": null,
      "outputs": []
    },
    {
      "cell_type": "code",
      "metadata": {
        "ExecuteTime": {
          "end_time": "2020-03-02T13:43:39.043934Z",
          "start_time": "2020-03-02T13:43:39.040135Z"
        },
        "id": "rrkeG7G2VHRx",
        "colab": {
          "base_uri": "https://localhost:8080/"
        },
        "outputId": "d2d4e360-bcdc-4830-d5f8-cf0580aca15f"
      },
      "source": [
        "corpus = [\n",
        "    \"El miedo es el camino hacia el Lado Oscuro. El miedo lleva a la ira, la ira lleva al odio, el odio lleva al sufrimiento. Percibo mucho miedo en ti.\"\n",
        "]\n",
        "\n",
        "X = count_vectorizer.fit_transform(corpus)\n",
        "\n",
        "print(X.toarray())\n"
      ],
      "execution_count": null,
      "outputs": [
        {
          "output_type": "stream",
          "name": "stdout",
          "text": [
            "[[2 1 5 1 1 1 2 2 1 3 3 1 2 1 1 1 1]]\n"
          ]
        }
      ]
    },
    {
      "cell_type": "markdown",
      "metadata": {
        "id": "g2JPvuPCVEs9"
      },
      "source": [
        "Podemos ver el mapeo mediante la función `get_feature_names_out()`. Como podéis observar, ésta función detecta los símbolos de puntuación y los ignora."
      ]
    },
    {
      "cell_type": "code",
      "metadata": {
        "ExecuteTime": {
          "end_time": "2020-03-02T13:43:39.052240Z",
          "start_time": "2020-03-02T13:43:39.049943Z"
        },
        "id": "uUXOKN5eWP9H",
        "colab": {
          "base_uri": "https://localhost:8080/"
        },
        "outputId": "fc035eb8-0ff3-4255-f167-4f4ad5d152c8"
      },
      "source": [
        "print(count_vectorizer.get_feature_names_out())"
      ],
      "execution_count": null,
      "outputs": [
        {
          "output_type": "stream",
          "name": "stdout",
          "text": [
            "['al' 'camino' 'el' 'en' 'es' 'hacia' 'ira' 'la' 'lado' 'lleva' 'miedo'\n",
            " 'mucho' 'odio' 'oscuro' 'percibo' 'sufrimiento' 'ti']\n"
          ]
        }
      ]
    },
    {
      "cell_type": "markdown",
      "source": [
        "Veamos ahora si elimináramos las stop-words:"
      ],
      "metadata": {
        "id": "wLCdq7vX9DPG"
      }
    },
    {
      "cell_type": "code",
      "source": [
        "!sudo pip install -U nltk"
      ],
      "metadata": {
        "id": "YLlSPoPWIZkL",
        "colab": {
          "base_uri": "https://localhost:8080/"
        },
        "outputId": "5468faf0-69f1-408f-8434-9aaf8d20f81a"
      },
      "execution_count": null,
      "outputs": [
        {
          "output_type": "stream",
          "name": "stdout",
          "text": [
            "Requirement already satisfied: nltk in /usr/local/lib/python3.10/dist-packages (3.8.1)\n",
            "Requirement already satisfied: click in /usr/local/lib/python3.10/dist-packages (from nltk) (8.1.7)\n",
            "Requirement already satisfied: joblib in /usr/local/lib/python3.10/dist-packages (from nltk) (1.4.0)\n",
            "Requirement already satisfied: regex>=2021.8.3 in /usr/local/lib/python3.10/dist-packages (from nltk) (2023.12.25)\n",
            "Requirement already satisfied: tqdm in /usr/local/lib/python3.10/dist-packages (from nltk) (4.66.2)\n"
          ]
        }
      ]
    },
    {
      "cell_type": "code",
      "source": [
        "import nltk\n",
        "from nltk.corpus import stopwords\n",
        "nltk.download('stopwords')"
      ],
      "metadata": {
        "id": "IypXswWNU9HT",
        "colab": {
          "base_uri": "https://localhost:8080/"
        },
        "outputId": "65918038-dd57-457b-b732-ba32e7698d7e"
      },
      "execution_count": null,
      "outputs": [
        {
          "output_type": "stream",
          "name": "stderr",
          "text": [
            "[nltk_data] Downloading package stopwords to /root/nltk_data...\n",
            "[nltk_data]   Unzipping corpora/stopwords.zip.\n"
          ]
        },
        {
          "output_type": "execute_result",
          "data": {
            "text/plain": [
              "True"
            ]
          },
          "metadata": {},
          "execution_count": 6
        }
      ]
    },
    {
      "cell_type": "markdown",
      "source": [
        "En este caso, es necesario limpiar el dataset y homogeneizar a minusculas antes de usar `nltk`:"
      ],
      "metadata": {
        "id": "dXJ4tIRR9jSQ"
      }
    },
    {
      "cell_type": "code",
      "source": [
        "import re\n",
        "import string\n",
        "print(string.punctuation)"
      ],
      "metadata": {
        "id": "r4mYsq2LTZ7c",
        "colab": {
          "base_uri": "https://localhost:8080/"
        },
        "outputId": "cf475972-dd55-48c3-854e-d8db4ea43606"
      },
      "execution_count": null,
      "outputs": [
        {
          "output_type": "stream",
          "name": "stdout",
          "text": [
            "!\"#$%&'()*+,-./:;<=>?@[\\]^_`{|}~\n"
          ]
        }
      ]
    },
    {
      "cell_type": "code",
      "source": [
        "# añadimos algunos más que no están en string.punctuation, como las comillas y\n",
        "# las aperturas de interrogación/exclamación\n",
        "# si no los añadiésemos, no se eliminarían\n",
        "chars = string.punctuation + '“”¡¿'\n",
        "print(chars)"
      ],
      "metadata": {
        "id": "8zz8eWS4UCf4",
        "colab": {
          "base_uri": "https://localhost:8080/"
        },
        "outputId": "1491d62f-90b1-46f7-ccc9-50defc044a02"
      },
      "execution_count": null,
      "outputs": [
        {
          "output_type": "stream",
          "name": "stdout",
          "text": [
            "!\"#$%&'()*+,-./:;<=>?@[\\]^_`{|}~“”¡¿\n"
          ]
        }
      ]
    },
    {
      "cell_type": "code",
      "source": [
        "re_punc = re.compile('[%s]' % re.escape(chars))\n",
        "# eliminar la puntuación de cada palabra\n",
        "texto = re_punc.sub('', corpus[0])\n",
        "print(texto)"
      ],
      "metadata": {
        "id": "dntEu4LYTiDL",
        "colab": {
          "base_uri": "https://localhost:8080/"
        },
        "outputId": "501ca476-879d-467b-e23f-a76300ebf4a7"
      },
      "execution_count": null,
      "outputs": [
        {
          "output_type": "stream",
          "name": "stdout",
          "text": [
            "El miedo es el camino hacia el Lado Oscuro El miedo lleva a la ira la ira lleva al odio el odio lleva al sufrimiento Percibo mucho miedo en ti\n"
          ]
        }
      ]
    },
    {
      "cell_type": "markdown",
      "source": [
        "Convertimos el texto a minúsculas:"
      ],
      "metadata": {
        "id": "EpHXy9LaHt18"
      }
    },
    {
      "cell_type": "code",
      "source": [
        "texto = texto.lower()\n",
        "print(texto)"
      ],
      "metadata": {
        "id": "c8nsuU31ISMD",
        "colab": {
          "base_uri": "https://localhost:8080/"
        },
        "outputId": "0a52d71c-8756-4fb2-ce4e-ad26ea0c5ec2"
      },
      "execution_count": null,
      "outputs": [
        {
          "output_type": "stream",
          "name": "stdout",
          "text": [
            "el miedo es el camino hacia el lado oscuro el miedo lleva a la ira la ira lleva al odio el odio lleva al sufrimiento percibo mucho miedo en ti\n"
          ]
        }
      ]
    },
    {
      "cell_type": "code",
      "source": [
        "stop_words = stopwords.words('spanish')\n",
        "palabras = texto.split(' ')\n",
        "print(palabras)"
      ],
      "metadata": {
        "id": "xDc8TzzewziV",
        "colab": {
          "base_uri": "https://localhost:8080/"
        },
        "outputId": "27203dfe-ec15-4cf6-b603-0d02b0412d92"
      },
      "execution_count": null,
      "outputs": [
        {
          "output_type": "stream",
          "name": "stdout",
          "text": [
            "['el', 'miedo', 'es', 'el', 'camino', 'hacia', 'el', 'lado', 'oscuro', 'el', 'miedo', 'lleva', 'a', 'la', 'ira', 'la', 'ira', 'lleva', 'al', 'odio', 'el', 'odio', 'lleva', 'al', 'sufrimiento', 'percibo', 'mucho', 'miedo', 'en', 'ti']\n"
          ]
        }
      ]
    },
    {
      "cell_type": "markdown",
      "source": [
        "Eliminamos las stop-words:"
      ],
      "metadata": {
        "id": "9SZiAtvf-DE6"
      }
    },
    {
      "cell_type": "code",
      "source": [
        "palabras_limpias = [p for p in palabras if p not in stop_words]\n",
        "print(palabras_limpias)"
      ],
      "metadata": {
        "id": "lSyfyWO79dc5",
        "colab": {
          "base_uri": "https://localhost:8080/"
        },
        "outputId": "72838e74-5450-492d-d47d-70ced98056e0"
      },
      "execution_count": null,
      "outputs": [
        {
          "output_type": "stream",
          "name": "stdout",
          "text": [
            "['miedo', 'camino', 'hacia', 'lado', 'oscuro', 'miedo', 'lleva', 'ira', 'ira', 'lleva', 'odio', 'odio', 'lleva', 'sufrimiento', 'percibo', 'miedo']\n"
          ]
        }
      ]
    },
    {
      "cell_type": "markdown",
      "source": [
        "Unimos el texto de nuevo:"
      ],
      "metadata": {
        "id": "GvWLiMSv-njd"
      }
    },
    {
      "cell_type": "code",
      "source": [
        "texto_limpio = ' '.join(palabras_limpias)\n",
        "print(texto_limpio)"
      ],
      "metadata": {
        "id": "hSXYC4OS-ouF",
        "colab": {
          "base_uri": "https://localhost:8080/"
        },
        "outputId": "446201a6-d981-42c9-8c7a-14a53c70b9d7"
      },
      "execution_count": null,
      "outputs": [
        {
          "output_type": "stream",
          "name": "stdout",
          "text": [
            "miedo camino hacia lado oscuro miedo lleva ira ira lleva odio odio lleva sufrimiento percibo miedo\n"
          ]
        }
      ]
    },
    {
      "cell_type": "markdown",
      "source": [
        "Y aplicamos la técnica de Bag of Words:"
      ],
      "metadata": {
        "id": "J8iAu8pg-FUX"
      }
    },
    {
      "cell_type": "code",
      "source": [
        "from sklearn.feature_extraction.text import CountVectorizer\n",
        "count_vectorizer = CountVectorizer()\n",
        "\n",
        "# el objeto count_vectorizer necesita una lista de textos para funcionar\n",
        "X = count_vectorizer.fit_transform([texto_limpio])\n",
        "print(X.toarray())"
      ],
      "metadata": {
        "id": "O1L7-zyg-IhC",
        "colab": {
          "base_uri": "https://localhost:8080/"
        },
        "outputId": "746ce0bd-5b0a-4656-9af7-94b992a141a0"
      },
      "execution_count": null,
      "outputs": [
        {
          "output_type": "stream",
          "name": "stdout",
          "text": [
            "[[1 1 2 1 3 3 2 1 1 1]]\n"
          ]
        }
      ]
    },
    {
      "cell_type": "code",
      "source": [
        "print(count_vectorizer.get_feature_names_out())"
      ],
      "metadata": {
        "id": "Aq6UTNu7-dBT",
        "colab": {
          "base_uri": "https://localhost:8080/"
        },
        "outputId": "602c590b-04cf-4ea3-c46b-b22b6696445c"
      },
      "execution_count": null,
      "outputs": [
        {
          "output_type": "stream",
          "name": "stdout",
          "text": [
            "['camino' 'hacia' 'ira' 'lado' 'lleva' 'miedo' 'odio' 'oscuro' 'percibo'\n",
            " 'sufrimiento']\n"
          ]
        }
      ]
    },
    {
      "cell_type": "markdown",
      "source": [
        "Comparadlo con la versión sin limpiar:"
      ],
      "metadata": {
        "id": "bHYW85bn-yvX"
      }
    },
    {
      "cell_type": "code",
      "source": [
        "from sklearn.feature_extraction.text import CountVectorizer\n",
        "count_vectorizer = CountVectorizer()\n",
        "\n",
        "# el objeto count_vectorizer necesita una lista de textos para funcionar\n",
        "X = count_vectorizer.fit_transform(corpus)\n",
        "print(X.toarray())"
      ],
      "metadata": {
        "id": "y4h-fv92-4K8",
        "colab": {
          "base_uri": "https://localhost:8080/"
        },
        "outputId": "f189202e-a5f3-4fa9-932d-db20559086ca"
      },
      "execution_count": null,
      "outputs": [
        {
          "output_type": "stream",
          "name": "stdout",
          "text": [
            "[[2 1 5 1 1 1 2 2 1 3 3 1 2 1 1 1 1]]\n"
          ]
        }
      ]
    },
    {
      "cell_type": "code",
      "source": [
        "print(count_vectorizer.get_feature_names_out())"
      ],
      "metadata": {
        "id": "s7KUBXAP-4K_",
        "colab": {
          "base_uri": "https://localhost:8080/"
        },
        "outputId": "0d8ce4ce-8507-4655-ff33-a3da851e2403"
      },
      "execution_count": null,
      "outputs": [
        {
          "output_type": "stream",
          "name": "stdout",
          "text": [
            "['al' 'camino' 'el' 'en' 'es' 'hacia' 'ira' 'la' 'lado' 'lleva' 'miedo'\n",
            " 'mucho' 'odio' 'oscuro' 'percibo' 'sufrimiento' 'ti']\n"
          ]
        }
      ]
    },
    {
      "cell_type": "markdown",
      "source": [
        "### Ejercicio 1\n",
        "\n",
        "Realiza la limpieza del dataset, la eliminación de stop-words y la vectorización del texto (bag of words) del siguiente texto:\n",
        "\n",
        "> \"¿Qué es el honor, comparado con el amor de una mujer? ¿Qué es el deber, comparado con el calor de un hijo recién nacido entre los brazos, o el recuerdo de la sonrisa de un hermano? Aire y palabras. Aire y palabras. Solo somos humanos, y los dioses nos hicieron para el amor. Es nuestra mayor gloria y nuestra peor tragedia.\" - Maestre Aemon, Juego de Tronos"
      ],
      "metadata": {
        "id": "kxiWIveA88_K"
      }
    },
    {
      "cell_type": "code",
      "source": [
        "corpus = ['¿Qué es el honor, comparado con el amor de una mujer? ¿Qué es el deber, comparado con el calor de un hijo recién nacido entre los brazos, o el recuerdo de la sonrisa de un hermano? Aire y palabras. Aire y palabras. Solo somos humanos, y los dioses nos hicieron para el amor. Es nuestra mayor gloria y nuestra peor tragedia.']"
      ],
      "metadata": {
        "id": "4lQuM5Xn_X0L"
      },
      "execution_count": null,
      "outputs": []
    },
    {
      "cell_type": "markdown",
      "source": [
        "1. eliminar signos de puntuación"
      ],
      "metadata": {
        "id": "bIe5vYMbRQbm"
      }
    },
    {
      "cell_type": "code",
      "source": [
        "import re\n",
        "import string\n",
        "print(string.punctuation)"
      ],
      "metadata": {
        "id": "6bqjdjkj_fbD",
        "colab": {
          "base_uri": "https://localhost:8080/"
        },
        "outputId": "f7b84d13-8c06-4a1d-db1b-0def293efed3"
      },
      "execution_count": null,
      "outputs": [
        {
          "output_type": "stream",
          "name": "stdout",
          "text": [
            "!\"#$%&'()*+,-./:;<=>?@[\\]^_`{|}~\n"
          ]
        }
      ]
    },
    {
      "cell_type": "code",
      "source": [
        "chars = string.punctuation + '“”¡¿'\n",
        "print(chars)"
      ],
      "metadata": {
        "colab": {
          "base_uri": "https://localhost:8080/"
        },
        "id": "2p6tuJv_RTfX",
        "outputId": "cc82d0d6-c566-4ac4-8f6d-0eed3dbfd3de"
      },
      "execution_count": null,
      "outputs": [
        {
          "output_type": "stream",
          "name": "stdout",
          "text": [
            "!\"#$%&'()*+,-./:;<=>?@[\\]^_`{|}~“”¡¿\n"
          ]
        }
      ]
    },
    {
      "cell_type": "code",
      "source": [
        "re_punc = re.compile('[%s]' % re.escape(chars))\n",
        "# eliminar la puntuación de cada palabra\n",
        "texto = re_punc.sub('', corpus[0])\n",
        "print(texto)"
      ],
      "metadata": {
        "colab": {
          "base_uri": "https://localhost:8080/"
        },
        "id": "yJPIbM4XRbmn",
        "outputId": "f04f37ef-4861-4f39-e5ef-70eedc04b557"
      },
      "execution_count": null,
      "outputs": [
        {
          "output_type": "stream",
          "name": "stdout",
          "text": [
            "Qué es el honor comparado con el amor de una mujer Qué es el deber comparado con el calor de un hijo recién nacido entre los brazos o el recuerdo de la sonrisa de un hermano Aire y palabras Aire y palabras Solo somos humanos y los dioses nos hicieron para el amor Es nuestra mayor gloria y nuestra peor tragedia\n"
          ]
        }
      ]
    },
    {
      "cell_type": "markdown",
      "source": [
        "2. texto en minusculas"
      ],
      "metadata": {
        "id": "Ys3t_3H9Rovb"
      }
    },
    {
      "cell_type": "code",
      "source": [
        "texto = texto.lower()\n",
        "print(texto)"
      ],
      "metadata": {
        "colab": {
          "base_uri": "https://localhost:8080/"
        },
        "id": "gSMXxVkBRilT",
        "outputId": "34663338-ac09-4030-dec6-6aa82dcb2210"
      },
      "execution_count": null,
      "outputs": [
        {
          "output_type": "stream",
          "name": "stdout",
          "text": [
            "qué es el honor comparado con el amor de una mujer qué es el deber comparado con el calor de un hijo recién nacido entre los brazos o el recuerdo de la sonrisa de un hermano aire y palabras aire y palabras solo somos humanos y los dioses nos hicieron para el amor es nuestra mayor gloria y nuestra peor tragedia\n"
          ]
        }
      ]
    },
    {
      "cell_type": "code",
      "source": [
        "stop_words = stopwords.words('spanish')\n",
        "palabras = texto.split(' ')\n",
        "print(palabras)"
      ],
      "metadata": {
        "colab": {
          "base_uri": "https://localhost:8080/"
        },
        "id": "CPtncXgERvmR",
        "outputId": "2d05a99f-4622-42a5-c926-afd102ea0d12"
      },
      "execution_count": null,
      "outputs": [
        {
          "output_type": "stream",
          "name": "stdout",
          "text": [
            "['qué', 'es', 'el', 'honor', 'comparado', 'con', 'el', 'amor', 'de', 'una', 'mujer', 'qué', 'es', 'el', 'deber', 'comparado', 'con', 'el', 'calor', 'de', 'un', 'hijo', 'recién', 'nacido', 'entre', 'los', 'brazos', 'o', 'el', 'recuerdo', 'de', 'la', 'sonrisa', 'de', 'un', 'hermano', 'aire', 'y', 'palabras', 'aire', 'y', 'palabras', 'solo', 'somos', 'humanos', 'y', 'los', 'dioses', 'nos', 'hicieron', 'para', 'el', 'amor', 'es', 'nuestra', 'mayor', 'gloria', 'y', 'nuestra', 'peor', 'tragedia']\n"
          ]
        }
      ]
    },
    {
      "cell_type": "markdown",
      "source": [
        "3. eliminar stop words"
      ],
      "metadata": {
        "id": "qH4G58H_R6UE"
      }
    },
    {
      "cell_type": "code",
      "source": [
        "palabras_limpias = [p for p in palabras if p not in stop_words]\n",
        "print(palabras_limpias)"
      ],
      "metadata": {
        "colab": {
          "base_uri": "https://localhost:8080/"
        },
        "id": "dL4eJCcwR1bp",
        "outputId": "6899f738-f197-443c-b155-0d44806f0bcb"
      },
      "execution_count": null,
      "outputs": [
        {
          "output_type": "stream",
          "name": "stdout",
          "text": [
            "['honor', 'comparado', 'amor', 'mujer', 'deber', 'comparado', 'calor', 'hijo', 'recién', 'nacido', 'brazos', 'recuerdo', 'sonrisa', 'hermano', 'aire', 'palabras', 'aire', 'palabras', 'solo', 'humanos', 'dioses', 'hicieron', 'amor', 'mayor', 'gloria', 'peor', 'tragedia']\n"
          ]
        }
      ]
    },
    {
      "cell_type": "markdown",
      "source": [
        "4. volver a unir el texto"
      ],
      "metadata": {
        "id": "81aQhvWqSLC_"
      }
    },
    {
      "cell_type": "code",
      "source": [
        "texto_limpio = ' '.join(palabras_limpias)\n",
        "print(texto_limpio)"
      ],
      "metadata": {
        "colab": {
          "base_uri": "https://localhost:8080/"
        },
        "id": "APxCY9IDSHND",
        "outputId": "39825d63-4740-487c-e16a-87a56f7fe84d"
      },
      "execution_count": null,
      "outputs": [
        {
          "output_type": "stream",
          "name": "stdout",
          "text": [
            "honor comparado amor mujer deber comparado calor hijo recién nacido brazos recuerdo sonrisa hermano aire palabras aire palabras solo humanos dioses hicieron amor mayor gloria peor tragedia\n"
          ]
        }
      ]
    },
    {
      "cell_type": "markdown",
      "source": [
        "5. aplicar bags of words"
      ],
      "metadata": {
        "id": "Xd6kkaDmSXEp"
      }
    },
    {
      "cell_type": "code",
      "source": [
        "from sklearn.feature_extraction.text import CountVectorizer\n",
        "count_vectorizer = CountVectorizer()\n",
        "\n",
        "# el objeto count_vectorizer necesita una lista de textos para funcionar\n",
        "X = count_vectorizer.fit_transform([texto_limpio])\n",
        "print(X.toarray())"
      ],
      "metadata": {
        "colab": {
          "base_uri": "https://localhost:8080/"
        },
        "id": "ImN-ptbiSP2j",
        "outputId": "eba7a732-5ddc-4719-ecea-10d620a7aa0b"
      },
      "execution_count": null,
      "outputs": [
        {
          "output_type": "stream",
          "name": "stdout",
          "text": [
            "[[2 2 1 1 2 1 1 1 1 1 1 1 1 1 1 1 2 1 1 1 1 1 1]]\n"
          ]
        }
      ]
    },
    {
      "cell_type": "markdown",
      "source": [
        "en el countvectorized se podría añadir para eliminar las stop words y asi no tener que hacerlo aparte sino que añadirlo ahi"
      ],
      "metadata": {
        "id": "amTr1qoEVwk6"
      }
    },
    {
      "cell_type": "code",
      "source": [
        "print(count_vectorizer.get_feature_names_out())"
      ],
      "metadata": {
        "colab": {
          "base_uri": "https://localhost:8080/"
        },
        "id": "BqSNTpe-Sehj",
        "outputId": "e2bb1dfd-2363-45da-b23e-1708121fe4e4"
      },
      "execution_count": null,
      "outputs": [
        {
          "output_type": "stream",
          "name": "stdout",
          "text": [
            "['aire' 'amor' 'brazos' 'calor' 'comparado' 'deber' 'dioses' 'gloria'\n",
            " 'hermano' 'hicieron' 'hijo' 'honor' 'humanos' 'mayor' 'mujer' 'nacido'\n",
            " 'palabras' 'peor' 'recién' 'recuerdo' 'solo' 'sonrisa' 'tragedia']\n"
          ]
        }
      ]
    },
    {
      "cell_type": "markdown",
      "source": [
        "### Ejercicio 2\n",
        "\n",
        "Realiza la limpieza del dataset, la eliminación de stop-words y la vectorización del texto (bag of words) del siguiente *corpus* de documentos:\n",
        "\n",
        "> \"Cuando se juega al Juego de Tronos, solo se puede ganar o morir.\" - Cersei Lannister\n",
        "\n",
        "> \"Por qué será que en cuanto un hombre construye un muro, su vecino inmediatamente quiere saber qué hay del otro lado.\" - Tyrion Lannister\n",
        "\n",
        "> \"¿Qué es el honor, comparado con el amor de una mujer? ¿Qué es el deber, comparado con el calor de un hijo recién nacido entre los brazos, o el recuerdo de la sonrisa de un hermano? Aire y palabras. Aire y palabras. Solo somos humanos, y los dioses nos hicieron para el amor. Es nuestra mayor gloria y nuestra peor tragedia.\" - Maestre Aemon, Juego de Tronos\n",
        "\n",
        "> \"El hombre que dicta la condena debe blandir la espada.\" - Eddard Stark\n",
        "\n",
        "> \"El poder reside donde los hombres creen que reside. Es un truco, una sombra en la pared. Y un hombre muy pequeño puede proyectar una sombra muy grande.\" - Lord Varys"
      ],
      "metadata": {
        "id": "_rWIR9XACDvM"
      }
    },
    {
      "cell_type": "code",
      "source": [
        "corpus = [\n",
        "    \"Cuando se juega al Juego de Tronos, solo se puede ganar o morir.\",\n",
        "    \"Por qué será que en cuanto un hombre construye un muro, su vecino inmediatamente quiere saber qué hay del otro lado.\",\n",
        "    \"¿Qué es el honor, comparado con el amor de una mujer? ¿Qué es el deber, comparado con el calor de un hijo recién nacido entre los brazos, o el recuerdo de la sonrisa de un hermano? Aire y palabras. Aire y palabras. Solo somos humanos, y los dioses nos hicieron para el amor. Es nuestra mayor gloria y nuestra peor tragedia.\",\n",
        "    \"El hombre que dicta la condena debe blandir la espada.\",\n",
        "    \"El poder reside donde los hombres creen que reside. Es un truco, una sombra en la pared. Y un hombre muy pequeño puede proyectar una sombra muy grande.\"\n",
        "]"
      ],
      "metadata": {
        "id": "uqug2lmKCDvO"
      },
      "execution_count": null,
      "outputs": []
    }
  ]
}