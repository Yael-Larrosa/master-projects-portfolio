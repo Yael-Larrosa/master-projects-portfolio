{
  "nbformat": 4,
  "nbformat_minor": 0,
  "metadata": {
    "colab": {
      "provenance": []
    },
    "kernelspec": {
      "name": "python3",
      "display_name": "Python 3"
    },
    "language_info": {
      "name": "python"
    }
  },
  "cells": [
    {
      "cell_type": "markdown",
      "source": [
        "# Limpieza de un texto\n",
        "\n",
        "En este notebook deberéis utilizar las herramientas vistas para limpiar el siguiente fragmento:\n",
        "\n",
        "“Es relativamente fácil ponerse de acuerdo en que solo “Homo sapiens” puede hablar sobre cosas que no existen realmente, y creerse seis cosas imposibles antes del desayuno. En cambio, ¡nunca convenceremos a un mono para que nos dé un plátano con la promesa de que después de morir tendrá un número ilimitado de bananas a su disposición en el cielo de los monos!”\n"
      ],
      "metadata": {
        "id": "QixPUd5uHMqv"
      }
    },
    {
      "cell_type": "code",
      "source": [
        "texto = 'Es relativamente fácil ponerse de acuerdo en que solo “Homo sapiens” puede hablar sobre cosas que no existen realmente, y creerse seis cosas imposibles antes del desayuno. En cambio, ¡nunca convenceremos a un mono para que nos dé un plátano con la promesa de que después de morir tendrá un número ilimitado de bananas a su disposición en el cielo de los monos!'"
      ],
      "metadata": {
        "id": "PLBl33MCHqHG"
      },
      "execution_count": null,
      "outputs": []
    },
    {
      "cell_type": "code",
      "source": [
        "print(texto)"
      ],
      "metadata": {
        "id": "TA207L4cHrdP",
        "colab": {
          "base_uri": "https://localhost:8080/"
        },
        "outputId": "36c622ee-4bac-4951-ddd5-50593d5020e4"
      },
      "execution_count": null,
      "outputs": [
        {
          "output_type": "stream",
          "name": "stdout",
          "text": [
            "Es relativamente fácil ponerse de acuerdo en que solo “Homo sapiens” puede hablar sobre cosas que no existen realmente, y creerse seis cosas imposibles antes del desayuno. En cambio, ¡nunca convenceremos a un mono para que nos dé un plátano con la promesa de que después de morir tendrá un número ilimitado de bananas a su disposición en el cielo de los monos!\n"
          ]
        }
      ]
    },
    {
      "cell_type": "markdown",
      "source": [
        "Para ello, lo primero que deberéis hacer es utilizar expresiones regulares para eliminar los símbolos de puntuación, etc."
      ],
      "metadata": {
        "id": "SQ-Re3PJHfhF"
      }
    },
    {
      "cell_type": "code",
      "source": [
        "import string\n",
        "import re\n",
        "print(string.punctuation)\n",
        "chars= string.punctuation + '“”¿¡'\n",
        "print(chars)\n",
        "re_punc= re.compile('[%s]' % re.escape(chars))\n",
        "texto_sin_simb=re_punc.sub('',texto)\n",
        "print(texto_sin_simb)"
      ],
      "metadata": {
        "id": "FQ5NePw0HkF9",
        "colab": {
          "base_uri": "https://localhost:8080/"
        },
        "outputId": "f2f9637d-c95e-4a74-e7b7-ef1e9681c620"
      },
      "execution_count": null,
      "outputs": [
        {
          "output_type": "stream",
          "name": "stdout",
          "text": [
            "!\"#$%&'()*+,-./:;<=>?@[\\]^_`{|}~\n",
            "!\"#$%&'()*+,-./:;<=>?@[\\]^_`{|}~“”¿¡\n",
            "Es relativamente fácil ponerse de acuerdo en que solo Homo sapiens puede hablar sobre cosas que no existen realmente y creerse seis cosas imposibles antes del desayuno En cambio nunca convenceremos a un mono para que nos dé un plátano con la promesa de que después de morir tendrá un número ilimitado de bananas a su disposición en el cielo de los monos\n"
          ]
        }
      ]
    },
    {
      "cell_type": "markdown",
      "source": [
        "A continuación, tenemos que convertir el texto a minúsculas:"
      ],
      "metadata": {
        "id": "EpHXy9LaHt18"
      }
    },
    {
      "cell_type": "code",
      "source": [
        "# tu código aquí\n",
        "tx_min = texto_sin_simb.lower()\n",
        "print(tx_min)"
      ],
      "metadata": {
        "id": "c8nsuU31ISMD",
        "colab": {
          "base_uri": "https://localhost:8080/"
        },
        "outputId": "65c454af-9d3a-4f0b-9718-3d864c7e7994"
      },
      "execution_count": null,
      "outputs": [
        {
          "output_type": "stream",
          "name": "stdout",
          "text": [
            "es relativamente fácil ponerse de acuerdo en que solo homo sapiens puede hablar sobre cosas que no existen realmente y creerse seis cosas imposibles antes del desayuno en cambio nunca convenceremos a un mono para que nos dé un plátano con la promesa de que después de morir tendrá un número ilimitado de bananas a su disposición en el cielo de los monos\n"
          ]
        }
      ]
    },
    {
      "cell_type": "markdown",
      "source": [
        "Y eliminar los acentos:"
      ],
      "metadata": {
        "id": "bq95ICPMIVXg"
      }
    },
    {
      "cell_type": "code",
      "execution_count": null,
      "metadata": {
        "id": "J1hBTvsUHKjW",
        "colab": {
          "base_uri": "https://localhost:8080/"
        },
        "outputId": "300fdd4e-cf6f-4fdd-bd91-cd617a8f9081"
      },
      "outputs": [
        {
          "output_type": "stream",
          "name": "stdout",
          "text": [
            "es relativamente facil ponerse de acuerdo en que solo homo sapiens puede hablar sobre cosas que no existen realmente y creerse seis cosas imposibles antes del desayuno en cambio nunca convenceremos a un mono para que nos de un platano con la promesa de que despues de morir tendra un numero ilimitado de bananas a su disposicion en el cielo de los monos\n"
          ]
        }
      ],
      "source": [
        "# tu código aquí\n",
        "def normalize(s):\n",
        "    replacements = (\n",
        "        (\"á\", \"a\"),\n",
        "        (\"é\", \"e\"),\n",
        "        (\"í\", \"i\"),\n",
        "        (\"ó\", \"o\"),\n",
        "        (\"ú\", \"u\"),\n",
        "    )\n",
        "    for a, b in replacements:\n",
        "        s = s.replace(a, b).replace(a.upper(), b.upper())\n",
        "    return s\n",
        "\n",
        "tx_acentos= normalize(tx_min)\n",
        "\n",
        "print(tx_acentos)\n"
      ]
    },
    {
      "cell_type": "markdown",
      "source": [
        "Ahora tenemos que dividir el texto en palabras, creando una lista que contenga todas las palabras del texto."
      ],
      "metadata": {
        "id": "Vpk5OZdsIgWN"
      }
    },
    {
      "cell_type": "code",
      "source": [
        "\n",
        "lista_palabras = tx_acentos.split()\n",
        "print(lista_palabras)\n"
      ],
      "metadata": {
        "colab": {
          "base_uri": "https://localhost:8080/"
        },
        "id": "gj3mV18CzrJO",
        "outputId": "56e29f06-fabf-4253-aa13-e55ed7a834eb"
      },
      "execution_count": null,
      "outputs": [
        {
          "output_type": "stream",
          "name": "stdout",
          "text": [
            "['es', 'relativamente', 'facil', 'ponerse', 'de', 'acuerdo', 'en', 'que', 'solo', 'homo', 'sapiens', 'puede', 'hablar', 'sobre', 'cosas', 'que', 'no', 'existen', 'realmente', 'y', 'creerse', 'seis', 'cosas', 'imposibles', 'antes', 'del', 'desayuno', 'en', 'cambio', 'nunca', 'convenceremos', 'a', 'un', 'mono', 'para', 'que', 'nos', 'de', 'un', 'platano', 'con', 'la', 'promesa', 'de', 'que', 'despues', 'de', 'morir', 'tendra', 'un', 'numero', 'ilimitado', 'de', 'bananas', 'a', 'su', 'disposicion', 'en', 'el', 'cielo', 'de', 'los', 'monos']\n"
          ]
        }
      ]
    },
    {
      "cell_type": "code",
      "source": [
        "# tu código aquí\n",
        "!pip install nltk"
      ],
      "metadata": {
        "id": "p_4NXXD5IlBc",
        "colab": {
          "base_uri": "https://localhost:8080/"
        },
        "outputId": "c06b7ed0-c2fe-439e-ef33-b324b1c654f4"
      },
      "execution_count": null,
      "outputs": [
        {
          "output_type": "stream",
          "name": "stdout",
          "text": [
            "Requirement already satisfied: nltk in /usr/local/lib/python3.10/dist-packages (3.8.1)\n",
            "Requirement already satisfied: click in /usr/local/lib/python3.10/dist-packages (from nltk) (8.1.7)\n",
            "Requirement already satisfied: joblib in /usr/local/lib/python3.10/dist-packages (from nltk) (1.4.0)\n",
            "Requirement already satisfied: regex>=2021.8.3 in /usr/local/lib/python3.10/dist-packages (from nltk) (2023.12.25)\n",
            "Requirement already satisfied: tqdm in /usr/local/lib/python3.10/dist-packages (from nltk) (4.66.2)\n"
          ]
        }
      ]
    },
    {
      "cell_type": "markdown",
      "source": [
        "Por último, vamos a emplear la librería `nltk` para eliminar las *stop-words*."
      ],
      "metadata": {
        "id": "uJ8rej6fIaSe"
      }
    },
    {
      "cell_type": "code",
      "source": [
        "from nltk.corpus import stopwords\n",
        "from nltk.tokenize import word_tokenize\n",
        "\n",
        "# Descarga de las stopwords en español si no se han descargado previamente\n",
        "import nltk\n",
        "nltk.download('stopwords')\n",
        "nltk.download('punkt')\n",
        "\n",
        "# Obtención de las stopwords en español\n",
        "stop_words = set(stopwords.words('spanish'))\n",
        "\n",
        "# Eliminación de las stopwords de la lista de palabras\n",
        "filtered_sentence = [w for w in lista_palabras if not w.lower() in stop_words]\n",
        "\n",
        "print(lista_palabras)\n",
        "print(filtered_sentence)\n"
      ],
      "metadata": {
        "id": "YLlSPoPWIZkL",
        "colab": {
          "base_uri": "https://localhost:8080/"
        },
        "outputId": "56f14499-b7d7-445b-ac03-cf66c3ce95a1"
      },
      "execution_count": null,
      "outputs": [
        {
          "output_type": "stream",
          "name": "stdout",
          "text": [
            "['es', 'relativamente', 'facil', 'ponerse', 'de', 'acuerdo', 'en', 'que', 'solo', 'homo', 'sapiens', 'puede', 'hablar', 'sobre', 'cosas', 'que', 'no', 'existen', 'realmente', 'y', 'creerse', 'seis', 'cosas', 'imposibles', 'antes', 'del', 'desayuno', 'en', 'cambio', 'nunca', 'convenceremos', 'a', 'un', 'mono', 'para', 'que', 'nos', 'de', 'un', 'platano', 'con', 'la', 'promesa', 'de', 'que', 'despues', 'de', 'morir', 'tendra', 'un', 'numero', 'ilimitado', 'de', 'bananas', 'a', 'su', 'disposicion', 'en', 'el', 'cielo', 'de', 'los', 'monos']\n",
            "['relativamente', 'facil', 'ponerse', 'acuerdo', 'solo', 'homo', 'sapiens', 'puede', 'hablar', 'cosas', 'existen', 'realmente', 'creerse', 'seis', 'cosas', 'imposibles', 'desayuno', 'cambio', 'nunca', 'convenceremos', 'mono', 'platano', 'promesa', 'despues', 'morir', 'tendra', 'numero', 'ilimitado', 'bananas', 'disposicion', 'cielo', 'monos']\n"
          ]
        },
        {
          "output_type": "stream",
          "name": "stderr",
          "text": [
            "[nltk_data] Downloading package stopwords to /root/nltk_data...\n",
            "[nltk_data]   Package stopwords is already up-to-date!\n",
            "[nltk_data] Downloading package punkt to /root/nltk_data...\n",
            "[nltk_data]   Package punkt is already up-to-date!\n"
          ]
        }
      ]
    }
  ]
}